{
 "cells": [
  {
   "cell_type": "markdown",
   "id": "5ae681ef",
   "metadata": {},
   "source": [
    "## STA130 Homework 03 \n",
    "\n",
    "Please see the course [wiki-textbook](https://github.com/pointOfive/stat130chat130/wiki) for the list of topics covered in this homework assignment, and a list of topics that might appear during ChatBot conversations which are \"out of scope\" for the purposes of this homework assignment (and hence can be safely ignored if encountered)"
   ]
  },
  {
   "cell_type": "markdown",
   "id": "cf135c01",
   "metadata": {},
   "source": [
    "<details class=\"details-example\"><summary style=\"color:blue\"><u>Introduction</u></summary>\n",
    "\n",
    "### Introduction\n",
    "    \n",
    "A reasonable characterization of STA130 Homework is that it simply defines a weekly reading comprehension assignment. \n",
    "Indeed, STA130 Homework essentially boils down to completing various understanding confirmation exercises oriented around coding and writing tasks.\n",
    "However, rather than reading a textbook, STA130 Homework is based on ChatBots so students can interactively follow up to clarify questions or confusion that they may still have regarding learning objective assignments.\n",
    "\n",
    "> Communication is a fundamental skill underlying statistics and data science, so STA130 Homework based on ChatBots helps practice effective two-way communication as part of a \"realistic\" dialogue activity supporting underlying conceptual understanding building. \n",
    "\n",
    "It will likely become increasingly tempting to rely on ChatBots to \"do the work for you\". But when you find yourself frustrated with a ChatBots inability to give you the results you're looking for, this is a \"hint\" that you've become overreliant on the ChatBots. Your objective should not be to have ChatBots \"do the work for you\", but to use ChatBots to help you build your understanding so you can efficiently leverage ChatBots (and other resources) to help you work more efficiently.<br><br>\n",
    "\n",
    "</details>\n",
    "\n",
    "<details class=\"details-example\"><summary style=\"color:blue\"><u>Instructions</u></summary>\n",
    "\n",
    "### Instructions\n",
    "    \n",
    "1. Code and write all your answers (for both the \"Pre-lecture\" and \"Post-lecture\" HW) in a python notebook (in code and markdown cells) \n",
    "    \n",
    "> It is *suggested but not mandatory* that you complete the \"Pre-lecture\" HW prior to the Monday LEC since (a) all HW is due at the same time; but, (b) completing some of the HW early will mean better readiness for LEC and less of a \"procrastentation cruch\" towards the end of the week...\n",
    "    \n",
    "2. Paste summaries of your ChatBot sessions (including link(s) to chat log histories if you're using ChatGPT) within your notebook\n",
    "    \n",
    "> Create summaries of your ChatBot sessions by using concluding prompts such as \"Please provide a summary of our exchanges here so I can submit them as a record of our interactions as part of a homework assignment\" or, \"Please provide me with the final working verson of the code that we created together\"\n",
    "    \n",
    "3. Save your python jupyter notebook in your own account and \"repo\" on [github.com](github.com) and submit a link to that notebook though Quercus for assignment marking<br><br>\n",
    "\n",
    "</details>\n",
    "\n",
    "<details class=\"details-example\"><summary style=\"color:blue\"><u>Prompt Engineering?</u></summary>\n",
    "    \n",
    "### Prompt Engineering? \n",
    "    \n",
    "The questions (as copy-pasted prompts) are designed to initialize appropriate ChatBot conversations which can be explored in the manner of an interactive and dynamic textbook; but, it is nonetheless **strongly recommendated** that your rephrase the questions in a way that you find natural to ensure a clear understanding of the question. Given sensible prompts the represent a question well, the two primary challenges observed to arise from ChatBots are \n",
    "\n",
    "1. conversations going beyond the intended scope of the material addressed by the question; and, \n",
    "2. unrecoverable confusion as a result of sequential layers logial inquiry that cannot be resolved. \n",
    "\n",
    "In the case of the former (1), adding constraints specifying the limits of considerations of interest tends to be helpful; whereas, the latter (2) is often the result of initial prompting that leads to poor developments in navigating the material, which are likely just best resolve by a \"hard reset\" with a new initial approach to prompting.  Indeed, this is exactly the behavior [hardcoded into copilot](https://answers.microsoft.com/en-us/bing/forum/all/is-this-even-normal/0b6dcab3-7d6c-4373-8efe-d74158af3c00)...\n",
    "\n",
    "</details>"
   ]
  },
  {
   "cell_type": "markdown",
   "id": "7075ccb5",
   "metadata": {},
   "source": [
    "\n",
    "### Marking Rubric (which may award partial credit) \n",
    "\n",
    "- [0.1 points]: All relevant ChatBot summaries [including link(s) to chat log histories if you're using ChatGPT] are reported within the notebook\n",
    "- [0.2 points]: Assignment completion confirmed by visual submission for \"2\" \n",
    "- [0.3 points]: Evaluation of written communication for \"3\" \n",
    "- [0.1 points]: Correct answers for \"4\"\n",
    "- [0.3 points]: Evidence of meaningful activity for \"6\"\n",
    "\n",
    "<!-- - [0.1 points]: Assignment completion confirmed by ChatBot interaction summaries for \"5\" -->\n"
   ]
  },
  {
   "cell_type": "markdown",
   "id": "5a945f7c",
   "metadata": {},
   "source": [
    "### \"Pre-lecture\" HW [*completion prior to next LEC is suggested but not mandatory*]"
   ]
  },
  {
   "cell_type": "markdown",
   "id": "37e78c77",
   "metadata": {},
   "source": [
    "\n",
    "#### 1. Use *fig.add_[h/v]line()* and *fig.add_[h/v]rect()* to mark, respspectively, location (mean and median) and scale (range, interquartile range, and a range defined by two standard deviations away from the mean in both directions) of *flipper_length_mm* for each _species_ onto _plotly_ histograms of *flipper_length_mm* for each _species_ in the penguins dataset<br>\n",
    "\n",
    "<details class=\"details-example\"><summary style=\"color:blue\"><u>Further Guidance</u></summary>\n",
    "\n",
    "**Time Management Warning**: it takes a long time to make a figure, whether you're working with a ChatBot, or building it from scratch based on trial and error changes with your code. ChatBots remove the need to understand the detailed nuances of data visualization library arguments and construction procedures. But after you've passed the 30 minute range of effort working with your ChatBot for this problem to try to get what you want, then your only options are to start a new session and hope for a smoother experience based on improved clarity of your directions, or submit what you have along with a brief note highlighting the duration in your chatlog history where your efforts to make progress did not produce the desired outcome.\n",
    "\n",
    "> The code referenced above [*fig.add_[h/v]line()*](https://plotly.com/python/horizontal-vertical-shapes/) and [*fig.add_[h/v]rect()*](https://plotly.com/python/line-charts/) refer to `fig.add_hline()` and `fig.add_hline()` and `fig.add_hrect()` and `fig.add_vrect()` which overly lines rectangles onto a figure from different orientation perspectives.\n",
    ">\n",
    "> - _There are several considerations in this problem..._\n",
    ">     - _The histograms can be on the same figure, on separate figures, or separated into different panels in the same figure_\n",
    ">     - _The elements within a figure should be well annotated, probobably using a so-called legend to help make sure annotations don't overlap each other and are clear and readible_\n",
    "> - _There are several ways to approach this problem..._\n",
    ">     - _You will likely be very pleased when you run the code returned to you as the result of pasting this question in as a prompt into a ChatBot session; but, you will also likely need to interact with the ChatBot to ask for adjustments to the code which give a final satisfactory figure (and this is the recommended approach to get the experience this problem intends you to have)_\n",
    ">     - _**When using a ChatBot, if the code provided by your ChatBot results in an error, show the error to your ChatBot and iterate this process with the adjusted \"fixed\" code provided by the ChatBot... this process usually converges some something workable that's pretty close to what you were going for**_\n",
    ">     - <u>**And don't forget, a ChatBot can explain what how code it provides works, if you ask it to...**</u>\n",
    ">     - _You could alternatively figure out how to code this plot up for yourself by looking at the provided documentation links and perhaps using some additional google searchers or ChatBot queries to help out with specific issues or examples; and, if you end up interested in figuring out a little more how the code works that's great and definitely feel free to go ahead and do so, but at this stage the point of this problem is to understand the general ideas of figures themselves as opposed to being an expert about the code that generated them_\n",
    "    \n",
    "</details>\n"
   ]
  },
  {
   "cell_type": "code",
   "execution_count": 2,
   "id": "cd71cdf1",
   "metadata": {},
   "outputs": [
    {
     "data": {
      "application/vnd.plotly.v1+json": {
       "config": {
        "plotlyServerURL": "https://plot.ly"
       },
       "data": [
        {
         "alignmentgroup": "True",
         "bingroup": "x",
         "hovertemplate": "variable=flipper_length_mm<br>value=%{x}<br>count=%{y}<extra></extra>",
         "legendgroup": "flipper_length_mm",
         "marker": {
          "color": "#636efa",
          "pattern": {
           "shape": ""
          }
         },
         "name": "flipper_length_mm",
         "nbinsx": 30,
         "offsetgroup": "flipper_length_mm",
         "orientation": "v",
         "showlegend": true,
         "type": "histogram",
         "x": [
          181,
          186,
          195,
          193,
          190,
          181,
          195,
          193,
          190,
          186,
          180,
          182,
          191,
          198,
          185,
          195,
          197,
          184,
          194,
          174,
          180,
          189,
          185,
          180,
          187,
          183,
          187,
          172,
          180,
          178,
          178,
          188,
          184,
          195,
          196,
          190,
          180,
          181,
          184,
          182,
          195,
          186,
          196,
          185,
          190,
          182,
          179,
          190,
          191,
          186,
          188,
          190,
          200,
          187,
          191,
          186,
          193,
          181,
          194,
          185,
          195,
          185,
          192,
          184,
          192,
          195,
          188,
          190,
          198,
          190,
          190,
          196,
          197,
          190,
          195,
          191,
          184,
          187,
          195,
          189,
          196,
          187,
          193,
          191,
          194,
          190,
          189,
          189,
          190,
          202,
          205,
          185,
          186,
          187,
          208,
          190,
          196,
          178,
          192,
          192,
          203,
          183,
          190,
          193,
          184,
          199,
          190,
          181,
          197,
          198,
          191,
          193,
          197,
          191,
          196,
          188,
          199,
          189,
          189,
          187,
          198,
          176,
          202,
          186,
          199,
          191,
          195,
          191,
          210,
          190,
          197,
          193,
          199,
          187,
          190,
          191,
          200,
          185,
          193,
          193,
          187,
          188,
          190,
          192,
          185,
          190,
          184,
          195,
          193,
          187,
          201
         ],
         "xaxis": "x",
         "yaxis": "y"
        }
       ],
       "layout": {
        "annotations": [
         {
          "showarrow": false,
          "text": "Mean",
          "x": 189.95364238410596,
          "xanchor": "right",
          "xref": "x",
          "y": 1,
          "yanchor": "top",
          "yref": "y domain"
         },
         {
          "showarrow": false,
          "text": "Median",
          "x": 190,
          "xanchor": "left",
          "xref": "x",
          "y": 1,
          "yanchor": "top",
          "yref": "y domain"
         },
         {
          "showarrow": false,
          "text": "Range",
          "x": 210,
          "xanchor": "right",
          "xref": "x",
          "y": 1,
          "yanchor": "top",
          "yref": "y domain"
         },
         {
          "showarrow": false,
          "text": "IQR",
          "x": 195,
          "xanchor": "right",
          "xref": "x",
          "y": 1,
          "yanchor": "top",
          "yref": "y domain"
         },
         {
          "showarrow": false,
          "text": "±2 SD",
          "x": 203.03255721848856,
          "xanchor": "right",
          "xref": "x",
          "y": 1,
          "yanchor": "top",
          "yref": "y domain"
         }
        ],
        "barmode": "relative",
        "legend": {
         "title": {
          "text": "variable"
         },
         "tracegroupgap": 0
        },
        "shapes": [
         {
          "line": {
           "color": "green",
           "dash": "dash"
          },
          "type": "line",
          "x0": 189.95364238410596,
          "x1": 189.95364238410596,
          "xref": "x",
          "y0": 0,
          "y1": 1,
          "yref": "y domain"
         },
         {
          "line": {
           "color": "blue",
           "dash": "dot"
          },
          "type": "line",
          "x0": 190,
          "x1": 190,
          "xref": "x",
          "y0": 0,
          "y1": 1,
          "yref": "y domain"
         },
         {
          "fillcolor": "gray",
          "line": {
           "width": 0
          },
          "opacity": 0.1,
          "type": "rect",
          "x0": 172,
          "x1": 210,
          "xref": "x",
          "y0": 0,
          "y1": 1,
          "yref": "y domain"
         },
         {
          "fillcolor": "yellow",
          "line": {
           "width": 0
          },
          "opacity": 0.3,
          "type": "rect",
          "x0": 186,
          "x1": 195,
          "xref": "x",
          "y0": 0,
          "y1": 1,
          "yref": "y domain"
         },
         {
          "fillcolor": "red",
          "line": {
           "width": 0
          },
          "opacity": 0.2,
          "type": "rect",
          "x0": 176.87472754972336,
          "x1": 203.03255721848856,
          "xref": "x",
          "y0": 0,
          "y1": 1,
          "yref": "y domain"
         }
        ],
        "template": {
         "data": {
          "bar": [
           {
            "error_x": {
             "color": "#2a3f5f"
            },
            "error_y": {
             "color": "#2a3f5f"
            },
            "marker": {
             "line": {
              "color": "#E5ECF6",
              "width": 0.5
             },
             "pattern": {
              "fillmode": "overlay",
              "size": 10,
              "solidity": 0.2
             }
            },
            "type": "bar"
           }
          ],
          "barpolar": [
           {
            "marker": {
             "line": {
              "color": "#E5ECF6",
              "width": 0.5
             },
             "pattern": {
              "fillmode": "overlay",
              "size": 10,
              "solidity": 0.2
             }
            },
            "type": "barpolar"
           }
          ],
          "carpet": [
           {
            "aaxis": {
             "endlinecolor": "#2a3f5f",
             "gridcolor": "white",
             "linecolor": "white",
             "minorgridcolor": "white",
             "startlinecolor": "#2a3f5f"
            },
            "baxis": {
             "endlinecolor": "#2a3f5f",
             "gridcolor": "white",
             "linecolor": "white",
             "minorgridcolor": "white",
             "startlinecolor": "#2a3f5f"
            },
            "type": "carpet"
           }
          ],
          "choropleth": [
           {
            "colorbar": {
             "outlinewidth": 0,
             "ticks": ""
            },
            "type": "choropleth"
           }
          ],
          "contour": [
           {
            "colorbar": {
             "outlinewidth": 0,
             "ticks": ""
            },
            "colorscale": [
             [
              0,
              "#0d0887"
             ],
             [
              0.1111111111111111,
              "#46039f"
             ],
             [
              0.2222222222222222,
              "#7201a8"
             ],
             [
              0.3333333333333333,
              "#9c179e"
             ],
             [
              0.4444444444444444,
              "#bd3786"
             ],
             [
              0.5555555555555556,
              "#d8576b"
             ],
             [
              0.6666666666666666,
              "#ed7953"
             ],
             [
              0.7777777777777778,
              "#fb9f3a"
             ],
             [
              0.8888888888888888,
              "#fdca26"
             ],
             [
              1,
              "#f0f921"
             ]
            ],
            "type": "contour"
           }
          ],
          "contourcarpet": [
           {
            "colorbar": {
             "outlinewidth": 0,
             "ticks": ""
            },
            "type": "contourcarpet"
           }
          ],
          "heatmap": [
           {
            "colorbar": {
             "outlinewidth": 0,
             "ticks": ""
            },
            "colorscale": [
             [
              0,
              "#0d0887"
             ],
             [
              0.1111111111111111,
              "#46039f"
             ],
             [
              0.2222222222222222,
              "#7201a8"
             ],
             [
              0.3333333333333333,
              "#9c179e"
             ],
             [
              0.4444444444444444,
              "#bd3786"
             ],
             [
              0.5555555555555556,
              "#d8576b"
             ],
             [
              0.6666666666666666,
              "#ed7953"
             ],
             [
              0.7777777777777778,
              "#fb9f3a"
             ],
             [
              0.8888888888888888,
              "#fdca26"
             ],
             [
              1,
              "#f0f921"
             ]
            ],
            "type": "heatmap"
           }
          ],
          "heatmapgl": [
           {
            "colorbar": {
             "outlinewidth": 0,
             "ticks": ""
            },
            "colorscale": [
             [
              0,
              "#0d0887"
             ],
             [
              0.1111111111111111,
              "#46039f"
             ],
             [
              0.2222222222222222,
              "#7201a8"
             ],
             [
              0.3333333333333333,
              "#9c179e"
             ],
             [
              0.4444444444444444,
              "#bd3786"
             ],
             [
              0.5555555555555556,
              "#d8576b"
             ],
             [
              0.6666666666666666,
              "#ed7953"
             ],
             [
              0.7777777777777778,
              "#fb9f3a"
             ],
             [
              0.8888888888888888,
              "#fdca26"
             ],
             [
              1,
              "#f0f921"
             ]
            ],
            "type": "heatmapgl"
           }
          ],
          "histogram": [
           {
            "marker": {
             "pattern": {
              "fillmode": "overlay",
              "size": 10,
              "solidity": 0.2
             }
            },
            "type": "histogram"
           }
          ],
          "histogram2d": [
           {
            "colorbar": {
             "outlinewidth": 0,
             "ticks": ""
            },
            "colorscale": [
             [
              0,
              "#0d0887"
             ],
             [
              0.1111111111111111,
              "#46039f"
             ],
             [
              0.2222222222222222,
              "#7201a8"
             ],
             [
              0.3333333333333333,
              "#9c179e"
             ],
             [
              0.4444444444444444,
              "#bd3786"
             ],
             [
              0.5555555555555556,
              "#d8576b"
             ],
             [
              0.6666666666666666,
              "#ed7953"
             ],
             [
              0.7777777777777778,
              "#fb9f3a"
             ],
             [
              0.8888888888888888,
              "#fdca26"
             ],
             [
              1,
              "#f0f921"
             ]
            ],
            "type": "histogram2d"
           }
          ],
          "histogram2dcontour": [
           {
            "colorbar": {
             "outlinewidth": 0,
             "ticks": ""
            },
            "colorscale": [
             [
              0,
              "#0d0887"
             ],
             [
              0.1111111111111111,
              "#46039f"
             ],
             [
              0.2222222222222222,
              "#7201a8"
             ],
             [
              0.3333333333333333,
              "#9c179e"
             ],
             [
              0.4444444444444444,
              "#bd3786"
             ],
             [
              0.5555555555555556,
              "#d8576b"
             ],
             [
              0.6666666666666666,
              "#ed7953"
             ],
             [
              0.7777777777777778,
              "#fb9f3a"
             ],
             [
              0.8888888888888888,
              "#fdca26"
             ],
             [
              1,
              "#f0f921"
             ]
            ],
            "type": "histogram2dcontour"
           }
          ],
          "mesh3d": [
           {
            "colorbar": {
             "outlinewidth": 0,
             "ticks": ""
            },
            "type": "mesh3d"
           }
          ],
          "parcoords": [
           {
            "line": {
             "colorbar": {
              "outlinewidth": 0,
              "ticks": ""
             }
            },
            "type": "parcoords"
           }
          ],
          "pie": [
           {
            "automargin": true,
            "type": "pie"
           }
          ],
          "scatter": [
           {
            "fillpattern": {
             "fillmode": "overlay",
             "size": 10,
             "solidity": 0.2
            },
            "type": "scatter"
           }
          ],
          "scatter3d": [
           {
            "line": {
             "colorbar": {
              "outlinewidth": 0,
              "ticks": ""
             }
            },
            "marker": {
             "colorbar": {
              "outlinewidth": 0,
              "ticks": ""
             }
            },
            "type": "scatter3d"
           }
          ],
          "scattercarpet": [
           {
            "marker": {
             "colorbar": {
              "outlinewidth": 0,
              "ticks": ""
             }
            },
            "type": "scattercarpet"
           }
          ],
          "scattergeo": [
           {
            "marker": {
             "colorbar": {
              "outlinewidth": 0,
              "ticks": ""
             }
            },
            "type": "scattergeo"
           }
          ],
          "scattergl": [
           {
            "marker": {
             "colorbar": {
              "outlinewidth": 0,
              "ticks": ""
             }
            },
            "type": "scattergl"
           }
          ],
          "scattermapbox": [
           {
            "marker": {
             "colorbar": {
              "outlinewidth": 0,
              "ticks": ""
             }
            },
            "type": "scattermapbox"
           }
          ],
          "scatterpolar": [
           {
            "marker": {
             "colorbar": {
              "outlinewidth": 0,
              "ticks": ""
             }
            },
            "type": "scatterpolar"
           }
          ],
          "scatterpolargl": [
           {
            "marker": {
             "colorbar": {
              "outlinewidth": 0,
              "ticks": ""
             }
            },
            "type": "scatterpolargl"
           }
          ],
          "scatterternary": [
           {
            "marker": {
             "colorbar": {
              "outlinewidth": 0,
              "ticks": ""
             }
            },
            "type": "scatterternary"
           }
          ],
          "surface": [
           {
            "colorbar": {
             "outlinewidth": 0,
             "ticks": ""
            },
            "colorscale": [
             [
              0,
              "#0d0887"
             ],
             [
              0.1111111111111111,
              "#46039f"
             ],
             [
              0.2222222222222222,
              "#7201a8"
             ],
             [
              0.3333333333333333,
              "#9c179e"
             ],
             [
              0.4444444444444444,
              "#bd3786"
             ],
             [
              0.5555555555555556,
              "#d8576b"
             ],
             [
              0.6666666666666666,
              "#ed7953"
             ],
             [
              0.7777777777777778,
              "#fb9f3a"
             ],
             [
              0.8888888888888888,
              "#fdca26"
             ],
             [
              1,
              "#f0f921"
             ]
            ],
            "type": "surface"
           }
          ],
          "table": [
           {
            "cells": {
             "fill": {
              "color": "#EBF0F8"
             },
             "line": {
              "color": "white"
             }
            },
            "header": {
             "fill": {
              "color": "#C8D4E3"
             },
             "line": {
              "color": "white"
             }
            },
            "type": "table"
           }
          ]
         },
         "layout": {
          "annotationdefaults": {
           "arrowcolor": "#2a3f5f",
           "arrowhead": 0,
           "arrowwidth": 1
          },
          "autotypenumbers": "strict",
          "coloraxis": {
           "colorbar": {
            "outlinewidth": 0,
            "ticks": ""
           }
          },
          "colorscale": {
           "diverging": [
            [
             0,
             "#8e0152"
            ],
            [
             0.1,
             "#c51b7d"
            ],
            [
             0.2,
             "#de77ae"
            ],
            [
             0.3,
             "#f1b6da"
            ],
            [
             0.4,
             "#fde0ef"
            ],
            [
             0.5,
             "#f7f7f7"
            ],
            [
             0.6,
             "#e6f5d0"
            ],
            [
             0.7,
             "#b8e186"
            ],
            [
             0.8,
             "#7fbc41"
            ],
            [
             0.9,
             "#4d9221"
            ],
            [
             1,
             "#276419"
            ]
           ],
           "sequential": [
            [
             0,
             "#0d0887"
            ],
            [
             0.1111111111111111,
             "#46039f"
            ],
            [
             0.2222222222222222,
             "#7201a8"
            ],
            [
             0.3333333333333333,
             "#9c179e"
            ],
            [
             0.4444444444444444,
             "#bd3786"
            ],
            [
             0.5555555555555556,
             "#d8576b"
            ],
            [
             0.6666666666666666,
             "#ed7953"
            ],
            [
             0.7777777777777778,
             "#fb9f3a"
            ],
            [
             0.8888888888888888,
             "#fdca26"
            ],
            [
             1,
             "#f0f921"
            ]
           ],
           "sequentialminus": [
            [
             0,
             "#0d0887"
            ],
            [
             0.1111111111111111,
             "#46039f"
            ],
            [
             0.2222222222222222,
             "#7201a8"
            ],
            [
             0.3333333333333333,
             "#9c179e"
            ],
            [
             0.4444444444444444,
             "#bd3786"
            ],
            [
             0.5555555555555556,
             "#d8576b"
            ],
            [
             0.6666666666666666,
             "#ed7953"
            ],
            [
             0.7777777777777778,
             "#fb9f3a"
            ],
            [
             0.8888888888888888,
             "#fdca26"
            ],
            [
             1,
             "#f0f921"
            ]
           ]
          },
          "colorway": [
           "#636efa",
           "#EF553B",
           "#00cc96",
           "#ab63fa",
           "#FFA15A",
           "#19d3f3",
           "#FF6692",
           "#B6E880",
           "#FF97FF",
           "#FECB52"
          ],
          "font": {
           "color": "#2a3f5f"
          },
          "geo": {
           "bgcolor": "white",
           "lakecolor": "white",
           "landcolor": "#E5ECF6",
           "showlakes": true,
           "showland": true,
           "subunitcolor": "white"
          },
          "hoverlabel": {
           "align": "left"
          },
          "hovermode": "closest",
          "mapbox": {
           "style": "light"
          },
          "paper_bgcolor": "white",
          "plot_bgcolor": "#E5ECF6",
          "polar": {
           "angularaxis": {
            "gridcolor": "white",
            "linecolor": "white",
            "ticks": ""
           },
           "bgcolor": "#E5ECF6",
           "radialaxis": {
            "gridcolor": "white",
            "linecolor": "white",
            "ticks": ""
           }
          },
          "scene": {
           "xaxis": {
            "backgroundcolor": "#E5ECF6",
            "gridcolor": "white",
            "gridwidth": 2,
            "linecolor": "white",
            "showbackground": true,
            "ticks": "",
            "zerolinecolor": "white"
           },
           "yaxis": {
            "backgroundcolor": "#E5ECF6",
            "gridcolor": "white",
            "gridwidth": 2,
            "linecolor": "white",
            "showbackground": true,
            "ticks": "",
            "zerolinecolor": "white"
           },
           "zaxis": {
            "backgroundcolor": "#E5ECF6",
            "gridcolor": "white",
            "gridwidth": 2,
            "linecolor": "white",
            "showbackground": true,
            "ticks": "",
            "zerolinecolor": "white"
           }
          },
          "shapedefaults": {
           "line": {
            "color": "#2a3f5f"
           }
          },
          "ternary": {
           "aaxis": {
            "gridcolor": "white",
            "linecolor": "white",
            "ticks": ""
           },
           "baxis": {
            "gridcolor": "white",
            "linecolor": "white",
            "ticks": ""
           },
           "bgcolor": "#E5ECF6",
           "caxis": {
            "gridcolor": "white",
            "linecolor": "white",
            "ticks": ""
           }
          },
          "title": {
           "x": 0.05
          },
          "xaxis": {
           "automargin": true,
           "gridcolor": "white",
           "linecolor": "white",
           "ticks": "",
           "title": {
            "standoff": 15
           },
           "zerolinecolor": "white",
           "zerolinewidth": 2
          },
          "yaxis": {
           "automargin": true,
           "gridcolor": "white",
           "linecolor": "white",
           "ticks": "",
           "title": {
            "standoff": 15
           },
           "zerolinecolor": "white",
           "zerolinewidth": 2
          }
         }
        },
        "title": {
         "text": "Flipper Length for Adelie"
        },
        "xaxis": {
         "anchor": "y",
         "domain": [
          0,
          1
         ],
         "title": {
          "text": "Flipper Length (mm)"
         }
        },
        "yaxis": {
         "anchor": "x",
         "domain": [
          0,
          1
         ],
         "title": {
          "text": "Count"
         }
        }
       }
      },
      "text/html": [
       "<div>                            <div id=\"054a679e-a428-4537-8d1d-9e97b1eac82a\" class=\"plotly-graph-div\" style=\"height:525px; width:100%;\"></div>            <script type=\"text/javascript\">                require([\"plotly\"], function(Plotly) {                    window.PLOTLYENV=window.PLOTLYENV || {};                                    if (document.getElementById(\"054a679e-a428-4537-8d1d-9e97b1eac82a\")) {                    Plotly.newPlot(                        \"054a679e-a428-4537-8d1d-9e97b1eac82a\",                        [{\"alignmentgroup\":\"True\",\"bingroup\":\"x\",\"hovertemplate\":\"variable=flipper_length_mm\\u003cbr\\u003evalue=%{x}\\u003cbr\\u003ecount=%{y}\\u003cextra\\u003e\\u003c\\u002fextra\\u003e\",\"legendgroup\":\"flipper_length_mm\",\"marker\":{\"color\":\"#636efa\",\"pattern\":{\"shape\":\"\"}},\"name\":\"flipper_length_mm\",\"nbinsx\":30,\"offsetgroup\":\"flipper_length_mm\",\"orientation\":\"v\",\"showlegend\":true,\"x\":[181.0,186.0,195.0,193.0,190.0,181.0,195.0,193.0,190.0,186.0,180.0,182.0,191.0,198.0,185.0,195.0,197.0,184.0,194.0,174.0,180.0,189.0,185.0,180.0,187.0,183.0,187.0,172.0,180.0,178.0,178.0,188.0,184.0,195.0,196.0,190.0,180.0,181.0,184.0,182.0,195.0,186.0,196.0,185.0,190.0,182.0,179.0,190.0,191.0,186.0,188.0,190.0,200.0,187.0,191.0,186.0,193.0,181.0,194.0,185.0,195.0,185.0,192.0,184.0,192.0,195.0,188.0,190.0,198.0,190.0,190.0,196.0,197.0,190.0,195.0,191.0,184.0,187.0,195.0,189.0,196.0,187.0,193.0,191.0,194.0,190.0,189.0,189.0,190.0,202.0,205.0,185.0,186.0,187.0,208.0,190.0,196.0,178.0,192.0,192.0,203.0,183.0,190.0,193.0,184.0,199.0,190.0,181.0,197.0,198.0,191.0,193.0,197.0,191.0,196.0,188.0,199.0,189.0,189.0,187.0,198.0,176.0,202.0,186.0,199.0,191.0,195.0,191.0,210.0,190.0,197.0,193.0,199.0,187.0,190.0,191.0,200.0,185.0,193.0,193.0,187.0,188.0,190.0,192.0,185.0,190.0,184.0,195.0,193.0,187.0,201.0],\"xaxis\":\"x\",\"yaxis\":\"y\",\"type\":\"histogram\"}],                        {\"template\":{\"data\":{\"histogram2dcontour\":[{\"type\":\"histogram2dcontour\",\"colorbar\":{\"outlinewidth\":0,\"ticks\":\"\"},\"colorscale\":[[0.0,\"#0d0887\"],[0.1111111111111111,\"#46039f\"],[0.2222222222222222,\"#7201a8\"],[0.3333333333333333,\"#9c179e\"],[0.4444444444444444,\"#bd3786\"],[0.5555555555555556,\"#d8576b\"],[0.6666666666666666,\"#ed7953\"],[0.7777777777777778,\"#fb9f3a\"],[0.8888888888888888,\"#fdca26\"],[1.0,\"#f0f921\"]]}],\"choropleth\":[{\"type\":\"choropleth\",\"colorbar\":{\"outlinewidth\":0,\"ticks\":\"\"}}],\"histogram2d\":[{\"type\":\"histogram2d\",\"colorbar\":{\"outlinewidth\":0,\"ticks\":\"\"},\"colorscale\":[[0.0,\"#0d0887\"],[0.1111111111111111,\"#46039f\"],[0.2222222222222222,\"#7201a8\"],[0.3333333333333333,\"#9c179e\"],[0.4444444444444444,\"#bd3786\"],[0.5555555555555556,\"#d8576b\"],[0.6666666666666666,\"#ed7953\"],[0.7777777777777778,\"#fb9f3a\"],[0.8888888888888888,\"#fdca26\"],[1.0,\"#f0f921\"]]}],\"heatmap\":[{\"type\":\"heatmap\",\"colorbar\":{\"outlinewidth\":0,\"ticks\":\"\"},\"colorscale\":[[0.0,\"#0d0887\"],[0.1111111111111111,\"#46039f\"],[0.2222222222222222,\"#7201a8\"],[0.3333333333333333,\"#9c179e\"],[0.4444444444444444,\"#bd3786\"],[0.5555555555555556,\"#d8576b\"],[0.6666666666666666,\"#ed7953\"],[0.7777777777777778,\"#fb9f3a\"],[0.8888888888888888,\"#fdca26\"],[1.0,\"#f0f921\"]]}],\"heatmapgl\":[{\"type\":\"heatmapgl\",\"colorbar\":{\"outlinewidth\":0,\"ticks\":\"\"},\"colorscale\":[[0.0,\"#0d0887\"],[0.1111111111111111,\"#46039f\"],[0.2222222222222222,\"#7201a8\"],[0.3333333333333333,\"#9c179e\"],[0.4444444444444444,\"#bd3786\"],[0.5555555555555556,\"#d8576b\"],[0.6666666666666666,\"#ed7953\"],[0.7777777777777778,\"#fb9f3a\"],[0.8888888888888888,\"#fdca26\"],[1.0,\"#f0f921\"]]}],\"contourcarpet\":[{\"type\":\"contourcarpet\",\"colorbar\":{\"outlinewidth\":0,\"ticks\":\"\"}}],\"contour\":[{\"type\":\"contour\",\"colorbar\":{\"outlinewidth\":0,\"ticks\":\"\"},\"colorscale\":[[0.0,\"#0d0887\"],[0.1111111111111111,\"#46039f\"],[0.2222222222222222,\"#7201a8\"],[0.3333333333333333,\"#9c179e\"],[0.4444444444444444,\"#bd3786\"],[0.5555555555555556,\"#d8576b\"],[0.6666666666666666,\"#ed7953\"],[0.7777777777777778,\"#fb9f3a\"],[0.8888888888888888,\"#fdca26\"],[1.0,\"#f0f921\"]]}],\"surface\":[{\"type\":\"surface\",\"colorbar\":{\"outlinewidth\":0,\"ticks\":\"\"},\"colorscale\":[[0.0,\"#0d0887\"],[0.1111111111111111,\"#46039f\"],[0.2222222222222222,\"#7201a8\"],[0.3333333333333333,\"#9c179e\"],[0.4444444444444444,\"#bd3786\"],[0.5555555555555556,\"#d8576b\"],[0.6666666666666666,\"#ed7953\"],[0.7777777777777778,\"#fb9f3a\"],[0.8888888888888888,\"#fdca26\"],[1.0,\"#f0f921\"]]}],\"mesh3d\":[{\"type\":\"mesh3d\",\"colorbar\":{\"outlinewidth\":0,\"ticks\":\"\"}}],\"scatter\":[{\"fillpattern\":{\"fillmode\":\"overlay\",\"size\":10,\"solidity\":0.2},\"type\":\"scatter\"}],\"parcoords\":[{\"type\":\"parcoords\",\"line\":{\"colorbar\":{\"outlinewidth\":0,\"ticks\":\"\"}}}],\"scatterpolargl\":[{\"type\":\"scatterpolargl\",\"marker\":{\"colorbar\":{\"outlinewidth\":0,\"ticks\":\"\"}}}],\"bar\":[{\"error_x\":{\"color\":\"#2a3f5f\"},\"error_y\":{\"color\":\"#2a3f5f\"},\"marker\":{\"line\":{\"color\":\"#E5ECF6\",\"width\":0.5},\"pattern\":{\"fillmode\":\"overlay\",\"size\":10,\"solidity\":0.2}},\"type\":\"bar\"}],\"scattergeo\":[{\"type\":\"scattergeo\",\"marker\":{\"colorbar\":{\"outlinewidth\":0,\"ticks\":\"\"}}}],\"scatterpolar\":[{\"type\":\"scatterpolar\",\"marker\":{\"colorbar\":{\"outlinewidth\":0,\"ticks\":\"\"}}}],\"histogram\":[{\"marker\":{\"pattern\":{\"fillmode\":\"overlay\",\"size\":10,\"solidity\":0.2}},\"type\":\"histogram\"}],\"scattergl\":[{\"type\":\"scattergl\",\"marker\":{\"colorbar\":{\"outlinewidth\":0,\"ticks\":\"\"}}}],\"scatter3d\":[{\"type\":\"scatter3d\",\"line\":{\"colorbar\":{\"outlinewidth\":0,\"ticks\":\"\"}},\"marker\":{\"colorbar\":{\"outlinewidth\":0,\"ticks\":\"\"}}}],\"scattermapbox\":[{\"type\":\"scattermapbox\",\"marker\":{\"colorbar\":{\"outlinewidth\":0,\"ticks\":\"\"}}}],\"scatterternary\":[{\"type\":\"scatterternary\",\"marker\":{\"colorbar\":{\"outlinewidth\":0,\"ticks\":\"\"}}}],\"scattercarpet\":[{\"type\":\"scattercarpet\",\"marker\":{\"colorbar\":{\"outlinewidth\":0,\"ticks\":\"\"}}}],\"carpet\":[{\"aaxis\":{\"endlinecolor\":\"#2a3f5f\",\"gridcolor\":\"white\",\"linecolor\":\"white\",\"minorgridcolor\":\"white\",\"startlinecolor\":\"#2a3f5f\"},\"baxis\":{\"endlinecolor\":\"#2a3f5f\",\"gridcolor\":\"white\",\"linecolor\":\"white\",\"minorgridcolor\":\"white\",\"startlinecolor\":\"#2a3f5f\"},\"type\":\"carpet\"}],\"table\":[{\"cells\":{\"fill\":{\"color\":\"#EBF0F8\"},\"line\":{\"color\":\"white\"}},\"header\":{\"fill\":{\"color\":\"#C8D4E3\"},\"line\":{\"color\":\"white\"}},\"type\":\"table\"}],\"barpolar\":[{\"marker\":{\"line\":{\"color\":\"#E5ECF6\",\"width\":0.5},\"pattern\":{\"fillmode\":\"overlay\",\"size\":10,\"solidity\":0.2}},\"type\":\"barpolar\"}],\"pie\":[{\"automargin\":true,\"type\":\"pie\"}]},\"layout\":{\"autotypenumbers\":\"strict\",\"colorway\":[\"#636efa\",\"#EF553B\",\"#00cc96\",\"#ab63fa\",\"#FFA15A\",\"#19d3f3\",\"#FF6692\",\"#B6E880\",\"#FF97FF\",\"#FECB52\"],\"font\":{\"color\":\"#2a3f5f\"},\"hovermode\":\"closest\",\"hoverlabel\":{\"align\":\"left\"},\"paper_bgcolor\":\"white\",\"plot_bgcolor\":\"#E5ECF6\",\"polar\":{\"bgcolor\":\"#E5ECF6\",\"angularaxis\":{\"gridcolor\":\"white\",\"linecolor\":\"white\",\"ticks\":\"\"},\"radialaxis\":{\"gridcolor\":\"white\",\"linecolor\":\"white\",\"ticks\":\"\"}},\"ternary\":{\"bgcolor\":\"#E5ECF6\",\"aaxis\":{\"gridcolor\":\"white\",\"linecolor\":\"white\",\"ticks\":\"\"},\"baxis\":{\"gridcolor\":\"white\",\"linecolor\":\"white\",\"ticks\":\"\"},\"caxis\":{\"gridcolor\":\"white\",\"linecolor\":\"white\",\"ticks\":\"\"}},\"coloraxis\":{\"colorbar\":{\"outlinewidth\":0,\"ticks\":\"\"}},\"colorscale\":{\"sequential\":[[0.0,\"#0d0887\"],[0.1111111111111111,\"#46039f\"],[0.2222222222222222,\"#7201a8\"],[0.3333333333333333,\"#9c179e\"],[0.4444444444444444,\"#bd3786\"],[0.5555555555555556,\"#d8576b\"],[0.6666666666666666,\"#ed7953\"],[0.7777777777777778,\"#fb9f3a\"],[0.8888888888888888,\"#fdca26\"],[1.0,\"#f0f921\"]],\"sequentialminus\":[[0.0,\"#0d0887\"],[0.1111111111111111,\"#46039f\"],[0.2222222222222222,\"#7201a8\"],[0.3333333333333333,\"#9c179e\"],[0.4444444444444444,\"#bd3786\"],[0.5555555555555556,\"#d8576b\"],[0.6666666666666666,\"#ed7953\"],[0.7777777777777778,\"#fb9f3a\"],[0.8888888888888888,\"#fdca26\"],[1.0,\"#f0f921\"]],\"diverging\":[[0,\"#8e0152\"],[0.1,\"#c51b7d\"],[0.2,\"#de77ae\"],[0.3,\"#f1b6da\"],[0.4,\"#fde0ef\"],[0.5,\"#f7f7f7\"],[0.6,\"#e6f5d0\"],[0.7,\"#b8e186\"],[0.8,\"#7fbc41\"],[0.9,\"#4d9221\"],[1,\"#276419\"]]},\"xaxis\":{\"gridcolor\":\"white\",\"linecolor\":\"white\",\"ticks\":\"\",\"title\":{\"standoff\":15},\"zerolinecolor\":\"white\",\"automargin\":true,\"zerolinewidth\":2},\"yaxis\":{\"gridcolor\":\"white\",\"linecolor\":\"white\",\"ticks\":\"\",\"title\":{\"standoff\":15},\"zerolinecolor\":\"white\",\"automargin\":true,\"zerolinewidth\":2},\"scene\":{\"xaxis\":{\"backgroundcolor\":\"#E5ECF6\",\"gridcolor\":\"white\",\"linecolor\":\"white\",\"showbackground\":true,\"ticks\":\"\",\"zerolinecolor\":\"white\",\"gridwidth\":2},\"yaxis\":{\"backgroundcolor\":\"#E5ECF6\",\"gridcolor\":\"white\",\"linecolor\":\"white\",\"showbackground\":true,\"ticks\":\"\",\"zerolinecolor\":\"white\",\"gridwidth\":2},\"zaxis\":{\"backgroundcolor\":\"#E5ECF6\",\"gridcolor\":\"white\",\"linecolor\":\"white\",\"showbackground\":true,\"ticks\":\"\",\"zerolinecolor\":\"white\",\"gridwidth\":2}},\"shapedefaults\":{\"line\":{\"color\":\"#2a3f5f\"}},\"annotationdefaults\":{\"arrowcolor\":\"#2a3f5f\",\"arrowhead\":0,\"arrowwidth\":1},\"geo\":{\"bgcolor\":\"white\",\"landcolor\":\"#E5ECF6\",\"subunitcolor\":\"white\",\"showland\":true,\"showlakes\":true,\"lakecolor\":\"white\"},\"title\":{\"x\":0.05},\"mapbox\":{\"style\":\"light\"}}},\"xaxis\":{\"anchor\":\"y\",\"domain\":[0.0,1.0],\"title\":{\"text\":\"Flipper Length (mm)\"}},\"yaxis\":{\"anchor\":\"x\",\"domain\":[0.0,1.0],\"title\":{\"text\":\"Count\"}},\"legend\":{\"title\":{\"text\":\"variable\"},\"tracegroupgap\":0},\"title\":{\"text\":\"Flipper Length for Adelie\"},\"barmode\":\"relative\",\"shapes\":[{\"line\":{\"color\":\"green\",\"dash\":\"dash\"},\"type\":\"line\",\"x0\":189.95364238410596,\"x1\":189.95364238410596,\"xref\":\"x\",\"y0\":0,\"y1\":1,\"yref\":\"y domain\"},{\"line\":{\"color\":\"blue\",\"dash\":\"dot\"},\"type\":\"line\",\"x0\":190.0,\"x1\":190.0,\"xref\":\"x\",\"y0\":0,\"y1\":1,\"yref\":\"y domain\"},{\"fillcolor\":\"gray\",\"line\":{\"width\":0},\"opacity\":0.1,\"type\":\"rect\",\"x0\":172.0,\"x1\":210.0,\"xref\":\"x\",\"y0\":0,\"y1\":1,\"yref\":\"y domain\"},{\"fillcolor\":\"yellow\",\"line\":{\"width\":0},\"opacity\":0.3,\"type\":\"rect\",\"x0\":186.0,\"x1\":195.0,\"xref\":\"x\",\"y0\":0,\"y1\":1,\"yref\":\"y domain\"},{\"fillcolor\":\"red\",\"line\":{\"width\":0},\"opacity\":0.2,\"type\":\"rect\",\"x0\":176.87472754972336,\"x1\":203.03255721848856,\"xref\":\"x\",\"y0\":0,\"y1\":1,\"yref\":\"y domain\"}],\"annotations\":[{\"showarrow\":false,\"text\":\"Mean\",\"x\":189.95364238410596,\"xanchor\":\"right\",\"xref\":\"x\",\"y\":1,\"yanchor\":\"top\",\"yref\":\"y domain\"},{\"showarrow\":false,\"text\":\"Median\",\"x\":190.0,\"xanchor\":\"left\",\"xref\":\"x\",\"y\":1,\"yanchor\":\"top\",\"yref\":\"y domain\"},{\"showarrow\":false,\"text\":\"Range\",\"x\":210.0,\"xanchor\":\"right\",\"xref\":\"x\",\"y\":1,\"yanchor\":\"top\",\"yref\":\"y domain\"},{\"showarrow\":false,\"text\":\"IQR\",\"x\":195.0,\"xanchor\":\"right\",\"xref\":\"x\",\"y\":1,\"yanchor\":\"top\",\"yref\":\"y domain\"},{\"showarrow\":false,\"text\":\"\\u00b12 SD\",\"x\":203.03255721848856,\"xanchor\":\"right\",\"xref\":\"x\",\"y\":1,\"yanchor\":\"top\",\"yref\":\"y domain\"}]},                        {\"responsive\": true}                    ).then(function(){\n",
       "                            \n",
       "var gd = document.getElementById('054a679e-a428-4537-8d1d-9e97b1eac82a');\n",
       "var x = new MutationObserver(function (mutations, observer) {{\n",
       "        var display = window.getComputedStyle(gd).display;\n",
       "        if (!display || display === 'none') {{\n",
       "            console.log([gd, 'removed!']);\n",
       "            Plotly.purge(gd);\n",
       "            observer.disconnect();\n",
       "        }}\n",
       "}});\n",
       "\n",
       "// Listen for the removal of the full notebook cells\n",
       "var notebookContainer = gd.closest('#notebook-container');\n",
       "if (notebookContainer) {{\n",
       "    x.observe(notebookContainer, {childList: true});\n",
       "}}\n",
       "\n",
       "// Listen for the clearing of the current output cell\n",
       "var outputEl = gd.closest('.output');\n",
       "if (outputEl) {{\n",
       "    x.observe(outputEl, {childList: true});\n",
       "}}\n",
       "\n",
       "                        })                };                });            </script>        </div>"
      ]
     },
     "metadata": {},
     "output_type": "display_data"
    },
    {
     "data": {
      "application/vnd.plotly.v1+json": {
       "config": {
        "plotlyServerURL": "https://plot.ly"
       },
       "data": [
        {
         "alignmentgroup": "True",
         "bingroup": "x",
         "hovertemplate": "variable=flipper_length_mm<br>value=%{x}<br>count=%{y}<extra></extra>",
         "legendgroup": "flipper_length_mm",
         "marker": {
          "color": "#636efa",
          "pattern": {
           "shape": ""
          }
         },
         "name": "flipper_length_mm",
         "nbinsx": 30,
         "offsetgroup": "flipper_length_mm",
         "orientation": "v",
         "showlegend": true,
         "type": "histogram",
         "x": [
          192,
          196,
          193,
          188,
          197,
          198,
          178,
          197,
          195,
          198,
          193,
          194,
          185,
          201,
          190,
          201,
          197,
          181,
          190,
          195,
          181,
          191,
          187,
          193,
          195,
          197,
          200,
          200,
          191,
          205,
          187,
          201,
          187,
          203,
          195,
          199,
          195,
          210,
          192,
          205,
          210,
          187,
          196,
          196,
          196,
          201,
          190,
          212,
          187,
          198,
          199,
          201,
          193,
          203,
          187,
          197,
          191,
          203,
          202,
          194,
          206,
          189,
          195,
          207,
          202,
          193,
          210,
          198
         ],
         "xaxis": "x",
         "yaxis": "y"
        }
       ],
       "layout": {
        "annotations": [
         {
          "showarrow": false,
          "text": "Mean",
          "x": 195.8235294117647,
          "xanchor": "right",
          "xref": "x",
          "y": 1,
          "yanchor": "top",
          "yref": "y domain"
         },
         {
          "showarrow": false,
          "text": "Median",
          "x": 196,
          "xanchor": "left",
          "xref": "x",
          "y": 1,
          "yanchor": "top",
          "yref": "y domain"
         },
         {
          "showarrow": false,
          "text": "Range",
          "x": 212,
          "xanchor": "right",
          "xref": "x",
          "y": 1,
          "yanchor": "top",
          "yref": "y domain"
         },
         {
          "showarrow": false,
          "text": "IQR",
          "x": 201,
          "xanchor": "right",
          "xref": "x",
          "y": 1,
          "yanchor": "top",
          "yref": "y domain"
         },
         {
          "showarrow": false,
          "text": "±2 SD",
          "x": 210.08731792892098,
          "xanchor": "right",
          "xref": "x",
          "y": 1,
          "yanchor": "top",
          "yref": "y domain"
         }
        ],
        "barmode": "relative",
        "legend": {
         "title": {
          "text": "variable"
         },
         "tracegroupgap": 0
        },
        "shapes": [
         {
          "line": {
           "color": "green",
           "dash": "dash"
          },
          "type": "line",
          "x0": 195.8235294117647,
          "x1": 195.8235294117647,
          "xref": "x",
          "y0": 0,
          "y1": 1,
          "yref": "y domain"
         },
         {
          "line": {
           "color": "blue",
           "dash": "dot"
          },
          "type": "line",
          "x0": 196,
          "x1": 196,
          "xref": "x",
          "y0": 0,
          "y1": 1,
          "yref": "y domain"
         },
         {
          "fillcolor": "gray",
          "line": {
           "width": 0
          },
          "opacity": 0.1,
          "type": "rect",
          "x0": 178,
          "x1": 212,
          "xref": "x",
          "y0": 0,
          "y1": 1,
          "yref": "y domain"
         },
         {
          "fillcolor": "yellow",
          "line": {
           "width": 0
          },
          "opacity": 0.3,
          "type": "rect",
          "x0": 191,
          "x1": 201,
          "xref": "x",
          "y0": 0,
          "y1": 1,
          "yref": "y domain"
         },
         {
          "fillcolor": "red",
          "line": {
           "width": 0
          },
          "opacity": 0.2,
          "type": "rect",
          "x0": 181.5597408946084,
          "x1": 210.08731792892098,
          "xref": "x",
          "y0": 0,
          "y1": 1,
          "yref": "y domain"
         }
        ],
        "template": {
         "data": {
          "bar": [
           {
            "error_x": {
             "color": "#2a3f5f"
            },
            "error_y": {
             "color": "#2a3f5f"
            },
            "marker": {
             "line": {
              "color": "#E5ECF6",
              "width": 0.5
             },
             "pattern": {
              "fillmode": "overlay",
              "size": 10,
              "solidity": 0.2
             }
            },
            "type": "bar"
           }
          ],
          "barpolar": [
           {
            "marker": {
             "line": {
              "color": "#E5ECF6",
              "width": 0.5
             },
             "pattern": {
              "fillmode": "overlay",
              "size": 10,
              "solidity": 0.2
             }
            },
            "type": "barpolar"
           }
          ],
          "carpet": [
           {
            "aaxis": {
             "endlinecolor": "#2a3f5f",
             "gridcolor": "white",
             "linecolor": "white",
             "minorgridcolor": "white",
             "startlinecolor": "#2a3f5f"
            },
            "baxis": {
             "endlinecolor": "#2a3f5f",
             "gridcolor": "white",
             "linecolor": "white",
             "minorgridcolor": "white",
             "startlinecolor": "#2a3f5f"
            },
            "type": "carpet"
           }
          ],
          "choropleth": [
           {
            "colorbar": {
             "outlinewidth": 0,
             "ticks": ""
            },
            "type": "choropleth"
           }
          ],
          "contour": [
           {
            "colorbar": {
             "outlinewidth": 0,
             "ticks": ""
            },
            "colorscale": [
             [
              0,
              "#0d0887"
             ],
             [
              0.1111111111111111,
              "#46039f"
             ],
             [
              0.2222222222222222,
              "#7201a8"
             ],
             [
              0.3333333333333333,
              "#9c179e"
             ],
             [
              0.4444444444444444,
              "#bd3786"
             ],
             [
              0.5555555555555556,
              "#d8576b"
             ],
             [
              0.6666666666666666,
              "#ed7953"
             ],
             [
              0.7777777777777778,
              "#fb9f3a"
             ],
             [
              0.8888888888888888,
              "#fdca26"
             ],
             [
              1,
              "#f0f921"
             ]
            ],
            "type": "contour"
           }
          ],
          "contourcarpet": [
           {
            "colorbar": {
             "outlinewidth": 0,
             "ticks": ""
            },
            "type": "contourcarpet"
           }
          ],
          "heatmap": [
           {
            "colorbar": {
             "outlinewidth": 0,
             "ticks": ""
            },
            "colorscale": [
             [
              0,
              "#0d0887"
             ],
             [
              0.1111111111111111,
              "#46039f"
             ],
             [
              0.2222222222222222,
              "#7201a8"
             ],
             [
              0.3333333333333333,
              "#9c179e"
             ],
             [
              0.4444444444444444,
              "#bd3786"
             ],
             [
              0.5555555555555556,
              "#d8576b"
             ],
             [
              0.6666666666666666,
              "#ed7953"
             ],
             [
              0.7777777777777778,
              "#fb9f3a"
             ],
             [
              0.8888888888888888,
              "#fdca26"
             ],
             [
              1,
              "#f0f921"
             ]
            ],
            "type": "heatmap"
           }
          ],
          "heatmapgl": [
           {
            "colorbar": {
             "outlinewidth": 0,
             "ticks": ""
            },
            "colorscale": [
             [
              0,
              "#0d0887"
             ],
             [
              0.1111111111111111,
              "#46039f"
             ],
             [
              0.2222222222222222,
              "#7201a8"
             ],
             [
              0.3333333333333333,
              "#9c179e"
             ],
             [
              0.4444444444444444,
              "#bd3786"
             ],
             [
              0.5555555555555556,
              "#d8576b"
             ],
             [
              0.6666666666666666,
              "#ed7953"
             ],
             [
              0.7777777777777778,
              "#fb9f3a"
             ],
             [
              0.8888888888888888,
              "#fdca26"
             ],
             [
              1,
              "#f0f921"
             ]
            ],
            "type": "heatmapgl"
           }
          ],
          "histogram": [
           {
            "marker": {
             "pattern": {
              "fillmode": "overlay",
              "size": 10,
              "solidity": 0.2
             }
            },
            "type": "histogram"
           }
          ],
          "histogram2d": [
           {
            "colorbar": {
             "outlinewidth": 0,
             "ticks": ""
            },
            "colorscale": [
             [
              0,
              "#0d0887"
             ],
             [
              0.1111111111111111,
              "#46039f"
             ],
             [
              0.2222222222222222,
              "#7201a8"
             ],
             [
              0.3333333333333333,
              "#9c179e"
             ],
             [
              0.4444444444444444,
              "#bd3786"
             ],
             [
              0.5555555555555556,
              "#d8576b"
             ],
             [
              0.6666666666666666,
              "#ed7953"
             ],
             [
              0.7777777777777778,
              "#fb9f3a"
             ],
             [
              0.8888888888888888,
              "#fdca26"
             ],
             [
              1,
              "#f0f921"
             ]
            ],
            "type": "histogram2d"
           }
          ],
          "histogram2dcontour": [
           {
            "colorbar": {
             "outlinewidth": 0,
             "ticks": ""
            },
            "colorscale": [
             [
              0,
              "#0d0887"
             ],
             [
              0.1111111111111111,
              "#46039f"
             ],
             [
              0.2222222222222222,
              "#7201a8"
             ],
             [
              0.3333333333333333,
              "#9c179e"
             ],
             [
              0.4444444444444444,
              "#bd3786"
             ],
             [
              0.5555555555555556,
              "#d8576b"
             ],
             [
              0.6666666666666666,
              "#ed7953"
             ],
             [
              0.7777777777777778,
              "#fb9f3a"
             ],
             [
              0.8888888888888888,
              "#fdca26"
             ],
             [
              1,
              "#f0f921"
             ]
            ],
            "type": "histogram2dcontour"
           }
          ],
          "mesh3d": [
           {
            "colorbar": {
             "outlinewidth": 0,
             "ticks": ""
            },
            "type": "mesh3d"
           }
          ],
          "parcoords": [
           {
            "line": {
             "colorbar": {
              "outlinewidth": 0,
              "ticks": ""
             }
            },
            "type": "parcoords"
           }
          ],
          "pie": [
           {
            "automargin": true,
            "type": "pie"
           }
          ],
          "scatter": [
           {
            "fillpattern": {
             "fillmode": "overlay",
             "size": 10,
             "solidity": 0.2
            },
            "type": "scatter"
           }
          ],
          "scatter3d": [
           {
            "line": {
             "colorbar": {
              "outlinewidth": 0,
              "ticks": ""
             }
            },
            "marker": {
             "colorbar": {
              "outlinewidth": 0,
              "ticks": ""
             }
            },
            "type": "scatter3d"
           }
          ],
          "scattercarpet": [
           {
            "marker": {
             "colorbar": {
              "outlinewidth": 0,
              "ticks": ""
             }
            },
            "type": "scattercarpet"
           }
          ],
          "scattergeo": [
           {
            "marker": {
             "colorbar": {
              "outlinewidth": 0,
              "ticks": ""
             }
            },
            "type": "scattergeo"
           }
          ],
          "scattergl": [
           {
            "marker": {
             "colorbar": {
              "outlinewidth": 0,
              "ticks": ""
             }
            },
            "type": "scattergl"
           }
          ],
          "scattermapbox": [
           {
            "marker": {
             "colorbar": {
              "outlinewidth": 0,
              "ticks": ""
             }
            },
            "type": "scattermapbox"
           }
          ],
          "scatterpolar": [
           {
            "marker": {
             "colorbar": {
              "outlinewidth": 0,
              "ticks": ""
             }
            },
            "type": "scatterpolar"
           }
          ],
          "scatterpolargl": [
           {
            "marker": {
             "colorbar": {
              "outlinewidth": 0,
              "ticks": ""
             }
            },
            "type": "scatterpolargl"
           }
          ],
          "scatterternary": [
           {
            "marker": {
             "colorbar": {
              "outlinewidth": 0,
              "ticks": ""
             }
            },
            "type": "scatterternary"
           }
          ],
          "surface": [
           {
            "colorbar": {
             "outlinewidth": 0,
             "ticks": ""
            },
            "colorscale": [
             [
              0,
              "#0d0887"
             ],
             [
              0.1111111111111111,
              "#46039f"
             ],
             [
              0.2222222222222222,
              "#7201a8"
             ],
             [
              0.3333333333333333,
              "#9c179e"
             ],
             [
              0.4444444444444444,
              "#bd3786"
             ],
             [
              0.5555555555555556,
              "#d8576b"
             ],
             [
              0.6666666666666666,
              "#ed7953"
             ],
             [
              0.7777777777777778,
              "#fb9f3a"
             ],
             [
              0.8888888888888888,
              "#fdca26"
             ],
             [
              1,
              "#f0f921"
             ]
            ],
            "type": "surface"
           }
          ],
          "table": [
           {
            "cells": {
             "fill": {
              "color": "#EBF0F8"
             },
             "line": {
              "color": "white"
             }
            },
            "header": {
             "fill": {
              "color": "#C8D4E3"
             },
             "line": {
              "color": "white"
             }
            },
            "type": "table"
           }
          ]
         },
         "layout": {
          "annotationdefaults": {
           "arrowcolor": "#2a3f5f",
           "arrowhead": 0,
           "arrowwidth": 1
          },
          "autotypenumbers": "strict",
          "coloraxis": {
           "colorbar": {
            "outlinewidth": 0,
            "ticks": ""
           }
          },
          "colorscale": {
           "diverging": [
            [
             0,
             "#8e0152"
            ],
            [
             0.1,
             "#c51b7d"
            ],
            [
             0.2,
             "#de77ae"
            ],
            [
             0.3,
             "#f1b6da"
            ],
            [
             0.4,
             "#fde0ef"
            ],
            [
             0.5,
             "#f7f7f7"
            ],
            [
             0.6,
             "#e6f5d0"
            ],
            [
             0.7,
             "#b8e186"
            ],
            [
             0.8,
             "#7fbc41"
            ],
            [
             0.9,
             "#4d9221"
            ],
            [
             1,
             "#276419"
            ]
           ],
           "sequential": [
            [
             0,
             "#0d0887"
            ],
            [
             0.1111111111111111,
             "#46039f"
            ],
            [
             0.2222222222222222,
             "#7201a8"
            ],
            [
             0.3333333333333333,
             "#9c179e"
            ],
            [
             0.4444444444444444,
             "#bd3786"
            ],
            [
             0.5555555555555556,
             "#d8576b"
            ],
            [
             0.6666666666666666,
             "#ed7953"
            ],
            [
             0.7777777777777778,
             "#fb9f3a"
            ],
            [
             0.8888888888888888,
             "#fdca26"
            ],
            [
             1,
             "#f0f921"
            ]
           ],
           "sequentialminus": [
            [
             0,
             "#0d0887"
            ],
            [
             0.1111111111111111,
             "#46039f"
            ],
            [
             0.2222222222222222,
             "#7201a8"
            ],
            [
             0.3333333333333333,
             "#9c179e"
            ],
            [
             0.4444444444444444,
             "#bd3786"
            ],
            [
             0.5555555555555556,
             "#d8576b"
            ],
            [
             0.6666666666666666,
             "#ed7953"
            ],
            [
             0.7777777777777778,
             "#fb9f3a"
            ],
            [
             0.8888888888888888,
             "#fdca26"
            ],
            [
             1,
             "#f0f921"
            ]
           ]
          },
          "colorway": [
           "#636efa",
           "#EF553B",
           "#00cc96",
           "#ab63fa",
           "#FFA15A",
           "#19d3f3",
           "#FF6692",
           "#B6E880",
           "#FF97FF",
           "#FECB52"
          ],
          "font": {
           "color": "#2a3f5f"
          },
          "geo": {
           "bgcolor": "white",
           "lakecolor": "white",
           "landcolor": "#E5ECF6",
           "showlakes": true,
           "showland": true,
           "subunitcolor": "white"
          },
          "hoverlabel": {
           "align": "left"
          },
          "hovermode": "closest",
          "mapbox": {
           "style": "light"
          },
          "paper_bgcolor": "white",
          "plot_bgcolor": "#E5ECF6",
          "polar": {
           "angularaxis": {
            "gridcolor": "white",
            "linecolor": "white",
            "ticks": ""
           },
           "bgcolor": "#E5ECF6",
           "radialaxis": {
            "gridcolor": "white",
            "linecolor": "white",
            "ticks": ""
           }
          },
          "scene": {
           "xaxis": {
            "backgroundcolor": "#E5ECF6",
            "gridcolor": "white",
            "gridwidth": 2,
            "linecolor": "white",
            "showbackground": true,
            "ticks": "",
            "zerolinecolor": "white"
           },
           "yaxis": {
            "backgroundcolor": "#E5ECF6",
            "gridcolor": "white",
            "gridwidth": 2,
            "linecolor": "white",
            "showbackground": true,
            "ticks": "",
            "zerolinecolor": "white"
           },
           "zaxis": {
            "backgroundcolor": "#E5ECF6",
            "gridcolor": "white",
            "gridwidth": 2,
            "linecolor": "white",
            "showbackground": true,
            "ticks": "",
            "zerolinecolor": "white"
           }
          },
          "shapedefaults": {
           "line": {
            "color": "#2a3f5f"
           }
          },
          "ternary": {
           "aaxis": {
            "gridcolor": "white",
            "linecolor": "white",
            "ticks": ""
           },
           "baxis": {
            "gridcolor": "white",
            "linecolor": "white",
            "ticks": ""
           },
           "bgcolor": "#E5ECF6",
           "caxis": {
            "gridcolor": "white",
            "linecolor": "white",
            "ticks": ""
           }
          },
          "title": {
           "x": 0.05
          },
          "xaxis": {
           "automargin": true,
           "gridcolor": "white",
           "linecolor": "white",
           "ticks": "",
           "title": {
            "standoff": 15
           },
           "zerolinecolor": "white",
           "zerolinewidth": 2
          },
          "yaxis": {
           "automargin": true,
           "gridcolor": "white",
           "linecolor": "white",
           "ticks": "",
           "title": {
            "standoff": 15
           },
           "zerolinecolor": "white",
           "zerolinewidth": 2
          }
         }
        },
        "title": {
         "text": "Flipper Length for Chinstrap"
        },
        "xaxis": {
         "anchor": "y",
         "domain": [
          0,
          1
         ],
         "title": {
          "text": "Flipper Length (mm)"
         }
        },
        "yaxis": {
         "anchor": "x",
         "domain": [
          0,
          1
         ],
         "title": {
          "text": "Count"
         }
        }
       }
      },
      "text/html": [
       "<div>                            <div id=\"a79d8056-e895-4823-83b2-e7951904982f\" class=\"plotly-graph-div\" style=\"height:525px; width:100%;\"></div>            <script type=\"text/javascript\">                require([\"plotly\"], function(Plotly) {                    window.PLOTLYENV=window.PLOTLYENV || {};                                    if (document.getElementById(\"a79d8056-e895-4823-83b2-e7951904982f\")) {                    Plotly.newPlot(                        \"a79d8056-e895-4823-83b2-e7951904982f\",                        [{\"alignmentgroup\":\"True\",\"bingroup\":\"x\",\"hovertemplate\":\"variable=flipper_length_mm\\u003cbr\\u003evalue=%{x}\\u003cbr\\u003ecount=%{y}\\u003cextra\\u003e\\u003c\\u002fextra\\u003e\",\"legendgroup\":\"flipper_length_mm\",\"marker\":{\"color\":\"#636efa\",\"pattern\":{\"shape\":\"\"}},\"name\":\"flipper_length_mm\",\"nbinsx\":30,\"offsetgroup\":\"flipper_length_mm\",\"orientation\":\"v\",\"showlegend\":true,\"x\":[192.0,196.0,193.0,188.0,197.0,198.0,178.0,197.0,195.0,198.0,193.0,194.0,185.0,201.0,190.0,201.0,197.0,181.0,190.0,195.0,181.0,191.0,187.0,193.0,195.0,197.0,200.0,200.0,191.0,205.0,187.0,201.0,187.0,203.0,195.0,199.0,195.0,210.0,192.0,205.0,210.0,187.0,196.0,196.0,196.0,201.0,190.0,212.0,187.0,198.0,199.0,201.0,193.0,203.0,187.0,197.0,191.0,203.0,202.0,194.0,206.0,189.0,195.0,207.0,202.0,193.0,210.0,198.0],\"xaxis\":\"x\",\"yaxis\":\"y\",\"type\":\"histogram\"}],                        {\"template\":{\"data\":{\"histogram2dcontour\":[{\"type\":\"histogram2dcontour\",\"colorbar\":{\"outlinewidth\":0,\"ticks\":\"\"},\"colorscale\":[[0.0,\"#0d0887\"],[0.1111111111111111,\"#46039f\"],[0.2222222222222222,\"#7201a8\"],[0.3333333333333333,\"#9c179e\"],[0.4444444444444444,\"#bd3786\"],[0.5555555555555556,\"#d8576b\"],[0.6666666666666666,\"#ed7953\"],[0.7777777777777778,\"#fb9f3a\"],[0.8888888888888888,\"#fdca26\"],[1.0,\"#f0f921\"]]}],\"choropleth\":[{\"type\":\"choropleth\",\"colorbar\":{\"outlinewidth\":0,\"ticks\":\"\"}}],\"histogram2d\":[{\"type\":\"histogram2d\",\"colorbar\":{\"outlinewidth\":0,\"ticks\":\"\"},\"colorscale\":[[0.0,\"#0d0887\"],[0.1111111111111111,\"#46039f\"],[0.2222222222222222,\"#7201a8\"],[0.3333333333333333,\"#9c179e\"],[0.4444444444444444,\"#bd3786\"],[0.5555555555555556,\"#d8576b\"],[0.6666666666666666,\"#ed7953\"],[0.7777777777777778,\"#fb9f3a\"],[0.8888888888888888,\"#fdca26\"],[1.0,\"#f0f921\"]]}],\"heatmap\":[{\"type\":\"heatmap\",\"colorbar\":{\"outlinewidth\":0,\"ticks\":\"\"},\"colorscale\":[[0.0,\"#0d0887\"],[0.1111111111111111,\"#46039f\"],[0.2222222222222222,\"#7201a8\"],[0.3333333333333333,\"#9c179e\"],[0.4444444444444444,\"#bd3786\"],[0.5555555555555556,\"#d8576b\"],[0.6666666666666666,\"#ed7953\"],[0.7777777777777778,\"#fb9f3a\"],[0.8888888888888888,\"#fdca26\"],[1.0,\"#f0f921\"]]}],\"heatmapgl\":[{\"type\":\"heatmapgl\",\"colorbar\":{\"outlinewidth\":0,\"ticks\":\"\"},\"colorscale\":[[0.0,\"#0d0887\"],[0.1111111111111111,\"#46039f\"],[0.2222222222222222,\"#7201a8\"],[0.3333333333333333,\"#9c179e\"],[0.4444444444444444,\"#bd3786\"],[0.5555555555555556,\"#d8576b\"],[0.6666666666666666,\"#ed7953\"],[0.7777777777777778,\"#fb9f3a\"],[0.8888888888888888,\"#fdca26\"],[1.0,\"#f0f921\"]]}],\"contourcarpet\":[{\"type\":\"contourcarpet\",\"colorbar\":{\"outlinewidth\":0,\"ticks\":\"\"}}],\"contour\":[{\"type\":\"contour\",\"colorbar\":{\"outlinewidth\":0,\"ticks\":\"\"},\"colorscale\":[[0.0,\"#0d0887\"],[0.1111111111111111,\"#46039f\"],[0.2222222222222222,\"#7201a8\"],[0.3333333333333333,\"#9c179e\"],[0.4444444444444444,\"#bd3786\"],[0.5555555555555556,\"#d8576b\"],[0.6666666666666666,\"#ed7953\"],[0.7777777777777778,\"#fb9f3a\"],[0.8888888888888888,\"#fdca26\"],[1.0,\"#f0f921\"]]}],\"surface\":[{\"type\":\"surface\",\"colorbar\":{\"outlinewidth\":0,\"ticks\":\"\"},\"colorscale\":[[0.0,\"#0d0887\"],[0.1111111111111111,\"#46039f\"],[0.2222222222222222,\"#7201a8\"],[0.3333333333333333,\"#9c179e\"],[0.4444444444444444,\"#bd3786\"],[0.5555555555555556,\"#d8576b\"],[0.6666666666666666,\"#ed7953\"],[0.7777777777777778,\"#fb9f3a\"],[0.8888888888888888,\"#fdca26\"],[1.0,\"#f0f921\"]]}],\"mesh3d\":[{\"type\":\"mesh3d\",\"colorbar\":{\"outlinewidth\":0,\"ticks\":\"\"}}],\"scatter\":[{\"fillpattern\":{\"fillmode\":\"overlay\",\"size\":10,\"solidity\":0.2},\"type\":\"scatter\"}],\"parcoords\":[{\"type\":\"parcoords\",\"line\":{\"colorbar\":{\"outlinewidth\":0,\"ticks\":\"\"}}}],\"scatterpolargl\":[{\"type\":\"scatterpolargl\",\"marker\":{\"colorbar\":{\"outlinewidth\":0,\"ticks\":\"\"}}}],\"bar\":[{\"error_x\":{\"color\":\"#2a3f5f\"},\"error_y\":{\"color\":\"#2a3f5f\"},\"marker\":{\"line\":{\"color\":\"#E5ECF6\",\"width\":0.5},\"pattern\":{\"fillmode\":\"overlay\",\"size\":10,\"solidity\":0.2}},\"type\":\"bar\"}],\"scattergeo\":[{\"type\":\"scattergeo\",\"marker\":{\"colorbar\":{\"outlinewidth\":0,\"ticks\":\"\"}}}],\"scatterpolar\":[{\"type\":\"scatterpolar\",\"marker\":{\"colorbar\":{\"outlinewidth\":0,\"ticks\":\"\"}}}],\"histogram\":[{\"marker\":{\"pattern\":{\"fillmode\":\"overlay\",\"size\":10,\"solidity\":0.2}},\"type\":\"histogram\"}],\"scattergl\":[{\"type\":\"scattergl\",\"marker\":{\"colorbar\":{\"outlinewidth\":0,\"ticks\":\"\"}}}],\"scatter3d\":[{\"type\":\"scatter3d\",\"line\":{\"colorbar\":{\"outlinewidth\":0,\"ticks\":\"\"}},\"marker\":{\"colorbar\":{\"outlinewidth\":0,\"ticks\":\"\"}}}],\"scattermapbox\":[{\"type\":\"scattermapbox\",\"marker\":{\"colorbar\":{\"outlinewidth\":0,\"ticks\":\"\"}}}],\"scatterternary\":[{\"type\":\"scatterternary\",\"marker\":{\"colorbar\":{\"outlinewidth\":0,\"ticks\":\"\"}}}],\"scattercarpet\":[{\"type\":\"scattercarpet\",\"marker\":{\"colorbar\":{\"outlinewidth\":0,\"ticks\":\"\"}}}],\"carpet\":[{\"aaxis\":{\"endlinecolor\":\"#2a3f5f\",\"gridcolor\":\"white\",\"linecolor\":\"white\",\"minorgridcolor\":\"white\",\"startlinecolor\":\"#2a3f5f\"},\"baxis\":{\"endlinecolor\":\"#2a3f5f\",\"gridcolor\":\"white\",\"linecolor\":\"white\",\"minorgridcolor\":\"white\",\"startlinecolor\":\"#2a3f5f\"},\"type\":\"carpet\"}],\"table\":[{\"cells\":{\"fill\":{\"color\":\"#EBF0F8\"},\"line\":{\"color\":\"white\"}},\"header\":{\"fill\":{\"color\":\"#C8D4E3\"},\"line\":{\"color\":\"white\"}},\"type\":\"table\"}],\"barpolar\":[{\"marker\":{\"line\":{\"color\":\"#E5ECF6\",\"width\":0.5},\"pattern\":{\"fillmode\":\"overlay\",\"size\":10,\"solidity\":0.2}},\"type\":\"barpolar\"}],\"pie\":[{\"automargin\":true,\"type\":\"pie\"}]},\"layout\":{\"autotypenumbers\":\"strict\",\"colorway\":[\"#636efa\",\"#EF553B\",\"#00cc96\",\"#ab63fa\",\"#FFA15A\",\"#19d3f3\",\"#FF6692\",\"#B6E880\",\"#FF97FF\",\"#FECB52\"],\"font\":{\"color\":\"#2a3f5f\"},\"hovermode\":\"closest\",\"hoverlabel\":{\"align\":\"left\"},\"paper_bgcolor\":\"white\",\"plot_bgcolor\":\"#E5ECF6\",\"polar\":{\"bgcolor\":\"#E5ECF6\",\"angularaxis\":{\"gridcolor\":\"white\",\"linecolor\":\"white\",\"ticks\":\"\"},\"radialaxis\":{\"gridcolor\":\"white\",\"linecolor\":\"white\",\"ticks\":\"\"}},\"ternary\":{\"bgcolor\":\"#E5ECF6\",\"aaxis\":{\"gridcolor\":\"white\",\"linecolor\":\"white\",\"ticks\":\"\"},\"baxis\":{\"gridcolor\":\"white\",\"linecolor\":\"white\",\"ticks\":\"\"},\"caxis\":{\"gridcolor\":\"white\",\"linecolor\":\"white\",\"ticks\":\"\"}},\"coloraxis\":{\"colorbar\":{\"outlinewidth\":0,\"ticks\":\"\"}},\"colorscale\":{\"sequential\":[[0.0,\"#0d0887\"],[0.1111111111111111,\"#46039f\"],[0.2222222222222222,\"#7201a8\"],[0.3333333333333333,\"#9c179e\"],[0.4444444444444444,\"#bd3786\"],[0.5555555555555556,\"#d8576b\"],[0.6666666666666666,\"#ed7953\"],[0.7777777777777778,\"#fb9f3a\"],[0.8888888888888888,\"#fdca26\"],[1.0,\"#f0f921\"]],\"sequentialminus\":[[0.0,\"#0d0887\"],[0.1111111111111111,\"#46039f\"],[0.2222222222222222,\"#7201a8\"],[0.3333333333333333,\"#9c179e\"],[0.4444444444444444,\"#bd3786\"],[0.5555555555555556,\"#d8576b\"],[0.6666666666666666,\"#ed7953\"],[0.7777777777777778,\"#fb9f3a\"],[0.8888888888888888,\"#fdca26\"],[1.0,\"#f0f921\"]],\"diverging\":[[0,\"#8e0152\"],[0.1,\"#c51b7d\"],[0.2,\"#de77ae\"],[0.3,\"#f1b6da\"],[0.4,\"#fde0ef\"],[0.5,\"#f7f7f7\"],[0.6,\"#e6f5d0\"],[0.7,\"#b8e186\"],[0.8,\"#7fbc41\"],[0.9,\"#4d9221\"],[1,\"#276419\"]]},\"xaxis\":{\"gridcolor\":\"white\",\"linecolor\":\"white\",\"ticks\":\"\",\"title\":{\"standoff\":15},\"zerolinecolor\":\"white\",\"automargin\":true,\"zerolinewidth\":2},\"yaxis\":{\"gridcolor\":\"white\",\"linecolor\":\"white\",\"ticks\":\"\",\"title\":{\"standoff\":15},\"zerolinecolor\":\"white\",\"automargin\":true,\"zerolinewidth\":2},\"scene\":{\"xaxis\":{\"backgroundcolor\":\"#E5ECF6\",\"gridcolor\":\"white\",\"linecolor\":\"white\",\"showbackground\":true,\"ticks\":\"\",\"zerolinecolor\":\"white\",\"gridwidth\":2},\"yaxis\":{\"backgroundcolor\":\"#E5ECF6\",\"gridcolor\":\"white\",\"linecolor\":\"white\",\"showbackground\":true,\"ticks\":\"\",\"zerolinecolor\":\"white\",\"gridwidth\":2},\"zaxis\":{\"backgroundcolor\":\"#E5ECF6\",\"gridcolor\":\"white\",\"linecolor\":\"white\",\"showbackground\":true,\"ticks\":\"\",\"zerolinecolor\":\"white\",\"gridwidth\":2}},\"shapedefaults\":{\"line\":{\"color\":\"#2a3f5f\"}},\"annotationdefaults\":{\"arrowcolor\":\"#2a3f5f\",\"arrowhead\":0,\"arrowwidth\":1},\"geo\":{\"bgcolor\":\"white\",\"landcolor\":\"#E5ECF6\",\"subunitcolor\":\"white\",\"showland\":true,\"showlakes\":true,\"lakecolor\":\"white\"},\"title\":{\"x\":0.05},\"mapbox\":{\"style\":\"light\"}}},\"xaxis\":{\"anchor\":\"y\",\"domain\":[0.0,1.0],\"title\":{\"text\":\"Flipper Length (mm)\"}},\"yaxis\":{\"anchor\":\"x\",\"domain\":[0.0,1.0],\"title\":{\"text\":\"Count\"}},\"legend\":{\"title\":{\"text\":\"variable\"},\"tracegroupgap\":0},\"title\":{\"text\":\"Flipper Length for Chinstrap\"},\"barmode\":\"relative\",\"shapes\":[{\"line\":{\"color\":\"green\",\"dash\":\"dash\"},\"type\":\"line\",\"x0\":195.8235294117647,\"x1\":195.8235294117647,\"xref\":\"x\",\"y0\":0,\"y1\":1,\"yref\":\"y domain\"},{\"line\":{\"color\":\"blue\",\"dash\":\"dot\"},\"type\":\"line\",\"x0\":196.0,\"x1\":196.0,\"xref\":\"x\",\"y0\":0,\"y1\":1,\"yref\":\"y domain\"},{\"fillcolor\":\"gray\",\"line\":{\"width\":0},\"opacity\":0.1,\"type\":\"rect\",\"x0\":178.0,\"x1\":212.0,\"xref\":\"x\",\"y0\":0,\"y1\":1,\"yref\":\"y domain\"},{\"fillcolor\":\"yellow\",\"line\":{\"width\":0},\"opacity\":0.3,\"type\":\"rect\",\"x0\":191.0,\"x1\":201.0,\"xref\":\"x\",\"y0\":0,\"y1\":1,\"yref\":\"y domain\"},{\"fillcolor\":\"red\",\"line\":{\"width\":0},\"opacity\":0.2,\"type\":\"rect\",\"x0\":181.5597408946084,\"x1\":210.08731792892098,\"xref\":\"x\",\"y0\":0,\"y1\":1,\"yref\":\"y domain\"}],\"annotations\":[{\"showarrow\":false,\"text\":\"Mean\",\"x\":195.8235294117647,\"xanchor\":\"right\",\"xref\":\"x\",\"y\":1,\"yanchor\":\"top\",\"yref\":\"y domain\"},{\"showarrow\":false,\"text\":\"Median\",\"x\":196.0,\"xanchor\":\"left\",\"xref\":\"x\",\"y\":1,\"yanchor\":\"top\",\"yref\":\"y domain\"},{\"showarrow\":false,\"text\":\"Range\",\"x\":212.0,\"xanchor\":\"right\",\"xref\":\"x\",\"y\":1,\"yanchor\":\"top\",\"yref\":\"y domain\"},{\"showarrow\":false,\"text\":\"IQR\",\"x\":201.0,\"xanchor\":\"right\",\"xref\":\"x\",\"y\":1,\"yanchor\":\"top\",\"yref\":\"y domain\"},{\"showarrow\":false,\"text\":\"\\u00b12 SD\",\"x\":210.08731792892098,\"xanchor\":\"right\",\"xref\":\"x\",\"y\":1,\"yanchor\":\"top\",\"yref\":\"y domain\"}]},                        {\"responsive\": true}                    ).then(function(){\n",
       "                            \n",
       "var gd = document.getElementById('a79d8056-e895-4823-83b2-e7951904982f');\n",
       "var x = new MutationObserver(function (mutations, observer) {{\n",
       "        var display = window.getComputedStyle(gd).display;\n",
       "        if (!display || display === 'none') {{\n",
       "            console.log([gd, 'removed!']);\n",
       "            Plotly.purge(gd);\n",
       "            observer.disconnect();\n",
       "        }}\n",
       "}});\n",
       "\n",
       "// Listen for the removal of the full notebook cells\n",
       "var notebookContainer = gd.closest('#notebook-container');\n",
       "if (notebookContainer) {{\n",
       "    x.observe(notebookContainer, {childList: true});\n",
       "}}\n",
       "\n",
       "// Listen for the clearing of the current output cell\n",
       "var outputEl = gd.closest('.output');\n",
       "if (outputEl) {{\n",
       "    x.observe(outputEl, {childList: true});\n",
       "}}\n",
       "\n",
       "                        })                };                });            </script>        </div>"
      ]
     },
     "metadata": {},
     "output_type": "display_data"
    },
    {
     "data": {
      "application/vnd.plotly.v1+json": {
       "config": {
        "plotlyServerURL": "https://plot.ly"
       },
       "data": [
        {
         "alignmentgroup": "True",
         "bingroup": "x",
         "hovertemplate": "variable=flipper_length_mm<br>value=%{x}<br>count=%{y}<extra></extra>",
         "legendgroup": "flipper_length_mm",
         "marker": {
          "color": "#636efa",
          "pattern": {
           "shape": ""
          }
         },
         "name": "flipper_length_mm",
         "nbinsx": 30,
         "offsetgroup": "flipper_length_mm",
         "orientation": "v",
         "showlegend": true,
         "type": "histogram",
         "x": [
          211,
          230,
          210,
          218,
          215,
          210,
          211,
          219,
          209,
          215,
          214,
          216,
          214,
          213,
          210,
          217,
          210,
          221,
          209,
          222,
          218,
          215,
          213,
          215,
          215,
          215,
          216,
          215,
          210,
          220,
          222,
          209,
          207,
          230,
          220,
          220,
          213,
          219,
          208,
          208,
          208,
          225,
          210,
          216,
          222,
          217,
          210,
          225,
          213,
          215,
          210,
          220,
          210,
          225,
          217,
          220,
          208,
          220,
          208,
          224,
          208,
          221,
          214,
          231,
          219,
          230,
          214,
          229,
          220,
          223,
          216,
          221,
          221,
          217,
          216,
          230,
          209,
          220,
          215,
          223,
          212,
          221,
          212,
          224,
          212,
          228,
          218,
          218,
          212,
          230,
          218,
          228,
          212,
          224,
          214,
          226,
          216,
          222,
          203,
          225,
          219,
          228,
          215,
          228,
          216,
          215,
          210,
          219,
          208,
          209,
          216,
          229,
          213,
          230,
          217,
          230,
          217,
          222,
          214,
          215,
          222,
          212,
          213
         ],
         "xaxis": "x",
         "yaxis": "y"
        }
       ],
       "layout": {
        "annotations": [
         {
          "showarrow": false,
          "text": "Mean",
          "x": 217.1869918699187,
          "xanchor": "right",
          "xref": "x",
          "y": 1,
          "yanchor": "top",
          "yref": "y domain"
         },
         {
          "showarrow": false,
          "text": "Median",
          "x": 216,
          "xanchor": "left",
          "xref": "x",
          "y": 1,
          "yanchor": "top",
          "yref": "y domain"
         },
         {
          "showarrow": false,
          "text": "Range",
          "x": 231,
          "xanchor": "right",
          "xref": "x",
          "y": 1,
          "yanchor": "top",
          "yref": "y domain"
         },
         {
          "showarrow": false,
          "text": "IQR",
          "x": 221,
          "xanchor": "right",
          "xref": "x",
          "y": 1,
          "yanchor": "top",
          "yref": "y domain"
         },
         {
          "showarrow": false,
          "text": "±2 SD",
          "x": 230.1569435072666,
          "xanchor": "right",
          "xref": "x",
          "y": 1,
          "yanchor": "top",
          "yref": "y domain"
         }
        ],
        "barmode": "relative",
        "legend": {
         "title": {
          "text": "variable"
         },
         "tracegroupgap": 0
        },
        "shapes": [
         {
          "line": {
           "color": "green",
           "dash": "dash"
          },
          "type": "line",
          "x0": 217.1869918699187,
          "x1": 217.1869918699187,
          "xref": "x",
          "y0": 0,
          "y1": 1,
          "yref": "y domain"
         },
         {
          "line": {
           "color": "blue",
           "dash": "dot"
          },
          "type": "line",
          "x0": 216,
          "x1": 216,
          "xref": "x",
          "y0": 0,
          "y1": 1,
          "yref": "y domain"
         },
         {
          "fillcolor": "gray",
          "line": {
           "width": 0
          },
          "opacity": 0.1,
          "type": "rect",
          "x0": 203,
          "x1": 231,
          "xref": "x",
          "y0": 0,
          "y1": 1,
          "yref": "y domain"
         },
         {
          "fillcolor": "yellow",
          "line": {
           "width": 0
          },
          "opacity": 0.3,
          "type": "rect",
          "x0": 212,
          "x1": 221,
          "xref": "x",
          "y0": 0,
          "y1": 1,
          "yref": "y domain"
         },
         {
          "fillcolor": "red",
          "line": {
           "width": 0
          },
          "opacity": 0.2,
          "type": "rect",
          "x0": 204.2170402325708,
          "x1": 230.1569435072666,
          "xref": "x",
          "y0": 0,
          "y1": 1,
          "yref": "y domain"
         }
        ],
        "template": {
         "data": {
          "bar": [
           {
            "error_x": {
             "color": "#2a3f5f"
            },
            "error_y": {
             "color": "#2a3f5f"
            },
            "marker": {
             "line": {
              "color": "#E5ECF6",
              "width": 0.5
             },
             "pattern": {
              "fillmode": "overlay",
              "size": 10,
              "solidity": 0.2
             }
            },
            "type": "bar"
           }
          ],
          "barpolar": [
           {
            "marker": {
             "line": {
              "color": "#E5ECF6",
              "width": 0.5
             },
             "pattern": {
              "fillmode": "overlay",
              "size": 10,
              "solidity": 0.2
             }
            },
            "type": "barpolar"
           }
          ],
          "carpet": [
           {
            "aaxis": {
             "endlinecolor": "#2a3f5f",
             "gridcolor": "white",
             "linecolor": "white",
             "minorgridcolor": "white",
             "startlinecolor": "#2a3f5f"
            },
            "baxis": {
             "endlinecolor": "#2a3f5f",
             "gridcolor": "white",
             "linecolor": "white",
             "minorgridcolor": "white",
             "startlinecolor": "#2a3f5f"
            },
            "type": "carpet"
           }
          ],
          "choropleth": [
           {
            "colorbar": {
             "outlinewidth": 0,
             "ticks": ""
            },
            "type": "choropleth"
           }
          ],
          "contour": [
           {
            "colorbar": {
             "outlinewidth": 0,
             "ticks": ""
            },
            "colorscale": [
             [
              0,
              "#0d0887"
             ],
             [
              0.1111111111111111,
              "#46039f"
             ],
             [
              0.2222222222222222,
              "#7201a8"
             ],
             [
              0.3333333333333333,
              "#9c179e"
             ],
             [
              0.4444444444444444,
              "#bd3786"
             ],
             [
              0.5555555555555556,
              "#d8576b"
             ],
             [
              0.6666666666666666,
              "#ed7953"
             ],
             [
              0.7777777777777778,
              "#fb9f3a"
             ],
             [
              0.8888888888888888,
              "#fdca26"
             ],
             [
              1,
              "#f0f921"
             ]
            ],
            "type": "contour"
           }
          ],
          "contourcarpet": [
           {
            "colorbar": {
             "outlinewidth": 0,
             "ticks": ""
            },
            "type": "contourcarpet"
           }
          ],
          "heatmap": [
           {
            "colorbar": {
             "outlinewidth": 0,
             "ticks": ""
            },
            "colorscale": [
             [
              0,
              "#0d0887"
             ],
             [
              0.1111111111111111,
              "#46039f"
             ],
             [
              0.2222222222222222,
              "#7201a8"
             ],
             [
              0.3333333333333333,
              "#9c179e"
             ],
             [
              0.4444444444444444,
              "#bd3786"
             ],
             [
              0.5555555555555556,
              "#d8576b"
             ],
             [
              0.6666666666666666,
              "#ed7953"
             ],
             [
              0.7777777777777778,
              "#fb9f3a"
             ],
             [
              0.8888888888888888,
              "#fdca26"
             ],
             [
              1,
              "#f0f921"
             ]
            ],
            "type": "heatmap"
           }
          ],
          "heatmapgl": [
           {
            "colorbar": {
             "outlinewidth": 0,
             "ticks": ""
            },
            "colorscale": [
             [
              0,
              "#0d0887"
             ],
             [
              0.1111111111111111,
              "#46039f"
             ],
             [
              0.2222222222222222,
              "#7201a8"
             ],
             [
              0.3333333333333333,
              "#9c179e"
             ],
             [
              0.4444444444444444,
              "#bd3786"
             ],
             [
              0.5555555555555556,
              "#d8576b"
             ],
             [
              0.6666666666666666,
              "#ed7953"
             ],
             [
              0.7777777777777778,
              "#fb9f3a"
             ],
             [
              0.8888888888888888,
              "#fdca26"
             ],
             [
              1,
              "#f0f921"
             ]
            ],
            "type": "heatmapgl"
           }
          ],
          "histogram": [
           {
            "marker": {
             "pattern": {
              "fillmode": "overlay",
              "size": 10,
              "solidity": 0.2
             }
            },
            "type": "histogram"
           }
          ],
          "histogram2d": [
           {
            "colorbar": {
             "outlinewidth": 0,
             "ticks": ""
            },
            "colorscale": [
             [
              0,
              "#0d0887"
             ],
             [
              0.1111111111111111,
              "#46039f"
             ],
             [
              0.2222222222222222,
              "#7201a8"
             ],
             [
              0.3333333333333333,
              "#9c179e"
             ],
             [
              0.4444444444444444,
              "#bd3786"
             ],
             [
              0.5555555555555556,
              "#d8576b"
             ],
             [
              0.6666666666666666,
              "#ed7953"
             ],
             [
              0.7777777777777778,
              "#fb9f3a"
             ],
             [
              0.8888888888888888,
              "#fdca26"
             ],
             [
              1,
              "#f0f921"
             ]
            ],
            "type": "histogram2d"
           }
          ],
          "histogram2dcontour": [
           {
            "colorbar": {
             "outlinewidth": 0,
             "ticks": ""
            },
            "colorscale": [
             [
              0,
              "#0d0887"
             ],
             [
              0.1111111111111111,
              "#46039f"
             ],
             [
              0.2222222222222222,
              "#7201a8"
             ],
             [
              0.3333333333333333,
              "#9c179e"
             ],
             [
              0.4444444444444444,
              "#bd3786"
             ],
             [
              0.5555555555555556,
              "#d8576b"
             ],
             [
              0.6666666666666666,
              "#ed7953"
             ],
             [
              0.7777777777777778,
              "#fb9f3a"
             ],
             [
              0.8888888888888888,
              "#fdca26"
             ],
             [
              1,
              "#f0f921"
             ]
            ],
            "type": "histogram2dcontour"
           }
          ],
          "mesh3d": [
           {
            "colorbar": {
             "outlinewidth": 0,
             "ticks": ""
            },
            "type": "mesh3d"
           }
          ],
          "parcoords": [
           {
            "line": {
             "colorbar": {
              "outlinewidth": 0,
              "ticks": ""
             }
            },
            "type": "parcoords"
           }
          ],
          "pie": [
           {
            "automargin": true,
            "type": "pie"
           }
          ],
          "scatter": [
           {
            "fillpattern": {
             "fillmode": "overlay",
             "size": 10,
             "solidity": 0.2
            },
            "type": "scatter"
           }
          ],
          "scatter3d": [
           {
            "line": {
             "colorbar": {
              "outlinewidth": 0,
              "ticks": ""
             }
            },
            "marker": {
             "colorbar": {
              "outlinewidth": 0,
              "ticks": ""
             }
            },
            "type": "scatter3d"
           }
          ],
          "scattercarpet": [
           {
            "marker": {
             "colorbar": {
              "outlinewidth": 0,
              "ticks": ""
             }
            },
            "type": "scattercarpet"
           }
          ],
          "scattergeo": [
           {
            "marker": {
             "colorbar": {
              "outlinewidth": 0,
              "ticks": ""
             }
            },
            "type": "scattergeo"
           }
          ],
          "scattergl": [
           {
            "marker": {
             "colorbar": {
              "outlinewidth": 0,
              "ticks": ""
             }
            },
            "type": "scattergl"
           }
          ],
          "scattermapbox": [
           {
            "marker": {
             "colorbar": {
              "outlinewidth": 0,
              "ticks": ""
             }
            },
            "type": "scattermapbox"
           }
          ],
          "scatterpolar": [
           {
            "marker": {
             "colorbar": {
              "outlinewidth": 0,
              "ticks": ""
             }
            },
            "type": "scatterpolar"
           }
          ],
          "scatterpolargl": [
           {
            "marker": {
             "colorbar": {
              "outlinewidth": 0,
              "ticks": ""
             }
            },
            "type": "scatterpolargl"
           }
          ],
          "scatterternary": [
           {
            "marker": {
             "colorbar": {
              "outlinewidth": 0,
              "ticks": ""
             }
            },
            "type": "scatterternary"
           }
          ],
          "surface": [
           {
            "colorbar": {
             "outlinewidth": 0,
             "ticks": ""
            },
            "colorscale": [
             [
              0,
              "#0d0887"
             ],
             [
              0.1111111111111111,
              "#46039f"
             ],
             [
              0.2222222222222222,
              "#7201a8"
             ],
             [
              0.3333333333333333,
              "#9c179e"
             ],
             [
              0.4444444444444444,
              "#bd3786"
             ],
             [
              0.5555555555555556,
              "#d8576b"
             ],
             [
              0.6666666666666666,
              "#ed7953"
             ],
             [
              0.7777777777777778,
              "#fb9f3a"
             ],
             [
              0.8888888888888888,
              "#fdca26"
             ],
             [
              1,
              "#f0f921"
             ]
            ],
            "type": "surface"
           }
          ],
          "table": [
           {
            "cells": {
             "fill": {
              "color": "#EBF0F8"
             },
             "line": {
              "color": "white"
             }
            },
            "header": {
             "fill": {
              "color": "#C8D4E3"
             },
             "line": {
              "color": "white"
             }
            },
            "type": "table"
           }
          ]
         },
         "layout": {
          "annotationdefaults": {
           "arrowcolor": "#2a3f5f",
           "arrowhead": 0,
           "arrowwidth": 1
          },
          "autotypenumbers": "strict",
          "coloraxis": {
           "colorbar": {
            "outlinewidth": 0,
            "ticks": ""
           }
          },
          "colorscale": {
           "diverging": [
            [
             0,
             "#8e0152"
            ],
            [
             0.1,
             "#c51b7d"
            ],
            [
             0.2,
             "#de77ae"
            ],
            [
             0.3,
             "#f1b6da"
            ],
            [
             0.4,
             "#fde0ef"
            ],
            [
             0.5,
             "#f7f7f7"
            ],
            [
             0.6,
             "#e6f5d0"
            ],
            [
             0.7,
             "#b8e186"
            ],
            [
             0.8,
             "#7fbc41"
            ],
            [
             0.9,
             "#4d9221"
            ],
            [
             1,
             "#276419"
            ]
           ],
           "sequential": [
            [
             0,
             "#0d0887"
            ],
            [
             0.1111111111111111,
             "#46039f"
            ],
            [
             0.2222222222222222,
             "#7201a8"
            ],
            [
             0.3333333333333333,
             "#9c179e"
            ],
            [
             0.4444444444444444,
             "#bd3786"
            ],
            [
             0.5555555555555556,
             "#d8576b"
            ],
            [
             0.6666666666666666,
             "#ed7953"
            ],
            [
             0.7777777777777778,
             "#fb9f3a"
            ],
            [
             0.8888888888888888,
             "#fdca26"
            ],
            [
             1,
             "#f0f921"
            ]
           ],
           "sequentialminus": [
            [
             0,
             "#0d0887"
            ],
            [
             0.1111111111111111,
             "#46039f"
            ],
            [
             0.2222222222222222,
             "#7201a8"
            ],
            [
             0.3333333333333333,
             "#9c179e"
            ],
            [
             0.4444444444444444,
             "#bd3786"
            ],
            [
             0.5555555555555556,
             "#d8576b"
            ],
            [
             0.6666666666666666,
             "#ed7953"
            ],
            [
             0.7777777777777778,
             "#fb9f3a"
            ],
            [
             0.8888888888888888,
             "#fdca26"
            ],
            [
             1,
             "#f0f921"
            ]
           ]
          },
          "colorway": [
           "#636efa",
           "#EF553B",
           "#00cc96",
           "#ab63fa",
           "#FFA15A",
           "#19d3f3",
           "#FF6692",
           "#B6E880",
           "#FF97FF",
           "#FECB52"
          ],
          "font": {
           "color": "#2a3f5f"
          },
          "geo": {
           "bgcolor": "white",
           "lakecolor": "white",
           "landcolor": "#E5ECF6",
           "showlakes": true,
           "showland": true,
           "subunitcolor": "white"
          },
          "hoverlabel": {
           "align": "left"
          },
          "hovermode": "closest",
          "mapbox": {
           "style": "light"
          },
          "paper_bgcolor": "white",
          "plot_bgcolor": "#E5ECF6",
          "polar": {
           "angularaxis": {
            "gridcolor": "white",
            "linecolor": "white",
            "ticks": ""
           },
           "bgcolor": "#E5ECF6",
           "radialaxis": {
            "gridcolor": "white",
            "linecolor": "white",
            "ticks": ""
           }
          },
          "scene": {
           "xaxis": {
            "backgroundcolor": "#E5ECF6",
            "gridcolor": "white",
            "gridwidth": 2,
            "linecolor": "white",
            "showbackground": true,
            "ticks": "",
            "zerolinecolor": "white"
           },
           "yaxis": {
            "backgroundcolor": "#E5ECF6",
            "gridcolor": "white",
            "gridwidth": 2,
            "linecolor": "white",
            "showbackground": true,
            "ticks": "",
            "zerolinecolor": "white"
           },
           "zaxis": {
            "backgroundcolor": "#E5ECF6",
            "gridcolor": "white",
            "gridwidth": 2,
            "linecolor": "white",
            "showbackground": true,
            "ticks": "",
            "zerolinecolor": "white"
           }
          },
          "shapedefaults": {
           "line": {
            "color": "#2a3f5f"
           }
          },
          "ternary": {
           "aaxis": {
            "gridcolor": "white",
            "linecolor": "white",
            "ticks": ""
           },
           "baxis": {
            "gridcolor": "white",
            "linecolor": "white",
            "ticks": ""
           },
           "bgcolor": "#E5ECF6",
           "caxis": {
            "gridcolor": "white",
            "linecolor": "white",
            "ticks": ""
           }
          },
          "title": {
           "x": 0.05
          },
          "xaxis": {
           "automargin": true,
           "gridcolor": "white",
           "linecolor": "white",
           "ticks": "",
           "title": {
            "standoff": 15
           },
           "zerolinecolor": "white",
           "zerolinewidth": 2
          },
          "yaxis": {
           "automargin": true,
           "gridcolor": "white",
           "linecolor": "white",
           "ticks": "",
           "title": {
            "standoff": 15
           },
           "zerolinecolor": "white",
           "zerolinewidth": 2
          }
         }
        },
        "title": {
         "text": "Flipper Length for Gentoo"
        },
        "xaxis": {
         "anchor": "y",
         "domain": [
          0,
          1
         ],
         "title": {
          "text": "Flipper Length (mm)"
         }
        },
        "yaxis": {
         "anchor": "x",
         "domain": [
          0,
          1
         ],
         "title": {
          "text": "Count"
         }
        }
       }
      },
      "text/html": [
       "<div>                            <div id=\"c2b352d2-0208-4638-a381-12a239903935\" class=\"plotly-graph-div\" style=\"height:525px; width:100%;\"></div>            <script type=\"text/javascript\">                require([\"plotly\"], function(Plotly) {                    window.PLOTLYENV=window.PLOTLYENV || {};                                    if (document.getElementById(\"c2b352d2-0208-4638-a381-12a239903935\")) {                    Plotly.newPlot(                        \"c2b352d2-0208-4638-a381-12a239903935\",                        [{\"alignmentgroup\":\"True\",\"bingroup\":\"x\",\"hovertemplate\":\"variable=flipper_length_mm\\u003cbr\\u003evalue=%{x}\\u003cbr\\u003ecount=%{y}\\u003cextra\\u003e\\u003c\\u002fextra\\u003e\",\"legendgroup\":\"flipper_length_mm\",\"marker\":{\"color\":\"#636efa\",\"pattern\":{\"shape\":\"\"}},\"name\":\"flipper_length_mm\",\"nbinsx\":30,\"offsetgroup\":\"flipper_length_mm\",\"orientation\":\"v\",\"showlegend\":true,\"x\":[211.0,230.0,210.0,218.0,215.0,210.0,211.0,219.0,209.0,215.0,214.0,216.0,214.0,213.0,210.0,217.0,210.0,221.0,209.0,222.0,218.0,215.0,213.0,215.0,215.0,215.0,216.0,215.0,210.0,220.0,222.0,209.0,207.0,230.0,220.0,220.0,213.0,219.0,208.0,208.0,208.0,225.0,210.0,216.0,222.0,217.0,210.0,225.0,213.0,215.0,210.0,220.0,210.0,225.0,217.0,220.0,208.0,220.0,208.0,224.0,208.0,221.0,214.0,231.0,219.0,230.0,214.0,229.0,220.0,223.0,216.0,221.0,221.0,217.0,216.0,230.0,209.0,220.0,215.0,223.0,212.0,221.0,212.0,224.0,212.0,228.0,218.0,218.0,212.0,230.0,218.0,228.0,212.0,224.0,214.0,226.0,216.0,222.0,203.0,225.0,219.0,228.0,215.0,228.0,216.0,215.0,210.0,219.0,208.0,209.0,216.0,229.0,213.0,230.0,217.0,230.0,217.0,222.0,214.0,215.0,222.0,212.0,213.0],\"xaxis\":\"x\",\"yaxis\":\"y\",\"type\":\"histogram\"}],                        {\"template\":{\"data\":{\"histogram2dcontour\":[{\"type\":\"histogram2dcontour\",\"colorbar\":{\"outlinewidth\":0,\"ticks\":\"\"},\"colorscale\":[[0.0,\"#0d0887\"],[0.1111111111111111,\"#46039f\"],[0.2222222222222222,\"#7201a8\"],[0.3333333333333333,\"#9c179e\"],[0.4444444444444444,\"#bd3786\"],[0.5555555555555556,\"#d8576b\"],[0.6666666666666666,\"#ed7953\"],[0.7777777777777778,\"#fb9f3a\"],[0.8888888888888888,\"#fdca26\"],[1.0,\"#f0f921\"]]}],\"choropleth\":[{\"type\":\"choropleth\",\"colorbar\":{\"outlinewidth\":0,\"ticks\":\"\"}}],\"histogram2d\":[{\"type\":\"histogram2d\",\"colorbar\":{\"outlinewidth\":0,\"ticks\":\"\"},\"colorscale\":[[0.0,\"#0d0887\"],[0.1111111111111111,\"#46039f\"],[0.2222222222222222,\"#7201a8\"],[0.3333333333333333,\"#9c179e\"],[0.4444444444444444,\"#bd3786\"],[0.5555555555555556,\"#d8576b\"],[0.6666666666666666,\"#ed7953\"],[0.7777777777777778,\"#fb9f3a\"],[0.8888888888888888,\"#fdca26\"],[1.0,\"#f0f921\"]]}],\"heatmap\":[{\"type\":\"heatmap\",\"colorbar\":{\"outlinewidth\":0,\"ticks\":\"\"},\"colorscale\":[[0.0,\"#0d0887\"],[0.1111111111111111,\"#46039f\"],[0.2222222222222222,\"#7201a8\"],[0.3333333333333333,\"#9c179e\"],[0.4444444444444444,\"#bd3786\"],[0.5555555555555556,\"#d8576b\"],[0.6666666666666666,\"#ed7953\"],[0.7777777777777778,\"#fb9f3a\"],[0.8888888888888888,\"#fdca26\"],[1.0,\"#f0f921\"]]}],\"heatmapgl\":[{\"type\":\"heatmapgl\",\"colorbar\":{\"outlinewidth\":0,\"ticks\":\"\"},\"colorscale\":[[0.0,\"#0d0887\"],[0.1111111111111111,\"#46039f\"],[0.2222222222222222,\"#7201a8\"],[0.3333333333333333,\"#9c179e\"],[0.4444444444444444,\"#bd3786\"],[0.5555555555555556,\"#d8576b\"],[0.6666666666666666,\"#ed7953\"],[0.7777777777777778,\"#fb9f3a\"],[0.8888888888888888,\"#fdca26\"],[1.0,\"#f0f921\"]]}],\"contourcarpet\":[{\"type\":\"contourcarpet\",\"colorbar\":{\"outlinewidth\":0,\"ticks\":\"\"}}],\"contour\":[{\"type\":\"contour\",\"colorbar\":{\"outlinewidth\":0,\"ticks\":\"\"},\"colorscale\":[[0.0,\"#0d0887\"],[0.1111111111111111,\"#46039f\"],[0.2222222222222222,\"#7201a8\"],[0.3333333333333333,\"#9c179e\"],[0.4444444444444444,\"#bd3786\"],[0.5555555555555556,\"#d8576b\"],[0.6666666666666666,\"#ed7953\"],[0.7777777777777778,\"#fb9f3a\"],[0.8888888888888888,\"#fdca26\"],[1.0,\"#f0f921\"]]}],\"surface\":[{\"type\":\"surface\",\"colorbar\":{\"outlinewidth\":0,\"ticks\":\"\"},\"colorscale\":[[0.0,\"#0d0887\"],[0.1111111111111111,\"#46039f\"],[0.2222222222222222,\"#7201a8\"],[0.3333333333333333,\"#9c179e\"],[0.4444444444444444,\"#bd3786\"],[0.5555555555555556,\"#d8576b\"],[0.6666666666666666,\"#ed7953\"],[0.7777777777777778,\"#fb9f3a\"],[0.8888888888888888,\"#fdca26\"],[1.0,\"#f0f921\"]]}],\"mesh3d\":[{\"type\":\"mesh3d\",\"colorbar\":{\"outlinewidth\":0,\"ticks\":\"\"}}],\"scatter\":[{\"fillpattern\":{\"fillmode\":\"overlay\",\"size\":10,\"solidity\":0.2},\"type\":\"scatter\"}],\"parcoords\":[{\"type\":\"parcoords\",\"line\":{\"colorbar\":{\"outlinewidth\":0,\"ticks\":\"\"}}}],\"scatterpolargl\":[{\"type\":\"scatterpolargl\",\"marker\":{\"colorbar\":{\"outlinewidth\":0,\"ticks\":\"\"}}}],\"bar\":[{\"error_x\":{\"color\":\"#2a3f5f\"},\"error_y\":{\"color\":\"#2a3f5f\"},\"marker\":{\"line\":{\"color\":\"#E5ECF6\",\"width\":0.5},\"pattern\":{\"fillmode\":\"overlay\",\"size\":10,\"solidity\":0.2}},\"type\":\"bar\"}],\"scattergeo\":[{\"type\":\"scattergeo\",\"marker\":{\"colorbar\":{\"outlinewidth\":0,\"ticks\":\"\"}}}],\"scatterpolar\":[{\"type\":\"scatterpolar\",\"marker\":{\"colorbar\":{\"outlinewidth\":0,\"ticks\":\"\"}}}],\"histogram\":[{\"marker\":{\"pattern\":{\"fillmode\":\"overlay\",\"size\":10,\"solidity\":0.2}},\"type\":\"histogram\"}],\"scattergl\":[{\"type\":\"scattergl\",\"marker\":{\"colorbar\":{\"outlinewidth\":0,\"ticks\":\"\"}}}],\"scatter3d\":[{\"type\":\"scatter3d\",\"line\":{\"colorbar\":{\"outlinewidth\":0,\"ticks\":\"\"}},\"marker\":{\"colorbar\":{\"outlinewidth\":0,\"ticks\":\"\"}}}],\"scattermapbox\":[{\"type\":\"scattermapbox\",\"marker\":{\"colorbar\":{\"outlinewidth\":0,\"ticks\":\"\"}}}],\"scatterternary\":[{\"type\":\"scatterternary\",\"marker\":{\"colorbar\":{\"outlinewidth\":0,\"ticks\":\"\"}}}],\"scattercarpet\":[{\"type\":\"scattercarpet\",\"marker\":{\"colorbar\":{\"outlinewidth\":0,\"ticks\":\"\"}}}],\"carpet\":[{\"aaxis\":{\"endlinecolor\":\"#2a3f5f\",\"gridcolor\":\"white\",\"linecolor\":\"white\",\"minorgridcolor\":\"white\",\"startlinecolor\":\"#2a3f5f\"},\"baxis\":{\"endlinecolor\":\"#2a3f5f\",\"gridcolor\":\"white\",\"linecolor\":\"white\",\"minorgridcolor\":\"white\",\"startlinecolor\":\"#2a3f5f\"},\"type\":\"carpet\"}],\"table\":[{\"cells\":{\"fill\":{\"color\":\"#EBF0F8\"},\"line\":{\"color\":\"white\"}},\"header\":{\"fill\":{\"color\":\"#C8D4E3\"},\"line\":{\"color\":\"white\"}},\"type\":\"table\"}],\"barpolar\":[{\"marker\":{\"line\":{\"color\":\"#E5ECF6\",\"width\":0.5},\"pattern\":{\"fillmode\":\"overlay\",\"size\":10,\"solidity\":0.2}},\"type\":\"barpolar\"}],\"pie\":[{\"automargin\":true,\"type\":\"pie\"}]},\"layout\":{\"autotypenumbers\":\"strict\",\"colorway\":[\"#636efa\",\"#EF553B\",\"#00cc96\",\"#ab63fa\",\"#FFA15A\",\"#19d3f3\",\"#FF6692\",\"#B6E880\",\"#FF97FF\",\"#FECB52\"],\"font\":{\"color\":\"#2a3f5f\"},\"hovermode\":\"closest\",\"hoverlabel\":{\"align\":\"left\"},\"paper_bgcolor\":\"white\",\"plot_bgcolor\":\"#E5ECF6\",\"polar\":{\"bgcolor\":\"#E5ECF6\",\"angularaxis\":{\"gridcolor\":\"white\",\"linecolor\":\"white\",\"ticks\":\"\"},\"radialaxis\":{\"gridcolor\":\"white\",\"linecolor\":\"white\",\"ticks\":\"\"}},\"ternary\":{\"bgcolor\":\"#E5ECF6\",\"aaxis\":{\"gridcolor\":\"white\",\"linecolor\":\"white\",\"ticks\":\"\"},\"baxis\":{\"gridcolor\":\"white\",\"linecolor\":\"white\",\"ticks\":\"\"},\"caxis\":{\"gridcolor\":\"white\",\"linecolor\":\"white\",\"ticks\":\"\"}},\"coloraxis\":{\"colorbar\":{\"outlinewidth\":0,\"ticks\":\"\"}},\"colorscale\":{\"sequential\":[[0.0,\"#0d0887\"],[0.1111111111111111,\"#46039f\"],[0.2222222222222222,\"#7201a8\"],[0.3333333333333333,\"#9c179e\"],[0.4444444444444444,\"#bd3786\"],[0.5555555555555556,\"#d8576b\"],[0.6666666666666666,\"#ed7953\"],[0.7777777777777778,\"#fb9f3a\"],[0.8888888888888888,\"#fdca26\"],[1.0,\"#f0f921\"]],\"sequentialminus\":[[0.0,\"#0d0887\"],[0.1111111111111111,\"#46039f\"],[0.2222222222222222,\"#7201a8\"],[0.3333333333333333,\"#9c179e\"],[0.4444444444444444,\"#bd3786\"],[0.5555555555555556,\"#d8576b\"],[0.6666666666666666,\"#ed7953\"],[0.7777777777777778,\"#fb9f3a\"],[0.8888888888888888,\"#fdca26\"],[1.0,\"#f0f921\"]],\"diverging\":[[0,\"#8e0152\"],[0.1,\"#c51b7d\"],[0.2,\"#de77ae\"],[0.3,\"#f1b6da\"],[0.4,\"#fde0ef\"],[0.5,\"#f7f7f7\"],[0.6,\"#e6f5d0\"],[0.7,\"#b8e186\"],[0.8,\"#7fbc41\"],[0.9,\"#4d9221\"],[1,\"#276419\"]]},\"xaxis\":{\"gridcolor\":\"white\",\"linecolor\":\"white\",\"ticks\":\"\",\"title\":{\"standoff\":15},\"zerolinecolor\":\"white\",\"automargin\":true,\"zerolinewidth\":2},\"yaxis\":{\"gridcolor\":\"white\",\"linecolor\":\"white\",\"ticks\":\"\",\"title\":{\"standoff\":15},\"zerolinecolor\":\"white\",\"automargin\":true,\"zerolinewidth\":2},\"scene\":{\"xaxis\":{\"backgroundcolor\":\"#E5ECF6\",\"gridcolor\":\"white\",\"linecolor\":\"white\",\"showbackground\":true,\"ticks\":\"\",\"zerolinecolor\":\"white\",\"gridwidth\":2},\"yaxis\":{\"backgroundcolor\":\"#E5ECF6\",\"gridcolor\":\"white\",\"linecolor\":\"white\",\"showbackground\":true,\"ticks\":\"\",\"zerolinecolor\":\"white\",\"gridwidth\":2},\"zaxis\":{\"backgroundcolor\":\"#E5ECF6\",\"gridcolor\":\"white\",\"linecolor\":\"white\",\"showbackground\":true,\"ticks\":\"\",\"zerolinecolor\":\"white\",\"gridwidth\":2}},\"shapedefaults\":{\"line\":{\"color\":\"#2a3f5f\"}},\"annotationdefaults\":{\"arrowcolor\":\"#2a3f5f\",\"arrowhead\":0,\"arrowwidth\":1},\"geo\":{\"bgcolor\":\"white\",\"landcolor\":\"#E5ECF6\",\"subunitcolor\":\"white\",\"showland\":true,\"showlakes\":true,\"lakecolor\":\"white\"},\"title\":{\"x\":0.05},\"mapbox\":{\"style\":\"light\"}}},\"xaxis\":{\"anchor\":\"y\",\"domain\":[0.0,1.0],\"title\":{\"text\":\"Flipper Length (mm)\"}},\"yaxis\":{\"anchor\":\"x\",\"domain\":[0.0,1.0],\"title\":{\"text\":\"Count\"}},\"legend\":{\"title\":{\"text\":\"variable\"},\"tracegroupgap\":0},\"title\":{\"text\":\"Flipper Length for Gentoo\"},\"barmode\":\"relative\",\"shapes\":[{\"line\":{\"color\":\"green\",\"dash\":\"dash\"},\"type\":\"line\",\"x0\":217.1869918699187,\"x1\":217.1869918699187,\"xref\":\"x\",\"y0\":0,\"y1\":1,\"yref\":\"y domain\"},{\"line\":{\"color\":\"blue\",\"dash\":\"dot\"},\"type\":\"line\",\"x0\":216.0,\"x1\":216.0,\"xref\":\"x\",\"y0\":0,\"y1\":1,\"yref\":\"y domain\"},{\"fillcolor\":\"gray\",\"line\":{\"width\":0},\"opacity\":0.1,\"type\":\"rect\",\"x0\":203.0,\"x1\":231.0,\"xref\":\"x\",\"y0\":0,\"y1\":1,\"yref\":\"y domain\"},{\"fillcolor\":\"yellow\",\"line\":{\"width\":0},\"opacity\":0.3,\"type\":\"rect\",\"x0\":212.0,\"x1\":221.0,\"xref\":\"x\",\"y0\":0,\"y1\":1,\"yref\":\"y domain\"},{\"fillcolor\":\"red\",\"line\":{\"width\":0},\"opacity\":0.2,\"type\":\"rect\",\"x0\":204.2170402325708,\"x1\":230.1569435072666,\"xref\":\"x\",\"y0\":0,\"y1\":1,\"yref\":\"y domain\"}],\"annotations\":[{\"showarrow\":false,\"text\":\"Mean\",\"x\":217.1869918699187,\"xanchor\":\"right\",\"xref\":\"x\",\"y\":1,\"yanchor\":\"top\",\"yref\":\"y domain\"},{\"showarrow\":false,\"text\":\"Median\",\"x\":216.0,\"xanchor\":\"left\",\"xref\":\"x\",\"y\":1,\"yanchor\":\"top\",\"yref\":\"y domain\"},{\"showarrow\":false,\"text\":\"Range\",\"x\":231.0,\"xanchor\":\"right\",\"xref\":\"x\",\"y\":1,\"yanchor\":\"top\",\"yref\":\"y domain\"},{\"showarrow\":false,\"text\":\"IQR\",\"x\":221.0,\"xanchor\":\"right\",\"xref\":\"x\",\"y\":1,\"yanchor\":\"top\",\"yref\":\"y domain\"},{\"showarrow\":false,\"text\":\"\\u00b12 SD\",\"x\":230.1569435072666,\"xanchor\":\"right\",\"xref\":\"x\",\"y\":1,\"yanchor\":\"top\",\"yref\":\"y domain\"}]},                        {\"responsive\": true}                    ).then(function(){\n",
       "                            \n",
       "var gd = document.getElementById('c2b352d2-0208-4638-a381-12a239903935');\n",
       "var x = new MutationObserver(function (mutations, observer) {{\n",
       "        var display = window.getComputedStyle(gd).display;\n",
       "        if (!display || display === 'none') {{\n",
       "            console.log([gd, 'removed!']);\n",
       "            Plotly.purge(gd);\n",
       "            observer.disconnect();\n",
       "        }}\n",
       "}});\n",
       "\n",
       "// Listen for the removal of the full notebook cells\n",
       "var notebookContainer = gd.closest('#notebook-container');\n",
       "if (notebookContainer) {{\n",
       "    x.observe(notebookContainer, {childList: true});\n",
       "}}\n",
       "\n",
       "// Listen for the clearing of the current output cell\n",
       "var outputEl = gd.closest('.output');\n",
       "if (outputEl) {{\n",
       "    x.observe(outputEl, {childList: true});\n",
       "}}\n",
       "\n",
       "                        })                };                });            </script>        </div>"
      ]
     },
     "metadata": {},
     "output_type": "display_data"
    }
   ],
   "source": [
    "import plotly.express as px\n",
    "import plotly.graph_objects as go\n",
    "import seaborn as sns\n",
    "import pandas as pd\n",
    "\n",
    "# Load the penguins dataset\n",
    "penguins = sns.load_dataset('penguins')\n",
    "\n",
    "# Function to create histograms with statistical annotations\n",
    "def create_histogram_with_stats(species):\n",
    "    # Filter data for the specific species\n",
    "    data = penguins[penguins['species'] == species]\n",
    "    flipper_length = data['flipper_length_mm'].dropna()\n",
    "\n",
    "    # Calculate statistics\n",
    "    mean = flipper_length.mean()\n",
    "    median = flipper_length.median()\n",
    "    min_val = flipper_length.min()\n",
    "    max_val = flipper_length.max()\n",
    "    std_dev = flipper_length.std()\n",
    "    q1 = flipper_length.quantile(0.25)\n",
    "    q3 = flipper_length.quantile(0.75)\n",
    "\n",
    "    # Create histogram\n",
    "    fig = px.histogram(flipper_length, nbins=30, title=f'Flipper Length for {species}')\n",
    "    \n",
    "    # Add vertical lines for mean and median\n",
    "    fig.add_vline(x=mean, line_dash=\"dash\", line_color=\"green\", annotation_text=\"Mean\", annotation_position=\"top left\")\n",
    "    fig.add_vline(x=median, line_dash=\"dot\", line_color=\"blue\", annotation_text=\"Median\", annotation_position=\"top right\")\n",
    "\n",
    "    # Add vertical rectangles for range, IQR, and two standard deviations\n",
    "    fig.add_vrect(x0=min_val, x1=max_val, fillcolor=\"gray\", opacity=0.1, line_width=0, annotation_text=\"Range\", annotation_position=\"top right\")\n",
    "    fig.add_vrect(x0=q1, x1=q3, fillcolor=\"yellow\", opacity=0.3, line_width=0, annotation_text=\"IQR\", annotation_position=\"top right\")\n",
    "    fig.add_vrect(x0=mean-2*std_dev, x1=mean+2*std_dev, fillcolor=\"red\", opacity=0.2, line_width=0, annotation_text=\"±2 SD\", annotation_position=\"top right\")\n",
    "\n",
    "    fig.update_layout(xaxis_title=\"Flipper Length (mm)\", yaxis_title=\"Count\")\n",
    "    \n",
    "    return fig\n",
    "\n",
    "# Generate plots for each species\n",
    "species_list = penguins['species'].dropna().unique()\n",
    "for species in species_list:\n",
    "    fig = create_histogram_with_stats(species)\n",
    "    fig.show()"
   ]
  },
  {
   "cell_type": "markdown",
   "id": "29540adc",
   "metadata": {},
   "source": [
    "#### 2. Transition your ChatBot session from the previous problem to repeat the previous problem, but this time using _seaborn_ **kernel density estimation** (KDE) plots to produce the desired figures organized in row of three plots<br>\n",
    "\n",
    "<details class=\"details-example\"><summary style=\"color:blue\"><u>Further Guidance</u></summary>\n",
    "    \n",
    "**Time Management Warning**: it takes a long time to make a figure, whether you're working with a ChatBot, or building it from scratch based on trial and error changes with your code. ChatBots remove the need to understand the detailed nuances of data visualization library arguments and construction procedures. But after you've passed the 30 minute range of effort working with your ChatBot for this problem to try to get what you want, then your only options are to start a new session and hope for a smoother experience based on improved clarity of your directions, or submit what you have along with a brief note highlighting the duration in your chatlog history where your efforts to make progress did not produce the desired outcome.\n",
    "    \n",
    "> The `seaborn` library extends `matplotlib` so [_ax.axhspan(...)_](https://matplotlib.org/stable/gallery/subplots_axes_and_figures/axhspan_demo.html#sphx-glr-gallery-subplots-axes-and-figures-axhspan-demo-py) or [_ax.fill_between(...)_](https://matplotlib.org/stable/gallery/lines_bars_and_markers/span_regions.html) from `matplotlib` could be combined with the [_seaborn_ KDE plot](https://seaborn.pydata.org/generated/seaborn.kdeplot.html)... this might be something to share with your ChatBot if it [tries to keep using _plotly_ or a KDE function rather than a _plotly_](https://github.com/pointOfive/stat130chat130/blob/main/CHATLOG/wk3/GPT/SLS/00001_gpt3p5_plotlyseaborn_plotting.md) plotting functionality...\n",
    "> \n",
    "> - _When using a ChatBot, if the code provided by your ChatBot results in an error, show the error to your ChatBot and iterate this process with the adjusted \"fixed\" code provided by the ChatBot... this process usually converges some something workable that's pretty close to what you were going for_\n",
    "> - _**Also consider the ways that you might be able to split up the instructions for the ChatBot into multiple steps, creating a sequence of additional directions and extensions along the way as you mold the figure more and more into a form increasingly matching your desired output.**_\n",
    "> - And don't forget, a ChatBot can explain what how code it provides works, if you ask it to...\n",
    "> \n",
    "> The technical details of the following are beyond the scope of STA130, but if you were interested, you could very briefly examine the [_seaborn_ themes](https://seaborn.pydata.org/tutorial/aesthetics.html) based on `sns.set_style()` and `sns.set_theme()` and [_colors_](https://seaborn.pydata.org/tutorial/color_palettes.html) based on the `palette` parameter, e.g.,\n",
    "> \n",
    "> ```python\n",
    "> sns.set_style(\"whitegrid\") # sns.set_style(\"dark\")\n",
    "> # `sns.set_palette()` exists but functions often access and set that directly\n",
    "> sns.boxplot(..., hue='column', palette=\"colorblind\") \n",
    "> ```    \n",
    "> \n",
    "> and then attempt to interact with the ChatBot to change the coloring of the figure to something that you like and looks more clear to you... \n",
    "\n",
    "</details>\n"
   ]
  },
  {
   "cell_type": "code",
   "execution_count": 3,
   "id": "0805e915",
   "metadata": {},
   "outputs": [
    {
     "data": {
      "image/png": "[encoded data removed]",
      "text/plain": [
       "<Figure size 1800x500 with 3 Axes>"
      ]
     },
     "metadata": {},
     "output_type": "display_data"
    }
   ],
   "source": [
    "import seaborn as sns\n",
    "import matplotlib.pyplot as plt\n",
    "import numpy as np\n",
    "\n",
    "# Load the penguins dataset\n",
    "penguins = sns.load_dataset('penguins')\n",
    "\n",
    "# Define function to plot KDE with annotations\n",
    "def plot_kde_with_stats(ax, data, species):\n",
    "    # Calculate statistics\n",
    "    mean = data.mean()\n",
    "    median = data.median()\n",
    "    min_val = data.min()\n",
    "    max_val = data.max()\n",
    "    std_dev = data.std()\n",
    "    q1 = data.quantile(0.25)\n",
    "    q3 = data.quantile(0.75)\n",
    "\n",
    "    # Plot KDE\n",
    "    sns.kdeplot(data, ax=ax, fill=True)\n",
    "    \n",
    "    # Add vertical lines for mean and median\n",
    "    ax.axvline(mean, color='green', linestyle='--', label='Mean')\n",
    "    ax.axvline(median, color='blue', linestyle=':', label='Median')\n",
    "\n",
    "    # Add shaded areas for range, IQR, and ±2 SD\n",
    "    ax.axvspan(min_val, max_val, color='gray', alpha=0.1, label='Range')\n",
    "    ax.axvspan(q1, q3, color='yellow', alpha=0.3, label='IQR')\n",
    "    ax.axvspan(mean-2*std_dev, mean+2*std_dev, color='red', alpha=0.2, label='±2 SD')\n",
    "\n",
    "    ax.set_title(f'Flipper Length KDE for {species}')\n",
    "    ax.set_xlabel('Flipper Length (mm)')\n",
    "    ax.set_ylabel('Density')\n",
    "    ax.legend()\n",
    "\n",
    "# Prepare the figure\n",
    "fig, axes = plt.subplots(1, 3, figsize=(18, 5), sharey=True)\n",
    "\n",
    "# Generate plots for each species\n",
    "species_list = penguins['species'].dropna().unique()\n",
    "for ax, species in zip(axes, species_list):\n",
    "    flipper_length = penguins[penguins['species'] == species]['flipper_length_mm'].dropna()\n",
    "    plot_kde_with_stats(ax, flipper_length, species)\n",
    "\n",
    "plt.tight_layout()\n",
    "plt.show()"
   ]
  },
  {
   "cell_type": "markdown",
   "id": "eab89605",
   "metadata": {},
   "source": [
    "#### 3. Search online for some images of **box plots**, **histograms**, and **kernel density estimators** (perhaps for the same data set); describe to a ChatBot what you think the contrasting descriptions of these three \"data distribution\" visualization methods are; and then see if the ChatBot agrees and what \"pros and cons\" list of these three \"data distribution\" visualization methods your ChatBot can come up with; finally, describe your preference for one or the other and your rationale for this preference<br>\n",
    "\n",
    "<details class=\"details-example\"><summary style=\"color:blue\"><u>Further Guidance</u></summary>\n",
    "\n",
    "> The details of the [\"kernel\"](https://en.wikipedia.org/wiki/Kernel_density_estimation) and how it works in [kernel density estimation](https://plotly.com/python/violin/#split-violin-plot) are beyond the scope of STA130; but, there is typically a so-called \"bandwidth\" **argument** (e.g., `bw_adjust` in [_seaborn_](https://stackoverflow.com/questions/37932283/confusion-with-bandwidth-on-seaborns-kdeplot)) that \"controls the width of the kernel\" which is analgous to the \"number of bins parameter\" of a histogram (e.g., `nbins` in [_plotly_](https://www.google.com/search?client=safari&rls=en&q=plotly+nbins&ie=UTF-8&oe=UTF-8))  <!-- 4. Report on your preferences between `plotly` and `seaborn` in terms of usability and the general visual aestetics -->\n",
    "> \n",
    "> _Don't forget to ask for summaries of your ChatBot session(s) and paste these into your homework notebook (including link(s) to chat log histories if you're using ChatGPT)_\n",
    "    \n",
    "</details>"
   ]
  },
  {
   "cell_type": "markdown",
   "id": "8a42b8ac",
   "metadata": {},
   "source": [
    "chat link:Histogram Annotations - Poe  https://poe.com/chat/3mv7gw02e2lv14fh24h\n",
    "advantage(in chatbot):\n",
    "box plots:\n",
    "Summary Statistics: Clearly display median, quartiles, and potential outliers.\n",
    "Comparison: Easy to compare distributions across different categories.\n",
    "Outlier Detection: Identifies outliers effectively.\n",
    "histograms:\n",
    "Distribution Visualization: Clearly shows the shape of the data distribution.\n",
    "Frequency: Provides an intuitive understanding of how data is spread across different values.\n",
    "kernel density estimators:\n",
    "Smooth Curve: Provides a smooth, continuous estimate of the probability density function.\n",
    "Trend Identification: Helps in identifying the overall trend and concentration of data.\n",
    "\n",
    "disadvantage:\n",
    "box plots:\n",
    "Simplicity: May oversimplify the data by not showing the underlying distribution.\n",
    "Skewness and Modality: Doesn't provide detailed information about skewness or multiple modes.\n",
    "histograms:\n",
    "Bin Sensitivity: The appearance can vary significantly based on bin size and boundaries.\n",
    "Data Loss: Exact data points are not visible, only frequency within bins.\n",
    "kernel density estimators:\n",
    "Bandwidth Sensitivity: The choice of bandwidth affects the smoothness; too large can oversmooth, too small can undersmooth.\n",
    "Interpretation: May be less intuitive for those unfamiliar with probability density functions.\n",
    "\n",
    "MY PERFER:kernel density estimators\n",
    "reason:Kernel density estimation fully utilizes the information of the data itself, avoiding the subjective introduction of prior knowledge, thus enabling the maximum approximation of sample data (relative to parameter estimation). The diverse kernel functions also provide choices for practical applications, but there are some issues with bandwidth selection. Of course, the above derivation can provide some directions for bandwidth selection. As for implementation, sklearn kernel Scipy has implemented kernel optimization for kernel density estimation, which should be a good choice."
   ]
  },
  {
   "cell_type": "markdown",
   "id": "fa8cc949",
   "metadata": {},
   "source": [
    "#### 4. Run the code below and look at the resulting figure of distrubutions and then answer the following questions\n",
    "\n",
    "1. Which datasets have similar means and similar variances\n",
    "2. Which datasets have similar means but quite different variances\n",
    "3. Which datasets have similar variances but quite different means\n",
    "4. Which datasets have quite different means and quite different variances\n",
    "    \n",
    "<details class=\"details-example\"><summary style=\"color:blue\"><u>Further Guidance</u></summary>\n",
    "    \n",
    "> Can you answer these questions immediately? If not, first review what the basic ideas of **sample means** and **sample standard deviations** (and **sample variances**) are. Their mathematical definitions are given below, and are useful for understanding the intuition of these concepts in terms of \"averages\" of things, like \"observations\" or \"squared differences\" (and then perhaps square-rooted). But there are other ways to \"intuitively visually\" understand **sample means** and **sample standard deviations** (and **sample variances**) which a ChatBot would be able to discuss with you.\n",
    ">\n",
    "> - sample mean $\\displaystyle \\bar x = \\frac{1}{n}\\sum_{i=1}^n x_i$ \n",
    "> - sample variance $\\displaystyle s^2 = \\frac{1}{n-1}\\sum_{i=1}^n (x_i-\\bar x)^2$\n",
    "> - sample standard deviation $\\displaystyle s = \\sqrt{s^2}$\n",
    ">\n",
    "> It's potentially maybe possible that you or a ChatBot could answer these questions by looking at the code that produced the data you're considering. But if you're trying to check and understand things that way, you should instead consider just calculate the statistics that answer the questions themselves...\n",
    "> - `np.mean(df.col)` or `df.col.mean()`\n",
    "> - `np.std(df.col, dof=1)` / `np.var(df.col, dof=1)` or `df.col.std(dof=1)` / `df.col.var(dof=1)`\n",
    ">\n",
    "> _If you are resorting to calculating the statistics that answer the questions, try to understand the answers after you have them... just getting the \"right\" answers kind of defeats the point of this exercise..._\n",
    ">\n",
    "> - The difference between trying to answer this question using the code that produced the data versus calculating the statistics from the data comes down to the difference between **parameters** and **statistics**, but this will be discussed in the lecture... in the meantime, howevever, if you're curious about this... you could consider prompting a ChatBot to explain the difference between **parameters** and **statistics**...\n",
    ">     - ... this would naturally lead to some discussion of the relationship between **populations** and **samples**, and from there it would only be a little further to start working to understand the relationship between **statistics** and **parameters** and how they connect to *populations* and *samples* (and hence each other)...    \n",
    "    \n",
    "</details>  "
   ]
  },
  {
   "cell_type": "code",
   "execution_count": 4,
   "id": "2c149e5f",
   "metadata": {
    "scrolled": true
   },
   "outputs": [
    {
     "data": {
      "application/vnd.plotly.v1+json": {
       "config": {
        "plotlyServerURL": "https://plot.ly"
       },
       "data": [
        {
         "marker": {
          "line": {
           "color": "black",
           "width": 1
          }
         },
         "name": "A",
         "nbinsx": 30,
         "type": "histogram",
         "x": [
          6.554671436134939,
          7.9038637205560995,
          2.654150502420687,
          6.510905691327757,
          2.3516039944355605,
          5.131222858286952,
          7.236200804784824,
          1.8087636413979935,
          9.395342899073713,
          2.557240595324429,
          1.0712397830373332,
          3.958622549551877,
          8.126720382500682,
          1.401190968907744,
          2.2140392481656903,
          0.6033289899929761,
          1.8930294521273694,
          7.003216887004821,
          8.211372793872334,
          8.113560589951245,
          3.6143011931483295,
          9.634025662873889,
          4.44659853680866,
          5.820228692541538,
          6.176419882445712,
          7.013513292436576,
          2.1823379556844613,
          4.497886577185896,
          9.294045965717483,
          2.9032365751472766,
          1.7204326703894224,
          3.142695291089359,
          6.711732280622237,
          8.727019936133908,
          1.8601883971543232,
          7.798243761747568,
          2.2501703712075125,
          6.532786719111191,
          5.7756103141446715,
          7.525268060786672,
          0.17065387929129483,
          8.617903397897308,
          4.047403302450457,
          0.8944414448768268,
          3.7122442322190787,
          4.555951370316482,
          5.822027367473464,
          3.2068468099682033,
          5.540403497164197,
          8.281487810872683,
          7.81681162545339,
          1.5890960538423637,
          4.1496506941649915,
          5.458555767136966,
          4.331689771805889,
          0.2702436214294479,
          1.2778082804660962,
          6.654296589916536,
          8.22530952607071,
          2.9661014537355435,
          6.966695727197748,
          0.9432324971189077,
          7.789597193356853,
          4.240229695874154,
          4.986927437525371,
          0.46096558250602104,
          4.033623435953744,
          3.482075459013305,
          8.867492748623567,
          9.896576681367758,
          1.145001006659404,
          0.8951314656125586,
          5.031034398940991,
          8.14199504571281,
          5.894994336207069,
          2.2030642516855514,
          0.7458056227939158,
          7.74959178540768,
          5.9675791411413295,
          3.861632818029789,
          0.7925886429298523,
          6.711338074817858,
          7.624351851880337,
          2.4300444377557007,
          2.1578284186510643,
          6.971395921255103,
          0.4915253213906956,
          7.876277977849282,
          6.498453388501179,
          2.6637956404064256,
          6.105718853919221,
          7.323872683594912,
          4.247176470054103,
          6.861051026119183,
          0.5289826640765039,
          3.4290760012697454,
          4.223402358438639,
          8.96510445342139,
          2.1012753554794026,
          7.238110499889202,
          4.471379205393154,
          0.7649974120449043,
          3.4332042243784953,
          2.165270772080582,
          0.09578685460983505,
          0.9641176855700262,
          8.164522483916022,
          5.2612071001119585,
          1.768837919487617,
          4.469406659017111,
          9.717528499806972,
          8.225393105265232,
          5.136197467996023,
          4.525162593302269,
          7.69299731187847,
          7.715431986247033,
          5.302534339714012,
          2.3394808505428175,
          3.1999311754899895,
          9.106744693246915,
          9.413872268969874,
          5.094944227971885,
          3.462818891308589,
          5.47002964108964,
          3.6193115987780833,
          6.539299619246892,
          5.342118152049594,
          2.8183497548790304,
          9.90329843517216,
          0.9644635591982431,
          1.8961351352603661,
          5.584638847104637,
          3.020806635936016,
          6.755868261757444,
          4.634643771734321,
          5.030307963398847,
          7.691876426069005,
          1.588173647008173,
          9.49954121338943,
          7.630651641153054,
          8.72632373317603,
          6.668122622149215,
          9.17237070331743,
          7.202238458200716,
          2.594090690717853,
          1.4677884884142445,
          5.680526178505819,
          9.414685551429255,
          3.9902801340790495,
          1.8351888724864085,
          4.084276403654881,
          2.8313573714269156,
          6.973609001501359,
          0.6203511895328107,
          3.2209565629631975,
          3.9814087619872685,
          5.513819674325405,
          9.148923290357407,
          2.242233766905155,
          6.792974860841927,
          5.816558071681259,
          3.6436931752226642,
          8.822690053797672,
          9.699471830851927,
          3.1203146519796765,
          7.106161893237546,
          1.1573084622409813,
          9.159040967264048,
          6.5461568049499395,
          4.273018712652311,
          0.036873370274073114,
          1.3860028566331684,
          1.5844608036582541,
          7.1260707262467085,
          9.859207528068136,
          1.9058782089748616,
          9.522028771703143,
          2.601425241196335,
          4.543719430370193,
          1.772728763399526,
          3.866242130291501,
          3.906672393085009,
          1.6609218571084294,
          5.9411613494769275,
          8.431141442260643,
          6.927843729611216,
          4.329532818241786,
          9.982809459047086,
          2.102330640807838,
          8.854843013924397,
          9.873523656965904,
          9.816201766834814,
          3.007061259228662,
          4.221812353953013,
          1.1634193414017613,
          5.498689923191384,
          1.1006703132518625,
          7.647851791875561,
          9.58954587729892,
          6.68157952795336,
          2.3477279186986664,
          2.1665384032016655,
          0.7628851719756624,
          0.42395720171387485,
          4.003590255402703,
          9.670682897358398,
          3.553117952072229,
          2.0370759333409536,
          6.2392244114451,
          2.33060697670324,
          1.7337957200310905,
          2.946650909891945,
          3.151779603601935,
          0.8449013681726736,
          4.762568249540352,
          9.159958025762412,
          0.03420367859435891,
          6.6575787515311315,
          2.2707908921823936,
          9.031004534541502,
          4.764880189333164,
          8.974453388622997,
          0.6675701635828901,
          1.218976705649072,
          2.914334321947792,
          3.0035469909074717,
          9.713221046568274,
          3.9255176254113078,
          4.382772571551624,
          3.9800278459864016,
          3.190588519777251,
          0.43246245522369997,
          9.923263581329323,
          9.604738209093753,
          9.211872563892214,
          2.855348013843273,
          6.1222804935713455,
          3.466131280127666,
          5.764360542391604,
          0.45942786310625205,
          0.24198509020611825,
          7.8725882142320245,
          3.049123593079184,
          3.6008681792491704,
          2.4746261229664688,
          4.8740296562270995,
          7.759792832962496,
          9.92742215425488,
          3.7052527781260003,
          1.6457627937457409,
          0.7357806696467639,
          5.554250436779567,
          6.305333088682197,
          6.091630833812472,
          2.23489093873648,
          8.176755950470424,
          0.8815628874832293,
          2.188004419584406,
          2.5274491624920756,
          2.2883991018217467,
          2.426705994881927,
          4.936410873916652,
          5.881209984522263,
          3.660766177074609,
          3.977635662955147,
          8.67121117524831,
          1.9222472276586466,
          8.864898601086397,
          9.926765446242449,
          4.560978431520326,
          3.7391926678759857,
          5.736339885785688,
          2.535655053732052,
          8.40794482406695,
          0.410067673710236,
          9.63666257020134,
          7.898543573285304,
          4.962602920052729,
          6.633825982699141,
          4.304986469471609,
          7.415016359070644,
          6.843920542603021,
          4.523213802469462,
          0.31548420556059664,
          8.910444319191193,
          3.3547204353459525,
          3.357595651860029,
          0.7936630759426189,
          5.799271280735825,
          6.368227983351148,
          7.530569819860019,
          5.51326195046704,
          6.264568904399167,
          0.5907147653613742,
          5.251924386170468,
          1.405010890674756,
          7.019413807574676,
          6.714869405689219,
          9.438784783261546,
          0.6821061211664048,
          7.227694230475899,
          2.0996152647751143,
          0.7970541164697109,
          3.629801015827586,
          9.662764295006003,
          8.375627356910842,
          2.591283358022045,
          6.256296051906086,
          4.418816722275577,
          0.9754751824642316,
          6.737688173713221,
          7.160300224042787,
          1.421266705591786,
          5.318943807481831,
          4.7214159873572505,
          0.411680727090985,
          3.4364034056148562,
          8.795823434824474,
          5.371238019531375,
          5.583309079542852,
          4.404239563426817,
          9.689614865331546,
          8.460988825520529,
          0.3870058742108551,
          3.22246851131979,
          1.311774384311022,
          9.273103093075058,
          9.155568570723524,
          5.829690722018065,
          3.799554219567364,
          0.647153405433788,
          2.246190879398502,
          1.9906994346853946,
          1.808745104951307,
          4.680275813302108,
          8.899691712741554,
          5.921438162801783,
          4.383865204472866,
          6.70430002146209,
          5.4299009833994605,
          1.9192558812673777,
          9.669414471688087,
          4.887119734883287,
          1.456333883661386,
          7.020701684417191,
          9.209359416524608,
          8.697354429895485,
          0.939983678879327,
          4.532164247909193,
          6.7019072854538795,
          6.488096161693364,
          4.01672980168583,
          3.574294482220183,
          9.311539656690082,
          5.662479048625131,
          7.030319267070584,
          0.7851095402612229,
          0.059215202357152386,
          4.519403941581652,
          1.455472011313268,
          1.3148472945464706,
          7.627139414522394,
          4.651983718296493,
          4.018390415390874,
          9.492362418437935,
          0.6445188022683113,
          4.754509556899633,
          1.981330788854212,
          7.262825804551168,
          7.081430938682645,
          0.05223031553193702,
          3.438504428121271,
          7.648295221670144,
          1.6112976860103434,
          6.7876589373380565,
          1.2256347369441345,
          2.251317876472191,
          4.782062436754138,
          9.800983606527524,
          0.7164134504405806,
          9.083471731378621,
          8.972710224341734,
          9.32408695010055,
          1.4358234015866478,
          1.0999707974486606,
          7.987508320418101,
          7.507794448327379,
          0.37298404187897427,
          3.3855428373148158,
          5.276266438378855,
          2.853178451283358,
          1.0993589718948404,
          7.503981069477601,
          8.575301491714395,
          7.696508653072069,
          0.32059319430058797,
          1.5889138065163488,
          6.338201796368489,
          2.0951207254210114,
          3.3888234980275413,
          9.733825389296495,
          5.079440600485726,
          0.7761455029418485,
          6.351717844052642,
          8.854584071742885,
          7.842337709521434,
          2.718444744899371,
          8.104292161638059,
          4.297735902161125,
          5.0535600024091165,
          7.082900509034582,
          9.898326402423335,
          7.758359867213049,
          1.2338851174101717,
          3.890578365218318,
          6.455477128970273,
          2.9666046114082723,
          6.273162284183089,
          3.717468630085039,
          8.261273506368648,
          0.9663115936892797,
          2.371796039174038,
          8.463374265650662,
          0.27671692866630626,
          7.121907052376218,
          5.923641795846194,
          1.2644282548362007,
          6.900199486558893,
          5.481796140368573,
          0.6819189210910126,
          4.5859149100837024,
          1.3337108406057674,
          0.593727114931738,
          9.271295147131378,
          5.689548862199442,
          1.5753696718887078,
          8.590748357457676,
          2.228910880395013,
          5.04111732409574,
          8.171503985595098,
          7.218174187181736,
          4.428307818650135,
          9.77464506644377,
          5.288896816158571,
          3.280209751222074,
          8.706662913698505,
          4.139428832014999,
          8.344713568211809,
          2.3505407368857423,
          4.693333218950829,
          8.04841622724172,
          5.424809005909291,
          9.099041921630068,
          6.67704774037013,
          8.411094111539402,
          5.30072615149943,
          7.830194232690362,
          1.5888053250494882,
          9.220856127828945,
          9.893712769898627,
          1.8995824139192774,
          7.383361784766835,
          5.781244528442201,
          8.069118085176681,
          3.1057087991988217,
          1.9121997851242167,
          1.0804557577302742,
          1.8494029213373386,
          4.941710271524395,
          2.7275436080664406,
          3.95168361625709,
          8.458256626993153,
          5.49706550622493,
          3.6192426589669213,
          7.38435036115931,
          1.1363582851747123,
          2.3510726906778623,
          4.2235598695450065,
          1.3590546125223113,
          8.882137152638855,
          4.414502733280688,
          7.572448309268655,
          0.9949749077275827,
          4.501123852135638,
          3.617299764509313,
          2.2081061259737575,
          0.6688953254701158,
          5.594793391396626,
          9.261194564580007,
          6.241908241410568,
          4.790462577711462,
          2.8153162538284504,
          8.60642008501154,
          0.8187947331882384,
          5.998921724747599,
          2.7019776992482356,
          2.914671198804575,
          7.4692332463901945,
          5.132281412257537,
          1.813564861019994,
          1.4258730568569111,
          5.121585365909311,
          6.784323404758947,
          4.795596482802276,
          8.323686480242941,
          5.2155758959641165,
          6.960446987745477,
          1.3351708324090827,
          8.296487998700727,
          5.022315555835971,
          2.556278850440883,
          1.4202841585429882,
          7.9423828881353575,
          4.331733043450576,
          1.2294731772357126,
          7.071123336808684,
          9.238607533679055,
          0.9613325693268826,
          9.52733511501506,
          4.321240179957595,
          8.390066201716476,
          8.95309963275783,
          2.501051247348658,
          8.829655111696507,
          6.292965412566193,
          5.014967941300065,
          0.19561938815140234,
          2.355462352316575,
          7.548855019094316,
          8.540889748640891,
          1.934691365049519,
          4.015958883191323,
          5.304059157749378,
          5.4109485335967635,
          7.434019127212586,
          6.885875912404748,
          4.463184296776761,
          8.346744561816447,
          9.623386408325231,
          7.995853051077218,
          5.897672758762064,
          2.153751918077942,
          4.827944018514115,
          1.707858925488125,
          1.6012561090622146,
          2.4061831964967073,
          0.5199177704963143,
          8.090678242171123,
          5.242439348201188,
          6.848038653799938,
          2.134547518139419,
          3.5051523403609863,
          6.83246619660244,
          3.5400140130375854,
          1.3506395743440935,
          6.472086258139602,
          7.5834441895709,
          7.913651053583845,
          5.893740773805809,
          2.7607657958171905,
          2.2488130347125557,
          6.258979948756669,
          4.942322696043561,
          9.932622577970193,
          8.678513685988383,
          4.511468720054546,
          6.825965802728251,
          0.9003770304691128,
          1.1298958043817797,
          4.002810850898824,
          4.485457121010068,
          1.1592335687714028,
          9.117989024847418,
          1.6249622110199735,
          0.5394083647373626,
          4.158807724490004,
          4.263046973314431,
          2.2485604979012273,
          2.60382616366749,
          0.7801520435754106,
          3.2678722057664755,
          9.962055751933768,
          4.140256502198859,
          2.3712573344384156,
          4.459019042281648,
          9.488531649980892,
          9.91556773612057,
          1.9872343366391132,
          3.994968531338663,
          2.1760032515352368,
          0.7143223280598043,
          7.623612011517419,
          8.803665190590532,
          3.490498999188719,
          8.45665524277594,
          7.3938684743966405,
          5.8738942172809985,
          4.922309420589715,
          1.4435948691541989,
          8.19266702712285,
          8.965604237115336,
          7.52340779168741,
          2.408484266804428,
          6.450663825579221,
          5.1480780167443205,
          1.927606662201209,
          0.6740025963137342,
          3.575580041930766,
          4.326000139367736,
          7.278986064585659,
          8.000593164848937,
          2.935214608184328,
          2.691722861770127,
          6.084450986929903,
          2.3391814698823,
          3.372657327592077,
          0.7279978391483333,
          5.446623543860003,
          8.420329647664328,
          1.2008129615180485,
          2.5314642349271086,
          9.1786167863523,
          2.214088309025013,
          2.17414276694037,
          0.414369163979722,
          5.6940433570871996,
          4.239937166788522,
          4.644004382215251,
          6.305043637514354,
          8.583335302821002,
          0.8218113989040743,
          2.876220256933025,
          6.832890171321694,
          3.4641740952080005,
          3.943620355157779,
          9.835552824063056,
          0.7930166584871423,
          0.6457710807926487,
          3.4398864561368727,
          8.780927264249199,
          6.981474814194319,
          2.2771243831415475,
          2.2736330248109238,
          0.9451405373118427,
          5.910019842122307,
          2.769483283344447,
          7.813854022759001,
          8.719533730173165,
          6.680429418371413,
          3.302867507449758,
          7.39155692181546,
          1.4844897409918023,
          7.268533879445121,
          9.43888457534811,
          6.171455536312621,
          1.6479164735197194,
          9.437559162148695,
          6.410268157020001,
          2.0608863237884134,
          1.6071316272773306,
          0.405578528802637,
          3.9963023044627413,
          9.557429778396793,
          2.587622460787873,
          2.4385743511758062,
          4.377953975265157,
          7.212665272951455,
          9.038072434300155,
          6.112117227320999,
          3.5182100705929265,
          6.105966828759812,
          9.737776692685248,
          0.11671516840967344,
          9.973223825398106,
          2.2098252064668253,
          4.983106493953033,
          9.238817066234072,
          8.95641773491835,
          9.627093188156078,
          4.954578420293751,
          8.985913534381528,
          1.7890172878098398,
          1.932916049873048,
          1.7972550349518113,
          8.442483939842147,
          6.5932764089506515,
          3.7750932863551476,
          7.4526081981311085,
          3.8945065033016144,
          3.9130267004316055,
          8.02243368715321,
          5.166354314134466,
          0.5946798787420926,
          7.204065306613284,
          2.7053827634932572,
          6.962373738196382,
          2.106964558904635,
          9.164197462989481,
          8.927745238972582,
          7.012206220062421,
          1.8654216060660789,
          2.2274594809079993,
          0.848629100392283,
          7.102254245402322,
          1.0308178572420956,
          6.625394684089332,
          6.547557685644523,
          5.969155380626719,
          9.695077864269628,
          2.0757165389629026,
          3.88083578027713,
          9.970841147952449,
          6.927869995527676,
          8.298738498017105,
          2.2434354540379795,
          5.332526925187288,
          1.895735827101146,
          0.5485363958570666,
          7.565875360184389,
          7.537734876339365,
          4.11047980680256,
          5.99146964031684,
          3.02957123206372,
          5.446437868381558,
          8.380788706915336,
          8.165605024436672,
          9.391493325911716,
          9.595994360929328,
          7.5172833637107725,
          9.985952973290175,
          1.9091473124385827,
          8.9183938917434,
          4.665808334491125,
          3.342839490016263,
          0.15748180076620155,
          1.7277926074710737,
          4.988076517307707,
          5.7354125307429,
          9.657041447032617,
          2.9326822377542205,
          2.9813585727336878,
          6.643881507814192,
          1.4831269121731527,
          0.8754943348387489,
          2.662716517968672,
          9.7839337234413,
          2.904506939143751,
          2.458945708831526,
          3.209843278860215,
          1.6836102050226842,
          0.6402512253457282,
          5.254837613038045,
          8.100419371917647,
          6.272632365368206,
          1.773038526753875,
          0.007063371026745369,
          2.695538889843795,
          7.1371443254424305,
          5.675687571496865,
          4.29966413148367,
          7.700983846809361,
          3.898457266647073,
          4.279936198235158,
          5.995057889244459,
          9.447774649871638,
          2.6776121073463157,
          2.107964024773273,
          7.954614775816269,
          2.654318192723254,
          7.109934059524249,
          1.3427095839349135,
          9.657281012146637,
          7.092908426240721,
          3.7502161963378566,
          2.183660686568981,
          0.5210737509368357,
          6.818676869443325,
          2.9029231309205694,
          6.606692382776585,
          8.841859581789773,
          1.9080424809557561,
          6.84030030355968,
          1.9023616260364096,
          7.498790194883853,
          2.0076393338920195,
          4.253206831755615,
          7.443550226710779,
          8.92246175185474,
          1.0382980951615695,
          7.802329165612791,
          9.768799499138808,
          3.7943055513306034,
          0.9468368170370989,
          5.622983265929758,
          9.53905078434093,
          9.252802481133157,
          3.3606464132078107,
          1.2488126441398217,
          7.215781273048884,
          6.451077255662986,
          5.107857695966844,
          3.9317606054981438,
          1.1189821009935275,
          5.835157653451928,
          4.077229801572557,
          7.895905202205983,
          5.410480271751947,
          9.92636517291175,
          8.025822542326367,
          9.888490289177826,
          2.5523075181212542,
          1.3650643203153678,
          6.139425431269423,
          4.6414952599539525,
          3.1254217125929706,
          2.202098987329327,
          2.7643397480248675,
          8.144597527258727,
          8.55767633708533,
          4.482169411961813,
          5.737457575987534,
          3.8182685762579505,
          1.4455536850888162,
          3.209921317190554,
          8.165130953943239,
          2.300188896317874,
          5.214790548988395,
          1.0060067678531526,
          6.039857471772398,
          8.759061907887114,
          6.385853738578211,
          4.277050523362657,
          7.933589089819472,
          8.740869584045697,
          9.200113273062621,
          9.295013239819436,
          1.8726191366611655,
          2.5952858201026685,
          4.1094772088013904,
          0.9452798527654926,
          1.629289939000943,
          6.0829346583849375,
          8.165492261521157,
          7.9942526259710736,
          7.309464639673406,
          9.105038889056628,
          9.449215802174885,
          0.44840595060807176,
          2.997484199028362,
          0.45730796497321036,
          9.687199012256944,
          5.0269487439637395,
          7.758410608226658,
          5.891929830404382,
          1.3384128833873077,
          8.726191034450888,
          3.0079493214847752,
          3.1627929025226056,
          7.631125662356329,
          1.0896857336589094,
          6.159444127756551,
          7.3066473998561,
          8.615445465234918,
          4.009544997571986,
          9.135732433993033,
          0.6292848035382825,
          9.241266015062024,
          2.769395262277592,
          6.4123507375048,
          0.8606360800588408,
          6.957417954527049,
          1.2763868965488667,
          0.35292959708758564,
          4.427933283209212,
          5.195553006565067,
          4.033787342385521,
          7.855242533988552,
          1.7844469363103377,
          3.6472348694741874,
          3.952200675713542,
          4.9620998988481055,
          2.070634320931204,
          4.517792911823266,
          7.4458373087840615,
          1.55982432899203,
          6.57143256967028,
          7.408262392463763,
          5.964648404629037,
          9.39600342993792,
          1.725251053208774,
          8.814452301835031,
          5.670556460573582,
          1.8814673664669301,
          5.013722526600917,
          4.533875599556371,
          8.35088770707648,
          3.451188605273614,
          4.295414422079401,
          4.630265120060319,
          2.6693811575091555,
          4.524624888736649,
          8.669301864858202,
          4.121641768942159,
          5.976493678639994,
          6.027462105893916,
          1.8260786340141655,
          0.1340367942357279,
          6.3115051389144075,
          4.042453678455221,
          4.894182381183731,
          4.09189340489691,
          0.46101782918777423,
          7.483562895531746,
          8.070152067176009,
          0.42559507693021414,
          9.129356298739072,
          9.354179830979001,
          3.4000391586582523,
          4.926947346037268,
          1.1199598845675351,
          4.0339733610719,
          6.356357384376308,
          4.869117315298733,
          9.463014674936236,
          2.0297690706085914,
          0.19661159251192717,
          2.0574981894234865,
          3.282672612944184,
          6.222330380001436,
          0.10724936604852298,
          7.149864591395458,
          5.172444720049399,
          2.804140066269303,
          9.965526984179364,
          9.414412049533258,
          1.6468926738498324,
          8.724450513980456,
          6.234528390631579,
          7.886022203472628,
          5.741709137825454,
          1.4264903257654904,
          6.246195694841694,
          9.991699545201184,
          9.475544321432555,
          1.194507770677825,
          5.729726352660787,
          1.3017566240452327,
          5.2266191468985514,
          7.826311613454262,
          6.412608899189294,
          5.84185446020599,
          4.964369393491638,
          9.554085150031833,
          4.286568249905505,
          9.127682893748604,
          9.409265641450563,
          1.3533607457932795,
          0.964886225720335,
          5.012901321521502,
          6.0863910289059655,
          5.029541014599921,
          4.957320954012409,
          0.2896523419977315,
          8.880727757213501,
          9.958540022533096,
          6.3205961427314055,
          9.627649776920038,
          5.958579489990187,
          2.936584085449722,
          6.191758501987539,
          3.7428256135743188,
          1.464171734871943,
          4.655867641729351,
          0.3725387343093878,
          2.47211177124529,
          4.1156441250144145,
          2.9103763074394386,
          0.6358395759778968,
          2.0052833135527894,
          4.502465570983192,
          0.11164860966540457,
          9.629509681353412,
          5.774972823829537,
          6.90408748400182,
          3.1059661060877106,
          4.195991842667056,
          3.777677067453488,
          7.331299466276472,
          4.241995763105322,
          4.36530948473585,
          7.103809117895064,
          3.088986114057015,
          6.5269363995501415,
          4.919212786206954,
          9.907861723789976,
          1.7688723529536254,
          1.37454934574193,
          3.1846597970049717,
          2.399378290240147,
          8.842935439457563,
          2.5613197491472395,
          5.444501582180701,
          0.571169357513982,
          3.4334576234969205,
          6.5366523595756245,
          2.2444361125106562,
          6.708332177781334,
          1.2018850906473433,
          2.406932981605987,
          0.444762747694154,
          0.2463406008993052,
          1.799602081320062,
          0.24364200771756606,
          8.009631409996082,
          2.612989542139328,
          2.641658183966853,
          4.787360636862722,
          2.764067712944389,
          1.3050219580304423,
          0.4834343715537637,
          0.9691497702803697,
          9.760663433458957,
          7.173010182484814,
          5.34825543870851,
          5.478393713997937,
          3.906722889236982,
          6.3949121888143265,
          1.8359601249974256,
          9.421335465709204,
          4.451857388990722,
          4.411156729856611,
          3.7512087250363493,
          0.7358082912627173,
          2.183939177693338,
          4.11715842828017,
          8.084411954570562,
          0.8683937148391851,
          6.596172063234307,
          3.0214212589652867,
          4.81083081750897,
          6.189283959824684,
          7.317017871801097,
          8.912257492476908,
          0.06458938868444952,
          7.251794453486189,
          5.442794694152642,
          5.42174223793962,
          0.12056971628631175,
          4.6072599864449435,
          1.1775017209952998,
          7.822720342474637,
          7.919695480760032,
          9.161589369614191,
          9.286299355308193,
          2.2644964049399654,
          6.911321078087597,
          9.83344130087944,
          8.594029851349019,
          7.8921871240314525,
          7.159325408759538,
          9.655106301455183,
          1.4577007202103742,
          7.216674932271739,
          6.9427157099107815,
          0.7285544889573814,
          7.157662329640974,
          8.016712885634277,
          5.950028672672608,
          3.8678767651189294,
          3.7425069507059705,
          6.937464877652774,
          2.363636785365215,
          3.7260754204307345,
          4.748539507925022,
          9.502730151227874,
          3.9690420204108956,
          6.645752829389766,
          1.030311634335147,
          8.421810090802175,
          8.367714943682703,
          0.15223073085939287,
          9.657965115374143,
          9.79422032301862,
          2.0565251700848997,
          2.765965396264549,
          7.019461001830577,
          5.651907493147174,
          3.5258255975424992,
          4.168255005957759,
          2.963928938294904,
          2.0444310678100095,
          5.60112735031522,
          6.128336256143619,
          5.111725418260502,
          8.892775250300627,
          0.5444697711809143,
          0.13806467878906714,
          8.262095709219523,
          5.146488209106411,
          9.654801238563858,
          3.0512635035331326,
          1.3904193868593406,
          0.024325794221754515,
          1.7286842396103508,
          4.6274936711983425,
          8.27709229616821,
          0.8179553655537741,
          9.287855972970544,
          8.698446322564081,
          8.818931813654613,
          9.832387661839677,
          5.823789442461576,
          9.945557114652251,
          8.985239904517083,
          1.4318644716104334,
          5.590076765358527,
          2.572607265400275,
          9.119274818301733,
          7.681610933956678,
          2.2681506742738557,
          6.752659772363315,
          0.638316889246503,
          9.028122917251562,
          1.3171910437537304,
          4.453628801451227,
          9.587513436246795,
          5.734733729282633,
          0.26216007369948224,
          4.519331652597741,
          1.3930348331811204,
          0.4350228203619,
          5.488568772210371,
          1.7428953676632963,
          0.3398684738394431,
          5.884574283434446,
          4.013460739599069,
          0.9472351894477193,
          1.174190204576051,
          2.8640812999242335,
          5.5727918101055,
          8.567255932093596,
          2.7167759021649287,
          0.450285563498688,
          0.6315056254283469,
          8.324061625790067,
          5.948818271479225,
          2.3562641119394034,
          9.746873603229409,
          2.0994160266589965,
          7.7273665979568325,
          9.607527102397164,
          5.0628214346452,
          1.6598713590440772,
          2.7963262009422127,
          0.5874492630538319,
          2.606148397445499,
          0.8782308802117922,
          2.8063001565214227,
          7.0207571036431595,
          5.9681625029678065,
          1.73689461914458,
          5.0577132062268335,
          5.185473402383115,
          2.3330020500054904,
          6.21752657134847,
          0.4685483983539429,
          0.4322085415371846,
          3.841365270689263,
          8.33225540709756,
          1.9219965659840532,
          0.30126194600725187,
          5.890708013296159,
          1.9569655643455253,
          5.466409503095435,
          2.3965166510785894,
          2.222206987825508,
          6.07757868712954,
          2.368307856493521,
          4.770953356660154,
          3.459161666790258,
          8.529264388200929,
          2.8826158791988856,
          8.888684052219684,
          8.304503975460271,
          1.3231075805680625,
          8.154917244720567,
          3.9668923779102974,
          4.033444071056667,
          4.272081496502284,
          3.3866816266122415,
          4.4774942086024705,
          8.433789524022687,
          6.283621033175766,
          1.7659045252420114,
          3.153238301185378,
          2.381751070017782,
          4.744823900567847,
          1.2903806127752793,
          0.03461780005064918,
          6.260495309952678,
          6.160214111690542,
          2.767711178289063,
          0.4825528620306252,
          4.805897774367147,
          5.917803168431897,
          6.0253672060072025,
          8.502534001042287,
          5.427345455488977,
          4.079519591516357,
          4.678231974738471,
          5.280127510608462,
          4.541629398305943,
          7.5054565281351735,
          2.7519457885882104,
          6.832034315923991,
          3.7596861036274,
          6.947639704257375,
          5.537970190771031,
          0.4558813823931307,
          2.6990967092492326,
          8.45521493051326,
          2.9392116305129456,
          7.905965936129222,
          9.250894255265539,
          3.335569633137477,
          4.493535070579711,
          4.982184512783286,
          5.37660825943457,
          2.1503624226020337,
          3.175186181403662,
          6.682748704621028,
          7.6954256648568276,
          8.741398158582333,
          9.837995027570642,
          3.3630563728171414,
          3.883977834563895,
          9.446011410908564,
          9.24503916330136,
          9.48424838614596,
          5.248009651227347,
          6.11473538592956,
          2.883524951476163,
          9.753503643604303,
          7.162868233492694,
          4.9177790805207175,
          3.4392607630549463,
          7.114655606672345,
          4.568681697212905,
          0.14368004959514846,
          2.3883604796828264,
          6.0490241181538575,
          6.246470212509651,
          1.5916300720399712,
          8.161820770742233,
          4.360406368310398,
          7.089385144776217,
          7.447695106795952,
          2.60732621266196,
          3.6978362597545544,
          9.840744266990285,
          3.862752018165394,
          6.773375067034651,
          6.842039869884245,
          2.521242260567119,
          8.088146932278981,
          4.0374308641259296,
          1.7304024190612977,
          0.30927211012537925,
          2.820228513783344,
          1.0485239259618562,
          2.8613059166149855,
          1.1072583977868022,
          7.898154305911854,
          3.8247305595726266,
          4.305726449505817,
          9.187473074637992,
          3.336807090243891,
          1.1984264221688212,
          9.666432064000052,
          7.80846634321171,
          7.384407847161424,
          2.7080986172176114,
          6.695638806002613,
          5.8506088354168915,
          6.484876521361679,
          8.872278620272434,
          1.576302950584052,
          6.202695532811317,
          4.88142420767581,
          6.991706286182129,
          2.4879869690720327,
          3.7186694069812276,
          7.910471021972695,
          4.533419546646384,
          9.441761148783872,
          8.656894106679792,
          9.526708087037253,
          3.440890086349455,
          5.9703707576359735,
          1.53332893734757,
          7.382895322227875,
          4.762649518871229,
          4.62060566855543,
          5.049985905370132,
          6.020286895152182,
          9.154446367513714,
          6.403005567499522,
          5.249844049039542,
          6.809587138181582,
          1.8827605230051703,
          9.699369454870405,
          3.61333722860002,
          4.167723088216912,
          9.22373954215919,
          2.6154486111646227,
          5.3032654596014766,
          6.440916017984867,
          8.992879083031712,
          0.5844631181388493,
          4.696093926970622,
          1.0091483151576464,
          2.704992122113643,
          1.4208911114412304,
          5.7126893336448035,
          9.796260643780801,
          3.5201649821158574,
          6.2826011932826855,
          5.720193893728832,
          1.489693103160964,
          9.595349353892246,
          7.708226612150129,
          2.7589934709084307,
          0.5916866062965898,
          4.364139963080439,
          0.8450902023276219,
          0.8902844403903043,
          6.954826147368608,
          7.8515981203668765,
          7.427639360498461,
          0.19370724948559737,
          9.715203924781306,
          5.13848871899082,
          7.139000109264931,
          5.417547969637457,
          4.616096878176985,
          6.600114483103279,
          8.03212313729518,
          9.591782500391298,
          0.1261326160596843,
          7.37726595838353,
          5.899535231649637,
          4.818628932997412,
          1.1941453570977634,
          4.510799017205526,
          5.539867334815219,
          9.053824315913207,
          7.560417646009635,
          8.220536957557243,
          3.6325644534321864,
          8.166915945831349,
          0.18606528159201607,
          7.2958322432761396,
          0.8196075821470528,
          7.244114901836519,
          1.1320865612064135,
          3.797398544369978,
          9.621761272415586,
          7.95193044467802,
          1.2624141698868796,
          8.100766675915,
          1.7746089171449597,
          9.016660625827118,
          6.340041655778229,
          4.358137534111648,
          8.593919232163376,
          9.24064280773775,
          6.606002328004003,
          0.14251070766724827,
          1.4200283563914518,
          4.130347262790894,
          1.1960934314694904,
          5.200160512838283,
          9.07196802911235,
          3.791659056876676,
          5.28046308188984,
          8.175438438067562,
          9.43770796315128,
          0.12020908505237626,
          8.992812991975809,
          5.19633952047241,
          1.2489805369635898,
          0.7990066834202147,
          6.975919976611306,
          7.208074172624439,
          2.6332019920853975,
          0.2534092269696786,
          7.4453873165834805,
          7.983217268634836,
          1.9746494772601775,
          6.869117740191806,
          2.8046608061966074,
          0.6534570411307572,
          0.6256470528185964,
          7.773153914135326,
          7.444105174841411,
          5.5990356768003045,
          5.816889212100654,
          4.30267635809526,
          5.304084063676459,
          1.9656049107207962,
          2.59328284983829,
          8.905567206209874,
          6.707051681014553,
          1.51692361480103,
          4.834901707202355,
          7.666473081812396,
          8.49200821142312,
          5.029503986093914,
          6.93134163677734,
          2.761717841662411,
          0.4388827633369774,
          2.9874871567189523,
          6.749548064861614,
          8.429902452426944,
          5.019435564039075,
          1.3728868005220607,
          9.725703650810294,
          6.719428352249005,
          6.017333001499682,
          1.6795982936496068,
          4.592050405259891,
          5.963507707435108,
          4.510410928523802,
          8.992590051457858,
          5.52741704858817,
          6.598005929606407,
          4.317201740479309,
          5.18752426664455,
          4.379222550350991,
          0.941420928955301,
          8.00844035495596,
          2.1982493254915347,
          2.2105276237024873,
          6.636215941866438,
          1.0399662131615017,
          2.938403066466635,
          6.59276134648435,
          8.525023864049594,
          6.748611735378552,
          9.500609772121143,
          9.634825104840223,
          9.478107072568498,
          4.036800530132952,
          8.508802091912795,
          6.620704488474345,
          7.643137743955627,
          6.243902181142463,
          7.964117453163832,
          0.2279155052380588,
          0.6090675668474543,
          1.3579809593221526,
          1.595078995108734,
          1.7758089253976383,
          2.9043912732120294,
          8.889509810648203,
          9.20790109328035,
          4.408450135503717,
          4.538024368113684,
          1.0207932859534297,
          4.62272021878348,
          4.013647363377483,
          0.4223576498122239,
          5.62044734987638,
          6.496776716032865,
          9.131251498168458,
          5.094722644270578,
          1.385765316345856,
          3.0134349663776447,
          6.1050684430772115,
          1.1255020759134238,
          5.9310070143641305,
          5.252068098422338,
          1.623246187149614,
          5.706534795549426,
          1.6870392134815737,
          9.977622334887435,
          5.049576418923345,
          3.1735762314649616,
          8.439128094091924,
          5.026253310089894,
          1.0348621338415542,
          4.22297183280828,
          6.5560670600159945,
          8.079246619993855,
          8.431938229012713,
          9.749737222099736,
          5.746923121856607,
          5.428816292618768,
          7.42222539735271,
          2.500035860674764
         ],
         "xaxis": "x",
         "xbins": {
          "end": 10,
          "start": 0
         },
         "yaxis": "y"
        },
        {
         "marker": {
          "line": {
           "color": "black",
           "width": 1
          }
         },
         "name": "B",
         "nbinsx": 15,
         "type": "histogram",
         "x": [
          5.188493417980449,
          7.693265621970895,
          5.910309138432229,
          4.405337189911889,
          3.255623089553349,
          5.9475620954520405,
          6.394906966154524,
          4.991137282704828,
          5.967459302629539,
          1.8442485891611278,
          0.9386390558688618,
          5.088239707782361,
          6.326584936852953,
          4.386799773206867,
          5.160790350086585,
          3.6322618536799647,
          7.43864112962077,
          1.8776296811796156,
          4.889726301371528,
          4.598107133480713,
          8.171132387528928,
          5.059496412523731,
          6.458298053692759,
          5.128739822285685,
          6.902724122334171,
          5.172953626781432,
          6.20415537373106,
          5.704574475307309,
          3.3635904879288416,
          5.712923207801104,
          4.160694375557822,
          4.015421665090578,
          2.1094287361102824,
          6.1779721786814115,
          5.7835828924314745,
          5.434414493773589,
          3.0655971000150473,
          3.7954816294563947,
          5.892161906827264,
          7.5519133674611805,
          5.87963952638723,
          6.865914057258696,
          2.0889706847312075,
          5.069796358345669,
          6.436990225761123,
          6.28888556761262,
          4.565346786841974,
          4.908332116370966,
          2.9210144712362722,
          5.994850578807245,
          6.124548380869173,
          8.757060014266969,
          2.7747247761826,
          6.519126798497535,
          4.937480045934006,
          6.901102982301131,
          2.9732180699599504,
          3.7873694297306586,
          4.122585227947948,
          4.2822861264080165,
          5.496454361819296,
          4.756824337938965,
          5.019588067680721,
          2.874888827788544,
          3.5040039010097583,
          6.583570279489777,
          3.382749264472408,
          3.2955788133747017,
          4.598123111151744,
          4.325060721307088,
          3.624945805665746,
          8.124520755553393,
          3.034949155943576,
          3.708125005618999,
          5.177042004149551,
          6.7385488035238295,
          2.722194830415874,
          5.684265629134656,
          4.051879094788088,
          5.344855694543326,
          4.928823387368795,
          6.232710251483542,
          4.4755439994913955,
          9.359225619479268,
          5.26129668890373,
          3.960615339439938,
          7.404495745784827,
          6.912322336831719,
          2.9273480820002566,
          7.7941731525649285,
          7.075993281990037,
          3.7356452028174494,
          5.532128931036372,
          6.725480183584779,
          5.3134676885124925,
          2.317643220385066,
          4.577084157028007,
          6.059188071041027,
          4.927835401592296,
          4.745427727592801,
          3.2870780114627554,
          4.430263191478477,
          4.5837862147329975,
          6.02750605760637,
          4.704878393970011,
          4.601434836163584,
          5.365077032428976,
          4.216475959761316,
          3.1921892830141356,
          5.530314050893294,
          5.741562258972735,
          5.48972496670717,
          4.227920584237923,
          5.425693509287187,
          3.4534688848247206,
          5.1832180643910455,
          3.197461328824211,
          2.6658551518264852,
          4.1273126588340645,
          3.5291278313887875,
          5.516650393198395,
          3.9849802899251965,
          5.2057397209283565,
          4.845629056458661,
          5.712311502911519,
          3.7411916956822333,
          8.80147030580842,
          2.5680563373198035,
          5.829719936843647,
          4.006736247882178,
          4.379764530244801,
          7.837943886344527,
          5.311345776550543,
          6.007570512136018,
          6.67064688900045,
          4.077303858104365,
          7.054708934636199,
          3.1618358616501485,
          5.726953269323767,
          7.322772489164879,
          5.45971157951449,
          4.542132098271579,
          3.7651360670991023,
          3.611289724793489,
          4.203289056888066,
          3.828383304662705,
          4.0525646128045425,
          5.024781085792797,
          4.220715351526545,
          4.40797866434795,
          5.648575067621659,
          2.413393394834319,
          3.33201870606504,
          1.8783692169605555,
          4.749729068477487,
          5.459458482481516,
          6.421922064676021,
          6.011029431893469,
          5.81569846663155,
          6.146562513484945,
          3.1568357098379014,
          5.041171652975121,
          4.308460925923077,
          5.853148085180509,
          4.774814029248947,
          3.161913796667792,
          2.738422241407015,
          5.954164827545361,
          3.7222031660741903,
          4.870018715283751,
          3.9116431387299704,
          4.100838888574719,
          3.7843208003400166,
          5.851249432382937,
          5.8034565473203426,
          6.41785204573846,
          4.8559737818666,
          6.722309367223335,
          6.744975959922572,
          6.553638704248487,
          3.6490173335626714,
          6.350423670205167,
          4.590118855169144,
          2.6041367635033956,
          5.629138982261431,
          4.884606237178921,
          5.486728849914452,
          3.0362280942200295,
          3.6738372110276467,
          5.24435627952831,
          3.9950457687467877,
          7.532007783563074,
          4.6961527679445325,
          3.3974756825632952,
          4.540283416202945,
          6.968465208637225,
          7.387436157154255,
          5.7663621332796,
          3.601840299308006,
          7.2233927756238465,
          3.204544480506454,
          5.935898573850443,
          6.945694940730998,
          7.737457722944709,
          5.589461043699298,
          7.297866034116514,
          2.9310062047272343,
          4.51279473879602,
          5.261319449901013,
          6.791843948057293,
          6.554589920326945,
          5.096125939902066,
          5.570790985904212,
          4.439061583249941,
          7.03204849416022,
          4.875866165437225,
          5.473589749451455,
          2.99804070362862,
          5.182053136541021,
          5.017012909489943,
          5.604406305380728,
          4.4874641030436635,
          5.703606832099208,
          5.20013849672895,
          4.76256344401258,
          6.529573815550611,
          3.712729302381866,
          5.668271759727997,
          6.9911498404173615,
          7.588866565567752,
          4.257099449660281,
          4.012250278260535,
          3.4781613576246087,
          6.236166443576531,
          5.443182640355691,
          3.96628824292232,
          4.657610493980988,
          4.211593241539498,
          5.3277481846354515,
          4.598128193077978,
          8.73445269101501,
          3.393762997353196,
          2.019501074016781,
          4.036021224736099,
          4.775749029905016,
          5.578831731963164,
          7.678492453677844,
          6.328677638978098,
          6.620842739772887,
          4.434838442703381,
          5.870816756184398,
          2.93532844674446,
          4.160928092157908,
          6.191631097926056,
          3.051195040566911,
          3.674459774496064,
          3.6233236332870913,
          4.12411994681483,
          3.771089442328488,
          7.7733693813763445,
          6.264373122341112,
          3.336167187669288,
          6.061365892886398,
          5.225413586719784,
          6.99814539312518,
          6.280446406469169,
          5.6853691646834195,
          3.142930007466765,
          7.24749569608179,
          4.778396466731363,
          4.869577693043564,
          4.618034841851108,
          5.490153527970201,
          5.6292155288477845,
          2.412549777288714,
          3.3816115221015215,
          7.921278727715567,
          4.35302362062129,
          5.548755286516103,
          6.70086336899898,
          5.002465902324821,
          6.338811519170393,
          7.405292137521455,
          1.8418957432089251,
          5.6837875346635425,
          7.4029972435826075,
          5.8447922609166065,
          4.5357586593724,
          2.763891255850594,
          5.200669430121702,
          3.916208167349606,
          2.9997614624157904,
          5.699575750600165,
          4.442224821064423,
          5.225922434223656,
          5.364541966301107,
          4.412351118841677,
          6.200153646247079,
          4.627131436371733,
          2.7151338637213187,
          6.254212364593839,
          5.76450592894604,
          3.445365393349331,
          5.541368511221985,
          4.561863110771917,
          5.100551625480931,
          4.994850553794167,
          5.446797092366229,
          6.413433022978014,
          6.202832631261909,
          5.449407344944651,
          3.3165669250102554,
          3.3476286294995714,
          5.653016687117331,
          5.565833074999972,
          5.294133607576342,
          4.627139050959756,
          5.861401669703675,
          5.164042964048459,
          5.242188375476638,
          3.8149063837615866,
          5.2748606505533315,
          4.90034919135454,
          4.413697096619061,
          1.923230896564073,
          2.979381178953212,
          6.328548019832289,
          4.260186177146708,
          3.326023540919793,
          5.436896064934776,
          2.9881826017416886,
          4.38256987391889,
          5.293226831801483,
          4.422433586146861,
          3.588191034251234,
          5.8814503239147955,
          4.452312533664686,
          3.717718666048696,
          6.811966992268658,
          3.74086819520612,
          4.6867734541480575,
          4.394182627206745,
          4.850337973651223,
          7.648336032562323,
          7.171689918064689,
          6.812561370576097,
          4.4959788953679345,
          3.229668824149842,
          4.593753734247357,
          1.768692097994676,
          3.3103465579494977,
          4.39579378726741,
          5.886845486139259,
          5.641522682573741,
          6.417120121801014,
          4.985596561354137,
          5.274732406405572,
          4.187726455880878,
          5.210420681806379,
          4.2149804655110295,
          3.7981246067790773,
          8.941219448361576,
          7.58382102046277,
          4.242928746009214,
          4.7262904968923145,
          6.688758816367234,
          1.953796792092982,
          6.437715419135244,
          4.312661942896751,
          6.698324778614974,
          6.218480936403584,
          8.110510329138682,
          3.9946531782466908,
          2.4605875878410854,
          5.33955416864327,
          5.240678399055355,
          5.56854810750741,
          4.022999836292688,
          6.4917540378351735,
          3.8576004202229948,
          2.2376620639143403,
          6.775418528064941,
          4.101159958815417,
          5.957220442512737,
          4.009197702198961,
          4.9957537277110164,
          3.652093110580707,
          4.859450416211335,
          4.753719001378421,
          4.236122187919046,
          8.455568172191038,
          4.015361180160812,
          2.795866234187448,
          4.985452335209505,
          4.7845254627966884,
          1.8620601179753393,
          3.3824070218268405,
          6.000253445391076,
          6.841225004304526,
          2.2924086044677403,
          2.073714761268244,
          5.013271297182877,
          4.697701207274889,
          7.097571130659103,
          5.037622508858982,
          5.0162639123843835,
          5.573801113187248,
          4.374806597275338,
          3.672363060805794,
          4.616143784600385,
          5.091484218394599,
          5.384445560205496,
          5.4066172288163195,
          4.618972878994456,
          8.123447330721007,
          2.621554771298941,
          5.986174735441423,
          6.052562455183241,
          6.414228983625449,
          3.4064096504718444,
          3.26288264956214,
          8.154136874287023,
          6.035043549282192,
          4.184262650217717,
          2.315964530619893,
          2.600101444254744,
          1.87255778474091,
          5.11120527030227,
          0.8926141710113233,
          7.038088818114472,
          5.724588547967158,
          6.278279487459911,
          8.241999815279062,
          6.644310127039832,
          4.924483153876055,
          6.785466433049789,
          5.995618620955263,
          3.9366891202285332,
          4.443166770373526,
          7.537622971112148,
          6.7495096424391035,
          6.068950632133827,
          2.3680121643997256,
          7.13455466765229,
          5.40153314241568,
          5.9639454177321936,
          4.691321561368865,
          7.32116655191942,
          4.789081052025153,
          5.036530775801014,
          8.146487104783922,
          4.921298953952757,
          5.944089788702248,
          4.830505285356823,
          4.926359593919897,
          6.598461044481798,
          4.864046129887551,
          4.255451829600921,
          4.931665039690135,
          1.720405672342845,
          5.650060758943882,
          5.967602429385688,
          4.994919399644108,
          7.9679645065974976,
          5.432407767035639,
          7.4330370524026605,
          4.374247255651158,
          6.467530836796244,
          5.741222887966639,
          4.683132602848236,
          2.988537940415001,
          4.982218227830171,
          5.996682499921126,
          3.5432371766417132,
          5.060485430370939,
          5.683026481750594,
          4.783126706616611,
          6.225370417555135,
          6.1029656109236345,
          5.581499477149657,
          3.7062365364330794,
          6.026800914416904,
          4.372944235465407,
          4.59867693919299,
          7.231996145222882,
          6.538633646969146,
          4.409246448048538,
          3.766364467012968,
          3.017168692085308,
          4.376480843052789,
          7.02181405772044,
          4.884363832896115,
          4.88895795451167,
          4.2450032970685525,
          4.946827333630572,
          5.243277129887609,
          3.6195508426208165,
          5.178509894424258,
          7.477675485641331,
          5.420750286339927,
          5.036925362884761,
          4.312182263717073,
          5.035776000574218,
          4.888588075152066,
          4.697526624704269,
          4.237437389320349,
          4.133696434484858,
          5.8393517756231725,
          3.8777142897592247,
          5.114668285127084,
          8.597452092636672,
          6.168879176145033,
          7.094305653652636,
          6.297195450652876,
          5.062671820815787,
          5.497464312461451,
          3.8722132314369944,
          7.139700924549121,
          6.326339306275375,
          4.095989895301101,
          4.7126536201662725,
          4.416736964216936,
          4.231398701278972,
          6.335091156336864,
          5.850929359160354,
          6.06523008233323,
          4.821968855209185,
          5.53856212383454,
          4.979027007237046,
          7.197375027431867,
          5.771652515128739,
          3.1215581281913396,
          3.9119675960896214,
          4.974035303901389,
          5.938179564698395,
          8.422423847334272,
          6.145666980915022,
          6.942793684356362,
          6.690073691482208,
          5.999504389385819,
          7.42996995408966,
          4.974212009760088,
          5.887113795343093,
          3.8677160360959513,
          6.171872039115235,
          5.246281945769158,
          4.742550976052276,
          4.488532919498166,
          4.400293719102628,
          8.213860627497237,
          3.995601521023622,
          4.640196086482968,
          4.723918023201195,
          4.532603745646767,
          5.765288847358731,
          6.538911006037571,
          4.739991578987343,
          2.037154935272885,
          5.4646372501281135,
          4.171319383417113,
          4.197810638231711,
          2.790559862137027,
          3.067728679915146,
          5.761882064430083,
          5.253608974954389,
          2.6995261555596572,
          4.876283630078994,
          3.950693772226119,
          3.3754008072567996,
          6.029080687779486,
          4.4721658601313194,
          5.479122718331637,
          4.894202570127199,
          7.414563652406281,
          4.49822919405213,
          7.982633490114662,
          5.400090989818628,
          5.01767226761571,
          4.612491193237695,
          4.557938864315668,
          3.7458540029949656,
          5.31954875506565,
          8.843841208308588,
          2.1744704028611888,
          8.305356488943183,
          6.4733359551414065,
          4.849789797566841,
          4.771467555860847,
          7.385431097283787,
          3.4952104477288275,
          4.690405106138319,
          5.618612759307597,
          6.343249426339706,
          3.5934520672395918,
          3.8081181857380764,
          4.967593210879301,
          5.842543152590116,
          5.880040119426542,
          2.5737024051442163,
          3.456113762073384,
          6.580290271823564,
          7.560691387424366,
          3.5791828516474378,
          4.640067769707404,
          6.04173435560198,
          3.2680425763209877,
          6.273531826438891,
          5.171873250623312,
          3.318611824686311,
          5.388426925072418,
          4.222470501477485,
          8.094024895732268,
          5.0617497702212315,
          4.944829206699836,
          2.9272093340042007,
          2.550807586097073,
          1.723976341431546,
          7.965520341744803,
          4.650021291135848,
          4.11638606425368,
          4.605021612837165,
          4.971983922110312,
          4.5416900795910395,
          4.394057689507612,
          3.5338176058289346,
          4.449055231249454,
          2.912338035623012,
          3.0138486850942914,
          2.1784385576908805,
          5.066394516620433,
          4.353985536558156,
          5.728212175517351,
          5.402137630510598,
          4.7098654286155535,
          3.565670541407326,
          8.527396209326671,
          7.2657623917689875,
          5.639125343498244,
          6.486100457512525,
          4.9729305557880155,
          7.249893018766258,
          8.757603541517808,
          4.840222091759893,
          3.729871210747341,
          4.045252065136293,
          3.974432779284852,
          4.150430494730072,
          6.353594355733919,
          4.740016769797245,
          6.267354829179454,
          6.036981721137032,
          7.19967264388544,
          2.774934190149256,
          7.122472700888087,
          4.656819033267054,
          5.293927134485456,
          7.4758834792805775,
          5.327824160568811,
          4.777730231376907,
          3.2745615651798685,
          5.031486647400527,
          7.159548162381682,
          3.8118314462881755,
          3.7645284294999586,
          5.529921988885606,
          5.495750538652024,
          8.575446633442096,
          5.497974839271041,
          4.063090294385593,
          6.093830396090983,
          3.6171647118389334,
          6.494553975789448,
          9.473214583622033,
          3.7056063480220502,
          3.984106659126649,
          4.276282957001811,
          4.886841957841168,
          3.4683277003732447,
          6.04881592753593,
          6.513970413203749,
          4.165860206789586,
          5.388631312448088,
          4.274260248434961,
          5.828725032011253,
          5.21353747438844,
          4.532724900592105,
          7.68938034419476,
          4.733840100062331,
          6.322163573265622,
          6.299548501839325,
          5.598806965188617,
          3.243335207539557,
          5.641995799439774,
          4.273335097461147,
          4.466963395467761,
          6.896160686798501,
          5.140078924229398,
          2.8595391981961886,
          5.8106754810637575,
          7.523581852912563,
          4.897988477638624,
          5.917516602867846,
          4.126687649698954,
          3.1355171174211836,
          3.458334344583657,
          5.3221870497856205,
          3.5291267244403692,
          5.6852315634011426,
          4.060587684156115,
          7.028490931975822,
          5.9255565658084075,
          3.7413082157731545,
          2.4923564561783236,
          7.25180186860473,
          1.999842502556314,
          6.945312825016167,
          7.110393869988494,
          4.937518368895221,
          3.5934021975094135,
          4.221817935846769,
          6.883328274197753,
          5.030858819333968,
          5.171825407948054,
          4.990687596029698,
          5.952370952761625,
          7.134496426105316,
          3.964798606438424,
          2.995121314007055,
          6.914625236289817,
          4.305634951061375,
          5.181831994536534,
          2.267557314871899,
          4.83851021403471,
          4.176479097982125,
          4.460567298666796,
          5.716149019554355,
          4.942426213581326,
          5.1802144386573685,
          4.23865184354455,
          3.0972489753778554,
          4.513566682040564,
          4.256804727572889,
          5.4574441313316235,
          5.220115030782208,
          4.267781912347845,
          5.338169580225373,
          2.279336276602769,
          7.304280660227108,
          4.702631805587395,
          4.106183786833062,
          4.920048551441191,
          6.45403735217981,
          6.9416575587219835,
          5.455484985235905,
          5.271380132215628,
          4.2168147569023375,
          6.583265407196074,
          7.6306669785415,
          6.622511998692678,
          5.75094210562272,
          5.525713520416577,
          4.477518481899999,
          3.751002329946987,
          4.0947654321235625,
          5.0708592029779815,
          3.8443209280128103,
          3.4785245999367618,
          3.6261662570419,
          5.845920934940002,
          6.710322961637692,
          2.3080579537262316,
          6.5314770394935255,
          6.058718299451257,
          5.909339253750449,
          4.40660805243852,
          5.457253335317291,
          5.055106266195771,
          7.867987613587872,
          4.407694459274802,
          5.365986877058244,
          6.206325413560837,
          2.8293354375396595,
          4.9424508958507785,
          6.1930434869396205,
          6.9879208946777425,
          4.508272658595846,
          5.622953798189635,
          4.583770340087829,
          6.830317980691477,
          4.663773026462327,
          6.896518450173177,
          6.271031771014143,
          5.200455250661788,
          5.8266921765798445,
          6.260136669542501,
          4.2189262959267175,
          6.521416609728055,
          4.573009059831806,
          5.481584101166493,
          4.038256895629781,
          6.600585988763134,
          5.723844950604697,
          5.724358001039039,
          3.5735746797788615,
          5.788116790059454,
          7.418741275166959,
          5.746991162259564,
          6.849065967979512,
          8.181727739435674,
          6.630339994528591,
          5.648072565288394,
          6.602462811169245,
          7.6025756860826315,
          4.151488134235188,
          3.6356593762326064,
          6.3491702121440845,
          5.194786642036583,
          7.1530159938335185,
          3.9166026731246237,
          6.390172289906922,
          6.946235079908923,
          3.9831620629110396,
          6.799405871310098,
          4.962923226462466,
          3.5213451649533107,
          5.306864329192376,
          3.511615572982496,
          3.610202015033928,
          4.098178791913448,
          3.5150946267711074,
          5.308768878570597,
          4.206070983138326,
          6.991491256491602,
          5.6628984210626445,
          6.743858063535221,
          1.8469678909854244,
          4.968424533514814,
          4.948812680693226,
          7.5391900824364795,
          2.7219597514754383,
          4.836359825021133,
          3.5376940849144702,
          4.168860188717456,
          5.265212895364124,
          5.83224022978203,
          6.085755927354208,
          3.767647527350802,
          3.2726824765202593,
          5.887190419814295,
          7.275150476961652,
          4.396702018123438,
          4.290477188185609,
          3.716319279819011,
          5.623704031834789,
          3.934882101679774,
          2.4299446401753793,
          0.9839972882128567,
          4.067942484089835,
          6.898402638882364,
          6.5711781309619655,
          3.9245211478904727,
          6.611356463195456,
          5.912978761926562,
          4.654197568996799,
          4.316699831053205,
          5.718901150557091,
          4.969194368192464,
          4.225180221562225,
          4.051236821957672,
          6.68404806968043,
          2.893012381924707,
          5.217031484809356,
          5.303482399841695,
          5.101818936854673,
          4.929247185258486,
          4.75804730059674,
          4.717352765862236,
          6.98663938377834,
          7.1565383032320735,
          3.667352286185323,
          3.192080382723288,
          3.5947464828662774,
          4.370000197979113,
          3.112446931096768,
          5.492227059227977,
          4.363488245250217,
          4.910245826900598,
          4.96155770312455,
          6.450588502283855,
          5.702231725102379,
          4.31189815181438,
          3.7693872863345366,
          8.262812467808129,
          5.3454517663101555,
          6.898706230668022,
          4.991051854336116,
          4.886534887216529,
          5.694737177740466,
          6.707938883417146,
          7.976462274180081,
          7.542689061664225,
          5.058101170055962,
          2.618789435711242,
          4.259321515804024,
          5.222792747386249,
          4.825529579280843,
          4.754865238808181,
          6.814782069645268,
          3.4445272213038165,
          5.19996044415413,
          0.9655532344011277,
          6.416227436995377,
          5.232443837341121,
          4.5717120928833355,
          4.261041549418146,
          6.468550865511768,
          6.842776671423483,
          3.0553218879670303,
          7.5491735776369495,
          3.3948791445513358,
          6.5812206246129,
          4.581189900725733,
          6.458283027698668,
          5.451539487714096,
          4.6658986013124695,
          6.930444448690155,
          2.699446871999022,
          3.8567443124245266,
          4.802511915749396,
          2.9801266918075875,
          6.5795883144531855,
          3.8629067309956437,
          4.690595208027256,
          3.1119258698596104,
          4.2189781127576005,
          4.4255654943523215,
          4.401496012513001,
          5.227009388954937,
          6.5824367033894955,
          8.303495088332532,
          6.931385274946731,
          2.744386184547617,
          6.4600069537825995,
          4.043949669074107,
          6.81376840358139,
          7.108645017028684,
          7.519225493731625,
          5.674040453337289,
          5.426876424253674,
          6.492842337616118,
          6.852509776431054,
          4.464715583925886,
          5.128528115969743,
          6.416554922398282,
          5.554790959117269,
          6.988098952121361,
          4.539358886192415,
          4.693607163023537,
          4.9450716529283865,
          5.758584914264779,
          2.2450206705606397,
          4.502639075925102,
          2.8403779563663987,
          5.55697401146918,
          6.377262290381131,
          -0.267559221512907,
          7.251386154132632,
          5.985012511733195,
          3.3076103196306015,
          3.8270728994354806,
          6.868977720175795,
          5.106653000710046,
          4.204915137611831,
          5.000811462356495,
          2.9530238286563404,
          5.445298567098339,
          4.016611272121058,
          4.316318190485463,
          2.831789627137271,
          6.8804549184532,
          2.800324354337822,
          3.148379328366448,
          5.3534602093154895,
          4.2508251003368285,
          5.3998085904388216,
          4.738205810786171,
          7.988753354427231,
          3.143166813982546,
          5.210748942339747,
          6.615138177133221,
          5.9787854894908765,
          3.060599645974949,
          5.243594841762207,
          6.464993455967907,
          6.124779181527569,
          4.250870196401629,
          6.756754489186612,
          5.383206644420591,
          4.990152166102824,
          2.014849729807774,
          6.651945649599819,
          4.391185291225551,
          5.26497204418687,
          4.758505585650578,
          6.16815766498207,
          4.106697419416463,
          5.940034477984622,
          7.149384857179065,
          0.9035769804375438,
          3.706371850136203,
          5.962648446532214,
          3.0817261893590286,
          4.902615491703551,
          4.03443722003738,
          5.2033978974284105,
          6.073867113924669,
          6.541022478687443,
          6.283037898113495,
          6.481569582657709,
          2.8496950296881964,
          5.325518459580936,
          7.036230567879167,
          2.942389132317947,
          3.8174698808085212,
          4.976550965110677,
          4.500334171214245,
          5.42256646466551,
          5.084021045810029,
          3.923768341728888,
          6.3343156432503305,
          3.911923169039148,
          3.6121173600382366,
          3.7003424748962113,
          3.0083102296341004,
          4.906464869187516,
          2.311744222113979,
          5.439826130916834,
          5.717567259898618,
          5.68371274915124,
          4.112216067308863,
          5.643157026923259,
          2.8066015188811244,
          7.547703867751898,
          3.872565321807634,
          7.095142430962467,
          5.755194293770025,
          5.831394576953038,
          4.603803476099036,
          3.6357410770154757,
          5.3343625018155665,
          5.062711229807862,
          3.356124716652854,
          3.556332364377839,
          6.5429160411448395,
          4.9059832981337665,
          2.8419587599494966,
          7.919128827470914,
          7.478018017805512,
          4.12927388826175,
          6.002262026837085,
          8.62756721778985,
          5.458804415126826,
          5.140038005121443,
          5.473733596256904,
          6.428469478712368,
          4.581029623416391,
          2.292646276037498,
          4.909846818715009,
          4.679427597918064,
          7.775837262828226,
          4.3486583154973015,
          5.169159043694434,
          3.7634327807820007,
          4.8540310232927855,
          6.429556708138429,
          6.007365647289335,
          5.592083549649898,
          5.908124592688039,
          7.307099381550282,
          6.822791658696945,
          2.236796288913942,
          3.224924777096027,
          6.8538451457763525,
          4.425939008490404,
          2.624113003927076,
          2.797731050890362,
          3.688368177725694,
          3.13725563311643,
          6.234269880572501,
          4.969326984213955,
          7.597410565757562,
          2.4673558817453074,
          4.680156833344785,
          1.2689337212594376,
          2.7301503483278506,
          3.955823611370729,
          1.51852670426781,
          3.632128720236622,
          2.8262820866957887,
          4.846793426651816,
          3.9795374067276663,
          6.0688059674830575,
          2.948175807091403,
          4.659459884484479,
          4.595567311533752,
          5.596749386843389,
          6.7670896758509675,
          6.199034989487181,
          7.857567432338876,
          6.988326796269484,
          5.81478373621448,
          6.414041242144225,
          5.036752968718894,
          4.033015697163723,
          6.00238873909756,
          5.845983553514174,
          4.187900797065903,
          7.133043078784318,
          7.822848637355873,
          5.422512350812295,
          4.112482439773287,
          4.379727824421783,
          6.608040275366708,
          3.730279264021235,
          4.5590763768194025,
          5.767849726141806,
          5.333588658646796,
          5.782810596546029,
          3.489714846431162,
          3.322618936113931,
          4.109540910690437,
          3.8715398356617863,
          3.194072429604078,
          4.606023439030836,
          3.735947398439029,
          3.6672221382759265,
          6.747455935353667,
          3.0955511640704216,
          6.043137403293214,
          6.154733834550812,
          5.501060462290474,
          6.619490037704704,
          6.8575252587443805,
          4.966662347206087,
          5.688854597496373,
          4.6382948676607025,
          4.968222333862305,
          6.073991920480578,
          7.8254003644327685,
          4.7956726708277415,
          3.736322785536377,
          5.031283224946025,
          6.9348742597092965,
          2.2531180446667123,
          5.597702063292921,
          2.704897211595193,
          7.631295315313908,
          4.9790681755992905,
          4.697800546304995,
          6.515388767701965,
          3.3735580323357763,
          7.336505738102764,
          6.421925361637374,
          6.2981863086504575,
          2.613049449598914,
          6.7009693462360564,
          4.770487035946303,
          3.8505421189438245,
          6.731555340446723,
          5.164525056799958,
          5.222271618971224,
          3.8402931537027816,
          4.388172346375965,
          5.338710500839902,
          6.6146363671164154,
          5.08056208757996,
          5.005724859689898,
          2.1274693561881235,
          6.338994212173158,
          5.327810727605736,
          6.455115151609195,
          3.318462818528084,
          6.366128653522962,
          7.240263053180305,
          3.726337779775139,
          4.700156405710292,
          5.20467493784203,
          4.186789453607684,
          5.255172510339769,
          5.854079123531651,
          5.776245396303716,
          2.989091991695308,
          7.3753816608900875,
          6.267815166118217,
          4.892733279922798,
          8.305372785602938,
          5.3941631045616525,
          2.8138379544214387,
          2.3968745227726678,
          3.8666711296411003,
          5.152578586891436,
          2.2902123266951238,
          4.133254419548051,
          2.38532390252683,
          5.133140216020895,
          3.4776403610804874,
          2.913050574058728,
          4.264727433305818,
          6.099145408448077,
          5.56729642241639,
          5.382389328832502,
          5.534334536511572,
          6.609663298355239,
          5.531980001201887,
          5.754374906991556,
          5.4146457323665125,
          9.041265098497744,
          1.93175028554024,
          4.179745530342611,
          5.905490313378342,
          5.17337909989035,
          2.544543630970099,
          5.39776307660793,
          7.286682984433504,
          4.4157762063689905,
          5.582863775401929,
          7.064460756473954,
          6.450259074576192,
          6.584864314634277,
          2.9655803064120794,
          7.289403445121448,
          5.555679182654307,
          6.028753360922339,
          4.934841120857541,
          3.777001515029272,
          4.835400788273693,
          5.844344944605788,
          3.9194368472678107,
          6.091424672931836,
          3.423663350188451,
          6.27911025642279,
          3.448410551530859,
          4.966998710687195,
          3.9025781115058367,
          3.327170642587763,
          5.481693120386832,
          5.721519431854401,
          5.348958216355075,
          5.05754003728723,
          3.3588237564039627,
          3.4535768586218305,
          4.577082884350517,
          6.647258115751981,
          3.12295657923048,
          6.485298337452589,
          7.118585604478533,
          4.613566505570337,
          3.388612561529512,
          5.7287321946958984,
          5.545617749074662,
          5.249340234358721,
          7.391514316084246,
          5.770888640861422,
          5.0550793555033575,
          3.5683826316300182,
          6.930092489375193,
          2.9300782871925803,
          7.235346987436651,
          5.700850294140304,
          6.175092147562162,
          2.754535665642002,
          5.873081640746834,
          5.8175755291556595,
          3.4443202182508457,
          5.225933386669465,
          4.888513582940757,
          4.806973686841433,
          5.376157894664968,
          7.804797678200231,
          3.437709032104914,
          2.942155100162105,
          6.416935204714656,
          4.134950422239182,
          4.351257872934233,
          4.970942135970421,
          6.369933662140844,
          3.4036459165713326,
          2.521326759775721,
          6.341891005828203,
          1.7131147228359138,
          6.6973324858264744,
          1.6948370204329821,
          4.142769201193898,
          5.82828312619401,
          4.202833604827006,
          6.366655122545456,
          3.798508220127875,
          4.437677246581273,
          5.741880167185109,
          4.884006351822477,
          4.801233770219017,
          6.723156452989651,
          5.992501750589613,
          2.8242641735674647,
          6.529614059976229,
          5.150029311012961,
          3.110017231805452,
          6.875277229014565,
          4.256337820508846,
          5.497242099008897,
          4.268956115372416,
          2.90136962921872,
          4.356394999170857,
          4.830618939397359,
          3.9819591450064524,
          6.488658989204145,
          5.598252152930739,
          3.738803985903286,
          4.6594508638045635,
          7.798635886996917,
          4.977155657165095,
          1.658742904692069,
          4.977422186328046,
          6.158579833370197,
          3.9519831486010935,
          5.443184188157911,
          5.838387464831293,
          3.5034663669273582,
          5.049452264571085,
          5.579227569801932,
          6.330362221829478,
          4.4082850268460945,
          6.972094616225016,
          5.245590598923715,
          3.984019945669615,
          4.897098354957391,
          4.410019012997145,
          5.449062928676787,
          5.7379748907128105,
          5.6963180530976105,
          6.211324506204022,
          3.2148453595258184,
          7.3973546694593395,
          5.8383294599263325,
          5.454133906595792,
          6.054859397209281,
          3.356547488059298,
          7.1477319248627325,
          6.391455741889166,
          3.1521182488331365,
          4.88483262044593,
          8.221832075629575,
          1.5167550128890022,
          3.95472324223119,
          4.169311834971278,
          6.866568578280273,
          5.531319675630697,
          6.995938478478784,
          4.355839805336133,
          5.574999075336144,
          3.1914715337044375,
          7.413798302467291,
          4.380662500069079,
          3.5876142822125745,
          5.5398236335032145,
          5.718760103349661,
          4.967979922888884,
          1.6529951622536618,
          1.4509859384999686,
          6.424083388897717,
          6.213841264584877,
          5.92179629950834,
          5.68409045369737,
          5.867587113169726,
          4.187432846605285,
          5.905215902441776,
          4.979505968145972,
          5.681049852844364,
          4.476793019347666,
          4.313472674637197,
          4.485219702500901,
          4.609090949568932,
          7.379057420316224,
          3.3359806787249817,
          4.817364651349605,
          6.281413266554471,
          4.692519017115904,
          5.5528469894315045,
          8.162144265722253,
          7.378742035629857,
          8.196758552030353,
          5.18497633160044,
          4.96420578865405,
          6.086199480952862,
          3.918115387471394,
          6.7915824249068315,
          5.095474599206564,
          6.484507271918522,
          6.050481552530702,
          4.664437400464047,
          6.651703907459975,
          5.044559586023212,
          2.198546948186042,
          2.385983579980591,
          3.7563266480099036,
          4.161212698843599,
          2.947287080227239,
          6.0811532306637766,
          4.90255535401851,
          6.135636491176573,
          6.400069416519065,
          4.96508962211386,
          4.566993340037264,
          5.177201578866074,
          3.6752281058880625,
          6.765076410724269,
          3.447544517620625,
          6.714609075232108,
          8.32038408472351,
          3.4629128120168327,
          3.3567184055220434,
          5.048359797381419,
          5.365793777554674,
          7.784439638381556,
          2.193036117095777,
          3.3372360868392783,
          4.6357899254154775,
          5.909224306820343,
          4.539540421717822,
          4.009539377738486,
          6.87055873413866,
          7.451936068662091,
          4.6629730032752486,
          4.104768374059562,
          4.856563381182306,
          7.216633575956154,
          4.171392077858144,
          4.6753390268653,
          4.60121685962592,
          4.001429948836813,
          4.857552013901396,
          7.375782738381953,
          2.7525449656201633,
          2.3338042455942456,
          5.9240634734326445,
          7.252547981706465,
          5.693015919671722,
          5.284830568413108,
          2.958845662176336,
          5.166467991360213,
          3.6227077341305893,
          2.6733393012489644,
          6.76744736510209,
          5.148948722508052,
          2.6120899767178876,
          4.955069062510249,
          3.410747974090521,
          6.437430262355729,
          6.893358642035393,
          4.441719419523924,
          4.915168176099127,
          5.428338296067266,
          3.4682111751473252,
          4.252774335747156,
          6.792858576502895,
          2.3618920050732477,
          5.6767393614612685,
          5.526177745598828,
          5.079502173161602,
          2.536421727337009,
          6.45269765900399,
          6.167469312765681,
          7.685577957262204,
          6.571175765730054,
          3.98117937142159,
          4.711806830501766,
          4.146820449912421,
          2.339439537046439,
          1.1683892166705387,
          4.713601978513893,
          5.3576469946600165,
          5.040880548600721,
          6.654632405409488,
          4.563914126700282,
          4.610915313137504,
          3.9092174108010624,
          3.8337732404283402,
          5.0156432480178434,
          3.0774776840284863,
          4.7925188752486205,
          6.640406386226731,
          4.460243790509587,
          5.694995584957471,
          5.500383638270263,
          5.279605981768965,
          5.029979322944327,
          5.281972807301498,
          8.4386016516851,
          3.410154115193169,
          3.2208673988725947
         ],
         "xaxis": "x2",
         "xbins": {
          "end": 10,
          "start": 0
         },
         "yaxis": "y2"
        },
        {
         "marker": {
          "line": {
           "color": "black",
           "width": 1
          }
         },
         "name": "C",
         "nbinsx": 45,
         "type": "histogram",
         "x": [
          2.2534329254108734,
          1.980366284785545,
          1.5882330267350369,
          2.433178403973933,
          2.126779439387293,
          1.888430528322245,
          1.8654911569881982,
          1.6601960345147495,
          2.2376631390480366,
          2.0887541949404107,
          2.358639998714904,
          1.9029784316230354,
          1.7305579796316273,
          2.5519335308721147,
          2.0864682998055466,
          1.9927145508243436,
          2.009532883421179,
          2.0962979985742227,
          2.214112321697988,
          1.932353860818532,
          1.783124567413535,
          1.6610844828333862,
          1.8671893704257738,
          2.146699296946867,
          2.1979924807451967,
          2.1109729077705595,
          1.7226826510462456,
          2.1607707168367623,
          2.3528422190566847,
          1.8265681573274746,
          1.9992551345543448,
          1.7627858692356955,
          1.8038328099069145,
          2.2152537324179735,
          2.302939964446416,
          1.9075364304095574,
          2.0899858778217246,
          2.053097595412044,
          1.862623164161981,
          1.715919072146518,
          2.5148681413144542,
          2.4076092382974172,
          1.8080840205891724,
          1.5920413828257005,
          1.9715314134108937,
          1.877978274458381,
          1.8161614478666632,
          1.902969294429866,
          1.6424935912553984,
          2.030247627888375,
          1.9404565525864312,
          2.505421443201949,
          1.613820929322531,
          2.02648896067075,
          1.6261424166364602,
          2.1969374700714663,
          1.9490680794622999,
          2.1615973934409003,
          1.836564717730717,
          2.0760864175802203,
          2.199023457353161,
          1.9676291467037885,
          2.040585686403546,
          1.8789541467694955,
          2.1537697023580877,
          1.9168750282829,
          1.7305002241219087,
          2.162991399573021,
          2.029689774159017,
          1.8288877537592763,
          1.716635296116549,
          1.763203928434053,
          1.653859911233358,
          2.0692223918073,
          1.9001144045695828,
          2.228539831125204,
          2.39313509237358,
          2.154621548008933,
          1.850632636725004,
          1.9363877113653463,
          1.9084960438895737,
          2.146446325515375,
          2.1442521980032643,
          1.889339583311603,
          1.7986624003582015,
          1.9527177766552517,
          1.7590568074994435,
          2.0025965524743254,
          1.6639765460361162,
          2.1404628318537267,
          2.1342527898662893,
          1.8351591326949666,
          1.4893880801295483,
          1.8596194822778436,
          1.8616137687617171,
          2.0232134821494157,
          1.9777510848318363,
          2.076707555232147,
          1.9656393472569305,
          1.8792001084841177,
          1.7013911359669152,
          1.8237647774338412,
          2.331761274811834,
          2.048543785184602,
          1.7576876596460302,
          2.1927326345830176,
          2.086550759897607,
          1.8178900127393405,
          1.598368748992816,
          2.3558085086758114,
          2.375255735250094,
          2.047244467388665,
          1.7978052648870422,
          1.6873201767501809,
          2.0876597747165384,
          2.078300291003433,
          2.0189760667556547,
          1.6946965730622645,
          1.7979152549988766,
          1.5035842591919095,
          2.037435111492465,
          2.239795785544634,
          1.8171526022447089,
          1.4717543723139404,
          2.437677590817331,
          2.1367313540672423,
          1.6208131398133385,
          1.8849974275255605,
          1.9443311403014512,
          2.0228475301520885,
          2.052847988443786,
          1.7046551895356832,
          2.0415770537999425,
          1.8182447779864026,
          2.0981439958715926,
          2.3053564853745536,
          1.6964927569186101,
          1.9257104136196883,
          2.0427649000079735,
          2.2989449718458137,
          2.09520220876993,
          2.200817394485282,
          1.6227786546213916,
          2.3034691257854605,
          1.9041642570704667,
          2.2806668125466834,
          1.9209114792111872,
          1.8397279229479298,
          1.7594423492911753,
          2.084698677259644,
          1.7884019136698588,
          1.9887661453993861,
          2.0004719761850263,
          1.7258394983297107,
          1.985632562844887,
          1.6106130673567376,
          1.6681491763370513,
          1.8669871898476194,
          2.358215304003557,
          1.6754982352187957,
          1.9867546740462716,
          2.2296167134725344,
          2.153497380446106,
          2.2291616630024556,
          1.980105949726839,
          1.8106241048771443,
          2.185202191185217,
          1.9234403398180595,
          1.9833496311359076,
          1.7899579541615567,
          1.9666555319062027,
          2.1234457745625472,
          2.0590552937909234,
          1.5980981962286283,
          2.1699796879202284,
          1.6867518820803395,
          1.9481113514287611,
          2.1225667591901725,
          2.0562591122321434,
          2.2763889561035184,
          1.8396799727334627,
          1.5221714735528664,
          2.106696657943395,
          1.9471375657591552,
          2.2033076123360797,
          1.9133802970713294,
          1.8286532937017896,
          2.257164068121039,
          1.742196566636063,
          1.7854068562834224,
          2.257965044992136,
          1.9511970744628162,
          1.9836843980412588,
          1.7876197431962293,
          1.7785644607320759,
          2.131640189056942,
          2.0853578249705698,
          1.8513765765066008,
          1.9242739822214654,
          2.0269495582892016,
          2.05173874942562,
          1.8048937471479274,
          2.3538992090371362,
          2.05493970446068,
          2.1513395144996146,
          1.9690959044986007,
          2.0377935431768797,
          2.4777723475582145,
          1.8708625326564685,
          2.017566190110181,
          1.8843852756495292,
          1.8391795280583465,
          1.6778975045721094,
          1.9160186865582707,
          2.1391012197840014,
          1.8962525236638819,
          1.763730774368281,
          1.97782124076579,
          1.605185692510275,
          2.192198014016549,
          1.8565826944481236,
          2.0402979324992025,
          1.9405349935911635,
          1.8364235087015053,
          2.4414629566751227,
          2.1992312186270677,
          1.6258729929553346,
          1.2006853840482687,
          2.0800292574046733,
          1.7120165831392462,
          1.917139110116664,
          2.166719472921816,
          2.084209159273403,
          1.6141479106243908,
          1.727260153420876,
          1.8175417730334045,
          2.0374107945519238,
          1.8908174178529267,
          1.4357714760785485,
          1.916712550815366,
          2.359762673649082,
          2.190793056309148,
          2.1330466423271566,
          1.9674820738208558,
          1.8596370960327193,
          2.1236754405227374,
          2.04118964568743,
          1.6427767502655866,
          1.6850776654460913,
          2.4003588711221817,
          2.318320449912724,
          2.1559589202427825,
          2.290086407582197,
          2.149186044761494,
          2.094604466153581,
          1.994313118487104,
          2.8688259120306676,
          1.8270985968746398,
          1.737602075266314,
          1.6905673414880282,
          1.8230109252213,
          2.485352941366627,
          2.3799953025933003,
          2.066980345241956,
          1.8050087715555376,
          1.976377850891345,
          1.980206263422605,
          2.0972037788871774,
          1.8073005156094242,
          1.9397911404717925,
          2.0016332819463765,
          2.3051453039466603,
          1.4381201012911689,
          1.7367381387076186,
          1.8891155242887439,
          1.7495423027836796,
          2.21735711735449,
          2.014717525277438,
          1.4492162974340128,
          2.1522909104350934,
          2.284296614566893,
          1.8609874363784096,
          2.1367925342819265,
          1.4311406822605546,
          2.107604093625268,
          2.307376669566683,
          2.2873673625813953,
          1.7754801115181689,
          2.1321667494932655,
          1.8709462142785567,
          2.2011637476098858,
          1.662809683035502,
          1.6507321086342304,
          2.6664309796104004,
          2.702191095810366,
          2.499747436643861,
          1.4789850037426382,
          1.875599513645696,
          2.551970185891881,
          2.253908389635807,
          2.0497095133440344,
          2.052840033381199,
          2.265491711600485,
          1.6772279212430998,
          1.9420320071291715,
          1.8677095214760708,
          2.2930820665584246,
          2.0679543159268636,
          1.8965367316456212,
          2.3329657499828023,
          1.9365642900264621,
          1.6951185804346025,
          2.1000350737037228,
          2.2357326628395353,
          2.1747924406433405,
          1.938785302794007,
          1.6000310196878105,
          2.186088968773719,
          1.8922387975693076,
          2.1514394521937694,
          1.7690900283459843,
          1.9571416963892734,
          2.1108052154097994,
          2.253664803905565,
          1.658517533656093,
          1.7057158182552432,
          2.142696235598658,
          1.9201794742610905,
          1.4602384911662758,
          1.9048195464349482,
          1.8511675622871788,
          2.11652050302126,
          1.940686486837787,
          2.0578966495577866,
          1.8013451316285243,
          1.8553924196156186,
          2.0251247443782576,
          1.7283064718336998,
          1.8407125746292292,
          1.929915366965427,
          1.6815436078787347,
          1.597014246332471,
          2.3588387926649035,
          2.2970611750026926,
          2.042956894483376,
          1.9345024993916815,
          1.6674329855033854,
          1.7692502353546067,
          2.027778550679133,
          1.8971375416843859,
          2.440505772464564,
          1.6244772903187188,
          1.5786189916946798,
          1.8700098199447013,
          1.8043297180414053,
          1.87939582477808,
          2.1313932434488074,
          2.327357176023381,
          1.7654165517276095,
          2.001403332875348,
          1.9138838652026022,
          2.323596379720353,
          1.9220960816958836,
          1.9112032664618759,
          2.4357199202792295,
          2.242995539126243,
          1.8998940830865643,
          1.929573232767643,
          1.5928944258687538,
          2.054955403528811,
          2.232975165586657,
          2.465072171684812,
          2.27510949017941,
          1.863271553030758,
          1.9291738673050385,
          2.4404152297594432,
          1.951951787997405,
          2.0950370332726016,
          2.257695355819475,
          2.589694296832841,
          1.6455286021780116,
          2.2747888145853934,
          1.9297857858696752,
          2.086687516739918,
          2.3326963814568753,
          2.1799060794350846,
          2.1691686072683325,
          2.125532366251825,
          2.6771130519877575,
          1.9344036600347763,
          1.9026753273880193,
          2.380597753935892,
          1.7703727435429077,
          2.3290863944771703,
          1.9673084555939002,
          2.477657927687995,
          1.6946357160941579,
          2.143261935006842,
          1.6878219792289308,
          2.1841680499139473,
          2.055680861423149,
          1.8567560113260029,
          2.362263221904293,
          1.818466380802415,
          2.211774827601389,
          1.6817819167538453,
          2.1267593757056797,
          1.809222009515874,
          1.861994908526098,
          2.2201156083431064,
          2.0366780735525225,
          1.833970047865882,
          2.084465838880973,
          1.5980428945393288,
          1.8743301591811423,
          1.9884377276856413,
          2.0432540950528617,
          2.1693906103883007,
          2.1113646771963555,
          1.7312116903205226,
          1.899017347403489,
          2.211227427190917,
          2.0963644218619195,
          2.189773697012325,
          1.6948816927881785,
          1.938024619967232,
          2.2577518350965633,
          1.8748322892458822,
          1.8050692041596268,
          2.1735145722732976,
          1.9762999343471785,
          2.2362452546272706,
          2.2562710431662563,
          2.167927248950093,
          1.7356674468221436,
          2.357521820565799,
          1.7638511978279763,
          1.7848464553782355,
          2.3755084233506394,
          1.7759367563292157,
          2.240253139877305,
          2.1625784895869606,
          2.0800408372569748,
          2.2652066149430348,
          2.1288682044589122,
          2.2573047381423725,
          1.8270095963101942,
          2.4145803457447554,
          1.6417460951877847,
          2.141537587718072,
          2.821988754985574,
          1.9653888613029364,
          1.81656139920934,
          1.9849824376949763,
          2.2801827122292564,
          2.213980867102241,
          2.2810381924497607,
          2.408406312409494,
          1.6890586056878822,
          2.1284905131422507,
          2.3897404797484065,
          2.262890484187433,
          2.176643609591439,
          2.308868087498747,
          1.8143689924361128,
          2.235213012821918,
          1.7492191450531083,
          2.2391171132285588,
          2.150697758504901,
          2.2153368065452077,
          1.4374841122996562,
          1.962079278826911,
          2.19559722799284,
          2.169240849491233,
          1.9534277201575116,
          1.807813141979079,
          2.1877006077845143,
          1.8114624236208274,
          1.6611587163899921,
          1.954077660108542,
          2.035138813895762,
          1.8069938280177802,
          2.400622396407203,
          2.211106154755652,
          1.9329189496486956,
          2.068982651094883,
          1.815295483049792,
          2.1158029033544463,
          2.2235925868055277,
          2.021791777618246,
          2.3292550431902725,
          2.043221086361383,
          1.7380571709192834,
          1.9525387145828166,
          1.6181209482710495,
          2.095461363718902,
          2.05128332628054,
          2.3085297843443797,
          1.850970571747179,
          1.9162433816714548,
          2.1425712984331917,
          2.246187349212663,
          2.685231446256608,
          2.094017984936454,
          1.8483851571137297,
          2.2266647149965375,
          2.038297787039238,
          2.244898429112118,
          2.0752476900976142,
          2.1148205119995684,
          1.9791644870024894,
          1.720848502665162,
          1.9013129149606758,
          1.5316829393691989,
          2.0695449645743644,
          1.4349664421930268,
          1.846619039404518,
          1.737368069321319,
          1.9221671485527945,
          2.2257473545379804,
          2.1657913677176266,
          2.069970030986567,
          1.9439340701846979,
          1.9506354186349937,
          1.5634953093758297,
          2.4669074567126295,
          2.42230731425009,
          1.8115847602632158,
          2.1797570612172734,
          2.1205742779995096,
          2.217495989167449,
          2.2473570629261452,
          1.7790218205006705,
          1.7590484474224775,
          2.01788741237363,
          1.5433913849117709,
          1.8756622851689766,
          2.5349954916323973,
          1.9370656758777454,
          2.122718303805478,
          1.918713870852222,
          2.0497659680765006,
          1.9859698186483419,
          2.288743239862467,
          1.7967332748345721,
          1.3876288725418986,
          2.124353522291668,
          2.6327490288293296,
          1.8947140747849676,
          1.9545204396409486,
          2.1424445825593126,
          2.198298984761726,
          2.1237724770529964,
          1.6986999408521752,
          1.8566571611858498,
          1.6574165306707158,
          1.8828263815291106,
          1.8638510111747917,
          2.0809604895434934,
          2.511321737737591,
          2.1565162870125776,
          1.6352757416182768,
          2.153575025666462,
          1.8472927487006996,
          1.8347634416490923,
          2.3256127552300394,
          2.1626517548786244,
          2.046537493028051,
          1.8978314308174353,
          1.939835901514825,
          1.6532994136365313,
          1.9073734371811866,
          2.1427868283149665,
          1.9895480096314395,
          2.250256393194602,
          1.9916405594290036,
          2.1641092935119968,
          2.191196359846912,
          1.9075847949959022,
          1.9284776639251398,
          1.782500465414036,
          2.59438805206839,
          1.9219506521564502,
          1.781255571947366,
          1.7868958664242622,
          1.8476430792485254,
          1.6282461892140039,
          1.9869866111495302,
          2.1263856815522058,
          1.770137485507915,
          2.1373624182116924,
          1.899375831760519,
          2.0787245524056073,
          2.2789269157490173,
          1.9045469658584717,
          2.2162613529952258,
          1.986165012997386,
          1.7399252985153073,
          2.134847379549064,
          1.815238809566392,
          2.1125619179499653,
          1.7803792742037026,
          2.0150803792984098,
          1.9563288376335104,
          1.773560462093014,
          1.6729994601764222,
          1.5551001816221135,
          2.3323820647522835,
          1.5695763403994432,
          1.8647716303764192,
          1.9330662821784463,
          1.7675830118152054,
          1.7528860883570094,
          1.7829073086374423,
          1.5018942328877127,
          2.0955625125904644,
          2.189156172617872,
          1.9894069383697746,
          1.9597645080659214,
          1.4766575554530084,
          1.60797670678077,
          2.059383450922541,
          2.0076141462702144,
          2.051077097956064,
          2.1946692140194575,
          2.1885950329321155,
          2.070423654719767,
          1.873202566306443,
          1.8844128972032512,
          2.1734408167313246,
          1.8973895607116031,
          2.086102827413176,
          2.1701744942522696,
          2.139739819735287,
          2.159142082487587,
          1.9971530172117866,
          2.151295638774434,
          1.519484962441974,
          2.306407001719301,
          1.6182732175988919,
          2.2233432499493535,
          2.1114993093334413,
          2.041729980230852,
          1.4884680414049192,
          2.074274680205508,
          1.9718027257165947,
          2.3210915060165065,
          2.2976566029885808,
          2.3221652610389376,
          2.3477830790182805,
          2.0393886406862705,
          1.6121806080977028,
          1.9383668665115321,
          2.005816049300602,
          2.1159842372294806,
          2.545389158332498,
          2.225687458319513,
          1.577645122156631,
          2.0365768381933056,
          2.366299670433692,
          2.056871066664485,
          1.9340556480281763,
          2.1680307028808836,
          1.8534071538891594,
          1.8424299591817284,
          1.8116433534793703,
          1.6963638810337758,
          1.86258320307412,
          2.177332311756989,
          2.046832409750146,
          2.307053894945326,
          2.65942640527323,
          2.0604910043700495,
          2.389662085973932,
          1.8354970411842715,
          1.850933372156668,
          1.8125334888486435,
          1.6583765699158894,
          2.027978838797344,
          1.854159563659406,
          2.234562669052773,
          2.0087485958884224,
          2.5611491375244104,
          2.286304919765966,
          1.848990828457835,
          1.7925680418403314,
          2.01808382548339,
          1.7893282738117688,
          1.710850305239966,
          2.5091869019148203,
          2.519769921913953,
          2.0818579390031546,
          2.1458542129132074,
          2.0671970558321062,
          1.9320109696669225,
          2.239910578472174,
          2.1883216390843523,
          1.9083744596760683,
          1.9234629793789977,
          2.170736595223869,
          2.054581516780945,
          2.1923285406744757,
          2.6854102719204387,
          1.846303488894585,
          2.00438726674494,
          1.9758579502162208,
          1.8518266654233382,
          1.788045794798829,
          2.12342349489417,
          1.7532096991963033,
          1.908180142045922,
          1.927851649014473,
          1.791463133444079,
          2.10041986826845,
          2.115829588626227,
          1.4505754399553314,
          2.089958337772197,
          1.754237374532185,
          2.049971188722331,
          1.80198084158058,
          1.963551141013101,
          1.757272459526757,
          1.7254686331372826,
          2.181106627359704,
          1.9378941308051294,
          1.7219520207847419,
          2.225734534597216,
          1.5258289737183106,
          1.8581051724954083,
          1.6898062232376252,
          2.2813243847436437,
          2.0666097206727434,
          2.13954086483666,
          2.1799280138577486,
          1.8426256595926436,
          2.1628555145734194,
          2.288939364169121,
          1.3600509995962298,
          2.280147225494556,
          1.5986149207208649,
          1.8658720001805924,
          1.7118836817890466,
          2.416589285722313,
          1.6574109900047218,
          2.2092799324113317,
          2.2327741720758163,
          1.9512655464002515,
          1.5386756540678173,
          1.9699581770032313,
          1.7291931794794646,
          8.492133626877525,
          7.774368693102724,
          7.68042868505494,
          8.563383151726933,
          7.959453370737562,
          8.206780866184195,
          7.434825171756879,
          8.485926326443908,
          7.040872700758537,
          8.237477993718544,
          8.001943276026685,
          7.979568941803611,
          8.10770406251158,
          7.331252153842763,
          8.265203807209646,
          8.074993474155384,
          8.857150117708015,
          8.85429120481793,
          8.088810271736358,
          8.302887738000376,
          7.266871839784874,
          8.05510403955271,
          8.1034381792924,
          7.399371124253843,
          6.989140124364807,
          7.952546547705419,
          7.8610046459064185,
          7.840051505609886,
          7.538393378697566,
          6.816407880703333,
          8.27809909683074,
          7.998755072556715,
          7.727476995581571,
          7.679956853748523,
          7.620768472125321,
          7.907089189481881,
          7.498313966045613,
          8.014002469217367,
          7.708564855518387,
          7.0961044580316885,
          7.76487692744492,
          8.010620792866291,
          8.141586649213318,
          8.223748725004748,
          8.396480525783161,
          8.28932727530401,
          9.389933490793272,
          7.852399088497646,
          8.747972139651221,
          9.282986039737398,
          8.92817367780366,
          7.972835707899351,
          7.968367942440917,
          7.895395184706629,
          8.175660309392171,
          8.737740902037888,
          8.928891494236517,
          7.983225616729692,
          8.772431638801647,
          8.688142523758179,
          7.774418711281747,
          7.48276083514736,
          8.579060929602418,
          8.282680878874709,
          7.519259268056592,
          7.421011099717795,
          7.298137450536886,
          7.987708286886747,
          7.837383051586858,
          7.911815270620512,
          8.134206677550376,
          8.22498966078748,
          8.076651129959469,
          8.996313380872932,
          7.932680115491861,
          8.732273546485061,
          7.110281907244325,
          7.447787839215513,
          7.571064887457142,
          7.228136389816452,
          6.890399069627742,
          8.394390953330378,
          8.276807480711488,
          8.130229533067217,
          8.226752518504469,
          7.356250966385515,
          8.606059684967303,
          8.40023636763304,
          7.675308603734895,
          7.178505192136981,
          8.903440485875034,
          7.788216935965632,
          7.402529550823258,
          7.640228438879495,
          7.577182988100873,
          8.115238160954874,
          8.652235366049915,
          7.4169394923739524,
          8.546630532819833,
          8.34325905683423,
          7.886263165047887,
          7.561410602776419,
          7.932717716004208,
          8.691307919175982,
          7.270671348315792,
          8.168572596386051,
          8.165990872893946,
          7.513119979848584,
          7.61478138451183,
          8.331769967992216,
          8.15422836426554,
          7.784900820005614,
          8.256227573241741,
          8.045720614051495,
          7.715976435561995,
          7.8915154994496515,
          9.047071138522286,
          8.11172610412519,
          8.103736859941321,
          7.685453628586649,
          7.613967973638763,
          8.237694039402744,
          7.313526143535894,
          7.732719070606862,
          8.750158629228718,
          8.016857105254937,
          7.750822299043695,
          7.954427271780074,
          7.419961974560175,
          8.128902924774122,
          6.796325134531543,
          8.334035945548946,
          7.940068771006183,
          8.43156159575565,
          8.06065107882158,
          8.369601260503899,
          7.897761098394141,
          7.570942318513487,
          7.926957781931466,
          8.029592586620858,
          7.963815348287339,
          8.251426219171691,
          8.82637888757028,
          7.091983995361704,
          7.366324992388889,
          8.715205322887305,
          7.833254862655115,
          7.768886541891815,
          6.202428364177921,
          8.649753063883235,
          7.548356924301187,
          8.249616384636637,
          8.343969436411408,
          8.583284450356652,
          8.104206221246628,
          7.450915557322977,
          8.051115448363934,
          8.290711000448796,
          7.206450561364716,
          7.270092680238125,
          7.731950848831536,
          8.28103793430942,
          8.453432987388437,
          8.352818645956052,
          8.570922854292961,
          7.784998203908967,
          8.280538301818853,
          9.201065841769895,
          7.721151519562934,
          8.031099379941338,
          7.156592554801036,
          7.567676861532242,
          7.953955738712035,
          8.159138472036847,
          7.7261673923818766,
          7.447349057822809,
          7.7913814660267215,
          7.324055777308493,
          8.20195756910693,
          8.728849156176981,
          7.601290369879776,
          8.925601330536558,
          7.988631642179782,
          7.512714128054689,
          8.438267139901244,
          7.7110289599711965,
          8.054752386362699,
          7.863922050327807,
          8.25768653631798,
          7.979320263068959,
          8.134916470980336,
          8.514156709100517,
          8.246937596628333,
          8.810095827415491,
          8.397582939410505,
          8.114388712483395,
          8.206206372946962,
          8.416564433973267,
          7.9059712086386495,
          7.793415375305396,
          8.411185305357531,
          7.327842123245439,
          8.812462486057782,
          7.703029850025138,
          8.06124217075948,
          7.965238947383619,
          8.460678121135127,
          7.537814363974278,
          8.663695900631025,
          8.059282953442876,
          8.139424551326606,
          8.36786950571223,
          8.548630572007683,
          7.918161450872844,
          8.35752607879998,
          8.122948027610013,
          8.852294565562486,
          8.43646801907128,
          8.28918121576202,
          7.537264155399148,
          8.713450306236172,
          8.71075822091355,
          7.719858257292636,
          7.986722759743377,
          6.614354311637234,
          7.921547938605416,
          7.872119360884053,
          7.871029377437251,
          7.5397224644543845,
          8.136389656731081,
          8.990139366744858,
          7.304723950265102,
          8.444789675755997,
          7.600371928796593,
          8.172288669291328,
          7.951718809331213,
          8.360002181244681,
          8.301918419040053,
          8.222624918934406,
          8.329707283524263,
          7.9248988030130425,
          8.011294216891082,
          8.143959836060827,
          8.868578167590211,
          7.959705610402707,
          7.43502520153408,
          9.112213868099786,
          7.548732103254557,
          8.149542615971297,
          7.361548331033487,
          7.647586055968552,
          7.666221237681536,
          8.039530912294074,
          7.683277033729616,
          8.121048274665382,
          7.857055267305625,
          6.808008678727349,
          9.28412021095691,
          7.70883881762363,
          8.265345266356796,
          6.889166086975426,
          8.002051220022361,
          7.84756775480693,
          7.788312136198765,
          8.079284072223748,
          7.736248654961425,
          8.224866936641197,
          7.492121145986604,
          8.533582712270283,
          8.388080476355306,
          7.533232304032082,
          7.886730982619943,
          7.585169548186357,
          6.470465496206982,
          7.55655214936672,
          8.4032575145136,
          8.396911782370097,
          8.981949635781906,
          8.52145733642732,
          7.164048411832865,
          8.29363550808322,
          8.011444459685373,
          8.055898890938762,
          6.859538036140593,
          7.8840736212966265,
          7.865544645807652,
          7.507729165897639,
          8.698293041063906,
          7.626857524900917,
          7.74469038790295,
          8.060840668365836,
          8.855754483482938,
          8.698276526025284,
          8.678255536677398,
          7.855793383906173,
          8.116002640644396,
          8.59038161894129,
          8.201495189326064,
          7.683320788765886,
          8.028375702317113,
          8.193810081832853,
          8.014383621967758,
          7.7575249197467695,
          7.397146625922218,
          7.579709432590738,
          7.67583897454471,
          7.939933497457307,
          8.739868808883065,
          8.12456255398314,
          8.262267949932198,
          8.486587473165581,
          7.801906986957837,
          6.498583123793162,
          7.651364094536842,
          8.61620206912895,
          7.660855597730885,
          7.78316370063387,
          7.945265914913121,
          8.207606273250393,
          8.07419990406435,
          8.007162089044064,
          8.226805270001368,
          7.761814228096784,
          7.488422196990223,
          8.669072295676608,
          8.144531602117016,
          8.173759916681703,
          8.688812066958793,
          7.971429492696577,
          8.443031250960688,
          7.279127306369279,
          7.946270313743781,
          7.5432121189713905,
          7.4655210435165325,
          7.304967652032512,
          7.2423897046761665,
          7.572676572396363,
          7.854102635404681,
          7.414753561347425,
          7.334079963012599,
          7.72172056346121,
          7.933500997407365,
          7.5430019868382825,
          9.003857557686029,
          7.649181035346978,
          7.693500361315916,
          7.402859075833303,
          8.412866732235708,
          8.053074866218022,
          7.34142542010011,
          7.9435842453375125,
          8.094798682437045,
          8.11135527235587,
          8.432529289657495,
          8.208221082939291,
          7.510487118641275,
          7.6774129870413805,
          7.545576548805445,
          7.84198665857042,
          7.6296030244437,
          7.583759494787995,
          7.152805534837639,
          8.571495307817855,
          8.160634334477521,
          7.681423266265691,
          8.59938787568436,
          6.348622603296887,
          7.28942330682618,
          7.765316723521484,
          8.926277436615601,
          8.307140683176684,
          7.469114336676227,
          7.19103459231228,
          7.763124458091982,
          8.746988033403358,
          7.621771551272525,
          8.015499606266099,
          8.098868062445524,
          7.252050676462251,
          9.222204564747457,
          7.844818159053749,
          7.6785975182992825,
          7.617107947918535,
          7.893874378363325,
          8.561700032661111,
          8.081999660159449,
          7.834561042895077,
          7.8367516479528785,
          7.68286892624383,
          8.474682267156046,
          8.505712981678176,
          8.419952974253544,
          7.514935521839483,
          8.401499970250125,
          7.521186603090025,
          8.077124354131005,
          7.090092326752251,
          7.571665140785335,
          7.780469962708919,
          7.6585707873427165,
          7.861342784808925,
          6.967676085124605,
          8.454476302865759,
          8.246942574815641,
          8.727730324681504,
          7.77390231757496,
          7.832200549394919,
          7.93925640693886,
          8.430431799564639,
          7.9779128635772585,
          7.873896738539946,
          8.413679835888322,
          6.712419401543146,
          7.939171935927625,
          7.5816417237936715,
          7.440859319048278,
          7.850653972664689,
          8.370003942442027,
          9.212318906513788,
          8.637894997123803,
          9.075368454235115,
          7.637620561401085,
          9.813126579209687,
          7.399700197643472,
          7.383340400963933,
          7.8232936830832704,
          8.31200624587489,
          7.8090903116708175,
          7.464968930326167,
          7.720084993518934,
          8.257870126965166,
          8.569217596182053,
          7.51274293960847,
          7.634909749171398,
          8.288873553009575,
          7.8765742062890185,
          8.01954906282736,
          8.618292337841464,
          8.640577849111965,
          8.834304153147766,
          8.25641847205695,
          7.429757718199418,
          7.554276375019517,
          7.777084120836881,
          8.13134390501669,
          8.449996872138453,
          8.145230948914651,
          8.749056880253256,
          8.57058995696772,
          7.154582052582886,
          7.330684110474302,
          7.998417918439121,
          8.059106085781753,
          7.7456501566262475,
          6.956030349569573,
          8.147633752868257,
          7.884076288431041,
          7.455924979499672,
          7.656363089134973,
          7.9610165440217,
          7.0329810771776895,
          7.614826097329679,
          8.222389364824618,
          7.6012885311104705,
          7.050417344876191,
          8.659544596621975,
          8.649619437324898,
          6.895064805579761,
          7.706463369842248,
          8.141435061168586,
          6.66845158098845,
          8.511762856419919,
          8.199078729023448,
          8.514077247759456,
          7.359829113306526,
          7.951642636909494,
          7.840532980033977,
          8.76141054659123,
          7.9570203292743855,
          8.611621290379947,
          7.594291866581663,
          7.1499859043309,
          8.094187608019126,
          8.127212597393582,
          8.144506610329163,
          8.328355752587802,
          8.489634289688661,
          7.0295130474158265,
          8.081979563026685,
          8.069913850189245,
          7.853977858226898,
          7.4741608636692485,
          6.992911075425047,
          8.157438377595343,
          8.271528492737662,
          8.802064625297241,
          8.309947620638166,
          7.8561353998493635,
          8.305055103578532,
          7.38907042473694,
          8.342217763958603,
          7.836860842906799,
          7.930705944974961,
          8.586695814008522,
          7.798573135706997,
          8.574921264682365,
          6.511256109759021,
          7.438562433189761,
          7.7752148410373705,
          7.138031047116319,
          8.178813715160295,
          7.799669969339259,
          8.074325133922189,
          8.205673654354786,
          7.493509198437624,
          8.998884413069865,
          7.404840256098186,
          8.285749271968545,
          7.514073559411151,
          7.219741515020557,
          7.563457106301586,
          8.262357196664727,
          7.59951559924518,
          8.671552651138674,
          8.900181034504781,
          7.746389168532599,
          8.744779507161232,
          7.371561141409977,
          8.692658368579403,
          8.017199155534415,
          8.052257447511463,
          7.724341374632283,
          7.105243739167889,
          8.290186694479782,
          7.191158553049574,
          7.327426095949468,
          8.354918576099413,
          7.731618737700378,
          7.553723721304774,
          8.193543334380694,
          8.123688614923001,
          7.604724743843431,
          7.608757519808006,
          8.178071356847443,
          7.162165941633191,
          7.117265619374034,
          7.319862988802798,
          8.214272393107015,
          8.283132963540625,
          8.162418659524688,
          8.179883697502612,
          7.948906775892623,
          7.470568845451631,
          8.34703036325638,
          8.396425965780889,
          7.228021215116199,
          8.654571367098056,
          8.054391299882276,
          7.517244598900755,
          7.7568422556499455,
          7.89695571820448,
          7.726296238013148,
          7.981802616515441,
          7.658716350788194,
          7.647940412897747,
          7.792696211429149,
          7.733701590816186,
          7.432347477904021,
          8.298098355228078,
          7.921120256905404,
          8.044557193893652,
          8.129700468810595,
          8.950289731030619,
          8.640127667946501,
          7.779323590501112,
          7.7320102025965145,
          8.099434043929485,
          8.274196827717546,
          7.652187735716096,
          8.480583114428326,
          8.050647283322899,
          7.985494109982285,
          7.862384678596784,
          7.780517725565929,
          7.671026704277136,
          7.45484997860017,
          8.406829169155191,
          8.786058252148624,
          7.679138874890027,
          8.06416061916629,
          8.257184968446344,
          8.474522904921248,
          8.2352896329684,
          8.637311323276123,
          6.990368742805687,
          7.908092479861404,
          8.184258402641301,
          6.465909742302058,
          7.941659535324485,
          7.863633003763968,
          8.507824589859396,
          8.53242752388963,
          8.579888745301371,
          7.601916583606953,
          8.352793639958781,
          8.556056184592041,
          7.871542587306246,
          8.52675784693507,
          7.75325877907385,
          7.640156519192177,
          7.113090879196986,
          7.509988654737627,
          8.165204830422843,
          7.747614525419891,
          8.5606978900854,
          8.289628023726353,
          7.1693713315214085,
          8.459670101177702,
          9.208505738994907,
          7.614815605128711,
          8.32817033672754,
          7.966498009264888,
          7.634152191708784,
          7.770480712665631,
          7.941023240318653,
          7.681907127894867,
          7.838063524854289,
          9.200303477708434,
          9.218387670429582,
          8.998748606590324,
          8.544207883325159,
          7.640308999556766,
          8.269061914944686,
          7.56686701053625,
          8.074102543283407,
          8.442301944965838,
          7.825884651817747,
          7.998479811848868,
          7.411216992222622,
          8.29937703691321,
          9.28816847511446,
          8.618722844694316,
          8.351269368088225,
          8.524548086163984,
          8.854624272995654,
          7.914810184688697,
          8.767040918198377,
          7.385828663525061,
          8.279064308763921,
          7.893191367334962,
          7.9808519424385995,
          7.602843199012693,
          8.093615970733444,
          8.058032018336315,
          7.476291766360742,
          7.3099351938231205,
          7.603739997955784,
          7.414030810899985,
          7.4126082801016935,
          7.272101213203977,
          8.025826185267372,
          8.433764310396427,
          8.571879977815772,
          8.266366427164218,
          8.348771863596717,
          7.323244710232183,
          7.7873596786799,
          8.242598133183986,
          6.969494601509481,
          7.991979063385463,
          7.752131750074181,
          8.71516506141078,
          8.027963941733818,
          8.425277408817157,
          7.881205774579113,
          7.476943828227926,
          8.031411561758468,
          7.709389255058377,
          8.097738441980974,
          8.859218494575561,
          7.358523861323141,
          7.898693547946369,
          7.613461859710731,
          8.349164245327254,
          8.860150759075697,
          8.306667164441167,
          7.675969243813484,
          7.492053307914857,
          8.182160793716402,
          8.603246867995711,
          8.564240132528349,
          8.568099216311726,
          7.906749385941955,
          7.801119566662921,
          8.83563415082523,
          7.836282166915406,
          7.007317265365051,
          8.160178711559295,
          7.441674630017571,
          7.406333019567411,
          7.0407032040456965,
          8.706243785994806,
          7.913750735698586,
          7.2090070132695585,
          7.23676109649314,
          7.601296425940184,
          8.20868326235655,
          7.268887142902622,
          8.2747763993261,
          8.240813188193362,
          7.580271460677452,
          8.278045349624078,
          7.477984926582755,
          8.14844585397442,
          8.257992488552892,
          7.91611270954708,
          8.374841838363388,
          7.744914895733169,
          8.422472614403919,
          7.762538917037998,
          8.005214403801636,
          8.469109284178332,
          7.887871098579107,
          7.459455792631452,
          7.341899951165852,
          8.45548816779733,
          8.729596340086182,
          7.83900671183694,
          7.829455426795053,
          8.744944441114407,
          8.655083266693861,
          8.00508553553539,
          7.087994836250007,
          8.0968963598892,
          7.975684092239709,
          7.945612366971159,
          8.266965951019182,
          7.450365696855739,
          8.212643193250923,
          8.862466184208143,
          8.512764597520345,
          7.862378510175775,
          8.26817232376089,
          8.171595456421713,
          8.227759369746657,
          7.562391441364205,
          8.043292124320061,
          8.857613778893864,
          8.851843930919506,
          8.417817963431988
         ],
         "xaxis": "x3",
         "xbins": {
          "end": 10,
          "start": 0
         },
         "yaxis": "y3"
        },
        {
         "marker": {
          "line": {
           "color": "black",
           "width": 1
          }
         },
         "name": "D",
         "nbinsx": 15,
         "type": "histogram",
         "x": [
          5.050841834410592,
          5.797383160640242,
          5.817189110540322,
          5.999538979106287,
          5.741050303059478,
          6.936646195796698,
          6.3421826376196435,
          6.206086554957875,
          5.646195602875759,
          6.427789974669392,
          6.7334393085199755,
          6.25966797912599,
          5.851512921860515,
          6.0462423017740035,
          6.575951982744758,
          5.751829353796657,
          5.163225761440538,
          5.745241655274719,
          5.2862921281527475,
          6.706745309515878,
          5.401107900614781,
          5.432129989710318,
          6.217073501663003,
          6.365476841989669,
          5.5276805666837525,
          6.116999122213189,
          5.970260867995811,
          5.9430712294038415,
          6.055830463868182,
          5.808333671924272,
          5.9778385030596795,
          5.598833080660823,
          5.869763140955879,
          5.656095568576729,
          6.90279682811564,
          5.735184622240101,
          5.986825230877725,
          5.6098016614037665,
          5.3953568303609805,
          6.169877555736653,
          6.115989615713943,
          6.037857610251968,
          5.353255582206817,
          4.6787179148806946,
          6.141075625488626,
          5.841396609924249,
          6.065044649558469,
          5.398405806599327,
          6.173429121046364,
          6.148800567502925,
          5.11248296398057,
          6.946686570684269,
          6.918390979635672,
          6.148290023039823,
          5.692951978202595,
          6.408476353268885,
          6.170865842025381,
          6.759237343549673,
          5.681770831669657,
          6.081748014863795,
          5.5476838495016105,
          6.355287622119499,
          5.203429616918892,
          6.576890227601336,
          5.954184767103202,
          5.091863897273312,
          5.748073774784364,
          6.446854020610017,
          5.367385141315702,
          6.398810384827305,
          6.128886689091577,
          6.124584809405247,
          5.958251748024571,
          6.212677207798791,
          5.864761888980096,
          5.381715923730812,
          6.068425631374455,
          5.559718334899101,
          6.204762122914911,
          5.952792402486882,
          5.852563062477133,
          6.155975997146371,
          5.065138180407704,
          6.289593775438487,
          5.822166489468332,
          6.151503735320879,
          6.293131305562662,
          5.899599241645794,
          5.877850515430822,
          6.238914031309077,
          5.258442590827093,
          6.158018465726273,
          6.066282154090495,
          5.7284100841656835,
          6.204814448627449,
          5.2070632066704166,
          6.011576026185337,
          6.4043292092890685,
          5.954591687258675,
          5.341715340375495,
          5.442102391265055,
          6.1525922073883015,
          6.241774078471948,
          5.912877181552049,
          6.588538749616818,
          6.040561278057284,
          5.826668463318072,
          6.465348601749095,
          5.724288015802694,
          5.312751355623005,
          5.696628750525997,
          6.380709293736219,
          5.8232669861236435,
          6.333066429750227,
          6.312906900600833,
          5.197022630866903,
          5.453155734885092,
          6.522890158247246,
          5.868299405523352,
          6.142572241228096,
          6.341776423034883,
          6.384488531568678,
          6.074912093346204,
          6.114963273543568,
          6.527512910958315,
          5.855427093567095,
          6.897189989512823,
          6.244351149225733,
          5.8015852036084805,
          6.766048865424832,
          6.84203707157521,
          5.715910164200888,
          6.4944026480302615,
          5.482010362885117,
          5.617295259581968,
          6.632051748942884,
          6.252777164544156,
          5.846864462236596,
          5.934808019204952,
          5.530680503466548,
          6.315209261458801,
          5.217101982471704,
          5.773563096722859,
          6.78247916751949,
          5.873538218091687,
          6.076611978489273,
          6.141171391526464,
          5.93929305894978,
          6.376430103632698,
          6.251016006264778,
          5.8276949332297185,
          6.441231621993881,
          6.037503980365259,
          6.4674816623164935,
          5.3545884722914945,
          5.28349632200367,
          5.1405778195913685,
          5.925454254354267,
          6.0919588664859905,
          5.880384794825667,
          5.7761560468643065,
          5.652784866879581,
          5.759212330758644,
          5.908987431605387,
          6.384862610421019,
          6.221658624936706,
          6.103108998258727,
          6.190921543972768,
          5.811429091267402,
          5.537562766718394,
          6.522260333243914,
          5.6802970404251365,
          5.030368689391851,
          6.698443409080267,
          5.984271306730897,
          6.4805485995158545,
          6.410635829286408,
          5.800790968183047,
          5.224095824688075,
          6.593752514232749,
          6.591728329339136,
          5.37488313878709,
          6.704826698276932,
          7.211219290124511,
          5.926774654422581,
          5.94932442978243,
          6.473288802173183,
          5.779084939967268,
          5.653342572260678,
          5.7669141908134405,
          7.0818345368796916,
          5.492898360650233,
          5.4161073877491415,
          6.913650312211535,
          6.408200530757791,
          6.385546288493689,
          6.143046976913835,
          6.030876003151731,
          5.691178036818001,
          5.9609158965883875,
          6.108767652342453,
          6.198236442273733,
          6.1464438323505055,
          5.565524406046035,
          6.929351315701746,
          5.758438443467895,
          5.946061210916628,
          5.708831471770809,
          5.481446708247007,
          6.095948369674888,
          6.915216734900366,
          6.883583546181193,
          6.3731281493290455,
          5.947223246406322,
          6.064559492394943,
          5.811297229632751,
          5.951078141231553,
          6.6471307115919,
          5.789807491363483,
          5.521215527194446,
          5.883738368219906,
          7.06196153609207,
          6.468436995348816,
          5.1109958772238455,
          6.0389509955644955,
          5.613491692103384,
          6.021309488084976,
          5.572507366992222,
          6.6305532347674445,
          6.238508223126718,
          6.0488813790619345,
          6.699828814514827,
          6.245226002976467,
          6.3445560459806805,
          6.150904979905031,
          5.569906432517376,
          6.282565110021679,
          6.404825425898982,
          6.3775634915537545,
          6.4213018873746,
          6.130816980455982,
          5.427971201042381,
          6.309311186686221,
          6.4160078210669385,
          6.125838756978057,
          5.5966453264282165,
          5.692631185222064,
          4.9816028496484055,
          5.924598406768784,
          5.825471911463482,
          5.725099801936428,
          5.446778310012299,
          5.319848379105058,
          6.234974980589508,
          5.891441278916728,
          6.9540663041043995,
          6.0484573600336855,
          7.008618817763217,
          5.856368589560148,
          5.845641924765831,
          5.469806041037978,
          6.313279588577306,
          6.092981207056072,
          5.8743021513586555,
          5.68391053292423,
          5.986701986709664,
          5.594685775444331,
          5.992396442920961,
          6.918309606210925,
          6.125566273284954,
          6.895570043253651,
          6.682075659231096,
          5.39279824603241,
          6.371528200449841,
          6.405566940204875,
          6.0469394230889,
          4.8414658651666835,
          5.257241509072587,
          6.3983074540192515,
          6.698133508552506,
          6.654584789986142,
          5.139064026649993,
          5.687157345752253,
          5.722550424198471,
          6.212543660239222,
          5.961984460104369,
          5.694295819244395,
          6.486330598779574,
          5.3631385382535,
          6.3792819290442235,
          5.5403773502545635,
          5.974578158971714,
          6.032230685426552,
          6.19806720235138,
          5.7769699174700975,
          5.543392747423151,
          4.826640260955063,
          6.274890709947217,
          6.038929484975212,
          5.956460918821276,
          5.753307935713358,
          5.753900903502819,
          5.8144273867672425,
          5.381832797090495,
          5.677798848575307,
          7.857259254675104,
          6.113748507485031,
          5.6779360476772425,
          5.329173653953073,
          6.463171178708201,
          6.657550059459733,
          5.597143926178055,
          6.198610518583294,
          5.1231887676863455,
          5.8824433338029225,
          6.235569586336815,
          6.1798379041210865,
          5.749366016773201,
          5.852283869672109,
          6.188800036775731,
          5.7909583595691805,
          5.563070084707152,
          5.694011620908038,
          6.109314516653357,
          6.0168329912073455,
          6.263014807460591,
          5.877152355390385,
          5.923076502641957,
          6.094564764400205,
          5.902300536738717,
          6.123005200469461,
          6.086235291236303,
          6.001410849614268,
          6.4807808147924035,
          5.7953433596659645,
          5.815992882318404,
          5.843657681391403,
          6.385503031822519,
          5.465922714307498,
          6.13094939275283,
          6.499078841129732,
          6.325463727913303,
          6.163333329044861,
          5.489760036705998,
          6.220476639287324,
          5.838448160331901,
          6.212462416002883,
          5.423838279323569,
          5.062586264695518,
          5.14847706102664,
          5.505881932108425,
          6.108025823503819,
          5.975552781617343,
          6.313210984128961,
          5.1129699051383835,
          5.64930925170466,
          6.560356283238781,
          5.744910986062603,
          4.943769084784769,
          5.93728912448882,
          6.05158262178691,
          5.626547760510897,
          6.391677645383761,
          5.411687876291218,
          5.578259925207445,
          6.130501900828579,
          6.882415906541016,
          6.06982585628157,
          6.151250795429933,
          5.481236424339116,
          6.105932997233616,
          6.06137830360786,
          5.412244127212424,
          6.62381554024493,
          6.093853930677148,
          6.173517449986541,
          5.766231067457755,
          6.47870566651675,
          5.853417258820805,
          5.775928953089874,
          6.737966536947118,
          5.2710168809205475,
          5.927307782837099,
          6.232102224688116,
          5.649713159176748,
          7.111194952918838,
          5.895624533110077,
          5.381464639870712,
          6.6691816683791245,
          6.174063478454474,
          5.9239622693525575,
          6.065719101303256,
          7.034396345649702,
          5.615754141038774,
          5.271667818203857,
          5.61888383100649,
          5.391558167158333,
          6.014700691816912,
          5.786722557667471,
          6.128989300564987,
          6.190983539422739,
          5.641347914269598,
          6.2080968290566805,
          6.795015483896215,
          5.928999124703237,
          5.22779244059201,
          5.660198800885925,
          5.793391883947471,
          5.884405078365188,
          6.3106112429880605,
          6.442180587148419,
          5.108015967835936,
          6.529805597967976,
          5.905767947214249,
          5.897300181629616,
          5.007380650006137,
          6.916047910793445,
          5.900925430345399,
          6.265013856174911,
          5.84426224956866,
          6.093298655513492,
          6.177800047828408,
          6.035837486907478,
          5.351385826011877,
          6.406708480756331,
          5.598168901076794,
          6.059609604656465,
          7.090849406831108,
          5.917941298462638,
          5.824242886954425,
          4.764908388407351,
          6.609447618835156,
          5.951046764790413,
          6.963374489385416,
          5.7668317409742125,
          5.881095008106926,
          5.8717122583818355,
          6.167218667528099,
          6.226246903707305,
          5.615414767435508,
          6.316197092481843,
          6.541505424724658,
          5.576666928591979,
          5.795065295755166,
          5.433722239238682,
          5.530850558227039,
          6.492366531813049,
          5.861685376749331,
          6.173507748778967,
          6.145190980615349,
          6.018980155753432,
          5.22540591981161,
          7.134067450279806,
          5.832674304854488,
          6.186118382514608,
          5.9354165993000585,
          6.24201087484311,
          6.405989359770224,
          5.763457278170529,
          5.891155920619019,
          6.759765562963845,
          6.197379489615553,
          6.8826639501179665,
          6.576818949433358,
          6.74546300657142,
          6.5216503491844,
          6.622660046427621,
          6.166493748175359,
          7.568794215899777,
          6.464257608030208,
          5.625824540345487,
          5.743307157188097,
          5.693020727808831,
          5.9706280766311925,
          5.7121937968527705,
          6.3818341797796245,
          5.341014045930658,
          5.698828400437413,
          5.891992154341928,
          6.592369915817322,
          6.407389587279636,
          6.311526553456371,
          5.4550673599156445,
          6.648332163393333,
          5.977602412518956,
          7.065424493831319,
          5.227665407608058,
          6.132776505451649,
          6.798147139379787,
          6.16564346515135,
          5.629125145199623,
          5.619449132093803,
          5.511579571688254,
          5.860680780329879,
          6.749142017171086,
          5.156772203835824,
          6.25461877274447,
          5.314876010228599,
          5.494284968606673,
          6.562199880999794,
          6.192544741060298,
          6.202901112667891,
          6.4039389218938,
          6.166148953907207,
          6.270237707543408,
          5.82244194275603,
          6.409954349173978,
          5.646536404970981,
          5.801552695992723,
          6.032299621453255,
          6.0800787179443185,
          6.504019785177765,
          6.674939639415451,
          5.454528841091391,
          6.308684722934939,
          6.135700629011938,
          4.990906805126171,
          5.50083739703048,
          6.7897531956410075,
          6.783401502378685,
          6.064801116318761,
          5.766674439644165,
          6.425901107918162,
          5.929369740898827,
          6.380174831104063,
          6.653071829821091,
          5.371038697273474,
          6.967725100199413,
          5.583228409869594,
          4.925639578052124,
          6.227178775550377,
          5.527769313136969,
          6.370154590445849,
          5.811962824057877,
          6.16682659264353,
          5.60440101642475,
          6.54191641290012,
          5.657617126475351,
          6.097998419945636,
          5.919164907207383,
          6.350117960853279,
          6.059931819370793,
          6.068688701719952,
          5.8775312741976915,
          6.631068395527843,
          5.651620408903344,
          6.341424898178956,
          5.4479221426956945,
          5.695909522091842,
          6.924672369215895,
          5.2847803292719835,
          5.591364867499348,
          7.543426784056678,
          5.115910561038278,
          6.079968944878311,
          5.762424408417913,
          6.100803855211845,
          6.137877111119001,
          4.6870178507364475,
          5.628008587624196,
          6.813019371513846,
          5.533573302713377,
          5.769779093083496,
          6.383807366386285,
          5.671552032738466,
          5.743493953081848,
          6.090697014295327,
          5.869852633706606,
          6.117581968408411,
          5.702114573105926,
          6.518055332005761,
          5.6683352857160845,
          4.967891464350562,
          5.704533199136046,
          5.944545170538333,
          6.626115114749189,
          6.167012700201147,
          5.727027886900405,
          6.633653555894866,
          5.328120669390746,
          6.304583368096696,
          5.797725280585959,
          6.022352680862073,
          6.2942486017655295,
          5.816824362783588,
          6.018456070976798,
          5.639166615954268,
          6.215068734297207,
          5.506021076268379,
          6.444699013810032,
          5.772044996567574,
          5.863019339616201,
          6.593101049350761,
          5.171754668606682,
          4.859637640294933,
          6.149514072088738,
          6.662593984861271,
          5.346854338459795,
          6.249148942957125,
          5.897942198223271,
          6.283350885276829,
          5.942822725755697,
          5.900259619278449,
          5.306843040021604,
          6.57026355126326,
          6.0006359370916575,
          6.197100343110882,
          6.131811739039887,
          5.4286220161649315,
          5.99647141174557,
          6.693141178803669,
          5.464153921490237,
          5.84114274193108,
          6.318828490368426,
          6.5556157729759255,
          6.141493333723063,
          5.637729105610819,
          6.265890831002556,
          5.067725822004585,
          5.928956581025279,
          5.8598968423742654,
          6.147234795091258,
          6.075364528188643,
          5.837076560254329,
          6.94143753591414,
          5.588868831387165,
          6.348529218034809,
          4.863845898966583,
          6.396747185150883,
          6.431388008806502,
          6.638777179311228,
          6.536919886914039,
          5.45886095250623,
          6.242913671642543,
          6.102494166301232,
          5.713500511199522,
          5.83032739760411,
          6.530244340986447,
          6.8472776080364515,
          5.052405687982007,
          5.629870218867432,
          6.215049753112508,
          5.801048676129858,
          5.446593486801599,
          5.795865104063731,
          5.607480400477759,
          6.241702672520769,
          6.336618137290218,
          5.91133497676796,
          5.970718504264546,
          5.44369707922392,
          5.054958333147629,
          6.625078440152324,
          4.709006900072602,
          6.7602339218071394,
          5.924800807601377,
          5.658010497008212,
          4.9061295888659995,
          5.962613951172358,
          5.442596500003619,
          5.331722986194761,
          6.286540970358697,
          5.711649030740687,
          6.449611952753811,
          5.847256974042657,
          6.233649914979638,
          5.5305618919029715,
          6.569105114023365,
          6.215225864485312,
          5.720293756482744,
          6.069768340519098,
          6.192874973530342,
          6.205116809491393,
          5.086870559398701,
          5.181724033786021,
          6.144107801750417,
          6.575631259854923,
          6.009182278312501,
          5.539616079400529,
          5.569891034567337,
          6.301711072288999,
          6.4710395772534355,
          5.183272005752046,
          6.187199599957156,
          5.2563751410322315,
          5.99552404150468,
          6.040852848488519,
          6.095037050407274,
          5.240287238880619,
          5.179585561399113,
          6.605942560455425,
          6.616819350773384,
          6.091485545381952,
          5.868829541236811,
          5.65804460212881,
          5.283191308838203,
          5.39300791060583,
          7.446377968918265,
          6.4541259326962805,
          5.7647206437195555,
          6.257297919783383,
          6.25702142646797,
          5.585112334678499,
          6.350505143365102,
          5.617801460293021,
          6.0062238831090315,
          5.856035457542097,
          5.112442069725984,
          4.960317407276899,
          6.072795412307374,
          5.027079481148034,
          5.58010664564236,
          4.740859805848574,
          5.8389597851691315,
          5.735595645551451,
          5.967665601506266,
          5.632573702788695,
          5.343988484412828,
          6.354206505882177,
          6.694209713266294,
          6.1801156148641745,
          5.070703457813874,
          5.656366850044802,
          6.266045271514232,
          5.986944593237682,
          5.943089219345053,
          5.470932956506006,
          5.51342223625852,
          6.133743318039472,
          5.739060602760265,
          6.002677489998561,
          7.276645022033355,
          6.436963233077494,
          6.371580896795282,
          5.39751849869419,
          5.928511743646451,
          5.814773771351264,
          6.022821823710185,
          5.74696740259341,
          5.099522206440207,
          6.298231496271873,
          5.88997726649072,
          5.38703294879519,
          6.042028907580872,
          5.352679110763303,
          5.430232631108389,
          5.751341574559062,
          6.126434185699743,
          5.664419858603378,
          6.738507536282873,
          6.300081674845242,
          6.295206400267224,
          5.332865225458591,
          6.704154376079898,
          5.667761891854981,
          6.259107896456286,
          5.73855277499818,
          6.0193823268875,
          5.769397015340823,
          5.559089667279737,
          5.738429526017036,
          5.424404123157939,
          5.48925609419682,
          6.514590680702689,
          5.386875972687726,
          5.0803721964659045,
          4.820318450931327,
          5.499866821253085,
          5.431862976033681,
          5.843348588134987,
          5.278692059118795,
          6.660370465184151,
          6.027184175558612,
          6.979517172512632,
          5.371784206660127,
          6.184557878950198,
          6.415556392023358,
          5.816239720586257,
          6.084573014817737,
          6.1404779284023645,
          5.538228246577929,
          5.8229508257147575,
          5.679881011942512,
          6.4528276770053195,
          5.614439727525824,
          6.243752095850166,
          5.739438005744065,
          6.13968379901347,
          6.316092045821528,
          7.025486767620051,
          6.052358956738149,
          6.378980214824792,
          6.269629941276647,
          5.706253941651698,
          6.34309033298466,
          5.7403743056173475,
          5.224181839092081,
          6.429655578833267,
          6.224586629441885,
          5.876662179786098,
          6.08649489284822,
          5.669219824622878,
          6.039248819576964,
          5.696659543036541,
          5.873548558538028,
          6.085883066419384,
          5.8990375312960355,
          6.1613077123425555,
          5.886990621261163,
          5.998098804176665,
          5.90553971892003,
          6.381054164026912,
          4.630711855419468,
          5.180544372039296,
          5.121610072655954,
          6.3629278096607855,
          6.007257963454349,
          6.2538628812567945,
          5.345456426973967,
          6.044116248384939,
          6.374407384924233,
          6.241225574857212,
          5.952008596919195,
          5.179881194827804,
          5.368390630656596,
          4.744894715335096,
          5.478719249259268,
          6.555668243229419,
          5.729460322188757,
          5.521418056586909,
          6.199378744179985,
          6.657850504998708,
          5.864252026130311,
          5.289061470729411,
          6.562665386930002,
          6.414866640558426,
          6.072982984230129,
          5.515909614068789,
          5.164375457120584,
          5.554571450711783,
          5.537092851567692,
          4.96698922613567,
          6.262660335093906,
          6.16291850418626,
          4.812747984779055,
          5.919141612148613,
          5.509458587125946,
          5.885808800776156,
          5.495195631009606,
          6.265547147296472,
          6.33478287907942,
          6.007885113931415,
          5.3105769982417295,
          6.0152016343718335,
          5.969641395867895,
          5.796824183951635,
          5.671257094400872,
          5.760319418544873,
          6.51977986003527,
          6.3093286675960325,
          6.433698366011457,
          6.066559145276509,
          5.6961533566137454,
          6.347657817185126,
          6.55606726986513,
          5.808164016401965,
          6.014504944823122,
          6.193632795039777,
          6.141261003766948,
          5.933554105644194,
          5.974796098763827,
          5.7794525186919286,
          6.212598393364159,
          6.152478930481217,
          6.659043004024085,
          6.033770925551592,
          6.448348584979506,
          6.049340367758843,
          6.429542397873179,
          5.6254146026440255,
          5.992502996231873,
          5.406289636049232,
          5.222434935777466,
          5.2949104051875775,
          5.892307104195856,
          5.619594529039736,
          5.068501604332517,
          6.287481542260617,
          5.702821921627055,
          6.334354821623757,
          6.008231676375779,
          5.896142340050207,
          7.229789450480581,
          6.298116212124448,
          6.3072050544266265,
          5.973836417703976,
          6.314602019603776,
          5.634724606855342,
          6.6059898566484065,
          5.799231428360917,
          5.0359078684646565,
          6.211809015008372,
          7.498782897187599,
          4.983025221996746,
          6.3216571063584,
          5.399473999727219,
          5.826619708970306,
          6.306535837856549,
          6.459048268393779,
          5.39864020812013,
          6.530970872158196,
          6.7157494819346235,
          6.920745049722223,
          6.0163844504455195,
          6.467366930593028,
          5.571607607952853,
          5.401344364542166,
          6.030420070977083,
          5.533783500302908,
          5.9146636809320805,
          5.472549365751267,
          5.913221677690071,
          6.361596094673732,
          6.338141972973539,
          6.375019225113898,
          5.896385090813833,
          5.895028215959497,
          6.265340792753333,
          5.772575114014978,
          5.948900045096638,
          5.6122504648775955,
          6.739569859202061,
          5.17807435629719,
          6.3866690223262985,
          6.103424137462237,
          5.468804851115542,
          5.465275713621745,
          6.5649012593704175,
          5.222205896248273,
          5.17133116900178,
          5.650567569143805,
          5.378769460912414,
          5.489440643005455,
          5.841260007680078,
          5.924653807990375,
          6.167606395299611,
          5.898414289894099,
          6.038121465327721,
          6.6687302823931125,
          6.620803884477735,
          6.663021432039948,
          5.488788681392913,
          6.330446513651084,
          5.78086511345117,
          6.64134483764688,
          5.588225409096795,
          7.024003461388856,
          6.189895709943561,
          5.8908269561376665,
          7.098011769839409,
          5.851462756500371,
          5.441573748842335,
          5.949757511212891,
          5.691372055109856,
          6.586135408744524,
          5.996827926616302,
          6.234006811008809,
          4.967632249641827,
          5.432765700866942,
          6.504335410114872,
          5.824843007021201,
          5.9225105649179834,
          4.758544252657153,
          5.582219193534462,
          5.593734626278141,
          5.93398137460337,
          6.422652763180956,
          6.208967627127204,
          5.932304742809835,
          6.217414233192388,
          5.588101380572849,
          6.184873424734156,
          5.84126450783952,
          5.8302337857314885,
          6.260575974464436,
          6.676209312534263,
          5.691193443666267,
          5.8025065094503985,
          6.772234797176038,
          4.952245473255402,
          5.824757724884445,
          4.856287781597839,
          5.65512872569513,
          5.636439516726897,
          6.369929562280695,
          5.721044294097697,
          5.402260891936247,
          5.700975037597945,
          5.985705192374469,
          6.2665970793311185,
          6.051618122605548,
          5.542226583690958,
          5.056075437015416,
          5.352636817770101,
          7.284027185637626,
          7.101398594921911,
          6.50599108199902,
          6.2728667279218815,
          6.811449534789324,
          6.33694168953235,
          5.735029579086316,
          7.190576532010494,
          6.060840320623265,
          5.7744354327105265,
          5.79131941498253,
          5.996830170594084,
          6.543423876523497,
          6.325187226544796,
          5.767005860820687,
          5.387085591027276,
          6.039311008859262,
          5.148527461873016,
          5.56472665160861,
          6.410229527800972,
          5.64525584363203,
          5.85953568453627,
          6.197772929859705,
          6.36673289305877,
          6.1770128803139785,
          6.241152024164166,
          6.999620097519426,
          5.954014965748064,
          5.07973839389336,
          6.409381779027443,
          5.981500644854152,
          5.754271988544441,
          6.962563351062997,
          5.407227624886451,
          5.714816738321215,
          7.046309906717385,
          5.793419835474676,
          5.37096594239457,
          6.368284367023982,
          6.405678283114571,
          6.0379844338201,
          6.253013573113067,
          5.005675293224039,
          5.396211862768469,
          6.318295895431474,
          5.808879230749037,
          6.714723814868362,
          5.909251056892074,
          6.033339637014919,
          5.981633841521664,
          6.652185207518977,
          5.793115131269152,
          4.735795290840633,
          6.26523110348007,
          5.8016823037000185,
          4.985283960090692,
          5.747610005890564,
          6.657917167224216,
          5.757928705787559,
          6.71566134781232,
          6.427929983068785,
          6.473363297508287,
          5.7677986652715605,
          6.017961783283902,
          5.95336052453301,
          5.581038915990963,
          6.434811523803178,
          6.038219202032931,
          6.552830761365816,
          6.1790013696588515,
          5.540175987783408,
          5.423577415531725,
          6.55592109215678,
          5.90222920850752,
          6.37475975352788,
          5.823409634954147,
          4.95379922530519,
          6.374662529024121,
          6.410480119283921,
          6.439698855301129,
          6.320005429486837,
          5.922130230661477,
          5.50447536554162,
          5.562629308863176,
          6.089831508120922,
          5.604788916247069,
          5.906045465044191,
          6.394857163267125,
          5.524649766093515,
          6.0794434655265075,
          5.709118710633607,
          5.499701134480261,
          6.32547050091457,
          5.813298055968986,
          6.191440801438501,
          5.1922623835603305,
          6.0050447675315874,
          6.495353697245043,
          5.919830252295637,
          6.29098215898696,
          5.773287773992933,
          5.819158551286078,
          5.806949025593955,
          6.535289622823749,
          5.843587934961797,
          5.78886192873104,
          6.388055829844275,
          6.362473440196707,
          5.118441872801165,
          5.778972638266752,
          6.729803927758123,
          6.19866866687943,
          5.902303418788371,
          5.64132424585081,
          4.9357419745768025,
          6.523906007018172,
          5.856735888279779,
          4.797854927530407,
          5.192169833523959,
          6.1966097424916295,
          5.662533733033679,
          6.7391739959299235,
          6.3093985437103655,
          6.931582566807431,
          6.497340599805263,
          6.249030637038568,
          6.082649137635795,
          6.021527524910612,
          6.07103583245169,
          5.628154758115911,
          6.442374775404235,
          6.06268224883011,
          6.30075923750249,
          5.122797142963053,
          6.626023099331916,
          6.630656202064407,
          5.921864781623454,
          6.443101442516498,
          6.332833978396041,
          5.407531658825676,
          6.404051326858512,
          6.646504046054513,
          5.825493779374902,
          5.740605170102712,
          6.5792277653894775,
          5.863096507794098,
          5.617258152671459,
          6.3337431880077,
          6.496346874861051,
          5.555528055678951,
          6.211126287172542,
          6.142786663224005,
          5.646497253535076,
          5.733220628612308,
          6.054885435489403,
          4.425300064041133,
          5.814048079545118,
          5.4239945708164345,
          5.531899331171562,
          4.823070548474403,
          6.495539708870703,
          6.054700441656546,
          6.418740488761541,
          5.838413169995657,
          5.47765645939297,
          5.760112674845674,
          6.396030094328252,
          5.73982377668987,
          5.87586060555682,
          6.131759447867757,
          5.1873982098630975,
          6.327047290424141,
          5.083850550181066,
          5.555040915210223,
          6.006961419503711,
          5.88612671771332,
          5.672119322428681,
          6.216283419777181,
          7.052640348066417,
          6.103539022614476,
          5.890190796615413,
          5.7323166757224175,
          6.798012434556654,
          6.2757502181860145,
          6.082773376104167,
          5.512972959032033,
          5.908125159692524,
          6.5047267842701295,
          6.3242440565618265,
          6.779029432648809,
          5.653841704897843,
          6.7872683852722195,
          5.541514054674886,
          6.22102853661939,
          5.663817817558144,
          5.29268032283059,
          5.151603865917386,
          6.052511390115355,
          6.874775983965286,
          6.05133356305711,
          6.0813658211182915,
          6.160281073369921,
          5.974096869982238,
          5.410896204478703,
          5.937483368369557,
          6.4437078171539826,
          5.969052086032073,
          6.120855563804259,
          5.310950674008047,
          5.95687388639365,
          6.335979491489427,
          5.215967015957005,
          6.58767304502808,
          5.8561253881574,
          5.252860559297112,
          5.872871271968786,
          6.290728778893682,
          5.791708073435169,
          5.72875887252813,
          5.779678509354464,
          5.936498557463125,
          5.576190959075342,
          6.18499350385802,
          6.093810756183824,
          5.916768864885656,
          6.017958889125622,
          5.424959890295962,
          5.536949806748242,
          5.360492223663909,
          6.495890650549434,
          6.331358298417719,
          5.610066518158359,
          6.585580921136872,
          6.253458082493222,
          4.947308189004703,
          5.9898943258541575,
          6.00109800355524,
          6.232152825701082,
          5.619176949060771,
          5.356863994261529,
          5.985071238518521,
          5.996502860628145,
          5.940603714971073,
          5.208089003892383,
          6.394157923139142,
          6.315345233672752,
          5.726275815807342,
          6.174017522675511,
          5.944288105747598,
          5.521735962323202,
          5.946415367959747,
          6.309681914378892,
          6.005624807713425,
          6.259893941812419,
          5.8461021674949745,
          6.1390157990877885,
          5.55409976618483,
          5.71126493491316,
          5.349886383019047,
          6.0679444926284845,
          5.049780510491065,
          4.987751086883581,
          5.568011176689034,
          6.148564570407627,
          6.069112342892116,
          5.87870109058186,
          5.864700408849494,
          5.5350148736469755,
          5.865798049096922,
          6.612995589346357,
          5.883802427121887,
          5.9300959050674145,
          5.346910506936558,
          6.302639044480873,
          4.831654058642426,
          5.542344766205182,
          5.4984253753234045,
          5.7277527306687706,
          5.867512442134173,
          5.810551888028928,
          6.033011850921585,
          5.707681866829425,
          6.161506245221299,
          6.157797187127677,
          6.158368238628071,
          5.892096332966103,
          6.270188719326588,
          6.303768012236598,
          6.045394948066891,
          5.165449082316699,
          6.476190666479553,
          6.181256678964613,
          5.759681765431877,
          6.374291091262759,
          4.915418342540375,
          5.960647142966116,
          6.596662629911081,
          5.700232842533955,
          6.420723210353268,
          6.064160915341558,
          6.173111944162516,
          5.781174087131029,
          6.143859895615781,
          5.351403673866508,
          5.600208224116201,
          6.3079803863690564,
          5.669730075425832,
          6.766504261331768,
          6.0047611678297566,
          6.0830153552474755,
          5.589831701677497,
          6.131028848618428,
          6.419203012532911,
          6.8116259231214835,
          6.699315882612053,
          6.712781984137092,
          6.711650833571007,
          4.855004408384367,
          6.617475335931993,
          6.525763686512802,
          5.309420439813945,
          5.853784548053305,
          5.993402762684595,
          6.152257608198393,
          6.010446222174504,
          5.798096465589194,
          6.116058059745487,
          5.903448762060099,
          6.0011440124612925,
          5.572807412485273,
          6.62245671515052,
          5.412648798600141,
          5.721154432243256,
          5.5940423161206745,
          5.113538759294517,
          5.980503066090977,
          7.169397745856941,
          6.28160516912385,
          5.581489533209899,
          6.053787339525444,
          5.773441547320188,
          5.448823014185269,
          6.4012110162141065,
          6.5880831886031235,
          5.557562000946662,
          6.0593563850437135,
          6.158678180096412,
          6.156201154404774,
          5.888093671438704,
          6.16795239617407,
          6.666830270975564,
          5.306301655020045,
          6.615186760056062,
          5.743374661856483,
          6.68908275571022,
          5.4989113701310135,
          6.3449231446996786,
          5.80644301549665,
          6.095629673312348,
          5.623506261696647,
          5.370614943367906,
          5.862026451741769,
          6.253055418842525,
          6.54819132014662,
          5.51056525001019,
          6.10471996716373,
          6.603964682432901,
          5.7983418038047665,
          5.309570954972594,
          6.364183084317598,
          5.375456128931685,
          6.991990080311194,
          5.351465182848919,
          5.13689122851981,
          5.7309627037965845,
          6.797601759729298,
          6.34135090477589,
          5.231053170060903,
          6.727354517524229,
          5.717825892085118,
          5.955552872481044,
          7.053650823779553,
          5.975897051680331,
          6.889598704358844,
          5.066246876731657,
          6.479148247517094,
          5.775212564283447,
          6.904176787976853,
          5.92847115769932,
          6.532757453756957,
          6.808609119072921,
          5.7416421374085225,
          5.951306817449332,
          6.544301104863768,
          7.000637865267459,
          5.729675497848521,
          6.182642421934153,
          6.056419246297913,
          5.374659382753725,
          6.3533929935379225,
          5.859399512454811,
          6.216378975441877,
          5.745713149781755,
          6.176323721516504,
          6.178146389318216,
          5.41799230670616,
          6.599378550506114,
          5.731994723359797,
          6.672883330618897,
          6.503383400807572,
          6.674663393628821,
          4.657232530391123,
          6.267050011741112,
          5.211661355768066,
          5.843019138951457,
          5.56791740320453,
          6.320040619043252,
          5.847439303985566,
          7.175933525033905,
          6.367463320056474,
          6.665433183862753,
          5.586509427920991,
          6.096989386217101,
          5.583728899538157,
          5.027076707344277,
          6.411178590686566,
          5.9511856768574605,
          6.487471683186167,
          6.001688576948787,
          6.25673248387991,
          5.459258242648148,
          5.846591149284006,
          6.4566969846764914,
          6.487178380451553,
          5.720794646638483,
          6.501314418286465,
          5.58811662024692,
          5.214763562846748,
          5.885084974549704,
          6.325464910874869,
          6.629146819172455,
          5.780909719342062,
          5.23168540466053,
          6.654007752327047,
          5.610944964828379,
          5.588828971212718,
          5.474706707727181,
          6.4298747229582505,
          6.1371117510522115,
          5.671572364212321,
          6.221385358806536,
          6.889605821117007,
          6.308450715967772,
          5.044229920051056,
          5.606715513981055,
          6.511984401404697,
          6.152020248413432,
          6.067731865857367,
          6.332205830756726,
          5.767779187386161,
          6.103295626195149,
          6.7776334244920395,
          6.261778993904988,
          6.551832044410559,
          6.1745836682535575,
          5.259964071947229,
          5.532251174152079,
          5.459145087058017,
          5.95788759477874,
          5.393966108069515,
          6.145630957651589,
          5.706945694041243,
          6.230758134655096,
          5.445356136531285,
          4.9825254526682095,
          6.281432280123894,
          7.144270262815664,
          5.819038290762922,
          6.021312259422306,
          5.765620941450486,
          6.71798847625218,
          5.422955317681929,
          5.367908859799887,
          5.489003985768913,
          5.349390415227038,
          5.386609353479893,
          6.000886505998404,
          6.1647389711919285,
          6.165313477833497,
          6.179646935925163,
          6.417239439529449,
          6.214221797141784,
          5.587557736532484,
          6.098772018957249,
          6.039672181503745,
          5.661597046331373
         ],
         "xaxis": "x4",
         "xbins": {
          "end": 10,
          "start": 0
         },
         "yaxis": "y4"
        }
       ],
       "layout": {
        "height": 300,
        "template": {
         "data": {
          "bar": [
           {
            "error_x": {
             "color": "#2a3f5f"
            },
            "error_y": {
             "color": "#2a3f5f"
            },
            "marker": {
             "line": {
              "color": "#E5ECF6",
              "width": 0.5
             },
             "pattern": {
              "fillmode": "overlay",
              "size": 10,
              "solidity": 0.2
             }
            },
            "type": "bar"
           }
          ],
          "barpolar": [
           {
            "marker": {
             "line": {
              "color": "#E5ECF6",
              "width": 0.5
             },
             "pattern": {
              "fillmode": "overlay",
              "size": 10,
              "solidity": 0.2
             }
            },
            "type": "barpolar"
           }
          ],
          "carpet": [
           {
            "aaxis": {
             "endlinecolor": "#2a3f5f",
             "gridcolor": "white",
             "linecolor": "white",
             "minorgridcolor": "white",
             "startlinecolor": "#2a3f5f"
            },
            "baxis": {
             "endlinecolor": "#2a3f5f",
             "gridcolor": "white",
             "linecolor": "white",
             "minorgridcolor": "white",
             "startlinecolor": "#2a3f5f"
            },
            "type": "carpet"
           }
          ],
          "choropleth": [
           {
            "colorbar": {
             "outlinewidth": 0,
             "ticks": ""
            },
            "type": "choropleth"
           }
          ],
          "contour": [
           {
            "colorbar": {
             "outlinewidth": 0,
             "ticks": ""
            },
            "colorscale": [
             [
              0,
              "#0d0887"
             ],
             [
              0.1111111111111111,
              "#46039f"
             ],
             [
              0.2222222222222222,
              "#7201a8"
             ],
             [
              0.3333333333333333,
              "#9c179e"
             ],
             [
              0.4444444444444444,
              "#bd3786"
             ],
             [
              0.5555555555555556,
              "#d8576b"
             ],
             [
              0.6666666666666666,
              "#ed7953"
             ],
             [
              0.7777777777777778,
              "#fb9f3a"
             ],
             [
              0.8888888888888888,
              "#fdca26"
             ],
             [
              1,
              "#f0f921"
             ]
            ],
            "type": "contour"
           }
          ],
          "contourcarpet": [
           {
            "colorbar": {
             "outlinewidth": 0,
             "ticks": ""
            },
            "type": "contourcarpet"
           }
          ],
          "heatmap": [
           {
            "colorbar": {
             "outlinewidth": 0,
             "ticks": ""
            },
            "colorscale": [
             [
              0,
              "#0d0887"
             ],
             [
              0.1111111111111111,
              "#46039f"
             ],
             [
              0.2222222222222222,
              "#7201a8"
             ],
             [
              0.3333333333333333,
              "#9c179e"
             ],
             [
              0.4444444444444444,
              "#bd3786"
             ],
             [
              0.5555555555555556,
              "#d8576b"
             ],
             [
              0.6666666666666666,
              "#ed7953"
             ],
             [
              0.7777777777777778,
              "#fb9f3a"
             ],
             [
              0.8888888888888888,
              "#fdca26"
             ],
             [
              1,
              "#f0f921"
             ]
            ],
            "type": "heatmap"
           }
          ],
          "heatmapgl": [
           {
            "colorbar": {
             "outlinewidth": 0,
             "ticks": ""
            },
            "colorscale": [
             [
              0,
              "#0d0887"
             ],
             [
              0.1111111111111111,
              "#46039f"
             ],
             [
              0.2222222222222222,
              "#7201a8"
             ],
             [
              0.3333333333333333,
              "#9c179e"
             ],
             [
              0.4444444444444444,
              "#bd3786"
             ],
             [
              0.5555555555555556,
              "#d8576b"
             ],
             [
              0.6666666666666666,
              "#ed7953"
             ],
             [
              0.7777777777777778,
              "#fb9f3a"
             ],
             [
              0.8888888888888888,
              "#fdca26"
             ],
             [
              1,
              "#f0f921"
             ]
            ],
            "type": "heatmapgl"
           }
          ],
          "histogram": [
           {
            "marker": {
             "pattern": {
              "fillmode": "overlay",
              "size": 10,
              "solidity": 0.2
             }
            },
            "type": "histogram"
           }
          ],
          "histogram2d": [
           {
            "colorbar": {
             "outlinewidth": 0,
             "ticks": ""
            },
            "colorscale": [
             [
              0,
              "#0d0887"
             ],
             [
              0.1111111111111111,
              "#46039f"
             ],
             [
              0.2222222222222222,
              "#7201a8"
             ],
             [
              0.3333333333333333,
              "#9c179e"
             ],
             [
              0.4444444444444444,
              "#bd3786"
             ],
             [
              0.5555555555555556,
              "#d8576b"
             ],
             [
              0.6666666666666666,
              "#ed7953"
             ],
             [
              0.7777777777777778,
              "#fb9f3a"
             ],
             [
              0.8888888888888888,
              "#fdca26"
             ],
             [
              1,
              "#f0f921"
             ]
            ],
            "type": "histogram2d"
           }
          ],
          "histogram2dcontour": [
           {
            "colorbar": {
             "outlinewidth": 0,
             "ticks": ""
            },
            "colorscale": [
             [
              0,
              "#0d0887"
             ],
             [
              0.1111111111111111,
              "#46039f"
             ],
             [
              0.2222222222222222,
              "#7201a8"
             ],
             [
              0.3333333333333333,
              "#9c179e"
             ],
             [
              0.4444444444444444,
              "#bd3786"
             ],
             [
              0.5555555555555556,
              "#d8576b"
             ],
             [
              0.6666666666666666,
              "#ed7953"
             ],
             [
              0.7777777777777778,
              "#fb9f3a"
             ],
             [
              0.8888888888888888,
              "#fdca26"
             ],
             [
              1,
              "#f0f921"
             ]
            ],
            "type": "histogram2dcontour"
           }
          ],
          "mesh3d": [
           {
            "colorbar": {
             "outlinewidth": 0,
             "ticks": ""
            },
            "type": "mesh3d"
           }
          ],
          "parcoords": [
           {
            "line": {
             "colorbar": {
              "outlinewidth": 0,
              "ticks": ""
             }
            },
            "type": "parcoords"
           }
          ],
          "pie": [
           {
            "automargin": true,
            "type": "pie"
           }
          ],
          "scatter": [
           {
            "fillpattern": {
             "fillmode": "overlay",
             "size": 10,
             "solidity": 0.2
            },
            "type": "scatter"
           }
          ],
          "scatter3d": [
           {
            "line": {
             "colorbar": {
              "outlinewidth": 0,
              "ticks": ""
             }
            },
            "marker": {
             "colorbar": {
              "outlinewidth": 0,
              "ticks": ""
             }
            },
            "type": "scatter3d"
           }
          ],
          "scattercarpet": [
           {
            "marker": {
             "colorbar": {
              "outlinewidth": 0,
              "ticks": ""
             }
            },
            "type": "scattercarpet"
           }
          ],
          "scattergeo": [
           {
            "marker": {
             "colorbar": {
              "outlinewidth": 0,
              "ticks": ""
             }
            },
            "type": "scattergeo"
           }
          ],
          "scattergl": [
           {
            "marker": {
             "colorbar": {
              "outlinewidth": 0,
              "ticks": ""
             }
            },
            "type": "scattergl"
           }
          ],
          "scattermapbox": [
           {
            "marker": {
             "colorbar": {
              "outlinewidth": 0,
              "ticks": ""
             }
            },
            "type": "scattermapbox"
           }
          ],
          "scatterpolar": [
           {
            "marker": {
             "colorbar": {
              "outlinewidth": 0,
              "ticks": ""
             }
            },
            "type": "scatterpolar"
           }
          ],
          "scatterpolargl": [
           {
            "marker": {
             "colorbar": {
              "outlinewidth": 0,
              "ticks": ""
             }
            },
            "type": "scatterpolargl"
           }
          ],
          "scatterternary": [
           {
            "marker": {
             "colorbar": {
              "outlinewidth": 0,
              "ticks": ""
             }
            },
            "type": "scatterternary"
           }
          ],
          "surface": [
           {
            "colorbar": {
             "outlinewidth": 0,
             "ticks": ""
            },
            "colorscale": [
             [
              0,
              "#0d0887"
             ],
             [
              0.1111111111111111,
              "#46039f"
             ],
             [
              0.2222222222222222,
              "#7201a8"
             ],
             [
              0.3333333333333333,
              "#9c179e"
             ],
             [
              0.4444444444444444,
              "#bd3786"
             ],
             [
              0.5555555555555556,
              "#d8576b"
             ],
             [
              0.6666666666666666,
              "#ed7953"
             ],
             [
              0.7777777777777778,
              "#fb9f3a"
             ],
             [
              0.8888888888888888,
              "#fdca26"
             ],
             [
              1,
              "#f0f921"
             ]
            ],
            "type": "surface"
           }
          ],
          "table": [
           {
            "cells": {
             "fill": {
              "color": "#EBF0F8"
             },
             "line": {
              "color": "white"
             }
            },
            "header": {
             "fill": {
              "color": "#C8D4E3"
             },
             "line": {
              "color": "white"
             }
            },
            "type": "table"
           }
          ]
         },
         "layout": {
          "annotationdefaults": {
           "arrowcolor": "#2a3f5f",
           "arrowhead": 0,
           "arrowwidth": 1
          },
          "autotypenumbers": "strict",
          "coloraxis": {
           "colorbar": {
            "outlinewidth": 0,
            "ticks": ""
           }
          },
          "colorscale": {
           "diverging": [
            [
             0,
             "#8e0152"
            ],
            [
             0.1,
             "#c51b7d"
            ],
            [
             0.2,
             "#de77ae"
            ],
            [
             0.3,
             "#f1b6da"
            ],
            [
             0.4,
             "#fde0ef"
            ],
            [
             0.5,
             "#f7f7f7"
            ],
            [
             0.6,
             "#e6f5d0"
            ],
            [
             0.7,
             "#b8e186"
            ],
            [
             0.8,
             "#7fbc41"
            ],
            [
             0.9,
             "#4d9221"
            ],
            [
             1,
             "#276419"
            ]
           ],
           "sequential": [
            [
             0,
             "#0d0887"
            ],
            [
             0.1111111111111111,
             "#46039f"
            ],
            [
             0.2222222222222222,
             "#7201a8"
            ],
            [
             0.3333333333333333,
             "#9c179e"
            ],
            [
             0.4444444444444444,
             "#bd3786"
            ],
            [
             0.5555555555555556,
             "#d8576b"
            ],
            [
             0.6666666666666666,
             "#ed7953"
            ],
            [
             0.7777777777777778,
             "#fb9f3a"
            ],
            [
             0.8888888888888888,
             "#fdca26"
            ],
            [
             1,
             "#f0f921"
            ]
           ],
           "sequentialminus": [
            [
             0,
             "#0d0887"
            ],
            [
             0.1111111111111111,
             "#46039f"
            ],
            [
             0.2222222222222222,
             "#7201a8"
            ],
            [
             0.3333333333333333,
             "#9c179e"
            ],
            [
             0.4444444444444444,
             "#bd3786"
            ],
            [
             0.5555555555555556,
             "#d8576b"
            ],
            [
             0.6666666666666666,
             "#ed7953"
            ],
            [
             0.7777777777777778,
             "#fb9f3a"
            ],
            [
             0.8888888888888888,
             "#fdca26"
            ],
            [
             1,
             "#f0f921"
            ]
           ]
          },
          "colorway": [
           "#636efa",
           "#EF553B",
           "#00cc96",
           "#ab63fa",
           "#FFA15A",
           "#19d3f3",
           "#FF6692",
           "#B6E880",
           "#FF97FF",
           "#FECB52"
          ],
          "font": {
           "color": "#2a3f5f"
          },
          "geo": {
           "bgcolor": "white",
           "lakecolor": "white",
           "landcolor": "#E5ECF6",
           "showlakes": true,
           "showland": true,
           "subunitcolor": "white"
          },
          "hoverlabel": {
           "align": "left"
          },
          "hovermode": "closest",
          "mapbox": {
           "style": "light"
          },
          "paper_bgcolor": "white",
          "plot_bgcolor": "#E5ECF6",
          "polar": {
           "angularaxis": {
            "gridcolor": "white",
            "linecolor": "white",
            "ticks": ""
           },
           "bgcolor": "#E5ECF6",
           "radialaxis": {
            "gridcolor": "white",
            "linecolor": "white",
            "ticks": ""
           }
          },
          "scene": {
           "xaxis": {
            "backgroundcolor": "#E5ECF6",
            "gridcolor": "white",
            "gridwidth": 2,
            "linecolor": "white",
            "showbackground": true,
            "ticks": "",
            "zerolinecolor": "white"
           },
           "yaxis": {
            "backgroundcolor": "#E5ECF6",
            "gridcolor": "white",
            "gridwidth": 2,
            "linecolor": "white",
            "showbackground": true,
            "ticks": "",
            "zerolinecolor": "white"
           },
           "zaxis": {
            "backgroundcolor": "#E5ECF6",
            "gridcolor": "white",
            "gridwidth": 2,
            "linecolor": "white",
            "showbackground": true,
            "ticks": "",
            "zerolinecolor": "white"
           }
          },
          "shapedefaults": {
           "line": {
            "color": "#2a3f5f"
           }
          },
          "ternary": {
           "aaxis": {
            "gridcolor": "white",
            "linecolor": "white",
            "ticks": ""
           },
           "baxis": {
            "gridcolor": "white",
            "linecolor": "white",
            "ticks": ""
           },
           "bgcolor": "#E5ECF6",
           "caxis": {
            "gridcolor": "white",
            "linecolor": "white",
            "ticks": ""
           }
          },
          "title": {
           "x": 0.05
          },
          "xaxis": {
           "automargin": true,
           "gridcolor": "white",
           "linecolor": "white",
           "ticks": "",
           "title": {
            "standoff": 15
           },
           "zerolinecolor": "white",
           "zerolinewidth": 2
          },
          "yaxis": {
           "automargin": true,
           "gridcolor": "white",
           "linecolor": "white",
           "ticks": "",
           "title": {
            "standoff": 15
           },
           "zerolinecolor": "white",
           "zerolinewidth": 2
          }
         }
        },
        "title": {
         "text": "Row of Histograms"
        },
        "width": 750,
        "xaxis": {
         "anchor": "y",
         "domain": [
          0,
          0.2125
         ],
         "range": [
          -0.5,
          10.5
         ],
         "title": {
          "text": "A"
         }
        },
        "xaxis2": {
         "anchor": "y2",
         "domain": [
          0.2625,
          0.475
         ],
         "range": [
          -0.5,
          10.5
         ],
         "title": {
          "text": "B"
         }
        },
        "xaxis3": {
         "anchor": "y3",
         "domain": [
          0.525,
          0.7375
         ],
         "range": [
          -0.5,
          10.5
         ],
         "title": {
          "text": "C"
         }
        },
        "xaxis4": {
         "anchor": "y4",
         "domain": [
          0.7875,
          1
         ],
         "range": [
          -0.5,
          10.5
         ],
         "title": {
          "text": "D"
         }
        },
        "yaxis": {
         "anchor": "x",
         "domain": [
          0,
          1
         ]
        },
        "yaxis2": {
         "anchor": "x2",
         "domain": [
          0,
          1
         ]
        },
        "yaxis3": {
         "anchor": "x3",
         "domain": [
          0,
          1
         ]
        },
        "yaxis4": {
         "anchor": "x4",
         "domain": [
          0,
          1
         ]
        }
       }
      },
      "text/html": [
       "<div>                            <div id=\"0726d697-1a05-4acc-972c-7ad20a5dc147\" class=\"plotly-graph-div\" style=\"height:300px; width:750px;\"></div>            <script type=\"text/javascript\">                require([\"plotly\"], function(Plotly) {                    window.PLOTLYENV=window.PLOTLYENV || {};                                    if (document.getElementById(\"0726d697-1a05-4acc-972c-7ad20a5dc147\")) {                    Plotly.newPlot(                        \"0726d697-1a05-4acc-972c-7ad20a5dc147\",                        [{\"marker\":{\"line\":{\"color\":\"black\",\"width\":1}},\"name\":\"A\",\"nbinsx\":30,\"x\":[6.554671436134939,7.9038637205560995,2.654150502420687,6.510905691327757,2.3516039944355605,5.131222858286952,7.236200804784824,1.8087636413979935,9.395342899073713,2.557240595324429,1.0712397830373332,3.958622549551877,8.126720382500682,1.401190968907744,2.2140392481656903,0.6033289899929761,1.8930294521273694,7.003216887004821,8.211372793872334,8.113560589951245,3.6143011931483295,9.634025662873889,4.44659853680866,5.820228692541538,6.176419882445712,7.013513292436576,2.1823379556844613,4.497886577185896,9.294045965717483,2.9032365751472766,1.7204326703894224,3.142695291089359,6.711732280622237,8.727019936133908,1.8601883971543232,7.798243761747568,2.2501703712075125,6.532786719111191,5.7756103141446715,7.525268060786672,0.17065387929129483,8.617903397897308,4.047403302450457,0.8944414448768268,3.7122442322190787,4.555951370316482,5.822027367473464,3.2068468099682033,5.540403497164197,8.281487810872683,7.81681162545339,1.5890960538423637,4.1496506941649915,5.458555767136966,4.331689771805889,0.2702436214294479,1.2778082804660962,6.654296589916536,8.22530952607071,2.9661014537355435,6.966695727197748,0.9432324971189077,7.789597193356853,4.240229695874154,4.986927437525371,0.46096558250602104,4.033623435953744,3.482075459013305,8.867492748623567,9.896576681367758,1.145001006659404,0.8951314656125586,5.031034398940991,8.14199504571281,5.894994336207069,2.2030642516855514,0.7458056227939158,7.74959178540768,5.9675791411413295,3.861632818029789,0.7925886429298523,6.711338074817858,7.624351851880337,2.4300444377557007,2.1578284186510643,6.971395921255103,0.4915253213906956,7.876277977849282,6.498453388501179,2.6637956404064256,6.105718853919221,7.323872683594912,4.247176470054103,6.861051026119183,0.5289826640765039,3.4290760012697454,4.223402358438639,8.96510445342139,2.1012753554794026,7.238110499889202,4.471379205393154,0.7649974120449043,3.4332042243784953,2.165270772080582,0.09578685460983505,0.9641176855700262,8.164522483916022,5.2612071001119585,1.768837919487617,4.469406659017111,9.717528499806972,8.225393105265232,5.136197467996023,4.525162593302269,7.69299731187847,7.715431986247033,5.302534339714012,2.3394808505428175,3.1999311754899895,9.106744693246915,9.413872268969874,5.094944227971885,3.462818891308589,5.47002964108964,3.6193115987780833,6.539299619246892,5.342118152049594,2.8183497548790304,9.90329843517216,0.9644635591982431,1.8961351352603661,5.584638847104637,3.020806635936016,6.755868261757444,4.634643771734321,5.030307963398847,7.691876426069005,1.588173647008173,9.49954121338943,7.630651641153054,8.72632373317603,6.668122622149215,9.17237070331743,7.202238458200716,2.594090690717853,1.4677884884142445,5.680526178505819,9.414685551429255,3.9902801340790495,1.8351888724864085,4.084276403654881,2.8313573714269156,6.973609001501359,0.6203511895328107,3.2209565629631975,3.9814087619872685,5.513819674325405,9.148923290357407,2.242233766905155,6.792974860841927,5.816558071681259,3.6436931752226642,8.822690053797672,9.699471830851927,3.1203146519796765,7.106161893237546,1.1573084622409813,9.159040967264048,6.5461568049499395,4.273018712652311,0.036873370274073114,1.3860028566331684,1.5844608036582541,7.1260707262467085,9.859207528068136,1.9058782089748616,9.522028771703143,2.601425241196335,4.543719430370193,1.772728763399526,3.866242130291501,3.906672393085009,1.6609218571084294,5.9411613494769275,8.431141442260643,6.927843729611216,4.329532818241786,9.982809459047086,2.102330640807838,8.854843013924397,9.873523656965904,9.816201766834814,3.007061259228662,4.221812353953013,1.1634193414017613,5.498689923191384,1.1006703132518625,7.647851791875561,9.58954587729892,6.68157952795336,2.3477279186986664,2.1665384032016655,0.7628851719756624,0.42395720171387485,4.003590255402703,9.670682897358398,3.553117952072229,2.0370759333409536,6.2392244114451,2.33060697670324,1.7337957200310905,2.946650909891945,3.151779603601935,0.8449013681726736,4.762568249540352,9.159958025762412,0.03420367859435891,6.6575787515311315,2.2707908921823936,9.031004534541502,4.764880189333164,8.974453388622997,0.6675701635828901,1.218976705649072,2.914334321947792,3.0035469909074717,9.713221046568274,3.9255176254113078,4.382772571551624,3.9800278459864016,3.190588519777251,0.43246245522369997,9.923263581329323,9.604738209093753,9.211872563892214,2.855348013843273,6.1222804935713455,3.466131280127666,5.764360542391604,0.45942786310625205,0.24198509020611825,7.8725882142320245,3.049123593079184,3.6008681792491704,2.4746261229664688,4.8740296562270995,7.759792832962496,9.92742215425488,3.7052527781260003,1.6457627937457409,0.7357806696467639,5.554250436779567,6.305333088682197,6.091630833812472,2.23489093873648,8.176755950470424,0.8815628874832293,2.188004419584406,2.5274491624920756,2.2883991018217467,2.426705994881927,4.936410873916652,5.881209984522263,3.660766177074609,3.977635662955147,8.67121117524831,1.9222472276586466,8.864898601086397,9.926765446242449,4.560978431520326,3.7391926678759857,5.736339885785688,2.535655053732052,8.40794482406695,0.410067673710236,9.63666257020134,7.898543573285304,4.962602920052729,6.633825982699141,4.304986469471609,7.415016359070644,6.843920542603021,4.523213802469462,0.31548420556059664,8.910444319191193,3.3547204353459525,3.357595651860029,0.7936630759426189,5.799271280735825,6.368227983351148,7.530569819860019,5.51326195046704,6.264568904399167,0.5907147653613742,5.251924386170468,1.405010890674756,7.019413807574676,6.714869405689219,9.438784783261546,0.6821061211664048,7.227694230475899,2.0996152647751143,0.7970541164697109,3.629801015827586,9.662764295006003,8.375627356910842,2.591283358022045,6.256296051906086,4.418816722275577,0.9754751824642316,6.737688173713221,7.160300224042787,1.421266705591786,5.318943807481831,4.7214159873572505,0.411680727090985,3.4364034056148562,8.795823434824474,5.371238019531375,5.583309079542852,4.404239563426817,9.689614865331546,8.460988825520529,0.3870058742108551,3.22246851131979,1.311774384311022,9.273103093075058,9.155568570723524,5.829690722018065,3.799554219567364,0.647153405433788,2.246190879398502,1.9906994346853946,1.808745104951307,4.680275813302108,8.899691712741554,5.921438162801783,4.383865204472866,6.70430002146209,5.4299009833994605,1.9192558812673777,9.669414471688087,4.887119734883287,1.456333883661386,7.020701684417191,9.209359416524608,8.697354429895485,0.939983678879327,4.532164247909193,6.7019072854538795,6.488096161693364,4.01672980168583,3.574294482220183,9.311539656690082,5.662479048625131,7.030319267070584,0.7851095402612229,0.059215202357152386,4.519403941581652,1.455472011313268,1.3148472945464706,7.627139414522394,4.651983718296493,4.018390415390874,9.492362418437935,0.6445188022683113,4.754509556899633,1.981330788854212,7.262825804551168,7.081430938682645,0.05223031553193702,3.438504428121271,7.648295221670144,1.6112976860103434,6.7876589373380565,1.2256347369441345,2.251317876472191,4.782062436754138,9.800983606527524,0.7164134504405806,9.083471731378621,8.972710224341734,9.32408695010055,1.4358234015866478,1.0999707974486606,7.987508320418101,7.507794448327379,0.37298404187897427,3.3855428373148158,5.276266438378855,2.853178451283358,1.0993589718948404,7.503981069477601,8.575301491714395,7.696508653072069,0.32059319430058797,1.5889138065163488,6.338201796368489,2.0951207254210114,3.3888234980275413,9.733825389296495,5.079440600485726,0.7761455029418485,6.351717844052642,8.854584071742885,7.842337709521434,2.718444744899371,8.104292161638059,4.297735902161125,5.0535600024091165,7.082900509034582,9.898326402423335,7.758359867213049,1.2338851174101717,3.890578365218318,6.455477128970273,2.9666046114082723,6.273162284183089,3.717468630085039,8.261273506368648,0.9663115936892797,2.371796039174038,8.463374265650662,0.27671692866630626,7.121907052376218,5.923641795846194,1.2644282548362007,6.900199486558893,5.481796140368573,0.6819189210910126,4.5859149100837024,1.3337108406057674,0.593727114931738,9.271295147131378,5.689548862199442,1.5753696718887078,8.590748357457676,2.228910880395013,5.04111732409574,8.171503985595098,7.218174187181736,4.428307818650135,9.77464506644377,5.288896816158571,3.280209751222074,8.706662913698505,4.139428832014999,8.344713568211809,2.3505407368857423,4.693333218950829,8.04841622724172,5.424809005909291,9.099041921630068,6.67704774037013,8.411094111539402,5.30072615149943,7.830194232690362,1.5888053250494882,9.220856127828945,9.893712769898627,1.8995824139192774,7.383361784766835,5.781244528442201,8.069118085176681,3.1057087991988217,1.9121997851242167,1.0804557577302742,1.8494029213373386,4.941710271524395,2.7275436080664406,3.95168361625709,8.458256626993153,5.49706550622493,3.6192426589669213,7.38435036115931,1.1363582851747123,2.3510726906778623,4.2235598695450065,1.3590546125223113,8.882137152638855,4.414502733280688,7.572448309268655,0.9949749077275827,4.501123852135638,3.617299764509313,2.2081061259737575,0.6688953254701158,5.594793391396626,9.261194564580007,6.241908241410568,4.790462577711462,2.8153162538284504,8.60642008501154,0.8187947331882384,5.998921724747599,2.7019776992482356,2.914671198804575,7.4692332463901945,5.132281412257537,1.813564861019994,1.4258730568569111,5.121585365909311,6.784323404758947,4.795596482802276,8.323686480242941,5.2155758959641165,6.960446987745477,1.3351708324090827,8.296487998700727,5.022315555835971,2.556278850440883,1.4202841585429882,7.9423828881353575,4.331733043450576,1.2294731772357126,7.071123336808684,9.238607533679055,0.9613325693268826,9.52733511501506,4.321240179957595,8.390066201716476,8.95309963275783,2.501051247348658,8.829655111696507,6.292965412566193,5.014967941300065,0.19561938815140234,2.355462352316575,7.548855019094316,8.540889748640891,1.934691365049519,4.015958883191323,5.304059157749378,5.4109485335967635,7.434019127212586,6.885875912404748,4.463184296776761,8.346744561816447,9.623386408325231,7.995853051077218,5.897672758762064,2.153751918077942,4.827944018514115,1.707858925488125,1.6012561090622146,2.4061831964967073,0.5199177704963143,8.090678242171123,5.242439348201188,6.848038653799938,2.134547518139419,3.5051523403609863,6.83246619660244,3.5400140130375854,1.3506395743440935,6.472086258139602,7.5834441895709,7.913651053583845,5.893740773805809,2.7607657958171905,2.2488130347125557,6.258979948756669,4.942322696043561,9.932622577970193,8.678513685988383,4.511468720054546,6.825965802728251,0.9003770304691128,1.1298958043817797,4.002810850898824,4.485457121010068,1.1592335687714028,9.117989024847418,1.6249622110199735,0.5394083647373626,4.158807724490004,4.263046973314431,2.2485604979012273,2.60382616366749,0.7801520435754106,3.2678722057664755,9.962055751933768,4.140256502198859,2.3712573344384156,4.459019042281648,9.488531649980892,9.91556773612057,1.9872343366391132,3.994968531338663,2.1760032515352368,0.7143223280598043,7.623612011517419,8.803665190590532,3.490498999188719,8.45665524277594,7.3938684743966405,5.8738942172809985,4.922309420589715,1.4435948691541989,8.19266702712285,8.965604237115336,7.52340779168741,2.408484266804428,6.450663825579221,5.1480780167443205,1.927606662201209,0.6740025963137342,3.575580041930766,4.326000139367736,7.278986064585659,8.000593164848937,2.935214608184328,2.691722861770127,6.084450986929903,2.3391814698823,3.372657327592077,0.7279978391483333,5.446623543860003,8.420329647664328,1.2008129615180485,2.5314642349271086,9.1786167863523,2.214088309025013,2.17414276694037,0.414369163979722,5.6940433570871996,4.239937166788522,4.644004382215251,6.305043637514354,8.583335302821002,0.8218113989040743,2.876220256933025,6.832890171321694,3.4641740952080005,3.943620355157779,9.835552824063056,0.7930166584871423,0.6457710807926487,3.4398864561368727,8.780927264249199,6.981474814194319,2.2771243831415475,2.2736330248109238,0.9451405373118427,5.910019842122307,2.769483283344447,7.813854022759001,8.719533730173165,6.680429418371413,3.302867507449758,7.39155692181546,1.4844897409918023,7.268533879445121,9.43888457534811,6.171455536312621,1.6479164735197194,9.437559162148695,6.410268157020001,2.0608863237884134,1.6071316272773306,0.405578528802637,3.9963023044627413,9.557429778396793,2.587622460787873,2.4385743511758062,4.377953975265157,7.212665272951455,9.038072434300155,6.112117227320999,3.5182100705929265,6.105966828759812,9.737776692685248,0.11671516840967344,9.973223825398106,2.2098252064668253,4.983106493953033,9.238817066234072,8.95641773491835,9.627093188156078,4.954578420293751,8.985913534381528,1.7890172878098398,1.932916049873048,1.7972550349518113,8.442483939842147,6.5932764089506515,3.7750932863551476,7.4526081981311085,3.8945065033016144,3.9130267004316055,8.02243368715321,5.166354314134466,0.5946798787420926,7.204065306613284,2.7053827634932572,6.962373738196382,2.106964558904635,9.164197462989481,8.927745238972582,7.012206220062421,1.8654216060660789,2.2274594809079993,0.848629100392283,7.102254245402322,1.0308178572420956,6.625394684089332,6.547557685644523,5.969155380626719,9.695077864269628,2.0757165389629026,3.88083578027713,9.970841147952449,6.927869995527676,8.298738498017105,2.2434354540379795,5.332526925187288,1.895735827101146,0.5485363958570666,7.565875360184389,7.537734876339365,4.11047980680256,5.99146964031684,3.02957123206372,5.446437868381558,8.380788706915336,8.165605024436672,9.391493325911716,9.595994360929328,7.5172833637107725,9.985952973290175,1.9091473124385827,8.9183938917434,4.665808334491125,3.342839490016263,0.15748180076620155,1.7277926074710737,4.988076517307707,5.7354125307429,9.657041447032617,2.9326822377542205,2.9813585727336878,6.643881507814192,1.4831269121731527,0.8754943348387489,2.662716517968672,9.7839337234413,2.904506939143751,2.458945708831526,3.209843278860215,1.6836102050226842,0.6402512253457282,5.254837613038045,8.100419371917647,6.272632365368206,1.773038526753875,0.007063371026745369,2.695538889843795,7.1371443254424305,5.675687571496865,4.29966413148367,7.700983846809361,3.898457266647073,4.279936198235158,5.995057889244459,9.447774649871638,2.6776121073463157,2.107964024773273,7.954614775816269,2.654318192723254,7.109934059524249,1.3427095839349135,9.657281012146637,7.092908426240721,3.7502161963378566,2.183660686568981,0.5210737509368357,6.818676869443325,2.9029231309205694,6.606692382776585,8.841859581789773,1.9080424809557561,6.84030030355968,1.9023616260364096,7.498790194883853,2.0076393338920195,4.253206831755615,7.443550226710779,8.92246175185474,1.0382980951615695,7.802329165612791,9.768799499138808,3.7943055513306034,0.9468368170370989,5.622983265929758,9.53905078434093,9.252802481133157,3.3606464132078107,1.2488126441398217,7.215781273048884,6.451077255662986,5.107857695966844,3.9317606054981438,1.1189821009935275,5.835157653451928,4.077229801572557,7.895905202205983,5.410480271751947,9.92636517291175,8.025822542326367,9.888490289177826,2.5523075181212542,1.3650643203153678,6.139425431269423,4.6414952599539525,3.1254217125929706,2.202098987329327,2.7643397480248675,8.144597527258727,8.55767633708533,4.482169411961813,5.737457575987534,3.8182685762579505,1.4455536850888162,3.209921317190554,8.165130953943239,2.300188896317874,5.214790548988395,1.0060067678531526,6.039857471772398,8.759061907887114,6.385853738578211,4.277050523362657,7.933589089819472,8.740869584045697,9.200113273062621,9.295013239819436,1.8726191366611655,2.5952858201026685,4.1094772088013904,0.9452798527654926,1.629289939000943,6.0829346583849375,8.165492261521157,7.9942526259710736,7.309464639673406,9.105038889056628,9.449215802174885,0.44840595060807176,2.997484199028362,0.45730796497321036,9.687199012256944,5.0269487439637395,7.758410608226658,5.891929830404382,1.3384128833873077,8.726191034450888,3.0079493214847752,3.1627929025226056,7.631125662356329,1.0896857336589094,6.159444127756551,7.3066473998561,8.615445465234918,4.009544997571986,9.135732433993033,0.6292848035382825,9.241266015062024,2.769395262277592,6.4123507375048,0.8606360800588408,6.957417954527049,1.2763868965488667,0.35292959708758564,4.427933283209212,5.195553006565067,4.033787342385521,7.855242533988552,1.7844469363103377,3.6472348694741874,3.952200675713542,4.9620998988481055,2.070634320931204,4.517792911823266,7.4458373087840615,1.55982432899203,6.57143256967028,7.408262392463763,5.964648404629037,9.39600342993792,1.725251053208774,8.814452301835031,5.670556460573582,1.8814673664669301,5.013722526600917,4.533875599556371,8.35088770707648,3.451188605273614,4.295414422079401,4.630265120060319,2.6693811575091555,4.524624888736649,8.669301864858202,4.121641768942159,5.976493678639994,6.027462105893916,1.8260786340141655,0.1340367942357279,6.3115051389144075,4.042453678455221,4.894182381183731,4.09189340489691,0.46101782918777423,7.483562895531746,8.070152067176009,0.42559507693021414,9.129356298739072,9.354179830979001,3.4000391586582523,4.926947346037268,1.1199598845675351,4.0339733610719,6.356357384376308,4.869117315298733,9.463014674936236,2.0297690706085914,0.19661159251192717,2.0574981894234865,3.282672612944184,6.222330380001436,0.10724936604852298,7.149864591395458,5.172444720049399,2.804140066269303,9.965526984179364,9.414412049533258,1.6468926738498324,8.724450513980456,6.234528390631579,7.886022203472628,5.741709137825454,1.4264903257654904,6.246195694841694,9.991699545201184,9.475544321432555,1.194507770677825,5.729726352660787,1.3017566240452327,5.2266191468985514,7.826311613454262,6.412608899189294,5.84185446020599,4.964369393491638,9.554085150031833,4.286568249905505,9.127682893748604,9.409265641450563,1.3533607457932795,0.964886225720335,5.012901321521502,6.0863910289059655,5.029541014599921,4.957320954012409,0.2896523419977315,8.880727757213501,9.958540022533096,6.3205961427314055,9.627649776920038,5.958579489990187,2.936584085449722,6.191758501987539,3.7428256135743188,1.464171734871943,4.655867641729351,0.3725387343093878,2.47211177124529,4.1156441250144145,2.9103763074394386,0.6358395759778968,2.0052833135527894,4.502465570983192,0.11164860966540457,9.629509681353412,5.774972823829537,6.90408748400182,3.1059661060877106,4.195991842667056,3.777677067453488,7.331299466276472,4.241995763105322,4.36530948473585,7.103809117895064,3.088986114057015,6.5269363995501415,4.919212786206954,9.907861723789976,1.7688723529536254,1.37454934574193,3.1846597970049717,2.399378290240147,8.842935439457563,2.5613197491472395,5.444501582180701,0.571169357513982,3.4334576234969205,6.5366523595756245,2.2444361125106562,6.708332177781334,1.2018850906473433,2.406932981605987,0.444762747694154,0.2463406008993052,1.799602081320062,0.24364200771756606,8.009631409996082,2.612989542139328,2.641658183966853,4.787360636862722,2.764067712944389,1.3050219580304423,0.4834343715537637,0.9691497702803697,9.760663433458957,7.173010182484814,5.34825543870851,5.478393713997937,3.906722889236982,6.3949121888143265,1.8359601249974256,9.421335465709204,4.451857388990722,4.411156729856611,3.7512087250363493,0.7358082912627173,2.183939177693338,4.11715842828017,8.084411954570562,0.8683937148391851,6.596172063234307,3.0214212589652867,4.81083081750897,6.189283959824684,7.317017871801097,8.912257492476908,0.06458938868444952,7.251794453486189,5.442794694152642,5.42174223793962,0.12056971628631175,4.6072599864449435,1.1775017209952998,7.822720342474637,7.919695480760032,9.161589369614191,9.286299355308193,2.2644964049399654,6.911321078087597,9.83344130087944,8.594029851349019,7.8921871240314525,7.159325408759538,9.655106301455183,1.4577007202103742,7.216674932271739,6.9427157099107815,0.7285544889573814,7.157662329640974,8.016712885634277,5.950028672672608,3.8678767651189294,3.7425069507059705,6.937464877652774,2.363636785365215,3.7260754204307345,4.748539507925022,9.502730151227874,3.9690420204108956,6.645752829389766,1.030311634335147,8.421810090802175,8.367714943682703,0.15223073085939287,9.657965115374143,9.79422032301862,2.0565251700848997,2.765965396264549,7.019461001830577,5.651907493147174,3.5258255975424992,4.168255005957759,2.963928938294904,2.0444310678100095,5.60112735031522,6.128336256143619,5.111725418260502,8.892775250300627,0.5444697711809143,0.13806467878906714,8.262095709219523,5.146488209106411,9.654801238563858,3.0512635035331326,1.3904193868593406,0.024325794221754515,1.7286842396103508,4.6274936711983425,8.27709229616821,0.8179553655537741,9.287855972970544,8.698446322564081,8.818931813654613,9.832387661839677,5.823789442461576,9.945557114652251,8.985239904517083,1.4318644716104334,5.590076765358527,2.572607265400275,9.119274818301733,7.681610933956678,2.2681506742738557,6.752659772363315,0.638316889246503,9.028122917251562,1.3171910437537304,4.453628801451227,9.587513436246795,5.734733729282633,0.26216007369948224,4.519331652597741,1.3930348331811204,0.4350228203619,5.488568772210371,1.7428953676632963,0.3398684738394431,5.884574283434446,4.013460739599069,0.9472351894477193,1.174190204576051,2.8640812999242335,5.5727918101055,8.567255932093596,2.7167759021649287,0.450285563498688,0.6315056254283469,8.324061625790067,5.948818271479225,2.3562641119394034,9.746873603229409,2.0994160266589965,7.7273665979568325,9.607527102397164,5.0628214346452,1.6598713590440772,2.7963262009422127,0.5874492630538319,2.606148397445499,0.8782308802117922,2.8063001565214227,7.0207571036431595,5.9681625029678065,1.73689461914458,5.0577132062268335,5.185473402383115,2.3330020500054904,6.21752657134847,0.4685483983539429,0.4322085415371846,3.841365270689263,8.33225540709756,1.9219965659840532,0.30126194600725187,5.890708013296159,1.9569655643455253,5.466409503095435,2.3965166510785894,2.222206987825508,6.07757868712954,2.368307856493521,4.770953356660154,3.459161666790258,8.529264388200929,2.8826158791988856,8.888684052219684,8.304503975460271,1.3231075805680625,8.154917244720567,3.9668923779102974,4.033444071056667,4.272081496502284,3.3866816266122415,4.4774942086024705,8.433789524022687,6.283621033175766,1.7659045252420114,3.153238301185378,2.381751070017782,4.744823900567847,1.2903806127752793,0.03461780005064918,6.260495309952678,6.160214111690542,2.767711178289063,0.4825528620306252,4.805897774367147,5.917803168431897,6.0253672060072025,8.502534001042287,5.427345455488977,4.079519591516357,4.678231974738471,5.280127510608462,4.541629398305943,7.5054565281351735,2.7519457885882104,6.832034315923991,3.7596861036274,6.947639704257375,5.537970190771031,0.4558813823931307,2.6990967092492326,8.45521493051326,2.9392116305129456,7.905965936129222,9.250894255265539,3.335569633137477,4.493535070579711,4.982184512783286,5.37660825943457,2.1503624226020337,3.175186181403662,6.682748704621028,7.6954256648568276,8.741398158582333,9.837995027570642,3.3630563728171414,3.883977834563895,9.446011410908564,9.24503916330136,9.48424838614596,5.248009651227347,6.11473538592956,2.883524951476163,9.753503643604303,7.162868233492694,4.9177790805207175,3.4392607630549463,7.114655606672345,4.568681697212905,0.14368004959514846,2.3883604796828264,6.0490241181538575,6.246470212509651,1.5916300720399712,8.161820770742233,4.360406368310398,7.089385144776217,7.447695106795952,2.60732621266196,3.6978362597545544,9.840744266990285,3.862752018165394,6.773375067034651,6.842039869884245,2.521242260567119,8.088146932278981,4.0374308641259296,1.7304024190612977,0.30927211012537925,2.820228513783344,1.0485239259618562,2.8613059166149855,1.1072583977868022,7.898154305911854,3.8247305595726266,4.305726449505817,9.187473074637992,3.336807090243891,1.1984264221688212,9.666432064000052,7.80846634321171,7.384407847161424,2.7080986172176114,6.695638806002613,5.8506088354168915,6.484876521361679,8.872278620272434,1.576302950584052,6.202695532811317,4.88142420767581,6.991706286182129,2.4879869690720327,3.7186694069812276,7.910471021972695,4.533419546646384,9.441761148783872,8.656894106679792,9.526708087037253,3.440890086349455,5.9703707576359735,1.53332893734757,7.382895322227875,4.762649518871229,4.62060566855543,5.049985905370132,6.020286895152182,9.154446367513714,6.403005567499522,5.249844049039542,6.809587138181582,1.8827605230051703,9.699369454870405,3.61333722860002,4.167723088216912,9.22373954215919,2.6154486111646227,5.3032654596014766,6.440916017984867,8.992879083031712,0.5844631181388493,4.696093926970622,1.0091483151576464,2.704992122113643,1.4208911114412304,5.7126893336448035,9.796260643780801,3.5201649821158574,6.2826011932826855,5.720193893728832,1.489693103160964,9.595349353892246,7.708226612150129,2.7589934709084307,0.5916866062965898,4.364139963080439,0.8450902023276219,0.8902844403903043,6.954826147368608,7.8515981203668765,7.427639360498461,0.19370724948559737,9.715203924781306,5.13848871899082,7.139000109264931,5.417547969637457,4.616096878176985,6.600114483103279,8.03212313729518,9.591782500391298,0.1261326160596843,7.37726595838353,5.899535231649637,4.818628932997412,1.1941453570977634,4.510799017205526,5.539867334815219,9.053824315913207,7.560417646009635,8.220536957557243,3.6325644534321864,8.166915945831349,0.18606528159201607,7.2958322432761396,0.8196075821470528,7.244114901836519,1.1320865612064135,3.797398544369978,9.621761272415586,7.95193044467802,1.2624141698868796,8.100766675915,1.7746089171449597,9.016660625827118,6.340041655778229,4.358137534111648,8.593919232163376,9.24064280773775,6.606002328004003,0.14251070766724827,1.4200283563914518,4.130347262790894,1.1960934314694904,5.200160512838283,9.07196802911235,3.791659056876676,5.28046308188984,8.175438438067562,9.43770796315128,0.12020908505237626,8.992812991975809,5.19633952047241,1.2489805369635898,0.7990066834202147,6.975919976611306,7.208074172624439,2.6332019920853975,0.2534092269696786,7.4453873165834805,7.983217268634836,1.9746494772601775,6.869117740191806,2.8046608061966074,0.6534570411307572,0.6256470528185964,7.773153914135326,7.444105174841411,5.5990356768003045,5.816889212100654,4.30267635809526,5.304084063676459,1.9656049107207962,2.59328284983829,8.905567206209874,6.707051681014553,1.51692361480103,4.834901707202355,7.666473081812396,8.49200821142312,5.029503986093914,6.93134163677734,2.761717841662411,0.4388827633369774,2.9874871567189523,6.749548064861614,8.429902452426944,5.019435564039075,1.3728868005220607,9.725703650810294,6.719428352249005,6.017333001499682,1.6795982936496068,4.592050405259891,5.963507707435108,4.510410928523802,8.992590051457858,5.52741704858817,6.598005929606407,4.317201740479309,5.18752426664455,4.379222550350991,0.941420928955301,8.00844035495596,2.1982493254915347,2.2105276237024873,6.636215941866438,1.0399662131615017,2.938403066466635,6.59276134648435,8.525023864049594,6.748611735378552,9.500609772121143,9.634825104840223,9.478107072568498,4.036800530132952,8.508802091912795,6.620704488474345,7.643137743955627,6.243902181142463,7.964117453163832,0.2279155052380588,0.6090675668474543,1.3579809593221526,1.595078995108734,1.7758089253976383,2.9043912732120294,8.889509810648203,9.20790109328035,4.408450135503717,4.538024368113684,1.0207932859534297,4.62272021878348,4.013647363377483,0.4223576498122239,5.62044734987638,6.496776716032865,9.131251498168458,5.094722644270578,1.385765316345856,3.0134349663776447,6.1050684430772115,1.1255020759134238,5.9310070143641305,5.252068098422338,1.623246187149614,5.706534795549426,1.6870392134815737,9.977622334887435,5.049576418923345,3.1735762314649616,8.439128094091924,5.026253310089894,1.0348621338415542,4.22297183280828,6.5560670600159945,8.079246619993855,8.431938229012713,9.749737222099736,5.746923121856607,5.428816292618768,7.42222539735271,2.500035860674764],\"type\":\"histogram\",\"xaxis\":\"x\",\"yaxis\":\"y\",\"xbins\":{\"end\":10,\"start\":0}},{\"marker\":{\"line\":{\"color\":\"black\",\"width\":1}},\"name\":\"B\",\"nbinsx\":15,\"x\":[5.188493417980449,7.693265621970895,5.910309138432229,4.405337189911889,3.255623089553349,5.9475620954520405,6.394906966154524,4.991137282704828,5.967459302629539,1.8442485891611278,0.9386390558688618,5.088239707782361,6.326584936852953,4.386799773206867,5.160790350086585,3.6322618536799647,7.43864112962077,1.8776296811796156,4.889726301371528,4.598107133480713,8.171132387528928,5.059496412523731,6.458298053692759,5.128739822285685,6.902724122334171,5.172953626781432,6.20415537373106,5.704574475307309,3.3635904879288416,5.712923207801104,4.160694375557822,4.015421665090578,2.1094287361102824,6.1779721786814115,5.7835828924314745,5.434414493773589,3.0655971000150473,3.7954816294563947,5.892161906827264,7.5519133674611805,5.87963952638723,6.865914057258696,2.0889706847312075,5.069796358345669,6.436990225761123,6.28888556761262,4.565346786841974,4.908332116370966,2.9210144712362722,5.994850578807245,6.124548380869173,8.757060014266969,2.7747247761826,6.519126798497535,4.937480045934006,6.901102982301131,2.9732180699599504,3.7873694297306586,4.122585227947948,4.2822861264080165,5.496454361819296,4.756824337938965,5.019588067680721,2.874888827788544,3.5040039010097583,6.583570279489777,3.382749264472408,3.2955788133747017,4.598123111151744,4.325060721307088,3.624945805665746,8.124520755553393,3.034949155943576,3.708125005618999,5.177042004149551,6.7385488035238295,2.722194830415874,5.684265629134656,4.051879094788088,5.344855694543326,4.928823387368795,6.232710251483542,4.4755439994913955,9.359225619479268,5.26129668890373,3.960615339439938,7.404495745784827,6.912322336831719,2.9273480820002566,7.7941731525649285,7.075993281990037,3.7356452028174494,5.532128931036372,6.725480183584779,5.3134676885124925,2.317643220385066,4.577084157028007,6.059188071041027,4.927835401592296,4.745427727592801,3.2870780114627554,4.430263191478477,4.5837862147329975,6.02750605760637,4.704878393970011,4.601434836163584,5.365077032428976,4.216475959761316,3.1921892830141356,5.530314050893294,5.741562258972735,5.48972496670717,4.227920584237923,5.425693509287187,3.4534688848247206,5.1832180643910455,3.197461328824211,2.6658551518264852,4.1273126588340645,3.5291278313887875,5.516650393198395,3.9849802899251965,5.2057397209283565,4.845629056458661,5.712311502911519,3.7411916956822333,8.80147030580842,2.5680563373198035,5.829719936843647,4.006736247882178,4.379764530244801,7.837943886344527,5.311345776550543,6.007570512136018,6.67064688900045,4.077303858104365,7.054708934636199,3.1618358616501485,5.726953269323767,7.322772489164879,5.45971157951449,4.542132098271579,3.7651360670991023,3.611289724793489,4.203289056888066,3.828383304662705,4.0525646128045425,5.024781085792797,4.220715351526545,4.40797866434795,5.648575067621659,2.413393394834319,3.33201870606504,1.8783692169605555,4.749729068477487,5.459458482481516,6.421922064676021,6.011029431893469,5.81569846663155,6.146562513484945,3.1568357098379014,5.041171652975121,4.308460925923077,5.853148085180509,4.774814029248947,3.161913796667792,2.738422241407015,5.954164827545361,3.7222031660741903,4.870018715283751,3.9116431387299704,4.100838888574719,3.7843208003400166,5.851249432382937,5.8034565473203426,6.41785204573846,4.8559737818666,6.722309367223335,6.744975959922572,6.553638704248487,3.6490173335626714,6.350423670205167,4.590118855169144,2.6041367635033956,5.629138982261431,4.884606237178921,5.486728849914452,3.0362280942200295,3.6738372110276467,5.24435627952831,3.9950457687467877,7.532007783563074,4.6961527679445325,3.3974756825632952,4.540283416202945,6.968465208637225,7.387436157154255,5.7663621332796,3.601840299308006,7.2233927756238465,3.204544480506454,5.935898573850443,6.945694940730998,7.737457722944709,5.589461043699298,7.297866034116514,2.9310062047272343,4.51279473879602,5.261319449901013,6.791843948057293,6.554589920326945,5.096125939902066,5.570790985904212,4.439061583249941,7.03204849416022,4.875866165437225,5.473589749451455,2.99804070362862,5.182053136541021,5.017012909489943,5.604406305380728,4.4874641030436635,5.703606832099208,5.20013849672895,4.76256344401258,6.529573815550611,3.712729302381866,5.668271759727997,6.9911498404173615,7.588866565567752,4.257099449660281,4.012250278260535,3.4781613576246087,6.236166443576531,5.443182640355691,3.96628824292232,4.657610493980988,4.211593241539498,5.3277481846354515,4.598128193077978,8.73445269101501,3.393762997353196,2.019501074016781,4.036021224736099,4.775749029905016,5.578831731963164,7.678492453677844,6.328677638978098,6.620842739772887,4.434838442703381,5.870816756184398,2.93532844674446,4.160928092157908,6.191631097926056,3.051195040566911,3.674459774496064,3.6233236332870913,4.12411994681483,3.771089442328488,7.7733693813763445,6.264373122341112,3.336167187669288,6.061365892886398,5.225413586719784,6.99814539312518,6.280446406469169,5.6853691646834195,3.142930007466765,7.24749569608179,4.778396466731363,4.869577693043564,4.618034841851108,5.490153527970201,5.6292155288477845,2.412549777288714,3.3816115221015215,7.921278727715567,4.35302362062129,5.548755286516103,6.70086336899898,5.002465902324821,6.338811519170393,7.405292137521455,1.8418957432089251,5.6837875346635425,7.4029972435826075,5.8447922609166065,4.5357586593724,2.763891255850594,5.200669430121702,3.916208167349606,2.9997614624157904,5.699575750600165,4.442224821064423,5.225922434223656,5.364541966301107,4.412351118841677,6.200153646247079,4.627131436371733,2.7151338637213187,6.254212364593839,5.76450592894604,3.445365393349331,5.541368511221985,4.561863110771917,5.100551625480931,4.994850553794167,5.446797092366229,6.413433022978014,6.202832631261909,5.449407344944651,3.3165669250102554,3.3476286294995714,5.653016687117331,5.565833074999972,5.294133607576342,4.627139050959756,5.861401669703675,5.164042964048459,5.242188375476638,3.8149063837615866,5.2748606505533315,4.90034919135454,4.413697096619061,1.923230896564073,2.979381178953212,6.328548019832289,4.260186177146708,3.326023540919793,5.436896064934776,2.9881826017416886,4.38256987391889,5.293226831801483,4.422433586146861,3.588191034251234,5.8814503239147955,4.452312533664686,3.717718666048696,6.811966992268658,3.74086819520612,4.6867734541480575,4.394182627206745,4.850337973651223,7.648336032562323,7.171689918064689,6.812561370576097,4.4959788953679345,3.229668824149842,4.593753734247357,1.768692097994676,3.3103465579494977,4.39579378726741,5.886845486139259,5.641522682573741,6.417120121801014,4.985596561354137,5.274732406405572,4.187726455880878,5.210420681806379,4.2149804655110295,3.7981246067790773,8.941219448361576,7.58382102046277,4.242928746009214,4.7262904968923145,6.688758816367234,1.953796792092982,6.437715419135244,4.312661942896751,6.698324778614974,6.218480936403584,8.110510329138682,3.9946531782466908,2.4605875878410854,5.33955416864327,5.240678399055355,5.56854810750741,4.022999836292688,6.4917540378351735,3.8576004202229948,2.2376620639143403,6.775418528064941,4.101159958815417,5.957220442512737,4.009197702198961,4.9957537277110164,3.652093110580707,4.859450416211335,4.753719001378421,4.236122187919046,8.455568172191038,4.015361180160812,2.795866234187448,4.985452335209505,4.7845254627966884,1.8620601179753393,3.3824070218268405,6.000253445391076,6.841225004304526,2.2924086044677403,2.073714761268244,5.013271297182877,4.697701207274889,7.097571130659103,5.037622508858982,5.0162639123843835,5.573801113187248,4.374806597275338,3.672363060805794,4.616143784600385,5.091484218394599,5.384445560205496,5.4066172288163195,4.618972878994456,8.123447330721007,2.621554771298941,5.986174735441423,6.052562455183241,6.414228983625449,3.4064096504718444,3.26288264956214,8.154136874287023,6.035043549282192,4.184262650217717,2.315964530619893,2.600101444254744,1.87255778474091,5.11120527030227,0.8926141710113233,7.038088818114472,5.724588547967158,6.278279487459911,8.241999815279062,6.644310127039832,4.924483153876055,6.785466433049789,5.995618620955263,3.9366891202285332,4.443166770373526,7.537622971112148,6.7495096424391035,6.068950632133827,2.3680121643997256,7.13455466765229,5.40153314241568,5.9639454177321936,4.691321561368865,7.32116655191942,4.789081052025153,5.036530775801014,8.146487104783922,4.921298953952757,5.944089788702248,4.830505285356823,4.926359593919897,6.598461044481798,4.864046129887551,4.255451829600921,4.931665039690135,1.720405672342845,5.650060758943882,5.967602429385688,4.994919399644108,7.9679645065974976,5.432407767035639,7.4330370524026605,4.374247255651158,6.467530836796244,5.741222887966639,4.683132602848236,2.988537940415001,4.982218227830171,5.996682499921126,3.5432371766417132,5.060485430370939,5.683026481750594,4.783126706616611,6.225370417555135,6.1029656109236345,5.581499477149657,3.7062365364330794,6.026800914416904,4.372944235465407,4.59867693919299,7.231996145222882,6.538633646969146,4.409246448048538,3.766364467012968,3.017168692085308,4.376480843052789,7.02181405772044,4.884363832896115,4.88895795451167,4.2450032970685525,4.946827333630572,5.243277129887609,3.6195508426208165,5.178509894424258,7.477675485641331,5.420750286339927,5.036925362884761,4.312182263717073,5.035776000574218,4.888588075152066,4.697526624704269,4.237437389320349,4.133696434484858,5.8393517756231725,3.8777142897592247,5.114668285127084,8.597452092636672,6.168879176145033,7.094305653652636,6.297195450652876,5.062671820815787,5.497464312461451,3.8722132314369944,7.139700924549121,6.326339306275375,4.095989895301101,4.7126536201662725,4.416736964216936,4.231398701278972,6.335091156336864,5.850929359160354,6.06523008233323,4.821968855209185,5.53856212383454,4.979027007237046,7.197375027431867,5.771652515128739,3.1215581281913396,3.9119675960896214,4.974035303901389,5.938179564698395,8.422423847334272,6.145666980915022,6.942793684356362,6.690073691482208,5.999504389385819,7.42996995408966,4.974212009760088,5.887113795343093,3.8677160360959513,6.171872039115235,5.246281945769158,4.742550976052276,4.488532919498166,4.400293719102628,8.213860627497237,3.995601521023622,4.640196086482968,4.723918023201195,4.532603745646767,5.765288847358731,6.538911006037571,4.739991578987343,2.037154935272885,5.4646372501281135,4.171319383417113,4.197810638231711,2.790559862137027,3.067728679915146,5.761882064430083,5.253608974954389,2.6995261555596572,4.876283630078994,3.950693772226119,3.3754008072567996,6.029080687779486,4.4721658601313194,5.479122718331637,4.894202570127199,7.414563652406281,4.49822919405213,7.982633490114662,5.400090989818628,5.01767226761571,4.612491193237695,4.557938864315668,3.7458540029949656,5.31954875506565,8.843841208308588,2.1744704028611888,8.305356488943183,6.4733359551414065,4.849789797566841,4.771467555860847,7.385431097283787,3.4952104477288275,4.690405106138319,5.618612759307597,6.343249426339706,3.5934520672395918,3.8081181857380764,4.967593210879301,5.842543152590116,5.880040119426542,2.5737024051442163,3.456113762073384,6.580290271823564,7.560691387424366,3.5791828516474378,4.640067769707404,6.04173435560198,3.2680425763209877,6.273531826438891,5.171873250623312,3.318611824686311,5.388426925072418,4.222470501477485,8.094024895732268,5.0617497702212315,4.944829206699836,2.9272093340042007,2.550807586097073,1.723976341431546,7.965520341744803,4.650021291135848,4.11638606425368,4.605021612837165,4.971983922110312,4.5416900795910395,4.394057689507612,3.5338176058289346,4.449055231249454,2.912338035623012,3.0138486850942914,2.1784385576908805,5.066394516620433,4.353985536558156,5.728212175517351,5.402137630510598,4.7098654286155535,3.565670541407326,8.527396209326671,7.2657623917689875,5.639125343498244,6.486100457512525,4.9729305557880155,7.249893018766258,8.757603541517808,4.840222091759893,3.729871210747341,4.045252065136293,3.974432779284852,4.150430494730072,6.353594355733919,4.740016769797245,6.267354829179454,6.036981721137032,7.19967264388544,2.774934190149256,7.122472700888087,4.656819033267054,5.293927134485456,7.4758834792805775,5.327824160568811,4.777730231376907,3.2745615651798685,5.031486647400527,7.159548162381682,3.8118314462881755,3.7645284294999586,5.529921988885606,5.495750538652024,8.575446633442096,5.497974839271041,4.063090294385593,6.093830396090983,3.6171647118389334,6.494553975789448,9.473214583622033,3.7056063480220502,3.984106659126649,4.276282957001811,4.886841957841168,3.4683277003732447,6.04881592753593,6.513970413203749,4.165860206789586,5.388631312448088,4.274260248434961,5.828725032011253,5.21353747438844,4.532724900592105,7.68938034419476,4.733840100062331,6.322163573265622,6.299548501839325,5.598806965188617,3.243335207539557,5.641995799439774,4.273335097461147,4.466963395467761,6.896160686798501,5.140078924229398,2.8595391981961886,5.8106754810637575,7.523581852912563,4.897988477638624,5.917516602867846,4.126687649698954,3.1355171174211836,3.458334344583657,5.3221870497856205,3.5291267244403692,5.6852315634011426,4.060587684156115,7.028490931975822,5.9255565658084075,3.7413082157731545,2.4923564561783236,7.25180186860473,1.999842502556314,6.945312825016167,7.110393869988494,4.937518368895221,3.5934021975094135,4.221817935846769,6.883328274197753,5.030858819333968,5.171825407948054,4.990687596029698,5.952370952761625,7.134496426105316,3.964798606438424,2.995121314007055,6.914625236289817,4.305634951061375,5.181831994536534,2.267557314871899,4.83851021403471,4.176479097982125,4.460567298666796,5.716149019554355,4.942426213581326,5.1802144386573685,4.23865184354455,3.0972489753778554,4.513566682040564,4.256804727572889,5.4574441313316235,5.220115030782208,4.267781912347845,5.338169580225373,2.279336276602769,7.304280660227108,4.702631805587395,4.106183786833062,4.920048551441191,6.45403735217981,6.9416575587219835,5.455484985235905,5.271380132215628,4.2168147569023375,6.583265407196074,7.6306669785415,6.622511998692678,5.75094210562272,5.525713520416577,4.477518481899999,3.751002329946987,4.0947654321235625,5.0708592029779815,3.8443209280128103,3.4785245999367618,3.6261662570419,5.845920934940002,6.710322961637692,2.3080579537262316,6.5314770394935255,6.058718299451257,5.909339253750449,4.40660805243852,5.457253335317291,5.055106266195771,7.867987613587872,4.407694459274802,5.365986877058244,6.206325413560837,2.8293354375396595,4.9424508958507785,6.1930434869396205,6.9879208946777425,4.508272658595846,5.622953798189635,4.583770340087829,6.830317980691477,4.663773026462327,6.896518450173177,6.271031771014143,5.200455250661788,5.8266921765798445,6.260136669542501,4.2189262959267175,6.521416609728055,4.573009059831806,5.481584101166493,4.038256895629781,6.600585988763134,5.723844950604697,5.724358001039039,3.5735746797788615,5.788116790059454,7.418741275166959,5.746991162259564,6.849065967979512,8.181727739435674,6.630339994528591,5.648072565288394,6.602462811169245,7.6025756860826315,4.151488134235188,3.6356593762326064,6.3491702121440845,5.194786642036583,7.1530159938335185,3.9166026731246237,6.390172289906922,6.946235079908923,3.9831620629110396,6.799405871310098,4.962923226462466,3.5213451649533107,5.306864329192376,3.511615572982496,3.610202015033928,4.098178791913448,3.5150946267711074,5.308768878570597,4.206070983138326,6.991491256491602,5.6628984210626445,6.743858063535221,1.8469678909854244,4.968424533514814,4.948812680693226,7.5391900824364795,2.7219597514754383,4.836359825021133,3.5376940849144702,4.168860188717456,5.265212895364124,5.83224022978203,6.085755927354208,3.767647527350802,3.2726824765202593,5.887190419814295,7.275150476961652,4.396702018123438,4.290477188185609,3.716319279819011,5.623704031834789,3.934882101679774,2.4299446401753793,0.9839972882128567,4.067942484089835,6.898402638882364,6.5711781309619655,3.9245211478904727,6.611356463195456,5.912978761926562,4.654197568996799,4.316699831053205,5.718901150557091,4.969194368192464,4.225180221562225,4.051236821957672,6.68404806968043,2.893012381924707,5.217031484809356,5.303482399841695,5.101818936854673,4.929247185258486,4.75804730059674,4.717352765862236,6.98663938377834,7.1565383032320735,3.667352286185323,3.192080382723288,3.5947464828662774,4.370000197979113,3.112446931096768,5.492227059227977,4.363488245250217,4.910245826900598,4.96155770312455,6.450588502283855,5.702231725102379,4.31189815181438,3.7693872863345366,8.262812467808129,5.3454517663101555,6.898706230668022,4.991051854336116,4.886534887216529,5.694737177740466,6.707938883417146,7.976462274180081,7.542689061664225,5.058101170055962,2.618789435711242,4.259321515804024,5.222792747386249,4.825529579280843,4.754865238808181,6.814782069645268,3.4445272213038165,5.19996044415413,0.9655532344011277,6.416227436995377,5.232443837341121,4.5717120928833355,4.261041549418146,6.468550865511768,6.842776671423483,3.0553218879670303,7.5491735776369495,3.3948791445513358,6.5812206246129,4.581189900725733,6.458283027698668,5.451539487714096,4.6658986013124695,6.930444448690155,2.699446871999022,3.8567443124245266,4.802511915749396,2.9801266918075875,6.5795883144531855,3.8629067309956437,4.690595208027256,3.1119258698596104,4.2189781127576005,4.4255654943523215,4.401496012513001,5.227009388954937,6.5824367033894955,8.303495088332532,6.931385274946731,2.744386184547617,6.4600069537825995,4.043949669074107,6.81376840358139,7.108645017028684,7.519225493731625,5.674040453337289,5.426876424253674,6.492842337616118,6.852509776431054,4.464715583925886,5.128528115969743,6.416554922398282,5.554790959117269,6.988098952121361,4.539358886192415,4.693607163023537,4.9450716529283865,5.758584914264779,2.2450206705606397,4.502639075925102,2.8403779563663987,5.55697401146918,6.377262290381131,-0.267559221512907,7.251386154132632,5.985012511733195,3.3076103196306015,3.8270728994354806,6.868977720175795,5.106653000710046,4.204915137611831,5.000811462356495,2.9530238286563404,5.445298567098339,4.016611272121058,4.316318190485463,2.831789627137271,6.8804549184532,2.800324354337822,3.148379328366448,5.3534602093154895,4.2508251003368285,5.3998085904388216,4.738205810786171,7.988753354427231,3.143166813982546,5.210748942339747,6.615138177133221,5.9787854894908765,3.060599645974949,5.243594841762207,6.464993455967907,6.124779181527569,4.250870196401629,6.756754489186612,5.383206644420591,4.990152166102824,2.014849729807774,6.651945649599819,4.391185291225551,5.26497204418687,4.758505585650578,6.16815766498207,4.106697419416463,5.940034477984622,7.149384857179065,0.9035769804375438,3.706371850136203,5.962648446532214,3.0817261893590286,4.902615491703551,4.03443722003738,5.2033978974284105,6.073867113924669,6.541022478687443,6.283037898113495,6.481569582657709,2.8496950296881964,5.325518459580936,7.036230567879167,2.942389132317947,3.8174698808085212,4.976550965110677,4.500334171214245,5.42256646466551,5.084021045810029,3.923768341728888,6.3343156432503305,3.911923169039148,3.6121173600382366,3.7003424748962113,3.0083102296341004,4.906464869187516,2.311744222113979,5.439826130916834,5.717567259898618,5.68371274915124,4.112216067308863,5.643157026923259,2.8066015188811244,7.547703867751898,3.872565321807634,7.095142430962467,5.755194293770025,5.831394576953038,4.603803476099036,3.6357410770154757,5.3343625018155665,5.062711229807862,3.356124716652854,3.556332364377839,6.5429160411448395,4.9059832981337665,2.8419587599494966,7.919128827470914,7.478018017805512,4.12927388826175,6.002262026837085,8.62756721778985,5.458804415126826,5.140038005121443,5.473733596256904,6.428469478712368,4.581029623416391,2.292646276037498,4.909846818715009,4.679427597918064,7.775837262828226,4.3486583154973015,5.169159043694434,3.7634327807820007,4.8540310232927855,6.429556708138429,6.007365647289335,5.592083549649898,5.908124592688039,7.307099381550282,6.822791658696945,2.236796288913942,3.224924777096027,6.8538451457763525,4.425939008490404,2.624113003927076,2.797731050890362,3.688368177725694,3.13725563311643,6.234269880572501,4.969326984213955,7.597410565757562,2.4673558817453074,4.680156833344785,1.2689337212594376,2.7301503483278506,3.955823611370729,1.51852670426781,3.632128720236622,2.8262820866957887,4.846793426651816,3.9795374067276663,6.0688059674830575,2.948175807091403,4.659459884484479,4.595567311533752,5.596749386843389,6.7670896758509675,6.199034989487181,7.857567432338876,6.988326796269484,5.81478373621448,6.414041242144225,5.036752968718894,4.033015697163723,6.00238873909756,5.845983553514174,4.187900797065903,7.133043078784318,7.822848637355873,5.422512350812295,4.112482439773287,4.379727824421783,6.608040275366708,3.730279264021235,4.5590763768194025,5.767849726141806,5.333588658646796,5.782810596546029,3.489714846431162,3.322618936113931,4.109540910690437,3.8715398356617863,3.194072429604078,4.606023439030836,3.735947398439029,3.6672221382759265,6.747455935353667,3.0955511640704216,6.043137403293214,6.154733834550812,5.501060462290474,6.619490037704704,6.8575252587443805,4.966662347206087,5.688854597496373,4.6382948676607025,4.968222333862305,6.073991920480578,7.8254003644327685,4.7956726708277415,3.736322785536377,5.031283224946025,6.9348742597092965,2.2531180446667123,5.597702063292921,2.704897211595193,7.631295315313908,4.9790681755992905,4.697800546304995,6.515388767701965,3.3735580323357763,7.336505738102764,6.421925361637374,6.2981863086504575,2.613049449598914,6.7009693462360564,4.770487035946303,3.8505421189438245,6.731555340446723,5.164525056799958,5.222271618971224,3.8402931537027816,4.388172346375965,5.338710500839902,6.6146363671164154,5.08056208757996,5.005724859689898,2.1274693561881235,6.338994212173158,5.327810727605736,6.455115151609195,3.318462818528084,6.366128653522962,7.240263053180305,3.726337779775139,4.700156405710292,5.20467493784203,4.186789453607684,5.255172510339769,5.854079123531651,5.776245396303716,2.989091991695308,7.3753816608900875,6.267815166118217,4.892733279922798,8.305372785602938,5.3941631045616525,2.8138379544214387,2.3968745227726678,3.8666711296411003,5.152578586891436,2.2902123266951238,4.133254419548051,2.38532390252683,5.133140216020895,3.4776403610804874,2.913050574058728,4.264727433305818,6.099145408448077,5.56729642241639,5.382389328832502,5.534334536511572,6.609663298355239,5.531980001201887,5.754374906991556,5.4146457323665125,9.041265098497744,1.93175028554024,4.179745530342611,5.905490313378342,5.17337909989035,2.544543630970099,5.39776307660793,7.286682984433504,4.4157762063689905,5.582863775401929,7.064460756473954,6.450259074576192,6.584864314634277,2.9655803064120794,7.289403445121448,5.555679182654307,6.028753360922339,4.934841120857541,3.777001515029272,4.835400788273693,5.844344944605788,3.9194368472678107,6.091424672931836,3.423663350188451,6.27911025642279,3.448410551530859,4.966998710687195,3.9025781115058367,3.327170642587763,5.481693120386832,5.721519431854401,5.348958216355075,5.05754003728723,3.3588237564039627,3.4535768586218305,4.577082884350517,6.647258115751981,3.12295657923048,6.485298337452589,7.118585604478533,4.613566505570337,3.388612561529512,5.7287321946958984,5.545617749074662,5.249340234358721,7.391514316084246,5.770888640861422,5.0550793555033575,3.5683826316300182,6.930092489375193,2.9300782871925803,7.235346987436651,5.700850294140304,6.175092147562162,2.754535665642002,5.873081640746834,5.8175755291556595,3.4443202182508457,5.225933386669465,4.888513582940757,4.806973686841433,5.376157894664968,7.804797678200231,3.437709032104914,2.942155100162105,6.416935204714656,4.134950422239182,4.351257872934233,4.970942135970421,6.369933662140844,3.4036459165713326,2.521326759775721,6.341891005828203,1.7131147228359138,6.6973324858264744,1.6948370204329821,4.142769201193898,5.82828312619401,4.202833604827006,6.366655122545456,3.798508220127875,4.437677246581273,5.741880167185109,4.884006351822477,4.801233770219017,6.723156452989651,5.992501750589613,2.8242641735674647,6.529614059976229,5.150029311012961,3.110017231805452,6.875277229014565,4.256337820508846,5.497242099008897,4.268956115372416,2.90136962921872,4.356394999170857,4.830618939397359,3.9819591450064524,6.488658989204145,5.598252152930739,3.738803985903286,4.6594508638045635,7.798635886996917,4.977155657165095,1.658742904692069,4.977422186328046,6.158579833370197,3.9519831486010935,5.443184188157911,5.838387464831293,3.5034663669273582,5.049452264571085,5.579227569801932,6.330362221829478,4.4082850268460945,6.972094616225016,5.245590598923715,3.984019945669615,4.897098354957391,4.410019012997145,5.449062928676787,5.7379748907128105,5.6963180530976105,6.211324506204022,3.2148453595258184,7.3973546694593395,5.8383294599263325,5.454133906595792,6.054859397209281,3.356547488059298,7.1477319248627325,6.391455741889166,3.1521182488331365,4.88483262044593,8.221832075629575,1.5167550128890022,3.95472324223119,4.169311834971278,6.866568578280273,5.531319675630697,6.995938478478784,4.355839805336133,5.574999075336144,3.1914715337044375,7.413798302467291,4.380662500069079,3.5876142822125745,5.5398236335032145,5.718760103349661,4.967979922888884,1.6529951622536618,1.4509859384999686,6.424083388897717,6.213841264584877,5.92179629950834,5.68409045369737,5.867587113169726,4.187432846605285,5.905215902441776,4.979505968145972,5.681049852844364,4.476793019347666,4.313472674637197,4.485219702500901,4.609090949568932,7.379057420316224,3.3359806787249817,4.817364651349605,6.281413266554471,4.692519017115904,5.5528469894315045,8.162144265722253,7.378742035629857,8.196758552030353,5.18497633160044,4.96420578865405,6.086199480952862,3.918115387471394,6.7915824249068315,5.095474599206564,6.484507271918522,6.050481552530702,4.664437400464047,6.651703907459975,5.044559586023212,2.198546948186042,2.385983579980591,3.7563266480099036,4.161212698843599,2.947287080227239,6.0811532306637766,4.90255535401851,6.135636491176573,6.400069416519065,4.96508962211386,4.566993340037264,5.177201578866074,3.6752281058880625,6.765076410724269,3.447544517620625,6.714609075232108,8.32038408472351,3.4629128120168327,3.3567184055220434,5.048359797381419,5.365793777554674,7.784439638381556,2.193036117095777,3.3372360868392783,4.6357899254154775,5.909224306820343,4.539540421717822,4.009539377738486,6.87055873413866,7.451936068662091,4.6629730032752486,4.104768374059562,4.856563381182306,7.216633575956154,4.171392077858144,4.6753390268653,4.60121685962592,4.001429948836813,4.857552013901396,7.375782738381953,2.7525449656201633,2.3338042455942456,5.9240634734326445,7.252547981706465,5.693015919671722,5.284830568413108,2.958845662176336,5.166467991360213,3.6227077341305893,2.6733393012489644,6.76744736510209,5.148948722508052,2.6120899767178876,4.955069062510249,3.410747974090521,6.437430262355729,6.893358642035393,4.441719419523924,4.915168176099127,5.428338296067266,3.4682111751473252,4.252774335747156,6.792858576502895,2.3618920050732477,5.6767393614612685,5.526177745598828,5.079502173161602,2.536421727337009,6.45269765900399,6.167469312765681,7.685577957262204,6.571175765730054,3.98117937142159,4.711806830501766,4.146820449912421,2.339439537046439,1.1683892166705387,4.713601978513893,5.3576469946600165,5.040880548600721,6.654632405409488,4.563914126700282,4.610915313137504,3.9092174108010624,3.8337732404283402,5.0156432480178434,3.0774776840284863,4.7925188752486205,6.640406386226731,4.460243790509587,5.694995584957471,5.500383638270263,5.279605981768965,5.029979322944327,5.281972807301498,8.4386016516851,3.410154115193169,3.2208673988725947],\"type\":\"histogram\",\"xaxis\":\"x2\",\"yaxis\":\"y2\",\"xbins\":{\"end\":10,\"start\":0}},{\"marker\":{\"line\":{\"color\":\"black\",\"width\":1}},\"name\":\"C\",\"nbinsx\":45,\"x\":[2.2534329254108734,1.980366284785545,1.5882330267350369,2.433178403973933,2.126779439387293,1.888430528322245,1.8654911569881982,1.6601960345147495,2.2376631390480366,2.0887541949404107,2.358639998714904,1.9029784316230354,1.7305579796316273,2.5519335308721147,2.0864682998055466,1.9927145508243436,2.009532883421179,2.0962979985742227,2.214112321697988,1.932353860818532,1.783124567413535,1.6610844828333862,1.8671893704257738,2.146699296946867,2.1979924807451967,2.1109729077705595,1.7226826510462456,2.1607707168367623,2.3528422190566847,1.8265681573274746,1.9992551345543448,1.7627858692356955,1.8038328099069145,2.2152537324179735,2.302939964446416,1.9075364304095574,2.0899858778217246,2.053097595412044,1.862623164161981,1.715919072146518,2.5148681413144542,2.4076092382974172,1.8080840205891724,1.5920413828257005,1.9715314134108937,1.877978274458381,1.8161614478666632,1.902969294429866,1.6424935912553984,2.030247627888375,1.9404565525864312,2.505421443201949,1.613820929322531,2.02648896067075,1.6261424166364602,2.1969374700714663,1.9490680794622999,2.1615973934409003,1.836564717730717,2.0760864175802203,2.199023457353161,1.9676291467037885,2.040585686403546,1.8789541467694955,2.1537697023580877,1.9168750282829,1.7305002241219087,2.162991399573021,2.029689774159017,1.8288877537592763,1.716635296116549,1.763203928434053,1.653859911233358,2.0692223918073,1.9001144045695828,2.228539831125204,2.39313509237358,2.154621548008933,1.850632636725004,1.9363877113653463,1.9084960438895737,2.146446325515375,2.1442521980032643,1.889339583311603,1.7986624003582015,1.9527177766552517,1.7590568074994435,2.0025965524743254,1.6639765460361162,2.1404628318537267,2.1342527898662893,1.8351591326949666,1.4893880801295483,1.8596194822778436,1.8616137687617171,2.0232134821494157,1.9777510848318363,2.076707555232147,1.9656393472569305,1.8792001084841177,1.7013911359669152,1.8237647774338412,2.331761274811834,2.048543785184602,1.7576876596460302,2.1927326345830176,2.086550759897607,1.8178900127393405,1.598368748992816,2.3558085086758114,2.375255735250094,2.047244467388665,1.7978052648870422,1.6873201767501809,2.0876597747165384,2.078300291003433,2.0189760667556547,1.6946965730622645,1.7979152549988766,1.5035842591919095,2.037435111492465,2.239795785544634,1.8171526022447089,1.4717543723139404,2.437677590817331,2.1367313540672423,1.6208131398133385,1.8849974275255605,1.9443311403014512,2.0228475301520885,2.052847988443786,1.7046551895356832,2.0415770537999425,1.8182447779864026,2.0981439958715926,2.3053564853745536,1.6964927569186101,1.9257104136196883,2.0427649000079735,2.2989449718458137,2.09520220876993,2.200817394485282,1.6227786546213916,2.3034691257854605,1.9041642570704667,2.2806668125466834,1.9209114792111872,1.8397279229479298,1.7594423492911753,2.084698677259644,1.7884019136698588,1.9887661453993861,2.0004719761850263,1.7258394983297107,1.985632562844887,1.6106130673567376,1.6681491763370513,1.8669871898476194,2.358215304003557,1.6754982352187957,1.9867546740462716,2.2296167134725344,2.153497380446106,2.2291616630024556,1.980105949726839,1.8106241048771443,2.185202191185217,1.9234403398180595,1.9833496311359076,1.7899579541615567,1.9666555319062027,2.1234457745625472,2.0590552937909234,1.5980981962286283,2.1699796879202284,1.6867518820803395,1.9481113514287611,2.1225667591901725,2.0562591122321434,2.2763889561035184,1.8396799727334627,1.5221714735528664,2.106696657943395,1.9471375657591552,2.2033076123360797,1.9133802970713294,1.8286532937017896,2.257164068121039,1.742196566636063,1.7854068562834224,2.257965044992136,1.9511970744628162,1.9836843980412588,1.7876197431962293,1.7785644607320759,2.131640189056942,2.0853578249705698,1.8513765765066008,1.9242739822214654,2.0269495582892016,2.05173874942562,1.8048937471479274,2.3538992090371362,2.05493970446068,2.1513395144996146,1.9690959044986007,2.0377935431768797,2.4777723475582145,1.8708625326564685,2.017566190110181,1.8843852756495292,1.8391795280583465,1.6778975045721094,1.9160186865582707,2.1391012197840014,1.8962525236638819,1.763730774368281,1.97782124076579,1.605185692510275,2.192198014016549,1.8565826944481236,2.0402979324992025,1.9405349935911635,1.8364235087015053,2.4414629566751227,2.1992312186270677,1.6258729929553346,1.2006853840482687,2.0800292574046733,1.7120165831392462,1.917139110116664,2.166719472921816,2.084209159273403,1.6141479106243908,1.727260153420876,1.8175417730334045,2.0374107945519238,1.8908174178529267,1.4357714760785485,1.916712550815366,2.359762673649082,2.190793056309148,2.1330466423271566,1.9674820738208558,1.8596370960327193,2.1236754405227374,2.04118964568743,1.6427767502655866,1.6850776654460913,2.4003588711221817,2.318320449912724,2.1559589202427825,2.290086407582197,2.149186044761494,2.094604466153581,1.994313118487104,2.8688259120306676,1.8270985968746398,1.737602075266314,1.6905673414880282,1.8230109252213,2.485352941366627,2.3799953025933003,2.066980345241956,1.8050087715555376,1.976377850891345,1.980206263422605,2.0972037788871774,1.8073005156094242,1.9397911404717925,2.0016332819463765,2.3051453039466603,1.4381201012911689,1.7367381387076186,1.8891155242887439,1.7495423027836796,2.21735711735449,2.014717525277438,1.4492162974340128,2.1522909104350934,2.284296614566893,1.8609874363784096,2.1367925342819265,1.4311406822605546,2.107604093625268,2.307376669566683,2.2873673625813953,1.7754801115181689,2.1321667494932655,1.8709462142785567,2.2011637476098858,1.662809683035502,1.6507321086342304,2.6664309796104004,2.702191095810366,2.499747436643861,1.4789850037426382,1.875599513645696,2.551970185891881,2.253908389635807,2.0497095133440344,2.052840033381199,2.265491711600485,1.6772279212430998,1.9420320071291715,1.8677095214760708,2.2930820665584246,2.0679543159268636,1.8965367316456212,2.3329657499828023,1.9365642900264621,1.6951185804346025,2.1000350737037228,2.2357326628395353,2.1747924406433405,1.938785302794007,1.6000310196878105,2.186088968773719,1.8922387975693076,2.1514394521937694,1.7690900283459843,1.9571416963892734,2.1108052154097994,2.253664803905565,1.658517533656093,1.7057158182552432,2.142696235598658,1.9201794742610905,1.4602384911662758,1.9048195464349482,1.8511675622871788,2.11652050302126,1.940686486837787,2.0578966495577866,1.8013451316285243,1.8553924196156186,2.0251247443782576,1.7283064718336998,1.8407125746292292,1.929915366965427,1.6815436078787347,1.597014246332471,2.3588387926649035,2.2970611750026926,2.042956894483376,1.9345024993916815,1.6674329855033854,1.7692502353546067,2.027778550679133,1.8971375416843859,2.440505772464564,1.6244772903187188,1.5786189916946798,1.8700098199447013,1.8043297180414053,1.87939582477808,2.1313932434488074,2.327357176023381,1.7654165517276095,2.001403332875348,1.9138838652026022,2.323596379720353,1.9220960816958836,1.9112032664618759,2.4357199202792295,2.242995539126243,1.8998940830865643,1.929573232767643,1.5928944258687538,2.054955403528811,2.232975165586657,2.465072171684812,2.27510949017941,1.863271553030758,1.9291738673050385,2.4404152297594432,1.951951787997405,2.0950370332726016,2.257695355819475,2.589694296832841,1.6455286021780116,2.2747888145853934,1.9297857858696752,2.086687516739918,2.3326963814568753,2.1799060794350846,2.1691686072683325,2.125532366251825,2.6771130519877575,1.9344036600347763,1.9026753273880193,2.380597753935892,1.7703727435429077,2.3290863944771703,1.9673084555939002,2.477657927687995,1.6946357160941579,2.143261935006842,1.6878219792289308,2.1841680499139473,2.055680861423149,1.8567560113260029,2.362263221904293,1.818466380802415,2.211774827601389,1.6817819167538453,2.1267593757056797,1.809222009515874,1.861994908526098,2.2201156083431064,2.0366780735525225,1.833970047865882,2.084465838880973,1.5980428945393288,1.8743301591811423,1.9884377276856413,2.0432540950528617,2.1693906103883007,2.1113646771963555,1.7312116903205226,1.899017347403489,2.211227427190917,2.0963644218619195,2.189773697012325,1.6948816927881785,1.938024619967232,2.2577518350965633,1.8748322892458822,1.8050692041596268,2.1735145722732976,1.9762999343471785,2.2362452546272706,2.2562710431662563,2.167927248950093,1.7356674468221436,2.357521820565799,1.7638511978279763,1.7848464553782355,2.3755084233506394,1.7759367563292157,2.240253139877305,2.1625784895869606,2.0800408372569748,2.2652066149430348,2.1288682044589122,2.2573047381423725,1.8270095963101942,2.4145803457447554,1.6417460951877847,2.141537587718072,2.821988754985574,1.9653888613029364,1.81656139920934,1.9849824376949763,2.2801827122292564,2.213980867102241,2.2810381924497607,2.408406312409494,1.6890586056878822,2.1284905131422507,2.3897404797484065,2.262890484187433,2.176643609591439,2.308868087498747,1.8143689924361128,2.235213012821918,1.7492191450531083,2.2391171132285588,2.150697758504901,2.2153368065452077,1.4374841122996562,1.962079278826911,2.19559722799284,2.169240849491233,1.9534277201575116,1.807813141979079,2.1877006077845143,1.8114624236208274,1.6611587163899921,1.954077660108542,2.035138813895762,1.8069938280177802,2.400622396407203,2.211106154755652,1.9329189496486956,2.068982651094883,1.815295483049792,2.1158029033544463,2.2235925868055277,2.021791777618246,2.3292550431902725,2.043221086361383,1.7380571709192834,1.9525387145828166,1.6181209482710495,2.095461363718902,2.05128332628054,2.3085297843443797,1.850970571747179,1.9162433816714548,2.1425712984331917,2.246187349212663,2.685231446256608,2.094017984936454,1.8483851571137297,2.2266647149965375,2.038297787039238,2.244898429112118,2.0752476900976142,2.1148205119995684,1.9791644870024894,1.720848502665162,1.9013129149606758,1.5316829393691989,2.0695449645743644,1.4349664421930268,1.846619039404518,1.737368069321319,1.9221671485527945,2.2257473545379804,2.1657913677176266,2.069970030986567,1.9439340701846979,1.9506354186349937,1.5634953093758297,2.4669074567126295,2.42230731425009,1.8115847602632158,2.1797570612172734,2.1205742779995096,2.217495989167449,2.2473570629261452,1.7790218205006705,1.7590484474224775,2.01788741237363,1.5433913849117709,1.8756622851689766,2.5349954916323973,1.9370656758777454,2.122718303805478,1.918713870852222,2.0497659680765006,1.9859698186483419,2.288743239862467,1.7967332748345721,1.3876288725418986,2.124353522291668,2.6327490288293296,1.8947140747849676,1.9545204396409486,2.1424445825593126,2.198298984761726,2.1237724770529964,1.6986999408521752,1.8566571611858498,1.6574165306707158,1.8828263815291106,1.8638510111747917,2.0809604895434934,2.511321737737591,2.1565162870125776,1.6352757416182768,2.153575025666462,1.8472927487006996,1.8347634416490923,2.3256127552300394,2.1626517548786244,2.046537493028051,1.8978314308174353,1.939835901514825,1.6532994136365313,1.9073734371811866,2.1427868283149665,1.9895480096314395,2.250256393194602,1.9916405594290036,2.1641092935119968,2.191196359846912,1.9075847949959022,1.9284776639251398,1.782500465414036,2.59438805206839,1.9219506521564502,1.781255571947366,1.7868958664242622,1.8476430792485254,1.6282461892140039,1.9869866111495302,2.1263856815522058,1.770137485507915,2.1373624182116924,1.899375831760519,2.0787245524056073,2.2789269157490173,1.9045469658584717,2.2162613529952258,1.986165012997386,1.7399252985153073,2.134847379549064,1.815238809566392,2.1125619179499653,1.7803792742037026,2.0150803792984098,1.9563288376335104,1.773560462093014,1.6729994601764222,1.5551001816221135,2.3323820647522835,1.5695763403994432,1.8647716303764192,1.9330662821784463,1.7675830118152054,1.7528860883570094,1.7829073086374423,1.5018942328877127,2.0955625125904644,2.189156172617872,1.9894069383697746,1.9597645080659214,1.4766575554530084,1.60797670678077,2.059383450922541,2.0076141462702144,2.051077097956064,2.1946692140194575,2.1885950329321155,2.070423654719767,1.873202566306443,1.8844128972032512,2.1734408167313246,1.8973895607116031,2.086102827413176,2.1701744942522696,2.139739819735287,2.159142082487587,1.9971530172117866,2.151295638774434,1.519484962441974,2.306407001719301,1.6182732175988919,2.2233432499493535,2.1114993093334413,2.041729980230852,1.4884680414049192,2.074274680205508,1.9718027257165947,2.3210915060165065,2.2976566029885808,2.3221652610389376,2.3477830790182805,2.0393886406862705,1.6121806080977028,1.9383668665115321,2.005816049300602,2.1159842372294806,2.545389158332498,2.225687458319513,1.577645122156631,2.0365768381933056,2.366299670433692,2.056871066664485,1.9340556480281763,2.1680307028808836,1.8534071538891594,1.8424299591817284,1.8116433534793703,1.6963638810337758,1.86258320307412,2.177332311756989,2.046832409750146,2.307053894945326,2.65942640527323,2.0604910043700495,2.389662085973932,1.8354970411842715,1.850933372156668,1.8125334888486435,1.6583765699158894,2.027978838797344,1.854159563659406,2.234562669052773,2.0087485958884224,2.5611491375244104,2.286304919765966,1.848990828457835,1.7925680418403314,2.01808382548339,1.7893282738117688,1.710850305239966,2.5091869019148203,2.519769921913953,2.0818579390031546,2.1458542129132074,2.0671970558321062,1.9320109696669225,2.239910578472174,2.1883216390843523,1.9083744596760683,1.9234629793789977,2.170736595223869,2.054581516780945,2.1923285406744757,2.6854102719204387,1.846303488894585,2.00438726674494,1.9758579502162208,1.8518266654233382,1.788045794798829,2.12342349489417,1.7532096991963033,1.908180142045922,1.927851649014473,1.791463133444079,2.10041986826845,2.115829588626227,1.4505754399553314,2.089958337772197,1.754237374532185,2.049971188722331,1.80198084158058,1.963551141013101,1.757272459526757,1.7254686331372826,2.181106627359704,1.9378941308051294,1.7219520207847419,2.225734534597216,1.5258289737183106,1.8581051724954083,1.6898062232376252,2.2813243847436437,2.0666097206727434,2.13954086483666,2.1799280138577486,1.8426256595926436,2.1628555145734194,2.288939364169121,1.3600509995962298,2.280147225494556,1.5986149207208649,1.8658720001805924,1.7118836817890466,2.416589285722313,1.6574109900047218,2.2092799324113317,2.2327741720758163,1.9512655464002515,1.5386756540678173,1.9699581770032313,1.7291931794794646,8.492133626877525,7.774368693102724,7.68042868505494,8.563383151726933,7.959453370737562,8.206780866184195,7.434825171756879,8.485926326443908,7.040872700758537,8.237477993718544,8.001943276026685,7.979568941803611,8.10770406251158,7.331252153842763,8.265203807209646,8.074993474155384,8.857150117708015,8.85429120481793,8.088810271736358,8.302887738000376,7.266871839784874,8.05510403955271,8.1034381792924,7.399371124253843,6.989140124364807,7.952546547705419,7.8610046459064185,7.840051505609886,7.538393378697566,6.816407880703333,8.27809909683074,7.998755072556715,7.727476995581571,7.679956853748523,7.620768472125321,7.907089189481881,7.498313966045613,8.014002469217367,7.708564855518387,7.0961044580316885,7.76487692744492,8.010620792866291,8.141586649213318,8.223748725004748,8.396480525783161,8.28932727530401,9.389933490793272,7.852399088497646,8.747972139651221,9.282986039737398,8.92817367780366,7.972835707899351,7.968367942440917,7.895395184706629,8.175660309392171,8.737740902037888,8.928891494236517,7.983225616729692,8.772431638801647,8.688142523758179,7.774418711281747,7.48276083514736,8.579060929602418,8.282680878874709,7.519259268056592,7.421011099717795,7.298137450536886,7.987708286886747,7.837383051586858,7.911815270620512,8.134206677550376,8.22498966078748,8.076651129959469,8.996313380872932,7.932680115491861,8.732273546485061,7.110281907244325,7.447787839215513,7.571064887457142,7.228136389816452,6.890399069627742,8.394390953330378,8.276807480711488,8.130229533067217,8.226752518504469,7.356250966385515,8.606059684967303,8.40023636763304,7.675308603734895,7.178505192136981,8.903440485875034,7.788216935965632,7.402529550823258,7.640228438879495,7.577182988100873,8.115238160954874,8.652235366049915,7.4169394923739524,8.546630532819833,8.34325905683423,7.886263165047887,7.561410602776419,7.932717716004208,8.691307919175982,7.270671348315792,8.168572596386051,8.165990872893946,7.513119979848584,7.61478138451183,8.331769967992216,8.15422836426554,7.784900820005614,8.256227573241741,8.045720614051495,7.715976435561995,7.8915154994496515,9.047071138522286,8.11172610412519,8.103736859941321,7.685453628586649,7.613967973638763,8.237694039402744,7.313526143535894,7.732719070606862,8.750158629228718,8.016857105254937,7.750822299043695,7.954427271780074,7.419961974560175,8.128902924774122,6.796325134531543,8.334035945548946,7.940068771006183,8.43156159575565,8.06065107882158,8.369601260503899,7.897761098394141,7.570942318513487,7.926957781931466,8.029592586620858,7.963815348287339,8.251426219171691,8.82637888757028,7.091983995361704,7.366324992388889,8.715205322887305,7.833254862655115,7.768886541891815,6.202428364177921,8.649753063883235,7.548356924301187,8.249616384636637,8.343969436411408,8.583284450356652,8.104206221246628,7.450915557322977,8.051115448363934,8.290711000448796,7.206450561364716,7.270092680238125,7.731950848831536,8.28103793430942,8.453432987388437,8.352818645956052,8.570922854292961,7.784998203908967,8.280538301818853,9.201065841769895,7.721151519562934,8.031099379941338,7.156592554801036,7.567676861532242,7.953955738712035,8.159138472036847,7.7261673923818766,7.447349057822809,7.7913814660267215,7.324055777308493,8.20195756910693,8.728849156176981,7.601290369879776,8.925601330536558,7.988631642179782,7.512714128054689,8.438267139901244,7.7110289599711965,8.054752386362699,7.863922050327807,8.25768653631798,7.979320263068959,8.134916470980336,8.514156709100517,8.246937596628333,8.810095827415491,8.397582939410505,8.114388712483395,8.206206372946962,8.416564433973267,7.9059712086386495,7.793415375305396,8.411185305357531,7.327842123245439,8.812462486057782,7.703029850025138,8.06124217075948,7.965238947383619,8.460678121135127,7.537814363974278,8.663695900631025,8.059282953442876,8.139424551326606,8.36786950571223,8.548630572007683,7.918161450872844,8.35752607879998,8.122948027610013,8.852294565562486,8.43646801907128,8.28918121576202,7.537264155399148,8.713450306236172,8.71075822091355,7.719858257292636,7.986722759743377,6.614354311637234,7.921547938605416,7.872119360884053,7.871029377437251,7.5397224644543845,8.136389656731081,8.990139366744858,7.304723950265102,8.444789675755997,7.600371928796593,8.172288669291328,7.951718809331213,8.360002181244681,8.301918419040053,8.222624918934406,8.329707283524263,7.9248988030130425,8.011294216891082,8.143959836060827,8.868578167590211,7.959705610402707,7.43502520153408,9.112213868099786,7.548732103254557,8.149542615971297,7.361548331033487,7.647586055968552,7.666221237681536,8.039530912294074,7.683277033729616,8.121048274665382,7.857055267305625,6.808008678727349,9.28412021095691,7.70883881762363,8.265345266356796,6.889166086975426,8.002051220022361,7.84756775480693,7.788312136198765,8.079284072223748,7.736248654961425,8.224866936641197,7.492121145986604,8.533582712270283,8.388080476355306,7.533232304032082,7.886730982619943,7.585169548186357,6.470465496206982,7.55655214936672,8.4032575145136,8.396911782370097,8.981949635781906,8.52145733642732,7.164048411832865,8.29363550808322,8.011444459685373,8.055898890938762,6.859538036140593,7.8840736212966265,7.865544645807652,7.507729165897639,8.698293041063906,7.626857524900917,7.74469038790295,8.060840668365836,8.855754483482938,8.698276526025284,8.678255536677398,7.855793383906173,8.116002640644396,8.59038161894129,8.201495189326064,7.683320788765886,8.028375702317113,8.193810081832853,8.014383621967758,7.7575249197467695,7.397146625922218,7.579709432590738,7.67583897454471,7.939933497457307,8.739868808883065,8.12456255398314,8.262267949932198,8.486587473165581,7.801906986957837,6.498583123793162,7.651364094536842,8.61620206912895,7.660855597730885,7.78316370063387,7.945265914913121,8.207606273250393,8.07419990406435,8.007162089044064,8.226805270001368,7.761814228096784,7.488422196990223,8.669072295676608,8.144531602117016,8.173759916681703,8.688812066958793,7.971429492696577,8.443031250960688,7.279127306369279,7.946270313743781,7.5432121189713905,7.4655210435165325,7.304967652032512,7.2423897046761665,7.572676572396363,7.854102635404681,7.414753561347425,7.334079963012599,7.72172056346121,7.933500997407365,7.5430019868382825,9.003857557686029,7.649181035346978,7.693500361315916,7.402859075833303,8.412866732235708,8.053074866218022,7.34142542010011,7.9435842453375125,8.094798682437045,8.11135527235587,8.432529289657495,8.208221082939291,7.510487118641275,7.6774129870413805,7.545576548805445,7.84198665857042,7.6296030244437,7.583759494787995,7.152805534837639,8.571495307817855,8.160634334477521,7.681423266265691,8.59938787568436,6.348622603296887,7.28942330682618,7.765316723521484,8.926277436615601,8.307140683176684,7.469114336676227,7.19103459231228,7.763124458091982,8.746988033403358,7.621771551272525,8.015499606266099,8.098868062445524,7.252050676462251,9.222204564747457,7.844818159053749,7.6785975182992825,7.617107947918535,7.893874378363325,8.561700032661111,8.081999660159449,7.834561042895077,7.8367516479528785,7.68286892624383,8.474682267156046,8.505712981678176,8.419952974253544,7.514935521839483,8.401499970250125,7.521186603090025,8.077124354131005,7.090092326752251,7.571665140785335,7.780469962708919,7.6585707873427165,7.861342784808925,6.967676085124605,8.454476302865759,8.246942574815641,8.727730324681504,7.77390231757496,7.832200549394919,7.93925640693886,8.430431799564639,7.9779128635772585,7.873896738539946,8.413679835888322,6.712419401543146,7.939171935927625,7.5816417237936715,7.440859319048278,7.850653972664689,8.370003942442027,9.212318906513788,8.637894997123803,9.075368454235115,7.637620561401085,9.813126579209687,7.399700197643472,7.383340400963933,7.8232936830832704,8.31200624587489,7.8090903116708175,7.464968930326167,7.720084993518934,8.257870126965166,8.569217596182053,7.51274293960847,7.634909749171398,8.288873553009575,7.8765742062890185,8.01954906282736,8.618292337841464,8.640577849111965,8.834304153147766,8.25641847205695,7.429757718199418,7.554276375019517,7.777084120836881,8.13134390501669,8.449996872138453,8.145230948914651,8.749056880253256,8.57058995696772,7.154582052582886,7.330684110474302,7.998417918439121,8.059106085781753,7.7456501566262475,6.956030349569573,8.147633752868257,7.884076288431041,7.455924979499672,7.656363089134973,7.9610165440217,7.0329810771776895,7.614826097329679,8.222389364824618,7.6012885311104705,7.050417344876191,8.659544596621975,8.649619437324898,6.895064805579761,7.706463369842248,8.141435061168586,6.66845158098845,8.511762856419919,8.199078729023448,8.514077247759456,7.359829113306526,7.951642636909494,7.840532980033977,8.76141054659123,7.9570203292743855,8.611621290379947,7.594291866581663,7.1499859043309,8.094187608019126,8.127212597393582,8.144506610329163,8.328355752587802,8.489634289688661,7.0295130474158265,8.081979563026685,8.069913850189245,7.853977858226898,7.4741608636692485,6.992911075425047,8.157438377595343,8.271528492737662,8.802064625297241,8.309947620638166,7.8561353998493635,8.305055103578532,7.38907042473694,8.342217763958603,7.836860842906799,7.930705944974961,8.586695814008522,7.798573135706997,8.574921264682365,6.511256109759021,7.438562433189761,7.7752148410373705,7.138031047116319,8.178813715160295,7.799669969339259,8.074325133922189,8.205673654354786,7.493509198437624,8.998884413069865,7.404840256098186,8.285749271968545,7.514073559411151,7.219741515020557,7.563457106301586,8.262357196664727,7.59951559924518,8.671552651138674,8.900181034504781,7.746389168532599,8.744779507161232,7.371561141409977,8.692658368579403,8.017199155534415,8.052257447511463,7.724341374632283,7.105243739167889,8.290186694479782,7.191158553049574,7.327426095949468,8.354918576099413,7.731618737700378,7.553723721304774,8.193543334380694,8.123688614923001,7.604724743843431,7.608757519808006,8.178071356847443,7.162165941633191,7.117265619374034,7.319862988802798,8.214272393107015,8.283132963540625,8.162418659524688,8.179883697502612,7.948906775892623,7.470568845451631,8.34703036325638,8.396425965780889,7.228021215116199,8.654571367098056,8.054391299882276,7.517244598900755,7.7568422556499455,7.89695571820448,7.726296238013148,7.981802616515441,7.658716350788194,7.647940412897747,7.792696211429149,7.733701590816186,7.432347477904021,8.298098355228078,7.921120256905404,8.044557193893652,8.129700468810595,8.950289731030619,8.640127667946501,7.779323590501112,7.7320102025965145,8.099434043929485,8.274196827717546,7.652187735716096,8.480583114428326,8.050647283322899,7.985494109982285,7.862384678596784,7.780517725565929,7.671026704277136,7.45484997860017,8.406829169155191,8.786058252148624,7.679138874890027,8.06416061916629,8.257184968446344,8.474522904921248,8.2352896329684,8.637311323276123,6.990368742805687,7.908092479861404,8.184258402641301,6.465909742302058,7.941659535324485,7.863633003763968,8.507824589859396,8.53242752388963,8.579888745301371,7.601916583606953,8.352793639958781,8.556056184592041,7.871542587306246,8.52675784693507,7.75325877907385,7.640156519192177,7.113090879196986,7.509988654737627,8.165204830422843,7.747614525419891,8.5606978900854,8.289628023726353,7.1693713315214085,8.459670101177702,9.208505738994907,7.614815605128711,8.32817033672754,7.966498009264888,7.634152191708784,7.770480712665631,7.941023240318653,7.681907127894867,7.838063524854289,9.200303477708434,9.218387670429582,8.998748606590324,8.544207883325159,7.640308999556766,8.269061914944686,7.56686701053625,8.074102543283407,8.442301944965838,7.825884651817747,7.998479811848868,7.411216992222622,8.29937703691321,9.28816847511446,8.618722844694316,8.351269368088225,8.524548086163984,8.854624272995654,7.914810184688697,8.767040918198377,7.385828663525061,8.279064308763921,7.893191367334962,7.9808519424385995,7.602843199012693,8.093615970733444,8.058032018336315,7.476291766360742,7.3099351938231205,7.603739997955784,7.414030810899985,7.4126082801016935,7.272101213203977,8.025826185267372,8.433764310396427,8.571879977815772,8.266366427164218,8.348771863596717,7.323244710232183,7.7873596786799,8.242598133183986,6.969494601509481,7.991979063385463,7.752131750074181,8.71516506141078,8.027963941733818,8.425277408817157,7.881205774579113,7.476943828227926,8.031411561758468,7.709389255058377,8.097738441980974,8.859218494575561,7.358523861323141,7.898693547946369,7.613461859710731,8.349164245327254,8.860150759075697,8.306667164441167,7.675969243813484,7.492053307914857,8.182160793716402,8.603246867995711,8.564240132528349,8.568099216311726,7.906749385941955,7.801119566662921,8.83563415082523,7.836282166915406,7.007317265365051,8.160178711559295,7.441674630017571,7.406333019567411,7.0407032040456965,8.706243785994806,7.913750735698586,7.2090070132695585,7.23676109649314,7.601296425940184,8.20868326235655,7.268887142902622,8.2747763993261,8.240813188193362,7.580271460677452,8.278045349624078,7.477984926582755,8.14844585397442,8.257992488552892,7.91611270954708,8.374841838363388,7.744914895733169,8.422472614403919,7.762538917037998,8.005214403801636,8.469109284178332,7.887871098579107,7.459455792631452,7.341899951165852,8.45548816779733,8.729596340086182,7.83900671183694,7.829455426795053,8.744944441114407,8.655083266693861,8.00508553553539,7.087994836250007,8.0968963598892,7.975684092239709,7.945612366971159,8.266965951019182,7.450365696855739,8.212643193250923,8.862466184208143,8.512764597520345,7.862378510175775,8.26817232376089,8.171595456421713,8.227759369746657,7.562391441364205,8.043292124320061,8.857613778893864,8.851843930919506,8.417817963431988],\"type\":\"histogram\",\"xaxis\":\"x3\",\"yaxis\":\"y3\",\"xbins\":{\"end\":10,\"start\":0}},{\"marker\":{\"line\":{\"color\":\"black\",\"width\":1}},\"name\":\"D\",\"nbinsx\":15,\"x\":[5.050841834410592,5.797383160640242,5.817189110540322,5.999538979106287,5.741050303059478,6.936646195796698,6.3421826376196435,6.206086554957875,5.646195602875759,6.427789974669392,6.7334393085199755,6.25966797912599,5.851512921860515,6.0462423017740035,6.575951982744758,5.751829353796657,5.163225761440538,5.745241655274719,5.2862921281527475,6.706745309515878,5.401107900614781,5.432129989710318,6.217073501663003,6.365476841989669,5.5276805666837525,6.116999122213189,5.970260867995811,5.9430712294038415,6.055830463868182,5.808333671924272,5.9778385030596795,5.598833080660823,5.869763140955879,5.656095568576729,6.90279682811564,5.735184622240101,5.986825230877725,5.6098016614037665,5.3953568303609805,6.169877555736653,6.115989615713943,6.037857610251968,5.353255582206817,4.6787179148806946,6.141075625488626,5.841396609924249,6.065044649558469,5.398405806599327,6.173429121046364,6.148800567502925,5.11248296398057,6.946686570684269,6.918390979635672,6.148290023039823,5.692951978202595,6.408476353268885,6.170865842025381,6.759237343549673,5.681770831669657,6.081748014863795,5.5476838495016105,6.355287622119499,5.203429616918892,6.576890227601336,5.954184767103202,5.091863897273312,5.748073774784364,6.446854020610017,5.367385141315702,6.398810384827305,6.128886689091577,6.124584809405247,5.958251748024571,6.212677207798791,5.864761888980096,5.381715923730812,6.068425631374455,5.559718334899101,6.204762122914911,5.952792402486882,5.852563062477133,6.155975997146371,5.065138180407704,6.289593775438487,5.822166489468332,6.151503735320879,6.293131305562662,5.899599241645794,5.877850515430822,6.238914031309077,5.258442590827093,6.158018465726273,6.066282154090495,5.7284100841656835,6.204814448627449,5.2070632066704166,6.011576026185337,6.4043292092890685,5.954591687258675,5.341715340375495,5.442102391265055,6.1525922073883015,6.241774078471948,5.912877181552049,6.588538749616818,6.040561278057284,5.826668463318072,6.465348601749095,5.724288015802694,5.312751355623005,5.696628750525997,6.380709293736219,5.8232669861236435,6.333066429750227,6.312906900600833,5.197022630866903,5.453155734885092,6.522890158247246,5.868299405523352,6.142572241228096,6.341776423034883,6.384488531568678,6.074912093346204,6.114963273543568,6.527512910958315,5.855427093567095,6.897189989512823,6.244351149225733,5.8015852036084805,6.766048865424832,6.84203707157521,5.715910164200888,6.4944026480302615,5.482010362885117,5.617295259581968,6.632051748942884,6.252777164544156,5.846864462236596,5.934808019204952,5.530680503466548,6.315209261458801,5.217101982471704,5.773563096722859,6.78247916751949,5.873538218091687,6.076611978489273,6.141171391526464,5.93929305894978,6.376430103632698,6.251016006264778,5.8276949332297185,6.441231621993881,6.037503980365259,6.4674816623164935,5.3545884722914945,5.28349632200367,5.1405778195913685,5.925454254354267,6.0919588664859905,5.880384794825667,5.7761560468643065,5.652784866879581,5.759212330758644,5.908987431605387,6.384862610421019,6.221658624936706,6.103108998258727,6.190921543972768,5.811429091267402,5.537562766718394,6.522260333243914,5.6802970404251365,5.030368689391851,6.698443409080267,5.984271306730897,6.4805485995158545,6.410635829286408,5.800790968183047,5.224095824688075,6.593752514232749,6.591728329339136,5.37488313878709,6.704826698276932,7.211219290124511,5.926774654422581,5.94932442978243,6.473288802173183,5.779084939967268,5.653342572260678,5.7669141908134405,7.0818345368796916,5.492898360650233,5.4161073877491415,6.913650312211535,6.408200530757791,6.385546288493689,6.143046976913835,6.030876003151731,5.691178036818001,5.9609158965883875,6.108767652342453,6.198236442273733,6.1464438323505055,5.565524406046035,6.929351315701746,5.758438443467895,5.946061210916628,5.708831471770809,5.481446708247007,6.095948369674888,6.915216734900366,6.883583546181193,6.3731281493290455,5.947223246406322,6.064559492394943,5.811297229632751,5.951078141231553,6.6471307115919,5.789807491363483,5.521215527194446,5.883738368219906,7.06196153609207,6.468436995348816,5.1109958772238455,6.0389509955644955,5.613491692103384,6.021309488084976,5.572507366992222,6.6305532347674445,6.238508223126718,6.0488813790619345,6.699828814514827,6.245226002976467,6.3445560459806805,6.150904979905031,5.569906432517376,6.282565110021679,6.404825425898982,6.3775634915537545,6.4213018873746,6.130816980455982,5.427971201042381,6.309311186686221,6.4160078210669385,6.125838756978057,5.5966453264282165,5.692631185222064,4.9816028496484055,5.924598406768784,5.825471911463482,5.725099801936428,5.446778310012299,5.319848379105058,6.234974980589508,5.891441278916728,6.9540663041043995,6.0484573600336855,7.008618817763217,5.856368589560148,5.845641924765831,5.469806041037978,6.313279588577306,6.092981207056072,5.8743021513586555,5.68391053292423,5.986701986709664,5.594685775444331,5.992396442920961,6.918309606210925,6.125566273284954,6.895570043253651,6.682075659231096,5.39279824603241,6.371528200449841,6.405566940204875,6.0469394230889,4.8414658651666835,5.257241509072587,6.3983074540192515,6.698133508552506,6.654584789986142,5.139064026649993,5.687157345752253,5.722550424198471,6.212543660239222,5.961984460104369,5.694295819244395,6.486330598779574,5.3631385382535,6.3792819290442235,5.5403773502545635,5.974578158971714,6.032230685426552,6.19806720235138,5.7769699174700975,5.543392747423151,4.826640260955063,6.274890709947217,6.038929484975212,5.956460918821276,5.753307935713358,5.753900903502819,5.8144273867672425,5.381832797090495,5.677798848575307,7.857259254675104,6.113748507485031,5.6779360476772425,5.329173653953073,6.463171178708201,6.657550059459733,5.597143926178055,6.198610518583294,5.1231887676863455,5.8824433338029225,6.235569586336815,6.1798379041210865,5.749366016773201,5.852283869672109,6.188800036775731,5.7909583595691805,5.563070084707152,5.694011620908038,6.109314516653357,6.0168329912073455,6.263014807460591,5.877152355390385,5.923076502641957,6.094564764400205,5.902300536738717,6.123005200469461,6.086235291236303,6.001410849614268,6.4807808147924035,5.7953433596659645,5.815992882318404,5.843657681391403,6.385503031822519,5.465922714307498,6.13094939275283,6.499078841129732,6.325463727913303,6.163333329044861,5.489760036705998,6.220476639287324,5.838448160331901,6.212462416002883,5.423838279323569,5.062586264695518,5.14847706102664,5.505881932108425,6.108025823503819,5.975552781617343,6.313210984128961,5.1129699051383835,5.64930925170466,6.560356283238781,5.744910986062603,4.943769084784769,5.93728912448882,6.05158262178691,5.626547760510897,6.391677645383761,5.411687876291218,5.578259925207445,6.130501900828579,6.882415906541016,6.06982585628157,6.151250795429933,5.481236424339116,6.105932997233616,6.06137830360786,5.412244127212424,6.62381554024493,6.093853930677148,6.173517449986541,5.766231067457755,6.47870566651675,5.853417258820805,5.775928953089874,6.737966536947118,5.2710168809205475,5.927307782837099,6.232102224688116,5.649713159176748,7.111194952918838,5.895624533110077,5.381464639870712,6.6691816683791245,6.174063478454474,5.9239622693525575,6.065719101303256,7.034396345649702,5.615754141038774,5.271667818203857,5.61888383100649,5.391558167158333,6.014700691816912,5.786722557667471,6.128989300564987,6.190983539422739,5.641347914269598,6.2080968290566805,6.795015483896215,5.928999124703237,5.22779244059201,5.660198800885925,5.793391883947471,5.884405078365188,6.3106112429880605,6.442180587148419,5.108015967835936,6.529805597967976,5.905767947214249,5.897300181629616,5.007380650006137,6.916047910793445,5.900925430345399,6.265013856174911,5.84426224956866,6.093298655513492,6.177800047828408,6.035837486907478,5.351385826011877,6.406708480756331,5.598168901076794,6.059609604656465,7.090849406831108,5.917941298462638,5.824242886954425,4.764908388407351,6.609447618835156,5.951046764790413,6.963374489385416,5.7668317409742125,5.881095008106926,5.8717122583818355,6.167218667528099,6.226246903707305,5.615414767435508,6.316197092481843,6.541505424724658,5.576666928591979,5.795065295755166,5.433722239238682,5.530850558227039,6.492366531813049,5.861685376749331,6.173507748778967,6.145190980615349,6.018980155753432,5.22540591981161,7.134067450279806,5.832674304854488,6.186118382514608,5.9354165993000585,6.24201087484311,6.405989359770224,5.763457278170529,5.891155920619019,6.759765562963845,6.197379489615553,6.8826639501179665,6.576818949433358,6.74546300657142,6.5216503491844,6.622660046427621,6.166493748175359,7.568794215899777,6.464257608030208,5.625824540345487,5.743307157188097,5.693020727808831,5.9706280766311925,5.7121937968527705,6.3818341797796245,5.341014045930658,5.698828400437413,5.891992154341928,6.592369915817322,6.407389587279636,6.311526553456371,5.4550673599156445,6.648332163393333,5.977602412518956,7.065424493831319,5.227665407608058,6.132776505451649,6.798147139379787,6.16564346515135,5.629125145199623,5.619449132093803,5.511579571688254,5.860680780329879,6.749142017171086,5.156772203835824,6.25461877274447,5.314876010228599,5.494284968606673,6.562199880999794,6.192544741060298,6.202901112667891,6.4039389218938,6.166148953907207,6.270237707543408,5.82244194275603,6.409954349173978,5.646536404970981,5.801552695992723,6.032299621453255,6.0800787179443185,6.504019785177765,6.674939639415451,5.454528841091391,6.308684722934939,6.135700629011938,4.990906805126171,5.50083739703048,6.7897531956410075,6.783401502378685,6.064801116318761,5.766674439644165,6.425901107918162,5.929369740898827,6.380174831104063,6.653071829821091,5.371038697273474,6.967725100199413,5.583228409869594,4.925639578052124,6.227178775550377,5.527769313136969,6.370154590445849,5.811962824057877,6.16682659264353,5.60440101642475,6.54191641290012,5.657617126475351,6.097998419945636,5.919164907207383,6.350117960853279,6.059931819370793,6.068688701719952,5.8775312741976915,6.631068395527843,5.651620408903344,6.341424898178956,5.4479221426956945,5.695909522091842,6.924672369215895,5.2847803292719835,5.591364867499348,7.543426784056678,5.115910561038278,6.079968944878311,5.762424408417913,6.100803855211845,6.137877111119001,4.6870178507364475,5.628008587624196,6.813019371513846,5.533573302713377,5.769779093083496,6.383807366386285,5.671552032738466,5.743493953081848,6.090697014295327,5.869852633706606,6.117581968408411,5.702114573105926,6.518055332005761,5.6683352857160845,4.967891464350562,5.704533199136046,5.944545170538333,6.626115114749189,6.167012700201147,5.727027886900405,6.633653555894866,5.328120669390746,6.304583368096696,5.797725280585959,6.022352680862073,6.2942486017655295,5.816824362783588,6.018456070976798,5.639166615954268,6.215068734297207,5.506021076268379,6.444699013810032,5.772044996567574,5.863019339616201,6.593101049350761,5.171754668606682,4.859637640294933,6.149514072088738,6.662593984861271,5.346854338459795,6.249148942957125,5.897942198223271,6.283350885276829,5.942822725755697,5.900259619278449,5.306843040021604,6.57026355126326,6.0006359370916575,6.197100343110882,6.131811739039887,5.4286220161649315,5.99647141174557,6.693141178803669,5.464153921490237,5.84114274193108,6.318828490368426,6.5556157729759255,6.141493333723063,5.637729105610819,6.265890831002556,5.067725822004585,5.928956581025279,5.8598968423742654,6.147234795091258,6.075364528188643,5.837076560254329,6.94143753591414,5.588868831387165,6.348529218034809,4.863845898966583,6.396747185150883,6.431388008806502,6.638777179311228,6.536919886914039,5.45886095250623,6.242913671642543,6.102494166301232,5.713500511199522,5.83032739760411,6.530244340986447,6.8472776080364515,5.052405687982007,5.629870218867432,6.215049753112508,5.801048676129858,5.446593486801599,5.795865104063731,5.607480400477759,6.241702672520769,6.336618137290218,5.91133497676796,5.970718504264546,5.44369707922392,5.054958333147629,6.625078440152324,4.709006900072602,6.7602339218071394,5.924800807601377,5.658010497008212,4.9061295888659995,5.962613951172358,5.442596500003619,5.331722986194761,6.286540970358697,5.711649030740687,6.449611952753811,5.847256974042657,6.233649914979638,5.5305618919029715,6.569105114023365,6.215225864485312,5.720293756482744,6.069768340519098,6.192874973530342,6.205116809491393,5.086870559398701,5.181724033786021,6.144107801750417,6.575631259854923,6.009182278312501,5.539616079400529,5.569891034567337,6.301711072288999,6.4710395772534355,5.183272005752046,6.187199599957156,5.2563751410322315,5.99552404150468,6.040852848488519,6.095037050407274,5.240287238880619,5.179585561399113,6.605942560455425,6.616819350773384,6.091485545381952,5.868829541236811,5.65804460212881,5.283191308838203,5.39300791060583,7.446377968918265,6.4541259326962805,5.7647206437195555,6.257297919783383,6.25702142646797,5.585112334678499,6.350505143365102,5.617801460293021,6.0062238831090315,5.856035457542097,5.112442069725984,4.960317407276899,6.072795412307374,5.027079481148034,5.58010664564236,4.740859805848574,5.8389597851691315,5.735595645551451,5.967665601506266,5.632573702788695,5.343988484412828,6.354206505882177,6.694209713266294,6.1801156148641745,5.070703457813874,5.656366850044802,6.266045271514232,5.986944593237682,5.943089219345053,5.470932956506006,5.51342223625852,6.133743318039472,5.739060602760265,6.002677489998561,7.276645022033355,6.436963233077494,6.371580896795282,5.39751849869419,5.928511743646451,5.814773771351264,6.022821823710185,5.74696740259341,5.099522206440207,6.298231496271873,5.88997726649072,5.38703294879519,6.042028907580872,5.352679110763303,5.430232631108389,5.751341574559062,6.126434185699743,5.664419858603378,6.738507536282873,6.300081674845242,6.295206400267224,5.332865225458591,6.704154376079898,5.667761891854981,6.259107896456286,5.73855277499818,6.0193823268875,5.769397015340823,5.559089667279737,5.738429526017036,5.424404123157939,5.48925609419682,6.514590680702689,5.386875972687726,5.0803721964659045,4.820318450931327,5.499866821253085,5.431862976033681,5.843348588134987,5.278692059118795,6.660370465184151,6.027184175558612,6.979517172512632,5.371784206660127,6.184557878950198,6.415556392023358,5.816239720586257,6.084573014817737,6.1404779284023645,5.538228246577929,5.8229508257147575,5.679881011942512,6.4528276770053195,5.614439727525824,6.243752095850166,5.739438005744065,6.13968379901347,6.316092045821528,7.025486767620051,6.052358956738149,6.378980214824792,6.269629941276647,5.706253941651698,6.34309033298466,5.7403743056173475,5.224181839092081,6.429655578833267,6.224586629441885,5.876662179786098,6.08649489284822,5.669219824622878,6.039248819576964,5.696659543036541,5.873548558538028,6.085883066419384,5.8990375312960355,6.1613077123425555,5.886990621261163,5.998098804176665,5.90553971892003,6.381054164026912,4.630711855419468,5.180544372039296,5.121610072655954,6.3629278096607855,6.007257963454349,6.2538628812567945,5.345456426973967,6.044116248384939,6.374407384924233,6.241225574857212,5.952008596919195,5.179881194827804,5.368390630656596,4.744894715335096,5.478719249259268,6.555668243229419,5.729460322188757,5.521418056586909,6.199378744179985,6.657850504998708,5.864252026130311,5.289061470729411,6.562665386930002,6.414866640558426,6.072982984230129,5.515909614068789,5.164375457120584,5.554571450711783,5.537092851567692,4.96698922613567,6.262660335093906,6.16291850418626,4.812747984779055,5.919141612148613,5.509458587125946,5.885808800776156,5.495195631009606,6.265547147296472,6.33478287907942,6.007885113931415,5.3105769982417295,6.0152016343718335,5.969641395867895,5.796824183951635,5.671257094400872,5.760319418544873,6.51977986003527,6.3093286675960325,6.433698366011457,6.066559145276509,5.6961533566137454,6.347657817185126,6.55606726986513,5.808164016401965,6.014504944823122,6.193632795039777,6.141261003766948,5.933554105644194,5.974796098763827,5.7794525186919286,6.212598393364159,6.152478930481217,6.659043004024085,6.033770925551592,6.448348584979506,6.049340367758843,6.429542397873179,5.6254146026440255,5.992502996231873,5.406289636049232,5.222434935777466,5.2949104051875775,5.892307104195856,5.619594529039736,5.068501604332517,6.287481542260617,5.702821921627055,6.334354821623757,6.008231676375779,5.896142340050207,7.229789450480581,6.298116212124448,6.3072050544266265,5.973836417703976,6.314602019603776,5.634724606855342,6.6059898566484065,5.799231428360917,5.0359078684646565,6.211809015008372,7.498782897187599,4.983025221996746,6.3216571063584,5.399473999727219,5.826619708970306,6.306535837856549,6.459048268393779,5.39864020812013,6.530970872158196,6.7157494819346235,6.920745049722223,6.0163844504455195,6.467366930593028,5.571607607952853,5.401344364542166,6.030420070977083,5.533783500302908,5.9146636809320805,5.472549365751267,5.913221677690071,6.361596094673732,6.338141972973539,6.375019225113898,5.896385090813833,5.895028215959497,6.265340792753333,5.772575114014978,5.948900045096638,5.6122504648775955,6.739569859202061,5.17807435629719,6.3866690223262985,6.103424137462237,5.468804851115542,5.465275713621745,6.5649012593704175,5.222205896248273,5.17133116900178,5.650567569143805,5.378769460912414,5.489440643005455,5.841260007680078,5.924653807990375,6.167606395299611,5.898414289894099,6.038121465327721,6.6687302823931125,6.620803884477735,6.663021432039948,5.488788681392913,6.330446513651084,5.78086511345117,6.64134483764688,5.588225409096795,7.024003461388856,6.189895709943561,5.8908269561376665,7.098011769839409,5.851462756500371,5.441573748842335,5.949757511212891,5.691372055109856,6.586135408744524,5.996827926616302,6.234006811008809,4.967632249641827,5.432765700866942,6.504335410114872,5.824843007021201,5.9225105649179834,4.758544252657153,5.582219193534462,5.593734626278141,5.93398137460337,6.422652763180956,6.208967627127204,5.932304742809835,6.217414233192388,5.588101380572849,6.184873424734156,5.84126450783952,5.8302337857314885,6.260575974464436,6.676209312534263,5.691193443666267,5.8025065094503985,6.772234797176038,4.952245473255402,5.824757724884445,4.856287781597839,5.65512872569513,5.636439516726897,6.369929562280695,5.721044294097697,5.402260891936247,5.700975037597945,5.985705192374469,6.2665970793311185,6.051618122605548,5.542226583690958,5.056075437015416,5.352636817770101,7.284027185637626,7.101398594921911,6.50599108199902,6.2728667279218815,6.811449534789324,6.33694168953235,5.735029579086316,7.190576532010494,6.060840320623265,5.7744354327105265,5.79131941498253,5.996830170594084,6.543423876523497,6.325187226544796,5.767005860820687,5.387085591027276,6.039311008859262,5.148527461873016,5.56472665160861,6.410229527800972,5.64525584363203,5.85953568453627,6.197772929859705,6.36673289305877,6.1770128803139785,6.241152024164166,6.999620097519426,5.954014965748064,5.07973839389336,6.409381779027443,5.981500644854152,5.754271988544441,6.962563351062997,5.407227624886451,5.714816738321215,7.046309906717385,5.793419835474676,5.37096594239457,6.368284367023982,6.405678283114571,6.0379844338201,6.253013573113067,5.005675293224039,5.396211862768469,6.318295895431474,5.808879230749037,6.714723814868362,5.909251056892074,6.033339637014919,5.981633841521664,6.652185207518977,5.793115131269152,4.735795290840633,6.26523110348007,5.8016823037000185,4.985283960090692,5.747610005890564,6.657917167224216,5.757928705787559,6.71566134781232,6.427929983068785,6.473363297508287,5.7677986652715605,6.017961783283902,5.95336052453301,5.581038915990963,6.434811523803178,6.038219202032931,6.552830761365816,6.1790013696588515,5.540175987783408,5.423577415531725,6.55592109215678,5.90222920850752,6.37475975352788,5.823409634954147,4.95379922530519,6.374662529024121,6.410480119283921,6.439698855301129,6.320005429486837,5.922130230661477,5.50447536554162,5.562629308863176,6.089831508120922,5.604788916247069,5.906045465044191,6.394857163267125,5.524649766093515,6.0794434655265075,5.709118710633607,5.499701134480261,6.32547050091457,5.813298055968986,6.191440801438501,5.1922623835603305,6.0050447675315874,6.495353697245043,5.919830252295637,6.29098215898696,5.773287773992933,5.819158551286078,5.806949025593955,6.535289622823749,5.843587934961797,5.78886192873104,6.388055829844275,6.362473440196707,5.118441872801165,5.778972638266752,6.729803927758123,6.19866866687943,5.902303418788371,5.64132424585081,4.9357419745768025,6.523906007018172,5.856735888279779,4.797854927530407,5.192169833523959,6.1966097424916295,5.662533733033679,6.7391739959299235,6.3093985437103655,6.931582566807431,6.497340599805263,6.249030637038568,6.082649137635795,6.021527524910612,6.07103583245169,5.628154758115911,6.442374775404235,6.06268224883011,6.30075923750249,5.122797142963053,6.626023099331916,6.630656202064407,5.921864781623454,6.443101442516498,6.332833978396041,5.407531658825676,6.404051326858512,6.646504046054513,5.825493779374902,5.740605170102712,6.5792277653894775,5.863096507794098,5.617258152671459,6.3337431880077,6.496346874861051,5.555528055678951,6.211126287172542,6.142786663224005,5.646497253535076,5.733220628612308,6.054885435489403,4.425300064041133,5.814048079545118,5.4239945708164345,5.531899331171562,4.823070548474403,6.495539708870703,6.054700441656546,6.418740488761541,5.838413169995657,5.47765645939297,5.760112674845674,6.396030094328252,5.73982377668987,5.87586060555682,6.131759447867757,5.1873982098630975,6.327047290424141,5.083850550181066,5.555040915210223,6.006961419503711,5.88612671771332,5.672119322428681,6.216283419777181,7.052640348066417,6.103539022614476,5.890190796615413,5.7323166757224175,6.798012434556654,6.2757502181860145,6.082773376104167,5.512972959032033,5.908125159692524,6.5047267842701295,6.3242440565618265,6.779029432648809,5.653841704897843,6.7872683852722195,5.541514054674886,6.22102853661939,5.663817817558144,5.29268032283059,5.151603865917386,6.052511390115355,6.874775983965286,6.05133356305711,6.0813658211182915,6.160281073369921,5.974096869982238,5.410896204478703,5.937483368369557,6.4437078171539826,5.969052086032073,6.120855563804259,5.310950674008047,5.95687388639365,6.335979491489427,5.215967015957005,6.58767304502808,5.8561253881574,5.252860559297112,5.872871271968786,6.290728778893682,5.791708073435169,5.72875887252813,5.779678509354464,5.936498557463125,5.576190959075342,6.18499350385802,6.093810756183824,5.916768864885656,6.017958889125622,5.424959890295962,5.536949806748242,5.360492223663909,6.495890650549434,6.331358298417719,5.610066518158359,6.585580921136872,6.253458082493222,4.947308189004703,5.9898943258541575,6.00109800355524,6.232152825701082,5.619176949060771,5.356863994261529,5.985071238518521,5.996502860628145,5.940603714971073,5.208089003892383,6.394157923139142,6.315345233672752,5.726275815807342,6.174017522675511,5.944288105747598,5.521735962323202,5.946415367959747,6.309681914378892,6.005624807713425,6.259893941812419,5.8461021674949745,6.1390157990877885,5.55409976618483,5.71126493491316,5.349886383019047,6.0679444926284845,5.049780510491065,4.987751086883581,5.568011176689034,6.148564570407627,6.069112342892116,5.87870109058186,5.864700408849494,5.5350148736469755,5.865798049096922,6.612995589346357,5.883802427121887,5.9300959050674145,5.346910506936558,6.302639044480873,4.831654058642426,5.542344766205182,5.4984253753234045,5.7277527306687706,5.867512442134173,5.810551888028928,6.033011850921585,5.707681866829425,6.161506245221299,6.157797187127677,6.158368238628071,5.892096332966103,6.270188719326588,6.303768012236598,6.045394948066891,5.165449082316699,6.476190666479553,6.181256678964613,5.759681765431877,6.374291091262759,4.915418342540375,5.960647142966116,6.596662629911081,5.700232842533955,6.420723210353268,6.064160915341558,6.173111944162516,5.781174087131029,6.143859895615781,5.351403673866508,5.600208224116201,6.3079803863690564,5.669730075425832,6.766504261331768,6.0047611678297566,6.0830153552474755,5.589831701677497,6.131028848618428,6.419203012532911,6.8116259231214835,6.699315882612053,6.712781984137092,6.711650833571007,4.855004408384367,6.617475335931993,6.525763686512802,5.309420439813945,5.853784548053305,5.993402762684595,6.152257608198393,6.010446222174504,5.798096465589194,6.116058059745487,5.903448762060099,6.0011440124612925,5.572807412485273,6.62245671515052,5.412648798600141,5.721154432243256,5.5940423161206745,5.113538759294517,5.980503066090977,7.169397745856941,6.28160516912385,5.581489533209899,6.053787339525444,5.773441547320188,5.448823014185269,6.4012110162141065,6.5880831886031235,5.557562000946662,6.0593563850437135,6.158678180096412,6.156201154404774,5.888093671438704,6.16795239617407,6.666830270975564,5.306301655020045,6.615186760056062,5.743374661856483,6.68908275571022,5.4989113701310135,6.3449231446996786,5.80644301549665,6.095629673312348,5.623506261696647,5.370614943367906,5.862026451741769,6.253055418842525,6.54819132014662,5.51056525001019,6.10471996716373,6.603964682432901,5.7983418038047665,5.309570954972594,6.364183084317598,5.375456128931685,6.991990080311194,5.351465182848919,5.13689122851981,5.7309627037965845,6.797601759729298,6.34135090477589,5.231053170060903,6.727354517524229,5.717825892085118,5.955552872481044,7.053650823779553,5.975897051680331,6.889598704358844,5.066246876731657,6.479148247517094,5.775212564283447,6.904176787976853,5.92847115769932,6.532757453756957,6.808609119072921,5.7416421374085225,5.951306817449332,6.544301104863768,7.000637865267459,5.729675497848521,6.182642421934153,6.056419246297913,5.374659382753725,6.3533929935379225,5.859399512454811,6.216378975441877,5.745713149781755,6.176323721516504,6.178146389318216,5.41799230670616,6.599378550506114,5.731994723359797,6.672883330618897,6.503383400807572,6.674663393628821,4.657232530391123,6.267050011741112,5.211661355768066,5.843019138951457,5.56791740320453,6.320040619043252,5.847439303985566,7.175933525033905,6.367463320056474,6.665433183862753,5.586509427920991,6.096989386217101,5.583728899538157,5.027076707344277,6.411178590686566,5.9511856768574605,6.487471683186167,6.001688576948787,6.25673248387991,5.459258242648148,5.846591149284006,6.4566969846764914,6.487178380451553,5.720794646638483,6.501314418286465,5.58811662024692,5.214763562846748,5.885084974549704,6.325464910874869,6.629146819172455,5.780909719342062,5.23168540466053,6.654007752327047,5.610944964828379,5.588828971212718,5.474706707727181,6.4298747229582505,6.1371117510522115,5.671572364212321,6.221385358806536,6.889605821117007,6.308450715967772,5.044229920051056,5.606715513981055,6.511984401404697,6.152020248413432,6.067731865857367,6.332205830756726,5.767779187386161,6.103295626195149,6.7776334244920395,6.261778993904988,6.551832044410559,6.1745836682535575,5.259964071947229,5.532251174152079,5.459145087058017,5.95788759477874,5.393966108069515,6.145630957651589,5.706945694041243,6.230758134655096,5.445356136531285,4.9825254526682095,6.281432280123894,7.144270262815664,5.819038290762922,6.021312259422306,5.765620941450486,6.71798847625218,5.422955317681929,5.367908859799887,5.489003985768913,5.349390415227038,5.386609353479893,6.000886505998404,6.1647389711919285,6.165313477833497,6.179646935925163,6.417239439529449,6.214221797141784,5.587557736532484,6.098772018957249,6.039672181503745,5.661597046331373],\"type\":\"histogram\",\"xaxis\":\"x4\",\"yaxis\":\"y4\",\"xbins\":{\"end\":10,\"start\":0}}],                        {\"template\":{\"data\":{\"histogram2dcontour\":[{\"type\":\"histogram2dcontour\",\"colorbar\":{\"outlinewidth\":0,\"ticks\":\"\"},\"colorscale\":[[0.0,\"#0d0887\"],[0.1111111111111111,\"#46039f\"],[0.2222222222222222,\"#7201a8\"],[0.3333333333333333,\"#9c179e\"],[0.4444444444444444,\"#bd3786\"],[0.5555555555555556,\"#d8576b\"],[0.6666666666666666,\"#ed7953\"],[0.7777777777777778,\"#fb9f3a\"],[0.8888888888888888,\"#fdca26\"],[1.0,\"#f0f921\"]]}],\"choropleth\":[{\"type\":\"choropleth\",\"colorbar\":{\"outlinewidth\":0,\"ticks\":\"\"}}],\"histogram2d\":[{\"type\":\"histogram2d\",\"colorbar\":{\"outlinewidth\":0,\"ticks\":\"\"},\"colorscale\":[[0.0,\"#0d0887\"],[0.1111111111111111,\"#46039f\"],[0.2222222222222222,\"#7201a8\"],[0.3333333333333333,\"#9c179e\"],[0.4444444444444444,\"#bd3786\"],[0.5555555555555556,\"#d8576b\"],[0.6666666666666666,\"#ed7953\"],[0.7777777777777778,\"#fb9f3a\"],[0.8888888888888888,\"#fdca26\"],[1.0,\"#f0f921\"]]}],\"heatmap\":[{\"type\":\"heatmap\",\"colorbar\":{\"outlinewidth\":0,\"ticks\":\"\"},\"colorscale\":[[0.0,\"#0d0887\"],[0.1111111111111111,\"#46039f\"],[0.2222222222222222,\"#7201a8\"],[0.3333333333333333,\"#9c179e\"],[0.4444444444444444,\"#bd3786\"],[0.5555555555555556,\"#d8576b\"],[0.6666666666666666,\"#ed7953\"],[0.7777777777777778,\"#fb9f3a\"],[0.8888888888888888,\"#fdca26\"],[1.0,\"#f0f921\"]]}],\"heatmapgl\":[{\"type\":\"heatmapgl\",\"colorbar\":{\"outlinewidth\":0,\"ticks\":\"\"},\"colorscale\":[[0.0,\"#0d0887\"],[0.1111111111111111,\"#46039f\"],[0.2222222222222222,\"#7201a8\"],[0.3333333333333333,\"#9c179e\"],[0.4444444444444444,\"#bd3786\"],[0.5555555555555556,\"#d8576b\"],[0.6666666666666666,\"#ed7953\"],[0.7777777777777778,\"#fb9f3a\"],[0.8888888888888888,\"#fdca26\"],[1.0,\"#f0f921\"]]}],\"contourcarpet\":[{\"type\":\"contourcarpet\",\"colorbar\":{\"outlinewidth\":0,\"ticks\":\"\"}}],\"contour\":[{\"type\":\"contour\",\"colorbar\":{\"outlinewidth\":0,\"ticks\":\"\"},\"colorscale\":[[0.0,\"#0d0887\"],[0.1111111111111111,\"#46039f\"],[0.2222222222222222,\"#7201a8\"],[0.3333333333333333,\"#9c179e\"],[0.4444444444444444,\"#bd3786\"],[0.5555555555555556,\"#d8576b\"],[0.6666666666666666,\"#ed7953\"],[0.7777777777777778,\"#fb9f3a\"],[0.8888888888888888,\"#fdca26\"],[1.0,\"#f0f921\"]]}],\"surface\":[{\"type\":\"surface\",\"colorbar\":{\"outlinewidth\":0,\"ticks\":\"\"},\"colorscale\":[[0.0,\"#0d0887\"],[0.1111111111111111,\"#46039f\"],[0.2222222222222222,\"#7201a8\"],[0.3333333333333333,\"#9c179e\"],[0.4444444444444444,\"#bd3786\"],[0.5555555555555556,\"#d8576b\"],[0.6666666666666666,\"#ed7953\"],[0.7777777777777778,\"#fb9f3a\"],[0.8888888888888888,\"#fdca26\"],[1.0,\"#f0f921\"]]}],\"mesh3d\":[{\"type\":\"mesh3d\",\"colorbar\":{\"outlinewidth\":0,\"ticks\":\"\"}}],\"scatter\":[{\"fillpattern\":{\"fillmode\":\"overlay\",\"size\":10,\"solidity\":0.2},\"type\":\"scatter\"}],\"parcoords\":[{\"type\":\"parcoords\",\"line\":{\"colorbar\":{\"outlinewidth\":0,\"ticks\":\"\"}}}],\"scatterpolargl\":[{\"type\":\"scatterpolargl\",\"marker\":{\"colorbar\":{\"outlinewidth\":0,\"ticks\":\"\"}}}],\"bar\":[{\"error_x\":{\"color\":\"#2a3f5f\"},\"error_y\":{\"color\":\"#2a3f5f\"},\"marker\":{\"line\":{\"color\":\"#E5ECF6\",\"width\":0.5},\"pattern\":{\"fillmode\":\"overlay\",\"size\":10,\"solidity\":0.2}},\"type\":\"bar\"}],\"scattergeo\":[{\"type\":\"scattergeo\",\"marker\":{\"colorbar\":{\"outlinewidth\":0,\"ticks\":\"\"}}}],\"scatterpolar\":[{\"type\":\"scatterpolar\",\"marker\":{\"colorbar\":{\"outlinewidth\":0,\"ticks\":\"\"}}}],\"histogram\":[{\"marker\":{\"pattern\":{\"fillmode\":\"overlay\",\"size\":10,\"solidity\":0.2}},\"type\":\"histogram\"}],\"scattergl\":[{\"type\":\"scattergl\",\"marker\":{\"colorbar\":{\"outlinewidth\":0,\"ticks\":\"\"}}}],\"scatter3d\":[{\"type\":\"scatter3d\",\"line\":{\"colorbar\":{\"outlinewidth\":0,\"ticks\":\"\"}},\"marker\":{\"colorbar\":{\"outlinewidth\":0,\"ticks\":\"\"}}}],\"scattermapbox\":[{\"type\":\"scattermapbox\",\"marker\":{\"colorbar\":{\"outlinewidth\":0,\"ticks\":\"\"}}}],\"scatterternary\":[{\"type\":\"scatterternary\",\"marker\":{\"colorbar\":{\"outlinewidth\":0,\"ticks\":\"\"}}}],\"scattercarpet\":[{\"type\":\"scattercarpet\",\"marker\":{\"colorbar\":{\"outlinewidth\":0,\"ticks\":\"\"}}}],\"carpet\":[{\"aaxis\":{\"endlinecolor\":\"#2a3f5f\",\"gridcolor\":\"white\",\"linecolor\":\"white\",\"minorgridcolor\":\"white\",\"startlinecolor\":\"#2a3f5f\"},\"baxis\":{\"endlinecolor\":\"#2a3f5f\",\"gridcolor\":\"white\",\"linecolor\":\"white\",\"minorgridcolor\":\"white\",\"startlinecolor\":\"#2a3f5f\"},\"type\":\"carpet\"}],\"table\":[{\"cells\":{\"fill\":{\"color\":\"#EBF0F8\"},\"line\":{\"color\":\"white\"}},\"header\":{\"fill\":{\"color\":\"#C8D4E3\"},\"line\":{\"color\":\"white\"}},\"type\":\"table\"}],\"barpolar\":[{\"marker\":{\"line\":{\"color\":\"#E5ECF6\",\"width\":0.5},\"pattern\":{\"fillmode\":\"overlay\",\"size\":10,\"solidity\":0.2}},\"type\":\"barpolar\"}],\"pie\":[{\"automargin\":true,\"type\":\"pie\"}]},\"layout\":{\"autotypenumbers\":\"strict\",\"colorway\":[\"#636efa\",\"#EF553B\",\"#00cc96\",\"#ab63fa\",\"#FFA15A\",\"#19d3f3\",\"#FF6692\",\"#B6E880\",\"#FF97FF\",\"#FECB52\"],\"font\":{\"color\":\"#2a3f5f\"},\"hovermode\":\"closest\",\"hoverlabel\":{\"align\":\"left\"},\"paper_bgcolor\":\"white\",\"plot_bgcolor\":\"#E5ECF6\",\"polar\":{\"bgcolor\":\"#E5ECF6\",\"angularaxis\":{\"gridcolor\":\"white\",\"linecolor\":\"white\",\"ticks\":\"\"},\"radialaxis\":{\"gridcolor\":\"white\",\"linecolor\":\"white\",\"ticks\":\"\"}},\"ternary\":{\"bgcolor\":\"#E5ECF6\",\"aaxis\":{\"gridcolor\":\"white\",\"linecolor\":\"white\",\"ticks\":\"\"},\"baxis\":{\"gridcolor\":\"white\",\"linecolor\":\"white\",\"ticks\":\"\"},\"caxis\":{\"gridcolor\":\"white\",\"linecolor\":\"white\",\"ticks\":\"\"}},\"coloraxis\":{\"colorbar\":{\"outlinewidth\":0,\"ticks\":\"\"}},\"colorscale\":{\"sequential\":[[0.0,\"#0d0887\"],[0.1111111111111111,\"#46039f\"],[0.2222222222222222,\"#7201a8\"],[0.3333333333333333,\"#9c179e\"],[0.4444444444444444,\"#bd3786\"],[0.5555555555555556,\"#d8576b\"],[0.6666666666666666,\"#ed7953\"],[0.7777777777777778,\"#fb9f3a\"],[0.8888888888888888,\"#fdca26\"],[1.0,\"#f0f921\"]],\"sequentialminus\":[[0.0,\"#0d0887\"],[0.1111111111111111,\"#46039f\"],[0.2222222222222222,\"#7201a8\"],[0.3333333333333333,\"#9c179e\"],[0.4444444444444444,\"#bd3786\"],[0.5555555555555556,\"#d8576b\"],[0.6666666666666666,\"#ed7953\"],[0.7777777777777778,\"#fb9f3a\"],[0.8888888888888888,\"#fdca26\"],[1.0,\"#f0f921\"]],\"diverging\":[[0,\"#8e0152\"],[0.1,\"#c51b7d\"],[0.2,\"#de77ae\"],[0.3,\"#f1b6da\"],[0.4,\"#fde0ef\"],[0.5,\"#f7f7f7\"],[0.6,\"#e6f5d0\"],[0.7,\"#b8e186\"],[0.8,\"#7fbc41\"],[0.9,\"#4d9221\"],[1,\"#276419\"]]},\"xaxis\":{\"gridcolor\":\"white\",\"linecolor\":\"white\",\"ticks\":\"\",\"title\":{\"standoff\":15},\"zerolinecolor\":\"white\",\"automargin\":true,\"zerolinewidth\":2},\"yaxis\":{\"gridcolor\":\"white\",\"linecolor\":\"white\",\"ticks\":\"\",\"title\":{\"standoff\":15},\"zerolinecolor\":\"white\",\"automargin\":true,\"zerolinewidth\":2},\"scene\":{\"xaxis\":{\"backgroundcolor\":\"#E5ECF6\",\"gridcolor\":\"white\",\"linecolor\":\"white\",\"showbackground\":true,\"ticks\":\"\",\"zerolinecolor\":\"white\",\"gridwidth\":2},\"yaxis\":{\"backgroundcolor\":\"#E5ECF6\",\"gridcolor\":\"white\",\"linecolor\":\"white\",\"showbackground\":true,\"ticks\":\"\",\"zerolinecolor\":\"white\",\"gridwidth\":2},\"zaxis\":{\"backgroundcolor\":\"#E5ECF6\",\"gridcolor\":\"white\",\"linecolor\":\"white\",\"showbackground\":true,\"ticks\":\"\",\"zerolinecolor\":\"white\",\"gridwidth\":2}},\"shapedefaults\":{\"line\":{\"color\":\"#2a3f5f\"}},\"annotationdefaults\":{\"arrowcolor\":\"#2a3f5f\",\"arrowhead\":0,\"arrowwidth\":1},\"geo\":{\"bgcolor\":\"white\",\"landcolor\":\"#E5ECF6\",\"subunitcolor\":\"white\",\"showland\":true,\"showlakes\":true,\"lakecolor\":\"white\"},\"title\":{\"x\":0.05},\"mapbox\":{\"style\":\"light\"}}},\"xaxis\":{\"anchor\":\"y\",\"domain\":[0.0,0.2125],\"title\":{\"text\":\"A\"},\"range\":[-0.5,10.5]},\"yaxis\":{\"anchor\":\"x\",\"domain\":[0.0,1.0]},\"xaxis2\":{\"anchor\":\"y2\",\"domain\":[0.2625,0.475],\"title\":{\"text\":\"B\"},\"range\":[-0.5,10.5]},\"yaxis2\":{\"anchor\":\"x2\",\"domain\":[0.0,1.0]},\"xaxis3\":{\"anchor\":\"y3\",\"domain\":[0.525,0.7375],\"title\":{\"text\":\"C\"},\"range\":[-0.5,10.5]},\"yaxis3\":{\"anchor\":\"x3\",\"domain\":[0.0,1.0]},\"xaxis4\":{\"anchor\":\"y4\",\"domain\":[0.7875,1.0],\"title\":{\"text\":\"D\"},\"range\":[-0.5,10.5]},\"yaxis4\":{\"anchor\":\"x4\",\"domain\":[0.0,1.0]},\"title\":{\"text\":\"Row of Histograms\"},\"height\":300,\"width\":750},                        {\"responsive\": true}                    ).then(function(){\n",
       "                            \n",
       "var gd = document.getElementById('0726d697-1a05-4acc-972c-7ad20a5dc147');\n",
       "var x = new MutationObserver(function (mutations, observer) {{\n",
       "        var display = window.getComputedStyle(gd).display;\n",
       "        if (!display || display === 'none') {{\n",
       "            console.log([gd, 'removed!']);\n",
       "            Plotly.purge(gd);\n",
       "            observer.disconnect();\n",
       "        }}\n",
       "}});\n",
       "\n",
       "// Listen for the removal of the full notebook cells\n",
       "var notebookContainer = gd.closest('#notebook-container');\n",
       "if (notebookContainer) {{\n",
       "    x.observe(notebookContainer, {childList: true});\n",
       "}}\n",
       "\n",
       "// Listen for the clearing of the current output cell\n",
       "var outputEl = gd.closest('.output');\n",
       "if (outputEl) {{\n",
       "    x.observe(outputEl, {childList: true});\n",
       "}}\n",
       "\n",
       "                        })                };                });            </script>        </div>"
      ]
     },
     "metadata": {},
     "output_type": "display_data"
    }
   ],
   "source": [
    "from scipy import stats\n",
    "import plotly.graph_objects as go\n",
    "from plotly.subplots import make_subplots\n",
    "import numpy as np\n",
    "\n",
    "n = 1500\n",
    "data1 = stats.uniform.rvs(0, 10, size=n)\n",
    "data2 = stats.norm.rvs(5, 1.5, size=n)\n",
    "data3 = np.r_[stats.norm.rvs(2, 0.25, size=int(n/2)), stats.norm.rvs(8, 0.5, size=int(n/2))]\n",
    "data4 = stats.norm.rvs(6, 0.5, size=n)\n",
    "\n",
    "fig = make_subplots(rows=1, cols=4)\n",
    "\n",
    "fig.add_trace(go.Histogram(x=data1, name='A', nbinsx=30, marker=dict(line=dict(color='black', width=1))), row=1, col=1)\n",
    "fig.add_trace(go.Histogram(x=data2, name='B', nbinsx=15, marker=dict(line=dict(color='black', width=1))), row=1, col=2)\n",
    "fig.add_trace(go.Histogram(x=data3, name='C', nbinsx=45, marker=dict(line=dict(color='black', width=1))), row=1, col=3)\n",
    "fig.add_trace(go.Histogram(x=data4, name='D', nbinsx=15, marker=dict(line=dict(color='black', width=1))), row=1, col=4)\n",
    "\n",
    "fig.update_layout(height=300, width=750, title_text=\"Row of Histograms\")\n",
    "fig.update_xaxes(title_text=\"A\", row=1, col=1)\n",
    "fig.update_xaxes(title_text=\"B\", row=1, col=2)\n",
    "fig.update_xaxes(title_text=\"C\", row=1, col=3)\n",
    "fig.update_xaxes(title_text=\"D\", row=1, col=4)\n",
    "fig.update_xaxes(range=[-0.5, 10.5])\n",
    "\n",
    "for trace in fig.data:\n",
    "    trace.xbins = dict(start=0, end=10)\n",
    "    \n",
    "# This code was produced by just making requests to Microsoft Copilot\n",
    "# https://github.com/pointOfive/stat130chat130/blob/main/CHATLOG/wk3/COP/SLS/0001_concise_makeAplotV1.md\n",
    "\n",
    "fig.show() # USE `fig.show(renderer=\"png\")` FOR ALL GitHub and MarkUs SUBMISSIONS"
   ]
  },
  {
   "cell_type": "code",
   "execution_count": 5,
   "id": "102d84ef",
   "metadata": {
    "scrolled": true
   },
   "outputs": [
    {
     "name": "stdout",
     "output_type": "stream",
     "text": [
      "       mean       var\n",
      "A  4.330000  7.960707\n",
      "B  4.942514  1.011601\n",
      "C  0.993279  0.805925\n",
      "D  5.053912  0.298903\n"
     ]
    }
   ],
   "source": [
    "import pandas as pd\n",
    "import numpy as np\n",
    "\n",
    "# Example data\n",
    "np.random.seed(0)\n",
    "data = {\n",
    "    'A': np.random.randint(0, 10, 100),\n",
    "    'B': np.random.normal(5, 1, 100),\n",
    "    'C': np.random.exponential(1, 100),\n",
    "    'D': np.random.normal(5, 0.5, 100)\n",
    "}\n",
    "df = pd.DataFrame(data)\n",
    "\n",
    "# Calculate mean and variance\n",
    "stats = df.agg(['mean', 'var']).T\n",
    "\n",
    "# Display the statistics\n",
    "print(stats)"
   ]
  },
  {
   "cell_type": "markdown",
   "id": "c9dc2f15",
   "metadata": {},
   "source": [
    "1)BD\n",
    "2)AB\n",
    "3)CD\n",
    "4)AC"
   ]
  },
  {
   "cell_type": "markdown",
   "id": "8c6279b8",
   "metadata": {},
   "source": [
    "<details class=\"details-example\"><summary style=\"color:blue\"><u>Continue now...?</u></summary>\n",
    "\n",
    "### Pre-lecture VS Post-lecture HW\n",
    "\n",
    "Feel free to work on the \"Post-lecture\" HW below if you're making good progress and want to continue: the next questions will just continue working on data visualization related topics, so, it's just a choice whether or not you want to work a head a little bit... \n",
    "\n",
    "- The previous suggestions regarding **parameters** versus **statistics** would be a very good thing to look at carefully in preparation for the upcoming lecture...\n",
    "    \n",
    "*The benefits of continue would are that (a) it might be fun to try to tackle the challenge of working through some problems without additional preparation or guidance; and (b) this is a very valable skill to be comfortable with; and (c) it will let you build experience interacting with ChatBots (and beginning to understand their strengths and limitations in this regard)... it's good to have sense of when using a ChatBot is the best way to figure something out, or if another approach (such as course provided resources or a plain old websearch for the right resourse) would be more effective*\n",
    "    \n",
    "</details> \n",
    "\n"
   ]
  },
  {
   "cell_type": "markdown",
   "id": "2d99c427",
   "metadata": {},
   "source": [
    "### \"Post-lecture\" HW [*submission along with \"Pre-lecture\" HW is due prior to next TUT*]\n",
    "\n",
    "#### 5. Start a new ChatBot session to explore the general relationship between the *mean* and *median* and \"right\" and \"left\" skewness (and why this is); what the following code does and how it works; and then explain (in your own words) the relationship between the *mean* and *median* and \"right\" and \"left\" skewness and what causes this, using and extending the code to demonstrate your explanation through a sequence of notebook cells.<br>\n",
    "\n",
    "```python\n",
    "from scipy import stats\n",
    "import pandas as pd\n",
    "import numpy as np\n",
    "  \n",
    "sample1 = stats.gamma(a=2,scale=2).rvs(size=1000)\n",
    "fig1 = px.histogram(pd.DataFrame({'data': sample1}), x=\"data\")\n",
    "# USE `fig1.show(renderer=\"png\")` FOR ALL GitHub and MarkUs SUBMISSIONS\n",
    "\n",
    "sample1.mean()\n",
    "np.quantile(sample1, [0.5]) # median\n",
    "\n",
    "sample2 = -stats.gamma(a=2,scale=2).rvs(size=1000)\n",
    "```\n",
    "\n",
    "<details class=\"details-example\"><summary style=\"color:blue\"><u>Further Guidance</u></summary>\n",
    "    \n",
    "> You could start this session perhaps something like [this](https://github.com/pointOfive/stat130chat130/blob/main/CHATLOG/wk3/GPT/SLS/00003_GPT3p5_meanVmedian.md)?\n",
    "> \n",
    "> _Don't forget to ask for summaries of your ChatBot session(s) and paste these into your homework notebook (including link(s) to chat log histories if you're using ChatGPT)..._\n",
    "\n",
    "</details> \n",
    "\n"
   ]
  },
  {
   "cell_type": "markdown",
   "id": "345693b0",
   "metadata": {},
   "source": [
    "The skewness of a distribution directly influences the relationship between the mean and median. Right-skewed distributions have a higher mean compared to the median due to the influence of higher outliers, while left-skewed distributions have a lower mean due to lower outliers. By visualizing these distributions, one can easily see how skewness affects the positioning of the mean relative to the median."
   ]
  },
  {
   "cell_type": "markdown",
   "id": "aff445fc",
   "metadata": {},
   "source": [
    "#### 6. Go find an interesting dataset and use summary statistics and visualizations to understand and demonstate some interesting aspects of the data<br>\n",
    "\n",
    "1. Your approach should likely follow what was suggested for the **Week 02 TUT Communication Activity from TUT**\n",
    "2. In the **Week 03 TUT Communication Activity from TUT** you will be put in groups and determine which group members dataset introduction will be presented by the group\n",
    "\n",
    "<details class=\"details-example\"><summary style=\"color:blue\"><u>Further Guidance</u></summary>\n",
    "\n",
    "> A good place to browse datasets is [TidyTuesday](https://github.com/rfordatascience/tidytuesday/blob/master/README.md) as working with ChatBots to find unconventional and entertaining datasets is not particularly productive and only seems to end up with the datasets seen here and other (more interesting?) suggestions like [iris](https://gist.githubusercontent.com/netj/8836201/raw/6f9306ad21398ea43cba4f7d537619d0e07d5ae3/iris.csv), [superheros](https://raw.githubusercontent.com/steview-d/superhero-dashboard/master/static/data/superheroData.csv), [hauntings](https://raw.githubusercontent.com/andreamoleri/Hauntings/main/hauntings.csv), [bigfoot](https://raw.githubusercontent.com/hannahramirez/BigfootVsUfos/main/bigfoot_mod.csv), [ufos](https://raw.githubusercontent.com/hannahramirez/BigfootVsUfos/main/ufo_mod.csv), [sharks](https://raw.githubusercontent.com/IbaiGallego/DataCleaning_SharkAttack/main/data/jaws.csv), [legos](https://raw.githubusercontent.com/seankross/lego/master/data-tidy/legosets.csv), [bees](https://gist.githubusercontent.com/bootshine2/ba15d3cb38e2ed31129aeca403405a12/raw/10949901cd8a6a75aa46c86b804c42ff410f929e/Bee%2520Colony%2520Loss.csv), [housing](https://raw.githubusercontent.com/slavaspirin/Toronto-housing-price-prediction/master/houses_edited.csv), and [gapminder](https://raw.githubusercontent.com/kirenz/datasets/master/gapminder.csv)\n",
    "> ```python\n",
    "> # Maybe something like this? Feel free to use this one \n",
    "> # if it strikes your fancy after look around a bit\n",
    "> import pandas as pd\n",
    "> df = pd.read_csv(\"https://raw.githubusercontent.com/manuelamc14/fast-food-Nutritional-Database/main/Tables/nutrition.csv\")\n",
    "> df # df.columns\n",
    "> ```\n",
    "\n",
    "</details>"
   ]
  },
  {
   "cell_type": "markdown",
   "id": "9e43613f",
   "metadata": {},
   "source": [
    "link of chatbot：Histogram Annotations - Poe  https://poe.com/chat/3mv7gw02e2lv14fh24h"
   ]
  },
  {
   "cell_type": "code",
   "execution_count": 8,
   "id": "bbc1b57d",
   "metadata": {
    "scrolled": true
   },
   "outputs": [
    {
     "name": "stdout",
     "output_type": "stream",
     "text": [
      "       sepal_length  sepal_width  petal_length  petal_width\n",
      "count    150.000000   150.000000    150.000000   150.000000\n",
      "mean       5.843333     3.057333      3.758000     1.199333\n",
      "std        0.828066     0.435866      1.765298     0.762238\n",
      "min        4.300000     2.000000      1.000000     0.100000\n",
      "25%        5.100000     2.800000      1.600000     0.300000\n",
      "50%        5.800000     3.000000      4.350000     1.300000\n",
      "75%        6.400000     3.300000      5.100000     1.800000\n",
      "max        7.900000     4.400000      6.900000     2.500000\n"
     ]
    },
    {
     "data": {
      "image/png": "[encoded data removed]",
      "text/plain": [
       "<Figure size 1117.75x1000 with 20 Axes>"
      ]
     },
     "metadata": {},
     "output_type": "display_data"
    },
    {
     "data": {
      "image/png": "[encoded data removed]",
      "text/plain": [
       "<Figure size 1200x600 with 1 Axes>"
      ]
     },
     "metadata": {},
     "output_type": "display_data"
    },
    {
     "data": {
      "image/png": "[encoded data removed]",
      "text/plain": [
       "<Figure size 1200x600 with 1 Axes>"
      ]
     },
     "metadata": {},
     "output_type": "display_data"
    }
   ],
   "source": [
    "import seaborn as sns\n",
    "import pandas as pd\n",
    "import matplotlib.pyplot as plt\n",
    "\n",
    "# Load the Iris dataset\n",
    "iris = sns.load_dataset('iris')\n",
    "\n",
    "# Display summary statistics\n",
    "summary_stats = iris.describe()\n",
    "\n",
    "print(summary_stats)\n",
    "sns.pairplot(iris, hue='species', diag_kind='kde')\n",
    "plt.suptitle('Pairplot of Iris Dataset', y=1.02)\n",
    "plt.show()\n",
    "\n",
    "plt.figure(figsize=(12, 6))\n",
    "sns.boxplot(x='species', y='petal_length', data=iris)\n",
    "plt.title('Petal Length Distribution by Species')\n",
    "plt.show()\n",
    "\n",
    "plt.figure(figsize=(12, 6))\n",
    "sns.histplot(data=iris, x='sepal_width', hue='species', element='step', stat='density', common_norm=False)\n",
    "plt.title('Sepal Width Distribution by Species')\n",
    "plt.show()"
   ]
  },
  {
   "cell_type": "markdown",
   "id": "9aab8953",
   "metadata": {},
   "source": [
    "\n",
    "Species Identification: Combining petal and sepal features effectively separates Iris setosa, while more sophisticated methods might be needed to separate Iris versicolor and Iris virginica.\n",
    "Feature Correlation: The pairplot suggests strong correlations between petal length and width, especially for Iris virginica, which can be useful for dimensionality reduction techniques."
   ]
  },
  {
   "cell_type": "markdown",
   "id": "be2f2749",
   "metadata": {},
   "source": [
    "#### 7. Watch the classic [Gapminder Video](https://www.youtube.com/watch?v=jbkSRLYSojo), then have a look at the [`plotly` version](https://plotly.com/python/animations/) and recreate the animation (perhaps after optionally exploring and changing the [style](https://plotly.com/python/templates/), if you wish)"
   ]
  },
  {
   "cell_type": "markdown",
   "id": "1c953507",
   "metadata": {},
   "source": [
    "#### 8. Provide a second version of the figure from the previous problem where you edit the `fig = px.scatter()` function from the Gapminder code so that `x` is \"percent change\", `y` is \"rank\", `size` is \"percent\", and `color`=\"sex\", `animation_frame` is \"year\", and `animation_group` and `hover_name` are \"name\". Then use `size_max=50`, `range_x=[-0.005,0.005])` and remove the `log_x=True` and `range_y` parameters\n",
    "\n",
    "> ```python\n",
    "> bn = pd.read_csv('https://raw.githubusercontent.com/hadley/data-baby-names/master/baby-names.csv')\n",
    "> bn['name'] = bn['name']+\" \"+bn['sex'] # make identical boy and girl names distinct\n",
    "> bn['rank'] = bn.groupby('year')['percent'].rank(ascending=False)\n",
    "> bn = bn.sort_values(['name','year'])\n",
    "> # the next three lines create the increaes or decrease in name prevalence from the last year \n",
    "> bn['percent change'] = bn['percent'].diff()\n",
    "> new_name = [True]+list(bn.name[:-1].values!=bn.name[1:].values)\n",
    "> bn.loc[new_name,'percentage change'] = bn.loc[new_name,'percent'] \n",
    "> bn = bn.sort_values('year')\n",
    "> bn = bn[bn.percent>0.001] # restrict to \"common\" names\n",
    "> fig = px.scatter(bn, x=\"\", y=\"\", animation_frame=\"\", animation_group=\"\",\n",
    ">                  size=\"\", color=\"\", hover_name=\"\",size_max=50, range_x=[-0.005,0.005]) # range_y removed\n",
    "> fig.update_yaxes(autorange='reversed') # this lets us put rank 1 on the top\n",
    "> fig.show(renderer=\"png\") # USE `fig.show(renderer=\"png\")` FOR ALL GitHub and MarkUs SUBMISSIONS\n",
    "> ```\n"
   ]
  },
  {
   "cell_type": "markdown",
   "id": "4fe842f2",
   "metadata": {},
   "source": [
    "#### 9. Have you reviewed the course wiki-textbook and interacted with a ChatBot (or, if that wasn't sufficient, real people in the course piazza discussion board or TA office hours) to help you understand all the material in the tutorial and lecture that you didn't quite follow when you first saw it?<br><br>\n",
    "  \n",
    "<details class=\"details-example\"><summary style=\"color:blue\"><u>Further Guidance</u></summary>\n",
    "    \n",
    ">  Here is the link of [wiki-textbook](https://github.com/pointOfive/stat130chat130/wiki) in case it gets lost among all the information you need to keep track of  : )\n",
    ">     \n",
    "> _Just answering \"Yes\" or \"No\" or \"Somewhat\" or \"Mostly\" or whatever here is fine as this question isn't a part of the rubric; but, the midterm and final exams may ask questions that are based on the tutorial and lecture materials; and, your own skills will be limited by your familiarity with these materials (which will determine your ability to actually do actual things effectively with these skills... like the course project...)_\n",
    "    \n",
    "</details>\n",
    "\n",
    "_**Don't forget to ask for summaries of your ChatBot session(s) and paste these into your homework notebook (including link(s) to chat log histories if you're using ChatGPT)!**_"
   ]
  },
  {
   "cell_type": "code",
   "execution_count": null,
   "id": "b3f47a83",
   "metadata": {},
   "outputs": [],
   "source": [
    "yes"
   ]
  },
  {
   "cell_type": "markdown",
   "id": "c6aab1be",
   "metadata": {},
   "source": [
    "# Recommended Additional Useful Activities [Optional]\n",
    "\n",
    "The \"Ethical Profesionalism Considerations\" and \"Current Course Project Capability Level\" sections below **are not a part of the required homework assignment**; rather, they are regular weekly guides covering (a) relevant considerations regarding professional and ethical conduct, and (b) the analysis steps for the STA130 course project that are feasible at the current stage of the course\n",
    "\n",
    "<br><details class=\"details-example\"><summary style=\"color:blue\"><u>Ethical Professionalism Considerations</u></summary>\n",
    "\n",
    "### Ethical Professionalism Considerations\n",
    "\n",
    "|![](https://handsondataviz.org/images/14-detect/gdp-baseline-merged-annotated.png)|\n",
    "|-|\n",
    "| |\n",
    "\n",
    "Mark Twain's statment that, \"There are lies, damn lies, and statistics\", reflects a general skepticism towards statistical analysis that has been reinforced through through popular books such as [How to Lie with Statistics](https://en.wikipedia.org/wiki/How_to_Lie_with_Statistics). One place \"statistics\" can be used to decieve is through misuse of charts.  As discussed [here](https://handsondataviz.org/how-to-lie-with-charts.html) and many other places, a primary tactic that can be used to give a misleading impression using a chart is the manipulation of axes or the addition of additional dimensions which distort the meaning of size. **What are the problems with the following graphs?**\n",
    "\n",
    "|![](https://images.ctfassets.net/jicu8fwm4fvs/260tj0wxTFCAlbf4yTzSoy/2b002a49921831ab0dc05415616a1652/blog-misleading-gun-deaths-graph.jpeg)|![](https://photos1.blogger.com/blogger/5757/110/1600/macgraph.jpg)|\n",
    "|-|-|\n",
    "| | |\n",
    "\n",
    "</details>    \n",
    "\n",
    "<details class=\"details-example\"><summary style=\"color:blue\"><u>Current Course Project Capability Level</u></summary>\n",
    "   \n",
    "### Current Course Project Capability Level\n",
    "    \n",
    "**Remember to abide by the [data use agreement](https://static1.squarespace.com/static/60283c2e174c122f8ebe0f39/t/6239c284d610f76fed5a2e69/1647952517436/Data+Use+Agreement+for+the+Canadian+Social+Connection+Survey.pdf) at all times.**\n",
    "\n",
    "Information about the course project is available on the course github repo [here](https://github.com/pointOfive/stat130chat130/tree/main/CP), including a draft [course project specfication](https://github.com/pointOfive/stat130chat130/blob/main/CP/STA130F23_course_project_specification.ipynb) (subject to change). \n",
    "- The Week 01 HW introduced [STA130F24_CourseProject.ipynb](https://github.com/pointOfive/stat130chat130/blob/main/CP/STA130F24_CourseProject.ipynb), and the [available variables](https://drive.google.com/file/d/1ISVymGn-WR1lcRs4psIym2N3or5onNBi/view). \n",
    "- Please do not download the [data](https://drive.google.com/file/d/1mbUQlMTrNYA7Ly5eImVRBn16Ehy9Lggo/view) accessible at the bottom of the [CSCS](https://casch.org/cscs) webpage (or the course github repo) multiple times.\n",
    "    \n",
    "At this point in the course you should be able to create a `for` loop to iterate through and provide **visualizations** of some of the interesting columns in the course project data\n",
    "\n",
    "1. Create a `for` loop with a **conditional logic structure** that appropriately controls the kind of visualization that gets made for a given column of data based on its data type\n",
    "\n",
    "*Being able run your code with different subsets (of different types) of columns demonstrates the desirability of the programming design principle of \"polymorphism\" (which means \"many uses\") which states that code is best when it's \"resuable\" for different purposes... such as automatically providing the appropriate visualizations as interest in different variables dynamically changes...* \n",
    "    \n",
    "</details>            "
   ]
  }
 ],
 "metadata": {
  "kernelspec": {
   "display_name": "Python 3 (ipykernel)",
   "language": "python",
   "name": "python3"
  },
  "language_info": {
   "codemirror_mode": {
    "name": "ipython",
    "version": 3
   },
   "file_extension": ".py",
   "mimetype": "text/x-python",
   "name": "python",
   "nbconvert_exporter": "python",
   "pygments_lexer": "ipython3",
   "version": "3.11.6"
  }
 },
 "nbformat": 4,
 "nbformat_minor": 5
}
